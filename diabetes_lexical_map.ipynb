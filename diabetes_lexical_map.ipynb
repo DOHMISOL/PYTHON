{
 "cells": [
  {
   "cell_type": "code",
   "execution_count": 7,
   "id": "cf9ccf7d-ae5f-46ca-9ad0-a21c22bfa353",
   "metadata": {
    "collapsed": true,
    "jupyter": {
     "outputs_hidden": true
    },
    "tags": []
   },
   "outputs": [
    {
     "name": "stdout",
     "output_type": "stream",
     "text": [
      "                                                  data      wordId colorNum  \\\n",
      "0    {'data': {'$trend_status': 50, '$dim': 26.7142...  91312261c0  #1f77b4   \n",
      "1    {'data': {'$trend_status': 50, '$dim': 26.7142...  91312245c0  #1f77b4   \n",
      "2    {'data': {'$trend_status': 50, '$dim': 26.1020...  91312249c0  #1f77b4   \n",
      "3    {'data': {'$trend_status': 50, '$dim': 26.1020...  91312239c0  #1f77b4   \n",
      "4    {'data': {'$trend_status': 50, '$dim': 26.1020...  91312241c0  #1f77b4   \n",
      "..                                                 ...         ...      ...   \n",
      "195  {'data': {'$trend_status': 50, '$dim': 1, '$fr...  91307137c0  #e377c2   \n",
      "196  {'data': {'$trend_status': 50, '$dim': 1, '$fr...  90993009c0            \n",
      "197  {'data': {'$trend_status': 50, '$dim': 1, '$fr...  90796969c0  #e377c2   \n",
      "198  {'data': {'$trend_status': 50, '$dim': 1, '$fr...  63462231c0  #e377c2   \n",
      "199  {'data': {'$trend_status': 50, '$dim': 1, '$fr...  90985785c0            \n",
      "\n",
      "      name                                        adjacencies  \\\n",
      "0     심방세동  [{'cij': '49', 'nodeFrom': 0, 'nodeTo': 1, 'ki...   \n",
      "1    순환기내과  [{'cij': '49', 'nodeFrom': 1, 'nodeTo': 0, 'ki...   \n",
      "2      한경도  [{'cij': '48', 'nodeFrom': 2, 'nodeTo': 0, 'ki...   \n",
      "3      최의근  [{'cij': '48', 'nodeFrom': 3, 'nodeTo': 4, 'ki...   \n",
      "4      이소령  [{'cij': '48', 'nodeFrom': 4, 'nodeTo': 3, 'ki...   \n",
      "..     ...                                                ...   \n",
      "195   의약품의  [{'cij': '7', 'nodeFrom': 195, 'nodeTo': 172, ...   \n",
      "196    유발할  [{'cij': '7', 'nodeFrom': 196, 'nodeTo': 173, ...   \n",
      "197    원인은  [{'cij': '7', 'nodeFrom': 197, 'nodeTo': 172, ...   \n",
      "198    오래다  [{'cij': '7', 'nodeFrom': 198, 'nodeTo': 172, ...   \n",
      "199    예방에  [{'cij': '6', 'nodeFrom': 199, 'nodeTo': 152, ...   \n",
      "\n",
      "            fontSize   id      wordtype  \\\n",
      "0    10px sans-serif    0  Undetermined   \n",
      "1    10px sans-serif    1  Undetermined   \n",
      "2    10px sans-serif    2  Undetermined   \n",
      "3    10px sans-serif    3  Undetermined   \n",
      "4    10px sans-serif    4  Undetermined   \n",
      "..               ...  ...           ...   \n",
      "195  10px sans-serif  195  Undetermined   \n",
      "196  10px sans-serif  196  Undetermined   \n",
      "197  10px sans-serif  197  Undetermined   \n",
      "198  10px sans-serif  198  Undetermined   \n",
      "199  10px sans-serif  199  Undetermined   \n",
      "\n",
      "                                            timeseries  data.$trend_status  \\\n",
      "0    [0, 0, 0, 0, 0, 0, 0, 0, 0, 0, 0, 0, 0, 0, 0, ...                  50   \n",
      "1    [0, 0, 0, 0, 0, 0, 0, 0, 0, 0, 0, 0, 0, 0, 0, ...                  50   \n",
      "2    [0, 0, 0, 0, 0, 0, 0, 0, 0, 0, 0, 0, 0, 0, 0, ...                  50   \n",
      "3    [0, 0, 0, 0, 0, 0, 0, 0, 0, 0, 0, 0, 0, 0, 0, ...                  50   \n",
      "4    [0, 0, 0, 0, 0, 0, 0, 0, 0, 0, 0, 0, 0, 0, 0, ...                  50   \n",
      "..                                                 ...                 ...   \n",
      "195  [0, 0, 0, 0, 0, 0, 0, 0, 0, 0, 0, 0, 0, 0, 0, ...                  50   \n",
      "196  [0, 0, 0, 0, 0, 0, 0, 0, 0, 0, 0, 0, 0, 0, 0, ...                  50   \n",
      "197  [0, 0, 0, 0, 0, 0, 0, 0, 0, 0, 0, 0, 0, 0, 0, ...                  50   \n",
      "198  [0, 0, 0, 0, 0, 0, 0, 0, 0, 0, 0, 0, 0, 0, 0, ...                  50   \n",
      "199  [0, 0, 0, 0, 0, 0, 0, 0, 0, 0, 0, 0, 0, 0, 0, ...                  50   \n",
      "\n",
      "     data.$dim  data.$freq data.$color data.$type  \n",
      "0    26.714285          49     #1f77b4     circle  \n",
      "1    26.714285          49     #1f77b4     circle  \n",
      "2    26.102041          48     #1f77b4     circle  \n",
      "3    26.102041          48     #1f77b4     circle  \n",
      "4    26.102041          48     #1f77b4     circle  \n",
      "..         ...         ...         ...        ...  \n",
      "195   1.000000           7     #e377c2     circle  \n",
      "196   1.000000           7                 circle  \n",
      "197   1.000000           7     #e377c2     circle  \n",
      "198   1.000000           7     #e377c2     circle  \n",
      "199   1.000000           7                 circle  \n",
      "\n",
      "[200 rows x 14 columns]\n"
     ]
    }
   ],
   "source": [
    "import pandas as pd\n",
    "import json\n",
    "\n",
    "# JSON 파일을 DataFrame으로 불러오기\n",
    "file_path = \"./diabetes_lexical_map.json\"\n",
    "# 파일 경로를 정확히 지정해주세요\n",
    "\n",
    "# JSON 파일을 DataFrame으로 읽어오기\n",
    "data = pd.read_json(file_path)\n",
    "\n",
    "# 'data' 열의 JSON 데이터를 새로운 DataFrame으로 확장\n",
    "expanded_data = pd.json_normalize(data['data'])\n",
    "\n",
    "# 기존 DataFrame과 새롭게 만든 DataFrame 합치기\n",
    "result = pd.concat([data, expanded_data], axis=1)\n",
    "\n",
    "# 결과 확인\n",
    "print(result)\n"
   ]
  },
  {
   "cell_type": "code",
   "execution_count": 8,
   "id": "6f837657-96aa-49a6-b3c2-eea505591ef9",
   "metadata": {},
   "outputs": [
    {
     "name": "stdout",
     "output_type": "stream",
     "text": [
      "['심방세동' '순환기내과' '한경도' '최의근' '이소령' '따른' '권순일' '숭실대' '서울대병원' '심혈관질환' '당뇨'\n",
      " '7일' '환자' '자료를' '위험을' '교수' '공동' '30세' '대상으로' '당뇨발' '유무에' '국민건강보험공단' '합병증'\n",
      " '있는' '연구팀은' '수' '발병' '가장' '활용하다' '위험이' '발생' '잘' '당뇨병성' '관련' '특히' '결과'\n",
      " '같은' '질환' '당뇨병은' '경우' '합병증으로' '중' '된다' '것으로' '비교한' '흔한' '당뇨병' '혈당이' '인한'\n",
      " '않은' '발표됐다' '합병증이' '조절되지' '악화로' '못할' '연구팀이' '신질환' '신부전' '환자에서' '환자는'\n",
      " '하나로' '연구' '불규칙한' '발생하게' '대표적인' '6만7530명을' '높은' '이어질' '신기능저하' '내과' '따르다'\n",
      " '교수와' '결과가' '환자보다' '증가했다' '심근경색' '당뇨발이' '추적' '자주' '심부전' '심방세동이' '밝혔다'\n",
      " '관찰되는' '하지절단' '투석' '최근' '증상을' '받은' '맥박과' '두근거림' '국가건강검진을' '합병증은' '할' '은'\n",
      " '보인다' '따르면' '뇌졸중' '2012년' '있으면' '유발하며' '위험은' '여부에' '심방세동은' '생길' '부정맥인'\n",
      " '미치는' '높이는' '크게' '없었다' '높았다' '환자들은' '합병증에' '하지절단으로' '당뇨발의' '관리해야' '환자가'\n",
      " '혈전이' '차이가' '지난' '적극적으로' '유무가' '영향은' '알려졌다' '심방세동을' '숨차는' '분석한' '망막질환은'\n",
      " '나타나다' 'diabetes' '합병증인' '한다' '원인이' '않았다' '비만' '나왔다' '4배가량' '2009년' '환자를'\n",
      " '질환으로도' '알려지지' '사망' '나타났다' '기자' '관찰했다' '관리' '고' 'glp' '2009' '환경이' '주요'\n",
      " '전체' '이같이' '음식을' '더' '높아진다는' '6만7' '530명을' '환자의' '확인했다고' '조성돼' '인슐린'\n",
      " '영향이' '암' '상태를' '분비를' '많이' '등을' '동맥' '늘면서' '는' '교수팀은' '교수는' '호흡기내과'\n",
      " '혈전증을' '한국인의' '한' '폐에' '폐렴이' '폐렴은' '폐렴으로' '폐렴구균과' '통계청의' '체중' '진단했다'\n",
      " '증가와' '증가' '중요한' '중심으로' '제대로' '있었다' '잇다' '인천성모병원' '인구' '이순용' '이데일리'\n",
      " '의약품의' '유발할' '원인은' '오래다' '예방에']\n"
     ]
    }
   ],
   "source": [
    "korean_words = result['name']\n",
    "\n",
    "# 중복 없이 한국어 단어 출력\n",
    "korean_words_unique = korean_words.dropna().unique()\n",
    "print(korean_words_unique)\n"
   ]
  },
  {
   "cell_type": "code",
   "execution_count": null,
   "id": "a1ecca5f-1fcf-4b64-8e1e-81e8ac9865a0",
   "metadata": {},
   "outputs": [],
   "source": []
  }
 ],
 "metadata": {
  "kernelspec": {
   "display_name": "Python 3 (ipykernel)",
   "language": "python",
   "name": "python3"
  },
  "language_info": {
   "codemirror_mode": {
    "name": "ipython",
    "version": 3
   },
   "file_extension": ".py",
   "mimetype": "text/x-python",
   "name": "python",
   "nbconvert_exporter": "python",
   "pygments_lexer": "ipython3",
   "version": "3.9.7"
  }
 },
 "nbformat": 4,
 "nbformat_minor": 5
}
