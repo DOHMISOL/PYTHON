{
 "cells": [
  {
   "cell_type": "code",
   "execution_count": 1,
   "id": "80df2850-8658-4e2c-a7a3-12c63a1dfcc7",
   "metadata": {},
   "outputs": [],
   "source": [
    "import pandas as pd"
   ]
  },
  {
   "cell_type": "code",
   "execution_count": 2,
   "id": "a145c3e3-e4be-4aaa-96ae-bb0c596b672a",
   "metadata": {},
   "outputs": [],
   "source": [
    "colList1 = [\"김효관\",\"김어진\",\"안민정\"]\n",
    "colList2 = [41,10,39]"
   ]
  },
  {
   "cell_type": "code",
   "execution_count": 3,
   "id": "24475ada-10be-4be9-8c80-b1c7c248907f",
   "metadata": {},
   "outputs": [],
   "source": [
    "df1 = pd.DataFrame ( zip( colList1, colList2) )"
   ]
  },
  {
   "cell_type": "code",
   "execution_count": 4,
   "id": "2ceb7c15-8190-475a-a02f-70d6483f54ba",
   "metadata": {
    "tags": []
   },
   "outputs": [
    {
     "data": {
      "text/html": [
       "<div>\n",
       "<style scoped>\n",
       "    .dataframe tbody tr th:only-of-type {\n",
       "        vertical-align: middle;\n",
       "    }\n",
       "\n",
       "    .dataframe tbody tr th {\n",
       "        vertical-align: top;\n",
       "    }\n",
       "\n",
       "    .dataframe thead th {\n",
       "        text-align: right;\n",
       "    }\n",
       "</style>\n",
       "<table border=\"1\" class=\"dataframe\">\n",
       "  <thead>\n",
       "    <tr style=\"text-align: right;\">\n",
       "      <th></th>\n",
       "      <th>0</th>\n",
       "      <th>1</th>\n",
       "    </tr>\n",
       "  </thead>\n",
       "  <tbody>\n",
       "    <tr>\n",
       "      <th>0</th>\n",
       "      <td>김효관</td>\n",
       "      <td>41</td>\n",
       "    </tr>\n",
       "    <tr>\n",
       "      <th>1</th>\n",
       "      <td>김어진</td>\n",
       "      <td>10</td>\n",
       "    </tr>\n",
       "    <tr>\n",
       "      <th>2</th>\n",
       "      <td>안민정</td>\n",
       "      <td>39</td>\n",
       "    </tr>\n",
       "  </tbody>\n",
       "</table>\n",
       "</div>"
      ],
      "text/plain": [
       "     0   1\n",
       "0  김효관  41\n",
       "1  김어진  10\n",
       "2  안민정  39"
      ]
     },
     "execution_count": 4,
     "metadata": {},
     "output_type": "execute_result"
    }
   ],
   "source": [
    "df1"
   ]
  },
  {
   "cell_type": "code",
   "execution_count": 5,
   "id": "7ab56f5f-526f-41b0-ab37-c5952bc56441",
   "metadata": {},
   "outputs": [],
   "source": [
    "rowList1 = [\"김효관\", 41]\n",
    "rowList2 = [\"김어진\", 10]\n",
    "rowList3 = [\"안민정\", 39]"
   ]
  },
  {
   "cell_type": "code",
   "execution_count": 6,
   "id": "4847856e-116e-46f1-b70e-b008a9907e5f",
   "metadata": {},
   "outputs": [],
   "source": [
    "mergedList = [ rowList1, rowList2, rowList3 ]"
   ]
  },
  {
   "cell_type": "code",
   "execution_count": 7,
   "id": "9c963160-ab8a-4d05-a22d-d9be69e268a5",
   "metadata": {},
   "outputs": [],
   "source": [
    "df2 = pd.DataFrame( mergedList )\n",
    "df2.columns = [\"컬럼1\",\"컬럼2\"]"
   ]
  },
  {
   "cell_type": "code",
   "execution_count": 8,
   "id": "8314453d-9309-4148-a9d8-ac46fb5668d8",
   "metadata": {},
   "outputs": [
    {
     "data": {
      "text/html": [
       "<div>\n",
       "<style scoped>\n",
       "    .dataframe tbody tr th:only-of-type {\n",
       "        vertical-align: middle;\n",
       "    }\n",
       "\n",
       "    .dataframe tbody tr th {\n",
       "        vertical-align: top;\n",
       "    }\n",
       "\n",
       "    .dataframe thead th {\n",
       "        text-align: right;\n",
       "    }\n",
       "</style>\n",
       "<table border=\"1\" class=\"dataframe\">\n",
       "  <thead>\n",
       "    <tr style=\"text-align: right;\">\n",
       "      <th></th>\n",
       "      <th>컬럼1</th>\n",
       "      <th>컬럼2</th>\n",
       "    </tr>\n",
       "  </thead>\n",
       "  <tbody>\n",
       "    <tr>\n",
       "      <th>0</th>\n",
       "      <td>김효관</td>\n",
       "      <td>41</td>\n",
       "    </tr>\n",
       "    <tr>\n",
       "      <th>1</th>\n",
       "      <td>김어진</td>\n",
       "      <td>10</td>\n",
       "    </tr>\n",
       "    <tr>\n",
       "      <th>2</th>\n",
       "      <td>안민정</td>\n",
       "      <td>39</td>\n",
       "    </tr>\n",
       "  </tbody>\n",
       "</table>\n",
       "</div>"
      ],
      "text/plain": [
       "   컬럼1  컬럼2\n",
       "0  김효관   41\n",
       "1  김어진   10\n",
       "2  안민정   39"
      ]
     },
     "execution_count": 8,
     "metadata": {},
     "output_type": "execute_result"
    }
   ],
   "source": [
    "df2"
   ]
  },
  {
   "cell_type": "code",
   "execution_count": 9,
   "id": "dcbf7d21-13ee-48ce-8402-4d6181881bd9",
   "metadata": {},
   "outputs": [],
   "source": [
    "nameValue = \"김효관\""
   ]
  },
  {
   "cell_type": "code",
   "execution_count": 10,
   "id": "40fd5c87-4717-42a5-b4c5-ef61ba49394d",
   "metadata": {},
   "outputs": [
    {
     "data": {
      "text/html": [
       "<div>\n",
       "<style scoped>\n",
       "    .dataframe tbody tr th:only-of-type {\n",
       "        vertical-align: middle;\n",
       "    }\n",
       "\n",
       "    .dataframe tbody tr th {\n",
       "        vertical-align: top;\n",
       "    }\n",
       "\n",
       "    .dataframe thead th {\n",
       "        text-align: right;\n",
       "    }\n",
       "</style>\n",
       "<table border=\"1\" class=\"dataframe\">\n",
       "  <thead>\n",
       "    <tr style=\"text-align: right;\">\n",
       "      <th></th>\n",
       "      <th>0</th>\n",
       "    </tr>\n",
       "  </thead>\n",
       "  <tbody>\n",
       "    <tr>\n",
       "      <th>0</th>\n",
       "      <td>김효관</td>\n",
       "    </tr>\n",
       "  </tbody>\n",
       "</table>\n",
       "</div>"
      ],
      "text/plain": [
       "     0\n",
       "0  김효관"
      ]
     },
     "execution_count": 10,
     "metadata": {},
     "output_type": "execute_result"
    }
   ],
   "source": [
    "pd.DataFrame( [ [nameValue] ] )"
   ]
  },
  {
   "cell_type": "code",
   "execution_count": 1,
   "id": "5960f57a-9cc5-4860-ac51-c40e35177c67",
   "metadata": {
    "tags": []
   },
   "outputs": [],
   "source": [
    "import requests"
   ]
  },
  {
   "cell_type": "code",
   "execution_count": 2,
   "id": "2e6cec7b-e3b7-4de1-a564-fd6a81280522",
   "metadata": {},
   "outputs": [],
   "source": [
    "import bs4, requests\n",
    "import pandas as pd"
   ]
  },
  {
   "cell_type": "code",
   "execution_count": 3,
   "id": "b5d3b4e9-b69f-4304-a149-4ddd111fa87d",
   "metadata": {},
   "outputs": [],
   "source": [
    "# 추가 실습 풀 경우 해당 코드로 웹사이트 접근\n",
    "# user_agent = 'Mozilla/5.0 (Windows NT 10.0; Win64; x64) AppleWebKit/537.36 (KHTML, like Gecko) Chrome/100.0.4896.75 Safari/537.36'\n",
    "# resp = requests.get(targetUrl,headers = {'User-Agent':user_agent} )"
   ]
  },
  {
   "cell_type": "code",
   "execution_count": 4,
   "id": "a04521d1-3577-46c7-ace1-80df3bb0526a",
   "metadata": {},
   "outputs": [],
   "source": [
    "targetUrl = \"https://sparkkorea.com/%ed%80%b4%ec%a6%88/\"\n",
    "resp = requests.get(targetUrl)"
   ]
  },
  {
   "cell_type": "code",
   "execution_count": 5,
   "id": "55c5e8be-4934-4926-87b5-432f5c58f3ca",
   "metadata": {},
   "outputs": [
    {
     "data": {
      "text/plain": [
       "<Response [200]>"
      ]
     },
     "execution_count": 5,
     "metadata": {},
     "output_type": "execute_result"
    }
   ],
   "source": [
    "resp"
   ]
  },
  {
   "cell_type": "code",
   "execution_count": 6,
   "id": "c1bc1485-dc29-4e4f-b37c-2b9ff4030c3c",
   "metadata": {},
   "outputs": [],
   "source": [
    "try :\n",
    "    resp = requests.get(targetUrl)\n",
    "except Exception as e:\n",
    "    print(e)"
   ]
  },
  {
   "cell_type": "code",
   "execution_count": 7,
   "id": "007482c5-afdf-4434-8af7-47bd45c65006",
   "metadata": {},
   "outputs": [],
   "source": [
    "webPageSrc = resp.text"
   ]
  },
  {
   "cell_type": "code",
   "execution_count": 8,
   "id": "355147de-446c-40ad-a5ba-d8edc1f531f3",
   "metadata": {
    "collapsed": true,
    "jupyter": {
     "outputs_hidden": true
    },
    "tags": []
   },
   "outputs": [
    {
     "data": {
      "text/plain": [
       "'<!DOCTYPE html>\\n<html lang=\"ko-KR\">\\n<head>\\n<meta charset=\"UTF-8\">\\n<meta name=\"viewport\" content=\"width=device-width, initial-scale=1\">\\n<link rel=\"profile\" href=\"http://gmpg.org/xfn/11\">\\n<link rel=\"pingback\" href=\"https://sparkkorea.com/xmlrpc.php\">\\n\\n<title>퀴즈 &#8211; 스파크 코리아</title>\\n<meta name=\\'robots\\' content=\\'max-image-preview:large\\' />\\n<meta name=\"google-site-verification\" content=\"QRZVgHsoL23RuwmgmXNuXfO-mUaxCkdvhP2rRvLT270\" />\\n\\n<!-- Async WordPress.com Remote Login -->\\n<script id=\"wpcom_remote_login_js\">\\nvar wpcom_remote_login_extra_auth = \\'\\';\\nfunction wpcom_remote_login_remove_dom_node_id( element_id ) {\\n\\tvar dom_node = document.getElementById( element_id );\\n\\tif ( dom_node ) { dom_node.parentNode.removeChild( dom_node ); }\\n}\\nfunction wpcom_remote_login_remove_dom_node_classes( class_name ) {\\n\\tvar dom_nodes = document.querySelectorAll( \\'.\\' + class_name );\\n\\tfor ( var i = 0; i < dom_nodes.length; i++ ) {\\n\\t\\tdom_nodes[ i ].parentNode.removeChild( dom_nodes[ i ] );\\n\\t}\\n}\\nfunction wpcom_remote_login_final_cleanup() {\\n\\twpcom_remote_login_remove_dom_node_classes( \"wpcom_remote_login_msg\" );\\n\\twpcom_remote_login_remove_dom_node_id( \"wpcom_remote_login_key\" );\\n\\twpcom_remote_login_remove_dom_node_id( \"wpcom_remote_login_validate\" );\\n\\twpcom_remote_login_remove_dom_node_id( \"wpcom_remote_login_js\" );\\n\\twpcom_remote_login_remove_dom_node_id( \"wpcom_request_access_iframe\" );\\n\\twpcom_remote_login_remove_dom_node_id( \"wpcom_request_access_styles\" );\\n}\\n\\n// Watch for messages back from the remote login\\nwindow.addEventListener( \"message\", function( e ) {\\n\\tif ( e.origin === \"https://r-login.wordpress.com\" ) {\\n\\t\\tvar data = {};\\n\\t\\ttry {\\n\\t\\t\\tdata = JSON.parse( e.data );\\n\\t\\t} catch( e ) {\\n\\t\\t\\twpcom_remote_login_final_cleanup();\\n\\t\\t\\treturn;\\n\\t\\t}\\n\\n\\t\\tif ( data.msg === \\'LOGIN\\' ) {\\n\\t\\t\\t// Clean up the login check iframe\\n\\t\\t\\twpcom_remote_login_remove_dom_node_id( \"wpcom_remote_login_key\" );\\n\\n\\t\\t\\tvar id_regex = new RegExp( /^[0-9]+$/ );\\n\\t\\t\\tvar token_regex = new RegExp( /^.*|.*|.*$/ );\\n\\t\\t\\tif (\\n\\t\\t\\t\\ttoken_regex.test( data.token )\\n\\t\\t\\t\\t&& id_regex.test( data.wpcomid )\\n\\t\\t\\t) {\\n\\t\\t\\t\\t// We have everything we need to ask for a login\\n\\t\\t\\t\\tvar script = document.createElement( \"script\" );\\n\\t\\t\\t\\tscript.setAttribute( \"id\", \"wpcom_remote_login_validate\" );\\n\\t\\t\\t\\tscript.src = \\'/remote-login.php?wpcom_remote_login=validate\\'\\n\\t\\t\\t\\t\\t+ \\'&wpcomid=\\' + data.wpcomid\\n\\t\\t\\t\\t\\t+ \\'&token=\\' + encodeURIComponent( data.token )\\n\\t\\t\\t\\t\\t+ \\'&host=\\' + window.location.protocol\\n\\t\\t\\t\\t\\t+ \\'//\\' + window.location.hostname\\n\\t\\t\\t\\t\\t+ \\'&postid=102\\'\\n\\t\\t\\t\\t\\t+ \\'&is_singular=\\';\\n\\t\\t\\t\\tdocument.body.appendChild( script );\\n\\t\\t\\t}\\n\\n\\t\\t\\treturn;\\n\\t\\t}\\n\\n\\t\\t// Safari ITP, not logged in, so redirect\\n\\t\\tif ( data.msg === \\'LOGIN-REDIRECT\\' ) {\\n\\t\\t\\twindow.location = \\'https://wordpress.com/log-in?redirect_to=\\' + window.location.href;\\n\\t\\t\\treturn;\\n\\t\\t}\\n\\n\\t\\t// Safari ITP, storage access failed, remove the request\\n\\t\\tif ( data.msg === \\'LOGIN-REMOVE\\' ) {\\n\\t\\t\\tvar css_zap = \\'html { -webkit-transition: margin-top 1s; transition: margin-top 1s; } /* 9001 */ html { margin-top: 0 !important; } * html body { margin-top: 0 !important; } @media screen and ( max-width: 782px ) { html { margin-top: 0 !important; } * html body { margin-top: 0 !important; } }\\';\\n\\t\\t\\tvar style_zap = document.createElement( \\'style\\' );\\n\\t\\t\\tstyle_zap.type = \\'text/css\\';\\n\\t\\t\\tstyle_zap.appendChild( document.createTextNode( css_zap ) );\\n\\t\\t\\tdocument.body.appendChild( style_zap );\\n\\n\\t\\t\\tvar e = document.getElementById( \\'wpcom_request_access_iframe\\' );\\n\\t\\t\\te.parentNode.removeChild( e );\\n\\n\\t\\t\\tdocument.cookie = \\'wordpress_com_login_access=denied; path=/; max-age=31536000\\';\\n\\n\\t\\t\\treturn;\\n\\t\\t}\\n\\n\\t\\t// Safari ITP\\n\\t\\tif ( data.msg === \\'REQUEST_ACCESS\\' ) {\\n\\t\\t\\tconsole.log( \\'request access: safari\\' );\\n\\n\\t\\t\\t// Check ITP iframe enable/disable knob\\n\\t\\t\\tif ( wpcom_remote_login_extra_auth !== \\'safari_itp_iframe\\' ) {\\n\\t\\t\\t\\treturn;\\n\\t\\t\\t}\\n\\n\\t\\t\\t// If we are in a \"private window\" there is no ITP.\\n\\t\\t\\tvar private_window = false;\\n\\t\\t\\ttry {\\n\\t\\t\\t\\tvar opendb = window.openDatabase( null, null, null, null );\\n\\t\\t\\t} catch( e ) {\\n\\t\\t\\t\\tprivate_window = true;\\n\\t\\t\\t}\\n\\n\\t\\t\\tif ( private_window ) {\\n\\t\\t\\t\\tconsole.log( \\'private window\\' );\\n\\t\\t\\t\\treturn;\\n\\t\\t\\t}\\n\\n\\t\\t\\tvar iframe = document.createElement( \\'iframe\\' );\\n\\t\\t\\tiframe.id = \\'wpcom_request_access_iframe\\';\\n\\t\\t\\tiframe.setAttribute( \\'scrolling\\', \\'no\\' );\\n\\t\\t\\tiframe.setAttribute( \\'sandbox\\', \\'allow-storage-access-by-user-activation allow-scripts allow-same-origin allow-top-navigation-by-user-activation\\' );\\n\\t\\t\\tiframe.src = \\'https://r-login.wordpress.com/remote-login.php?wpcom_remote_login=request_access&origin=\\' + encodeURIComponent( data.origin ) + \\'&wpcomid=\\' + encodeURIComponent( data.wpcomid );\\n\\n\\t\\t\\tvar css = \\'html { -webkit-transition: margin-top 1s; transition: margin-top 1s; } /* 9001 */ html { margin-top: 46px !important; } * html body { margin-top: 46px !important; } @media screen and ( max-width: 660px ) { html { margin-top: 71px !important; } * html body { margin-top: 71px !important; } #wpcom_request_access_iframe { display: block; height: 71px !important; } } #wpcom_request_access_iframe { border: 0px; height: 46px; position: fixed; top: 0; left: 0; width: 100%; min-width: 100%; z-index: 99999; background: #23282d; } \\';\\n\\n\\t\\t\\tvar style = document.createElement( \\'style\\' );\\n\\t\\t\\tstyle.type = \\'text/css\\';\\n\\t\\t\\tstyle.id = \\'wpcom_request_access_styles\\';\\n\\t\\t\\tstyle.appendChild( document.createTextNode( css ) );\\n\\t\\t\\tdocument.body.appendChild( style );\\n\\n\\t\\t\\tdocument.body.appendChild( iframe );\\n\\t\\t}\\n\\n\\t\\tif ( data.msg === \\'DONE\\' ) {\\n\\t\\t\\twpcom_remote_login_final_cleanup();\\n\\t\\t}\\n\\t}\\n}, false );\\n\\n// Inject the remote login iframe after the page has had a chance to load\\n// more critical resources\\nwindow.addEventListener( \"DOMContentLoaded\", function( e ) {\\n\\tvar iframe = document.createElement( \"iframe\" );\\n\\tiframe.style.display = \"none\";\\n\\tiframe.setAttribute( \"scrolling\", \"no\" );\\n\\tiframe.setAttribute( \"id\", \"wpcom_remote_login_key\" );\\n\\tiframe.src = \"https://r-login.wordpress.com/remote-login.php\"\\n\\t\\t+ \"?wpcom_remote_login=key\"\\n\\t\\t+ \"&origin=aHR0cHM6Ly9zcGFya2tvcmVhLmNvbQ%3D%3D\"\\n\\t\\t+ \"&wpcomid=163927570\"\\n\\t\\t+ \"&time=1679564941\";\\n\\tdocument.body.appendChild( iframe );\\n}, false );\\n</script>\\n<link rel=\\'dns-prefetch\\' href=\\'//s2.wp.com\\' />\\n<link rel=\\'dns-prefetch\\' href=\\'//s1.wp.com\\' />\\n<link rel=\\'dns-prefetch\\' href=\\'//sparkkorea.wordpress.com\\' />\\n<link rel=\\'dns-prefetch\\' href=\\'//s0.wp.com\\' />\\n<link rel=\\'dns-prefetch\\' href=\\'//wordpress.com\\' />\\n<link rel=\\'dns-prefetch\\' href=\\'//fonts-api.wp.com\\' />\\n<link href=\\'https://fonts.gstatic.com\\' crossorigin rel=\\'preconnect\\' />\\n<link rel=\"alternate\" type=\"application/rss+xml\" title=\"스파크 코리아 &raquo; 피드\" href=\"https://sparkkorea.com/feed/\" />\\n<link rel=\"alternate\" type=\"application/rss+xml\" title=\"스파크 코리아 &raquo; 댓글 피드\" href=\"https://sparkkorea.com/comments/feed/\" />\\n\\t<script type=\"text/javascript\">\\n\\t\\t/* <![CDATA[ */\\n\\t\\tfunction addLoadEvent(func) {\\n\\t\\t\\tvar oldonload = window.onload;\\n\\t\\t\\tif (typeof window.onload != \\'function\\') {\\n\\t\\t\\t\\twindow.onload = func;\\n\\t\\t\\t} else {\\n\\t\\t\\t\\twindow.onload = function () {\\n\\t\\t\\t\\t\\toldonload();\\n\\t\\t\\t\\t\\tfunc();\\n\\t\\t\\t\\t}\\n\\t\\t\\t}\\n\\t\\t}\\n\\t\\t/* ]]> */\\n\\t</script>\\n\\t<script type=\"text/javascript\">\\nwindow._wpemojiSettings = {\"baseUrl\":\"https:\\\\/\\\\/s0.wp.com\\\\/wp-content\\\\/mu-plugins\\\\/wpcom-smileys\\\\/twemoji\\\\/2\\\\/72x72\\\\/\",\"ext\":\".png\",\"svgUrl\":\"https:\\\\/\\\\/s0.wp.com\\\\/wp-content\\\\/mu-plugins\\\\/wpcom-smileys\\\\/twemoji\\\\/2\\\\/svg\\\\/\",\"svgExt\":\".svg\",\"source\":{\"concatemoji\":\"https:\\\\/\\\\/s0.wp.com\\\\/wp-includes\\\\/js\\\\/wp-emoji-release.min.js?m=1677072837h&ver=6.2-RC2-55570\"}};\\n/*! This file is auto-generated */\\n!function(e,a,t){var n,r,o,i=a.createElement(\"canvas\"),p=i.getContext&&i.getContext(\"2d\");function s(e,t){p.clearRect(0,0,i.width,i.height),p.fillText(e,0,0);e=i.toDataURL();return p.clearRect(0,0,i.width,i.height),p.fillText(t,0,0),e===i.toDataURL()}function c(e){var t=a.createElement(\"script\");t.src=e,t.defer=t.type=\"text/javascript\",a.getElementsByTagName(\"head\")[0].appendChild(t)}for(o=Array(\"flag\",\"emoji\"),t.supports={everything:!0,everythingExceptFlag:!0},r=0;r<o.length;r++)t.supports[o[r]]=function(e){if(p&&p.fillText)switch(p.textBaseline=\"top\",p.font=\"600 32px Arial\",e){case\"flag\":return s(\"\\\\ud83c\\\\udff3\\\\ufe0f\\\\u200d\\\\u26a7\\\\ufe0f\",\"\\\\ud83c\\\\udff3\\\\ufe0f\\\\u200b\\\\u26a7\\\\ufe0f\")?!1:!s(\"\\\\ud83c\\\\uddfa\\\\ud83c\\\\uddf3\",\"\\\\ud83c\\\\uddfa\\\\u200b\\\\ud83c\\\\uddf3\")&&!s(\"\\\\ud83c\\\\udff4\\\\udb40\\\\udc67\\\\udb40\\\\udc62\\\\udb40\\\\udc65\\\\udb40\\\\udc6e\\\\udb40\\\\udc67\\\\udb40\\\\udc7f\",\"\\\\ud83c\\\\udff4\\\\u200b\\\\udb40\\\\udc67\\\\u200b\\\\udb40\\\\udc62\\\\u200b\\\\udb40\\\\udc65\\\\u200b\\\\udb40\\\\udc6e\\\\u200b\\\\udb40\\\\udc67\\\\u200b\\\\udb40\\\\udc7f\");case\"emoji\":return!s(\"\\\\ud83e\\\\udef1\\\\ud83c\\\\udffb\\\\u200d\\\\ud83e\\\\udef2\\\\ud83c\\\\udfff\",\"\\\\ud83e\\\\udef1\\\\ud83c\\\\udffb\\\\u200b\\\\ud83e\\\\udef2\\\\ud83c\\\\udfff\")}return!1}(o[r]),t.supports.everything=t.supports.everything&&t.supports[o[r]],\"flag\"!==o[r]&&(t.supports.everythingExceptFlag=t.supports.everythingExceptFlag&&t.supports[o[r]]);t.supports.everythingExceptFlag=t.supports.everythingExceptFlag&&!t.supports.flag,t.DOMReady=!1,t.readyCallback=function(){t.DOMReady=!0},t.supports.everything||(n=function(){t.readyCallback()},a.addEventListener?(a.addEventListener(\"DOMContentLoaded\",n,!1),e.addEventListener(\"load\",n,!1)):(e.attachEvent(\"onload\",n),a.attachEvent(\"onreadystatechange\",function(){\"complete\"===a.readyState&&t.readyCallback()})),(e=t.source||{}).concatemoji?c(e.concatemoji):e.wpemoji&&e.twemoji&&(c(e.twemoji),c(e.wpemoji)))}(window,document,window._wpemojiSettings);\\n</script>\\n<style type=\"text/css\">\\nimg.wp-smiley,\\nimg.emoji {\\n\\tdisplay: inline !important;\\n\\tborder: none !important;\\n\\tbox-shadow: none !important;\\n\\theight: 1em !important;\\n\\twidth: 1em !important;\\n\\tmargin: 0 0.07em !important;\\n\\tvertical-align: -0.1em !important;\\n\\tbackground: none !important;\\n\\tpadding: 0 !important;\\n}\\n</style>\\n\\t<link crossorigin=\\'anonymous\\' rel=\\'stylesheet\\' id=\\'all-css-0-1\\' href=\\'https://s1.wp.com/_static/??-eJytjMsOwiAQRX9IOiWKxoXxWwpOkHZ4hIE2/L0NiRt16fLknntgS8LEUDAU8FUkqtYFhi2Z6AV7R9g+aDDMB/h9I7cgw4wlTWYRnb70t2vrjhqz3ZeMsEo1nIYRdHX0AE2xB3SecgMujfAfofJE30N3f5Pny1VJOarj/AIz1V8/&cssminify=yes\\' type=\\'text/css\\' media=\\'all\\' />\\n<style id=\\'wp-block-library-inline-css\\'>\\n.has-text-align-justify {\\n\\ttext-align:justify;\\n}\\n.wp-block-cover__image-background.has-parallax {\\n\\tbackground-size: cover;\\n}\\n</style>\\n<link crossorigin=\\'anonymous\\' rel=\\'stylesheet\\' id=\\'all-css-2-1\\' href=\\'https://s1.wp.com/_static/??-eJyVj9EKwjAMRX/IrBPU6YP4LV0Ware2K03L2N8bHyZOZeBL4CY5uTdqimADutIRq56Vp85qcuQp5JWITs+UwJHROFfehgqZd2oLl9m7XkE4hvzcia4YG1iZIrKlZKB1Iw5yjHLUOIDYjiWDSbZTnGdH/59IOttg+AN/xZaGQqeZLUK+S1T+mdQXWJxwTCR9H/X3kxvYFIWBto2JmEGqt8UvlsLd/HV/as6Xpq6Ph/4BjgOajA==&cssminify=yes\\' type=\\'text/css\\' media=\\'all\\' />\\n<style id=\\'global-styles-inline-css\\'>\\nbody{--wp--preset--color--black: #000000;--wp--preset--color--cyan-bluish-gray: #abb8c3;--wp--preset--color--white: #fff;--wp--preset--color--pale-pink: #f78da7;--wp--preset--color--vivid-red: #cf2e2e;--wp--preset--color--luminous-vivid-orange: #ff6900;--wp--preset--color--luminous-vivid-amber: #fcb900;--wp--preset--color--light-green-cyan: #7bdcb5;--wp--preset--color--vivid-green-cyan: #00d084;--wp--preset--color--pale-cyan-blue: #8ed1fc;--wp--preset--color--vivid-cyan-blue: #0693e3;--wp--preset--color--vivid-purple: #9b51e0;--wp--preset--color--bright-blue: #678db8;--wp--preset--color--yellow: #e7ae01;--wp--preset--color--light-gray-blue: #abb7c3;--wp--preset--color--medium-gray: #6a6c6e;--wp--preset--color--dark-gray: #1a1c1e;--wp--preset--color--dark-gray-blue: #292c2f;--wp--preset--gradient--vivid-cyan-blue-to-vivid-purple: linear-gradient(135deg,rgba(6,147,227,1) 0%,rgb(155,81,224) 100%);--wp--preset--gradient--light-green-cyan-to-vivid-green-cyan: linear-gradient(135deg,rgb(122,220,180) 0%,rgb(0,208,130) 100%);--wp--preset--gradient--luminous-vivid-amber-to-luminous-vivid-orange: linear-gradient(135deg,rgba(252,185,0,1) 0%,rgba(255,105,0,1) 100%);--wp--preset--gradient--luminous-vivid-orange-to-vivid-red: linear-gradient(135deg,rgba(255,105,0,1) 0%,rgb(207,46,46) 100%);--wp--preset--gradient--very-light-gray-to-cyan-bluish-gray: linear-gradient(135deg,rgb(238,238,238) 0%,rgb(169,184,195) 100%);--wp--preset--gradient--cool-to-warm-spectrum: linear-gradient(135deg,rgb(74,234,220) 0%,rgb(151,120,209) 20%,rgb(207,42,186) 40%,rgb(238,44,130) 60%,rgb(251,105,98) 80%,rgb(254,248,76) 100%);--wp--preset--gradient--blush-light-purple: linear-gradient(135deg,rgb(255,206,236) 0%,rgb(152,150,240) 100%);--wp--preset--gradient--blush-bordeaux: linear-gradient(135deg,rgb(254,205,165) 0%,rgb(254,45,45) 50%,rgb(107,0,62) 100%);--wp--preset--gradient--luminous-dusk: linear-gradient(135deg,rgb(255,203,112) 0%,rgb(199,81,192) 50%,rgb(65,88,208) 100%);--wp--preset--gradient--pale-ocean: linear-gradient(135deg,rgb(255,245,203) 0%,rgb(182,227,212) 50%,rgb(51,167,181) 100%);--wp--preset--gradient--electric-grass: linear-gradient(135deg,rgb(202,248,128) 0%,rgb(113,206,126) 100%);--wp--preset--gradient--midnight: linear-gradient(135deg,rgb(2,3,129) 0%,rgb(40,116,252) 100%);--wp--preset--duotone--dark-grayscale: url(\\'#wp-duotone-dark-grayscale\\');--wp--preset--duotone--grayscale: url(\\'#wp-duotone-grayscale\\');--wp--preset--duotone--purple-yellow: url(\\'#wp-duotone-purple-yellow\\');--wp--preset--duotone--blue-red: url(\\'#wp-duotone-blue-red\\');--wp--preset--duotone--midnight: url(\\'#wp-duotone-midnight\\');--wp--preset--duotone--magenta-yellow: url(\\'#wp-duotone-magenta-yellow\\');--wp--preset--duotone--purple-green: url(\\'#wp-duotone-purple-green\\');--wp--preset--duotone--blue-orange: url(\\'#wp-duotone-blue-orange\\');--wp--preset--font-size--small: 13px;--wp--preset--font-size--medium: 20px;--wp--preset--font-size--large: 36px;--wp--preset--font-size--x-large: 42px;--wp--preset--font-family--albert-sans: \\'Albert Sans\\';--wp--preset--font-family--alegreya: Alegreya;--wp--preset--font-family--arvo: Arvo;--wp--preset--font-family--bodoni-moda: \\'Bodoni Moda\\';--wp--preset--font-family--cabin: Cabin;--wp--preset--font-family--chivo: Chivo;--wp--preset--font-family--commissioner: Commissioner;--wp--preset--font-family--cormorant: Cormorant;--wp--preset--font-family--courier-prime: \\'Courier Prime\\';--wp--preset--font-family--crimson-pro: \\'Crimson Pro\\';--wp--preset--font-family--dm-mono: \\'DM Mono\\';--wp--preset--font-family--dm-sans: \\'DM Sans\\';--wp--preset--font-family--domine: Domine;--wp--preset--font-family--eb-garamond: \\'EB Garamond\\';--wp--preset--font-family--epilogue: Epilogue;--wp--preset--font-family--figtree: Figtree;--wp--preset--font-family--fira-sans: \\'Fira Sans\\';--wp--preset--font-family--fraunces: Fraunces;--wp--preset--font-family--ibm-plex-mono: \\'IBM Plex Mono\\';--wp--preset--font-family--ibm-plex-sans: \\'IBM Plex Sans\\';--wp--preset--font-family--inter: Inter;--wp--preset--font-family--josefin-sans: \\'Josefin Sans\\';--wp--preset--font-family--jost: Jost;--wp--preset--font-family--libre-baskerville: \\'Libre Baskerville\\';--wp--preset--font-family--libre-franklin: \\'Libre Franklin\\';--wp--preset--font-family--literata: Literata;--wp--preset--font-family--lora: Lora;--wp--preset--font-family--merriweather: Merriweather;--wp--preset--font-family--montserrat: Montserrat;--wp--preset--font-family--newsreader: Newsreader;--wp--preset--font-family--nunito: Nunito;--wp--preset--font-family--open-sans: \\'Open Sans\\';--wp--preset--font-family--overpass: Overpass;--wp--preset--font-family--petrona: Petrona;--wp--preset--font-family--piazzolla: Piazzolla;--wp--preset--font-family--playfair-display: \\'Playfair Display\\';--wp--preset--font-family--plus-jakarta-sans: \\'Plus Jakarta Sans\\';--wp--preset--font-family--poppins: Poppins;--wp--preset--font-family--raleway: Raleway;--wp--preset--font-family--roboto-slab: \\'Roboto Slab\\';--wp--preset--font-family--roboto: Roboto;--wp--preset--font-family--rubik: Rubik;--wp--preset--font-family--sora: Sora;--wp--preset--font-family--source-sans-pro: \\'Source Sans Pro\\';--wp--preset--font-family--source-serif-pro: \\'Source Serif Pro\\';--wp--preset--font-family--space-mono: \\'Space Mono\\';--wp--preset--font-family--texturina: Texturina;--wp--preset--font-family--work-sans: \\'Work Sans\\';--wp--preset--spacing--20: 0.44rem;--wp--preset--spacing--30: 0.67rem;--wp--preset--spacing--40: 1rem;--wp--preset--spacing--50: 1.5rem;--wp--preset--spacing--60: 2.25rem;--wp--preset--spacing--70: 3.38rem;--wp--preset--spacing--80: 5.06rem;--wp--preset--shadow--natural: 6px 6px 9px rgba(0, 0, 0, 0.2);--wp--preset--shadow--deep: 12px 12px 50px rgba(0, 0, 0, 0.4);--wp--preset--shadow--sharp: 6px 6px 0px rgba(0, 0, 0, 0.2);--wp--preset--shadow--outlined: 6px 6px 0px -3px rgba(255, 255, 255, 1), 6px 6px rgba(0, 0, 0, 1);--wp--preset--shadow--crisp: 6px 6px 0px rgba(0, 0, 0, 1);}:where(.is-layout-flex){gap: 0.5em;}body .is-layout-flow > .alignleft{float: left;margin-inline-start: 0;margin-inline-end: 2em;}body .is-layout-flow > .alignright{float: right;margin-inline-start: 2em;margin-inline-end: 0;}body .is-layout-flow > .aligncenter{margin-left: auto !important;margin-right: auto !important;}body .is-layout-constrained > .alignleft{float: left;margin-inline-start: 0;margin-inline-end: 2em;}body .is-layout-constrained > .alignright{float: right;margin-inline-start: 2em;margin-inline-end: 0;}body .is-layout-constrained > .aligncenter{margin-left: auto !important;margin-right: auto !important;}body .is-layout-constrained > :where(:not(.alignleft):not(.alignright):not(.alignfull)){max-width: var(--wp--style--global--content-size);margin-left: auto !important;margin-right: auto !important;}body .is-layout-constrained > .alignwide{max-width: var(--wp--style--global--wide-size);}body .is-layout-flex{display: flex;}body .is-layout-flex{flex-wrap: wrap;align-items: center;}body .is-layout-flex > *{margin: 0;}:where(.wp-block-columns.is-layout-flex){gap: 2em;}.has-black-color{color: var(--wp--preset--color--black) !important;}.has-cyan-bluish-gray-color{color: var(--wp--preset--color--cyan-bluish-gray) !important;}.has-white-color{color: var(--wp--preset--color--white) !important;}.has-pale-pink-color{color: var(--wp--preset--color--pale-pink) !important;}.has-vivid-red-color{color: var(--wp--preset--color--vivid-red) !important;}.has-luminous-vivid-orange-color{color: var(--wp--preset--color--luminous-vivid-orange) !important;}.has-luminous-vivid-amber-color{color: var(--wp--preset--color--luminous-vivid-amber) !important;}.has-light-green-cyan-color{color: var(--wp--preset--color--light-green-cyan) !important;}.has-vivid-green-cyan-color{color: var(--wp--preset--color--vivid-green-cyan) !important;}.has-pale-cyan-blue-color{color: var(--wp--preset--color--pale-cyan-blue) !important;}.has-vivid-cyan-blue-color{color: var(--wp--preset--color--vivid-cyan-blue) !important;}.has-vivid-purple-color{color: var(--wp--preset--color--vivid-purple) !important;}.has-black-background-color{background-color: var(--wp--preset--color--black) !important;}.has-cyan-bluish-gray-background-color{background-color: var(--wp--preset--color--cyan-bluish-gray) !important;}.has-white-background-color{background-color: var(--wp--preset--color--white) !important;}.has-pale-pink-background-color{background-color: var(--wp--preset--color--pale-pink) !important;}.has-vivid-red-background-color{background-color: var(--wp--preset--color--vivid-red) !important;}.has-luminous-vivid-orange-background-color{background-color: var(--wp--preset--color--luminous-vivid-orange) !important;}.has-luminous-vivid-amber-background-color{background-color: var(--wp--preset--color--luminous-vivid-amber) !important;}.has-light-green-cyan-background-color{background-color: var(--wp--preset--color--light-green-cyan) !important;}.has-vivid-green-cyan-background-color{background-color: var(--wp--preset--color--vivid-green-cyan) !important;}.has-pale-cyan-blue-background-color{background-color: var(--wp--preset--color--pale-cyan-blue) !important;}.has-vivid-cyan-blue-background-color{background-color: var(--wp--preset--color--vivid-cyan-blue) !important;}.has-vivid-purple-background-color{background-color: var(--wp--preset--color--vivid-purple) !important;}.has-black-border-color{border-color: var(--wp--preset--color--black) !important;}.has-cyan-bluish-gray-border-color{border-color: var(--wp--preset--color--cyan-bluish-gray) !important;}.has-white-border-color{border-color: var(--wp--preset--color--white) !important;}.has-pale-pink-border-color{border-color: var(--wp--preset--color--pale-pink) !important;}.has-vivid-red-border-color{border-color: var(--wp--preset--color--vivid-red) !important;}.has-luminous-vivid-orange-border-color{border-color: var(--wp--preset--color--luminous-vivid-orange) !important;}.has-luminous-vivid-amber-border-color{border-color: var(--wp--preset--color--luminous-vivid-amber) !important;}.has-light-green-cyan-border-color{border-color: var(--wp--preset--color--light-green-cyan) !important;}.has-vivid-green-cyan-border-color{border-color: var(--wp--preset--color--vivid-green-cyan) !important;}.has-pale-cyan-blue-border-color{border-color: var(--wp--preset--color--pale-cyan-blue) !important;}.has-vivid-cyan-blue-border-color{border-color: var(--wp--preset--color--vivid-cyan-blue) !important;}.has-vivid-purple-border-color{border-color: var(--wp--preset--color--vivid-purple) !important;}.has-vivid-cyan-blue-to-vivid-purple-gradient-background{background: var(--wp--preset--gradient--vivid-cyan-blue-to-vivid-purple) !important;}.has-light-green-cyan-to-vivid-green-cyan-gradient-background{background: var(--wp--preset--gradient--light-green-cyan-to-vivid-green-cyan) !important;}.has-luminous-vivid-amber-to-luminous-vivid-orange-gradient-background{background: var(--wp--preset--gradient--luminous-vivid-amber-to-luminous-vivid-orange) !important;}.has-luminous-vivid-orange-to-vivid-red-gradient-background{background: var(--wp--preset--gradient--luminous-vivid-orange-to-vivid-red) !important;}.has-very-light-gray-to-cyan-bluish-gray-gradient-background{background: var(--wp--preset--gradient--very-light-gray-to-cyan-bluish-gray) !important;}.has-cool-to-warm-spectrum-gradient-background{background: var(--wp--preset--gradient--cool-to-warm-spectrum) !important;}.has-blush-light-purple-gradient-background{background: var(--wp--preset--gradient--blush-light-purple) !important;}.has-blush-bordeaux-gradient-background{background: var(--wp--preset--gradient--blush-bordeaux) !important;}.has-luminous-dusk-gradient-background{background: var(--wp--preset--gradient--luminous-dusk) !important;}.has-pale-ocean-gradient-background{background: var(--wp--preset--gradient--pale-ocean) !important;}.has-electric-grass-gradient-background{background: var(--wp--preset--gradient--electric-grass) !important;}.has-midnight-gradient-background{background: var(--wp--preset--gradient--midnight) !important;}.has-small-font-size{font-size: var(--wp--preset--font-size--small) !important;}.has-medium-font-size{font-size: var(--wp--preset--font-size--medium) !important;}.has-large-font-size{font-size: var(--wp--preset--font-size--large) !important;}.has-x-large-font-size{font-size: var(--wp--preset--font-size--x-large) !important;}\\n:where(.wp-block-columns.is-layout-flex){gap: 2em;}\\n.wp-block-pullquote{font-size: 1.5em;line-height: 1.6;}\\n.wp-block-navigation a:where(:not(.wp-element-button)){color: inherit;}\\n</style>\\n<link crossorigin=\\'anonymous\\' rel=\\'stylesheet\\' id=\\'all-css-4-1\\' href=\\'https://s1.wp.com/_static/??/wp-content/mu-plugins/comment-likes/css/comment-likes.css,/i/noticons/noticons.css?m=1436783281j&cssminify=yes\\' type=\\'text/css\\' media=\\'all\\' />\\n<link rel=\\'stylesheet\\' id=\\'dyad-2-fonts-css\\' href=\\'https://fonts-api.wp.com/css?family=Lato%3A400%2C400italic%2C700%2C700italic%7CNoto+Serif%3A400%2C400italic%2C700%2C700italic&#038;subset=latin%2Clatin-ext\\' media=\\'all\\' />\\n<link crossorigin=\\'anonymous\\' rel=\\'stylesheet\\' id=\\'all-css-6-1\\' href=\\'https://s0.wp.com/_static/??-eJyNj9kKwjAURH/IeGtx6Yv4KZLeXGPabGSh9O9Ng2BBkb7NwJxhBibP0NlENoHJzOsslY0wUPIcx7cHH5zImJSzcFcWQZKloAoXf8s9xriDVXV6kqEIPvcgZi5YCzHNmjbkSgJ67XDcUrpsq8Vs8ujMF7F6KMmxUsvrqbVhD81V+IcGKoNkkbKu+9gFupnr4Xy6dF3THpvhBfZwgjk=&cssminify=yes\\' type=\\'text/css\\' media=\\'all\\' />\\n<link crossorigin=\\'anonymous\\' rel=\\'stylesheet\\' id=\\'print-css-7-1\\' href=\\'https://s2.wp.com/wp-content/mu-plugins/global-print/global-print.css?m=1465851035h&cssminify=yes\\' type=\\'text/css\\' media=\\'print\\' />\\n<style id=\\'jetpack-global-styles-frontend-style-inline-css\\'>\\n:root { --font-headings: unset; --font-base: unset; --font-headings-default: -apple-system,BlinkMacSystemFont,\"Segoe UI\",Roboto,Oxygen-Sans,Ubuntu,Cantarell,\"Helvetica Neue\",sans-serif; --font-base-default: -apple-system,BlinkMacSystemFont,\"Segoe UI\",Roboto,Oxygen-Sans,Ubuntu,Cantarell,\"Helvetica Neue\",sans-serif;}\\n</style>\\n<link crossorigin=\\'anonymous\\' rel=\\'stylesheet\\' id=\\'all-css-10-1\\' href=\\'https://s0.wp.com/_static/??-eJyVjUEKwjAQRS9kHAVb60I8isRJSFInM6GTULx9W3Ejrty9B5/3YS4GhavnCrmZQi0kVhh9LRafH4cyiWtYkzDklcgraLSTd9a51xsThz2q7uDf3j0xggomS4YkiH7JT7NGn9f3eIJA8rC0DW75euzPl+7QDUM/Lj+0TlE=&cssminify=yes\\' type=\\'text/css\\' media=\\'all\\' />\\n<script id=\\'wpcom-actionbar-placeholder-js-extra\\'>\\nvar actionbardata = {\"siteID\":\"163927570\",\"siteURL\":\"https:\\\\/\\\\/sparkkorea.com\",\"xhrURL\":\"https:\\\\/\\\\/sparkkorea.com\\\\/wp-admin\\\\/admin-ajax.php\",\"nonce\":\"5663c0bd23\",\"isLoggedIn\":\"\",\"statusMessage\":\"\",\"subsEmailDefault\":\"instantly\",\"proxyScriptUrl\":\"https:\\\\/\\\\/s0.wp.com\\\\/wp-content\\\\/js\\\\/wpcom-proxy-request.js?ver=20211021\",\"shortlink\":\"https:\\\\/\\\\/wp.me\\\\/Pb5P34-1E\",\"i18n\":{\"followedText\":\"\\\\uc774 \\\\uc0ac\\\\uc774\\\\ud2b8\\\\uc758 \\\\uc0c8 \\\\uae00\\\\uc774 \\\\uc774\\\\uc81c <a href=\\\\\"https:\\\\/\\\\/wordpress.com\\\\/read\\\\\">\\\\ub9ac\\\\ub354(Reader)<\\\\/a>\\\\uc5d0 \\\\ud45c\\\\uc2dc\\\\ub429\\\\ub2c8\\\\ub2e4\",\"foldBar\":\"\\\\uc774 \\\\ud45c\\\\uc2dc\\\\uc904 \\\\ucd95\\\\uc18c\",\"unfoldBar\":\"\\\\uc774 \\\\ud45c\\\\uc2dc\\\\uc904 \\\\ud655\\\\uc7a5\"}};\\n</script>\\n<script crossorigin=\\'anonymous\\' type=\\'text/javascript\\' src=\\'https://s1.wp.com/_static/??-eJzTLy/QTc7PK0nNK9HPKtbPzU/KzEnVLS1OLUpMB4rpZual5etlFevoo6oryinRLSjKr6iEyWXmJeeUpqQWgySzCktTiyqhlF5uZh5BRbq5melFiSWpUMX2ubaGZuYWlhYGlhaGWQCPrjue\\'></script>\\n<script type=\\'text/javascript\\'>\\n\\twindow.addEventListener( \\'DOMContentLoaded\\', function() {\\n\\t\\trltInitialize( {\"token\":null,\"iframeOrigins\":[\"https:\\\\/\\\\/widgets.wp.com\"]} );\\n\\t} );\\n</script>\\n<link rel=\"EditURI\" type=\"application/rsd+xml\" title=\"RSD\" href=\"https://sparkkorea.wordpress.com/xmlrpc.php?rsd\" />\\n<link rel=\"wlwmanifest\" type=\"application/wlwmanifest+xml\" href=\"https://s1.wp.com/wp-includes/wlwmanifest.xml\" />\\n<meta name=\"generator\" content=\"WordPress.com\" />\\n<link rel=\"canonical\" href=\"https://sparkkorea.com/%ed%80%b4%ec%a6%88/\" />\\n<link rel=\\'shortlink\\' href=\\'https://wp.me/Pb5P34-1E\\' />\\n<link rel=\"alternate\" type=\"application/json+oembed\" href=\"https://public-api.wordpress.com/oembed/?format=json&amp;url=https%3A%2F%2Fsparkkorea.com%2F%25ed%2580%25b4%25ec%25a6%2588%2F&amp;for=wpcom-auto-discovery\" /><link rel=\"alternate\" type=\"application/xml+oembed\" href=\"https://public-api.wordpress.com/oembed/?format=xml&amp;url=https%3A%2F%2Fsparkkorea.com%2F%25ed%2580%25b4%25ec%25a6%2588%2F&amp;for=wpcom-auto-discovery\" />\\n<!-- Jetpack Open Graph Tags -->\\n<meta property=\"og:type\" content=\"article\" />\\n<meta property=\"og:title\" content=\"퀴즈\" />\\n<meta property=\"og:url\" content=\"https://sparkkorea.com/%ed%80%b4%ec%a6%88/\" />\\n<meta property=\"og:description\" content=\"메인 설문 준비중 Spark 퀴즈 6/13 Spark 심화과정 6/13 Spark 기본과정 6/18 Spark [MAP_FILTER] 6/18 Spark GroupBy 심화 6/25 Spark RDD 실전 분석 6/27 Spark RDD 실전 분석2\" />\\n<meta property=\"article:published_time\" content=\"2019-07-08T09:35:27+00:00\" />\\n<meta property=\"article:modified_time\" content=\"2020-03-20T09:42:15+00:00\" />\\n<meta property=\"og:site_name\" content=\"스파크 코리아\" />\\n<meta property=\"og:image\" content=\"https://s0.wp.com/i/blank.jpg\" />\\n<meta property=\"og:image:alt\" content=\"\" />\\n<meta property=\"og:locale\" content=\"ko_KR\" />\\n<meta property=\"article:publisher\" content=\"https://www.facebook.com/WordPresscom\" />\\n<meta name=\"twitter:text:title\" content=\"퀴즈\" />\\n<meta name=\"twitter:card\" content=\"summary\" />\\n\\n<!-- End Jetpack Open Graph Tags -->\\n<link rel=\"shortcut icon\" type=\"image/x-icon\" href=\"https://s1.wp.com/i/favicon.ico\" sizes=\"16x16 24x24 32x32 48x48\" />\\n<link rel=\"icon\" type=\"image/x-icon\" href=\"https://s1.wp.com/i/favicon.ico\" sizes=\"16x16 24x24 32x32 48x48\" />\\n<link rel=\"apple-touch-icon\" href=\"https://s2.wp.com/i/webclip.png\" />\\n<link rel=\"search\" type=\"application/opensearchdescription+xml\" href=\"https://sparkkorea.com/osd.xml\" title=\"스파크 코리아\" />\\n<link rel=\"search\" type=\"application/opensearchdescription+xml\" href=\"https://s1.wp.com/opensearch.xml\" title=\"WordPress.com\" />\\n<meta name=\"application-name\" content=\"스파크 코리아\" /><meta name=\"msapplication-window\" content=\"width=device-width;height=device-height\" /><meta name=\"msapplication-tooltip\" content=\"스파크코리아 자료공유\" /><meta name=\"msapplication-task\" content=\"name=구독;action-uri=https://sparkkorea.com/feed/;icon-uri=https://s1.wp.com/i/favicon.ico\" /><meta name=\"msapplication-task\" content=\"name=무료 블로그 등록;action-uri=http://wordpress.com/signup/;icon-uri=https://s1.wp.com/i/favicon.ico\" /><meta name=\"msapplication-task\" content=\"name=WordPress.com 지원;action-uri=http://support.wordpress.com/;icon-uri=https://s1.wp.com/i/favicon.ico\" /><meta name=\"msapplication-task\" content=\"name=WordPress.com 포럼;action-uri=http://forums.wordpress.com/;icon-uri=https://s1.wp.com/i/favicon.ico\" /><meta name=\"description\" content=\"메인 설문 준비중 Spark 퀴즈 6/13 Spark 심화과정 6/13 Spark 기본과정 6/18 Spark [MAP_FILTER] 6/18 Spark GroupBy 심화 6/25 Spark RDD 실전 분석 6/27 Spark RDD 실전 분석2\" />\\n</head>\\n\\n<body class=\"page-template-default page page-id-102 wp-embed-responsive customizer-styles-applied is-singular no-js highlander-enabled highlander-light\">\\n<div id=\"page\" class=\"hfeed site\">\\n\\t<a class=\"skip-link screen-reader-text\" href=\"#content\">컨텐츠로 건너뛰기</a>\\n\\n\\t<header id=\"masthead\" class=\"site-header\" role=\"banner\">\\n\\t\\t<div class=\"site-branding\">\\n\\t\\t\\t\\t\\t\\t<h1 class=\"site-title\">\\n\\t\\t\\t\\t<a href=\"https://sparkkorea.com/\" rel=\"home\">\\n\\t\\t\\t\\t\\t스파크 코리아\\t\\t\\t\\t</a>\\n\\t\\t\\t</h1>\\n\\t\\t\\t<p class=\"site-description\">스파크코리아 자료공유</p>\\n\\t\\t</div><!-- .site-branding -->\\n\\n\\t\\t<nav id=\"site-navigation\" class=\"main-navigation\" role=\"navigation\">\\n\\t\\t\\t<button class=\"menu-toggle\" aria-controls=\"primary-menu\" aria-expanded=\"false\">메뉴</button>\\n\\t\\t\\t<div class=\"primary-menu\"><ul id=\"primary-menu\" class=\"menu\"><li id=\"menu-item-27\" class=\"menu-item menu-item-type-post_type menu-item-object-page menu-item-27\"><a href=\"https://sparkkorea.com/%ec%9e%90%eb%a3%8c%ec%8b%a4/\">자료실</a></li>\\n<li id=\"menu-item-382\" class=\"menu-item menu-item-type-post_type menu-item-object-page current-menu-item page_item page-item-102 current_page_item menu-item-382\"><a href=\"https://sparkkorea.com/%ed%80%b4%ec%a6%88/\" aria-current=\"page\">퀴즈</a></li>\\n<li id=\"menu-item-264\" class=\"menu-item menu-item-type-post_type menu-item-object-page menu-item-264\"><a href=\"https://sparkkorea.com/%ec%84%a4%eb%ac%b8-2/\">설문s</a></li>\\n<li id=\"menu-item-383\" class=\"menu-item menu-item-type-post_type menu-item-object-page menu-item-383\"><a href=\"https://sparkkorea.com/%ed%85%8c%ec%8a%a4%ed%8a%b8/\">테스트</a></li>\\n<li id=\"menu-item-397\" class=\"menu-item menu-item-type-post_type menu-item-object-page menu-item-397\"><a href=\"https://sparkkorea.com/%ec%84%a4%eb%ac%b8/\">학생퀴즈</a></li>\\n</ul></div>\\t\\t</nav>\\n\\n\\t</header><!-- #masthead -->\\n\\n\\t<div class=\"site-inner\">\\n\\n\\t\\t\\n\\t\\t<div id=\"content\" class=\"site-content\">\\n\\n\\t<main id=\"primary\" class=\"content-area\" role=\"main\">\\n\\t\\t\\n\\t\\t\\t\\n<article id=\"post-102\" class=\"post-102 page type-page status-publish hentry\">\\n\\n\\t\\n\\t<div class=\"entry-inner\">\\n\\n\\t\\t<header class=\"entry-header\">\\n\\t\\t\\t<h1 class=\"entry-title\">퀴즈</h1>\\t\\t\\t\\t\\t</header><!-- .entry-header -->\\n\\n\\t\\t<div class=\"entry-content\">\\n\\t\\t\\t\\n<div class=\"class_general_main\" id=\"id_general_main\">\\n\\n     <h1> 메인 </h1>\\n    <a href=\"#\"> 설문 준비중 </a>\\n    <p></p>  \\n \\n \\n</div>\\n\\n\\n<div class=\"class_spark_quiz\" id=\"id_spark_quiz\">\\n\\n     <h1>Spark 퀴즈 </h1>\\n    <a href=\"https://forms.gle/Fw49w9GhWQChDcZm7\"> 6/13 Spark 심화과정 </a>\\n    <p></p>  \\n    <a href=\"https://forms.gle/G4TcXm3fKuHLHA6D6\"> 6/13 Spark 기본과정 </a>\\n    <p></p> \\n    <a href=\"https://forms.gle/M8gr1kC2ubA3UDVp8\"> 6/18 Spark [MAP_FILTER] </a>\\n    <p></p> \\n    <a href=\"https://forms.gle/h8w5mZ4MNaPLCPbi6\"> 6/18 Spark GroupBy 심화 </a>\\n    <p></p> \\n    <a href=\"https://forms.gle/q5yL6QHfueDLM5w27\"> 6/25 Spark RDD 실전 분석 </a>\\n\\n    <p></p> \\n    <a href=\"https://forms.gle/Gxb4y6LfVYiaLu4M7\"> 6/27 Spark RDD 실전 분석2 </a>\\n    \\n    \\n    <p></p> \\n</div>\\n<div id=\"jp-post-flair\" class=\"sharedaddy sd-like-enabled sd-sharing-enabled\"><div class=\"sharedaddy sd-sharing-enabled\"><div class=\"robots-nocontent sd-block sd-social sd-social-icon-text sd-sharing\"><h3 class=\"sd-title\">이 글 공유하기:</h3><div class=\"sd-content\"><ul><li class=\"share-twitter\"><a rel=\"nofollow noopener noreferrer\" data-shared=\"sharing-twitter-102\" class=\"share-twitter sd-button share-icon\" href=\"https://sparkkorea.com/%ed%80%b4%ec%a6%88/?share=twitter\" target=\"_blank\" title=\"트위터로 공유하기\" ><span>트위터</span></a></li><li class=\"share-facebook\"><a rel=\"nofollow noopener noreferrer\" data-shared=\"sharing-facebook-102\" class=\"share-facebook sd-button share-icon\" href=\"https://sparkkorea.com/%ed%80%b4%ec%a6%88/?share=facebook\" target=\"_blank\" title=\"페이스북에 공유하려면 클릭하세요.\" ><span>Facebook</span></a></li><li class=\"share-end\"></li></ul></div></div></div><div class=\\'sharedaddy sd-block sd-like jetpack-likes-widget-wrapper jetpack-likes-widget-unloaded\\' id=\\'like-post-wrapper-163927570-102-641c208dcfda7\\' data-src=\\'//widgets.wp.com/likes/index.html?ver=20230309#blog_id=163927570&amp;post_id=102&amp;origin=sparkkorea.wordpress.com&amp;obj_id=163927570-102-641c208dcfda7&amp;domain=sparkkorea.com\\' data-name=\\'like-post-frame-163927570-102-641c208dcfda7\\' data-title=\\'좋아요 또는 리블로깅\\'><h3 class=\\'sd-title\\'>이것이 좋아요:</h3><div class=\\'likes-widget-placeholder post-likes-widget-placeholder\\' style=\\'height: 55px;\\'><span class=\\'button\\'><span>좋아하기</span></span> <span class=\"loading\">가져오는 중...</span></div><span class=\\'sd-text-color\\'></span><a class=\\'sd-link-color\\'></a></div></div>\\t\\t\\t\\t\\t</div><!-- .entry-content -->\\n\\n\\t</div><!-- .entry-inner -->\\n</article><!-- #post-## -->\\n\\n\\n\\t\\t\\n\\t\\t\\n\\t</main><!-- #main -->\\n\\n\\n\\t\\t</div><!-- #content -->\\n\\n\\t\\t<footer id=\"colophon\" class=\"site-footer\" role=\"contentinfo\">\\n\\t\\t\\t\\n\\t\\t\\t<div class=\"footer-bottom-info \">\\n\\n\\t\\t\\t\\t\\n\\t\\t\\t\\t<div class=\"site-info\">\\n\\t\\t\\t\\t\\t<a href=\"https://wordpress.com/?ref=footer_segment_business\" rel=\"nofollow\">워드프레스닷컴 웹사이트.</a>\\n\\t\\t\\t\\t\\t\\n\\t\\t\\t\\t\\t\\t\\t\\t\\t</div><!-- .site-info -->\\n\\t\\t\\t</div><!-- .footer-bottom-info -->\\n\\n\\t\\t</footer><!-- #colophon -->\\n\\n\\t</div><!-- .site-inner -->\\n</div><!-- #page -->\\n\\n<!--  -->\\n<script src=\\'//0.gravatar.com/js/gprofiles.js?ver=202312z\\' id=\\'grofiles-cards-js\\'></script>\\n<script id=\\'wpgroho-js-extra\\'>\\nvar WPGroHo = {\"my_hash\":\"\"};\\n</script>\\n<script crossorigin=\\'anonymous\\' type=\\'text/javascript\\' src=\\'https://s1.wp.com/wp-content/mu-plugins/gravatar-hovercards/wpgroho.js?m=1610363240h\\'></script>\\n\\n\\t<script>\\n\\t\\t// Initialize and attach hovercards to all gravatars\\n\\t\\t( function() {\\n\\t\\t\\tfunction init() {\\n\\t\\t\\t\\tif ( typeof Gravatar === \\'undefined\\' ) {\\n\\t\\t\\t\\t\\treturn;\\n\\t\\t\\t\\t}\\n\\n\\t\\t\\t\\tif ( typeof Gravatar.init !== \\'function\\' ) {\\n\\t\\t\\t\\t\\treturn;\\n\\t\\t\\t\\t}\\n\\n\\t\\t\\t\\tGravatar.profile_cb = function ( hash, id ) {\\n\\t\\t\\t\\t\\tWPGroHo.syncProfileData( hash, id );\\n\\t\\t\\t\\t};\\n\\n\\t\\t\\t\\tGravatar.my_hash = WPGroHo.my_hash;\\n\\t\\t\\t\\tGravatar.init( \\'body\\', \\'#wp-admin-bar-my-account\\' );\\n\\t\\t\\t}\\n\\n\\t\\t\\tif ( document.readyState !== \\'loading\\' ) {\\n\\t\\t\\t\\tinit();\\n\\t\\t\\t} else {\\n\\t\\t\\t\\tdocument.addEventListener( \\'DOMContentLoaded\\', init );\\n\\t\\t\\t}\\n\\t\\t} )();\\n\\t</script>\\n\\n\\t\\t<div style=\"display:none\">\\n\\t</div>\\n\\t<div id=\"actionbar\" style=\"display: none;\"\\n\\t\\t\\tclass=\"actnbr-pub-dyad-2 actnbr-has-follow\">\\n\\t\\t<ul>\\n\\t\\t\\t\\t\\t\\t<li class=\"actnbr-ellipsis actnbr-hidden\">\\n\\t\\t\\t\\t<svg class=\"gridicon gridicons-ellipsis\" height=\"24\" width=\"24\" xmlns=\"http://www.w3.org/2000/svg\" viewBox=\"0 0 24 24\"><g><path d=\"M7 12c0 1.104-.896 2-2 2s-2-.896-2-2 .896-2 2-2 2 .896 2 2zm12-2c-1.104 0-2 .896-2 2s.896 2 2 2 2-.896 2-2-.896-2-2-2zm-7 0c-1.104 0-2 .896-2 2s.896 2 2 2 2-.896 2-2-.896-2-2-2z\"/></g></svg>\\t\\t\\t\\t<div class=\"actnbr-popover tip tip-top-left actnbr-more\">\\n\\t\\t\\t\\t\\t<div class=\"tip-arrow\"></div>\\n\\t\\t\\t\\t\\t<div class=\"tip-inner\">\\n\\t\\t\\t\\t\\t\\t<ul>\\n\\t\\t\\t\\t\\t\\t\\t\\t\\t<li class=\"actnbr-sitename\">\\n\\t\\t\\t<a href=\"https://sparkkorea.com\">\\n\\t\\t\\t\\t<img alt=\\'\\' src=\\'https://s2.wp.com/i/logo/wpcom-gray-white.png\\' class=\\'avatar avatar-50\\' height=\\'50\\' width=\\'50\\' />\\t\\t\\t\\t스파크 코리아\\t\\t\\t</a>\\n\\t\\t</li>\\n\\t\\t\\t\\t\\t\\t\\t\\t<li class=\"actnbr-folded-customize\">\\n\\t\\t\\t\\t\\t\\t\\t\\t<a href=\"https://sparkkorea.wordpress.com/wp-admin/customize.php?url=https%3A%2F%2Fsparkkorea.wordpress.com%2F%25ED%2580%25B4%25EC%25A6%2588%2F\">\\n\\t\\t\\t\\t\\t\\t\\t\\t\\t<svg class=\"gridicon gridicons-customize\" height=\"20\" width=\"20\" xmlns=\"http://www.w3.org/2000/svg\" viewBox=\"0 0 24 24\"><g><path d=\"M2 6c0-1.505.78-3.08 2-4 0 .845.69 2 2 2 1.657 0 3 1.343 3 3 0 .386-.08.752-.212 1.09.74.594 1.476 1.19 2.19 1.81L8.9 11.98c-.62-.716-1.214-1.454-1.807-2.192C6.753 9.92 6.387 10 6 10c-2.21 0-4-1.79-4-4zm12.152 6.848l1.34-1.34c.607.304 1.283.492 2.008.492 2.485 0 4.5-2.015 4.5-4.5 0-.725-.188-1.4-.493-2.007L18 9l-2-2 3.507-3.507C18.9 3.188 18.225 3 17.5 3 15.015 3 13 5.015 13 7.5c0 .725.188 1.4.493 2.007L3 20l2 2 6.848-6.848c1.885 1.928 3.874 3.753 5.977 5.45l1.425 1.148 1.5-1.5-1.15-1.425c-1.695-2.103-3.52-4.092-5.448-5.977z\"/></g></svg>\\t\\t\\t\\t\\t\\t\\t\\t\\t<span>사용자 정의하기</span>\\n\\t\\t\\t\\t\\t\\t\\t\\t</a>\\n\\t\\t\\t\\t\\t\\t\\t</li>\\n\\t\\t\\t\\t\\t\\t\\t\\t\\t\\t\\t\\t\\t\\t\\t\\t<li class=\"actnbr-signup\"><a href=\"https://wordpress.com/start/\">가입</a></li>\\n\\t\\t\\t\\t\\t\\t\\t\\t\\t<li class=\"actnbr-login\"><a href=\"https://wordpress.com/log-in?redirect_to=https%3A%2F%2Fr-login.wordpress.com%2Fremote-login.php%3Faction%3Dlink%26back%3Dhttps%253A%252F%252Fsparkkorea.com%252F%2525ed%252580%2525b4%2525ec%2525a6%252588%252F\">로그인</a></li>\\n\\t\\t\\t\\t\\t\\t\\t\\t\\t\\t\\t\\t\\t\\t\\t\\t\\t<li class=\"actnbr-shortlink\"><a href=\"https://wp.me/Pb5P34-1E\">단축 링크 복사</a></li>\\n\\t\\t\\t\\t\\t\\t\\t\\t\\t\\t\\t\\t\\t\\t\\t\\t\\t<li class=\"flb-report\"><a href=\"http://en.wordpress.com/abuse/\">이 콘텐츠 신고하기</a></li>\\n\\t\\t\\t\\t\\t\\t\\t\\t\\t\\t\\t\\t\\t\\t\\t\\t\\t<li class=\"actnbr-subs\">\\n\\t\\t\\t\\t\\t\\t\\t\\t\\t\\t<a href=\"https://subscribe.wordpress.com/\">구독 관리</a>\\n\\t\\t\\t\\t\\t\\t\\t\\t\\t</li>\\n\\t\\t\\t\\t\\t\\t\\t\\t\\t\\t\\t\\t\\t\\t</ul>\\n\\t\\t\\t\\t\\t</div>\\n\\t\\t\\t\\t</div>\\n\\t\\t\\t</li>\\n\\t\\t</ul>\\n\\t</div>\\n\\t\\n<script>\\nwindow.addEventListener( \"load\", function( event ) {\\n\\tvar link = document.createElement( \"link\" );\\n\\tlink.href = \"https://s0.wp.com/wp-content/mu-plugins/actionbar/actionbar.css?v=20210915\";\\n\\tlink.type = \"text/css\";\\n\\tlink.rel = \"stylesheet\";\\n\\tdocument.head.appendChild( link );\\n\\n\\tvar script = document.createElement( \"script\" );\\n\\tscript.src = \"https://s0.wp.com/wp-content/mu-plugins/actionbar/actionbar.js?v=20220329\";\\n\\tscript.defer = true;\\n\\tdocument.body.appendChild( script );\\n} );\\n</script>\\n\\n\\t\\n\\t<script type=\"text/javascript\">\\n\\t\\twindow.WPCOM_sharing_counts = {\"https:\\\\/\\\\/sparkkorea.com\\\\/%ed%80%b4%ec%a6%88\\\\/\":102};\\n\\t</script>\\n\\t\\t\\t\\t<script id=\\'comment-like-js-extra\\'>\\nvar comment_like_text = {\"loading\":\"\\\\uac00\\\\uc838\\\\uc624\\\\ub294 \\\\uc911...\",\"swipeUrl\":\"https:\\\\/\\\\/s2.wp.com\\\\/wp-content\\\\/mu-plugins\\\\/comment-likes\\\\/js\\\\/lib\\\\/swipe.js?ver=20131008\"};\\n</script>\\n<script id=\\'sharing-js-js-extra\\'>\\nvar sharing_js_options = {\"lang\":\"en\",\"counts\":\"1\",\"is_stats_active\":\"1\"};\\n</script>\\n<script crossorigin=\\'anonymous\\' type=\\'text/javascript\\' src=\\'https://s2.wp.com/_static/??-eJyNUO1OwzAMfCEya0xi4wfiUZAbe63bxAn5GPTtSdmEqoEq/vnj7nw++IjGBi2sBcYMxBexHD93Y36A1cpXE13tRTM4mTjDe+XKAyo5ThtgG7xvI3MljXeDe2IZ2DdYrB3QjGQeF4biRXosEvRf8DxJbOo6mXOwNZuz/Dwjal2lqw/x2HN2AYlp50X/wnjMQdO8Xm+e7l3o0G2kgdSkTIdpkS6cWmVKQjv9SmJFGrnEBrn1EFOgapc44K2Zha6KI8gDJiYkmr9L0f7m+tW/7J+Op8Pp+XjYj18kXrbD\\'></script>\\n<script type=\\'text/javascript\\'>\\nvar windowOpen;\\n\\t\\t\\t( function () {\\n\\t\\t\\t\\tfunction matches( el, sel ) {\\n\\t\\t\\t\\t\\treturn !! (\\n\\t\\t\\t\\t\\t\\tel.matches && el.matches( sel ) ||\\n\\t\\t\\t\\t\\t\\tel.msMatchesSelector && el.msMatchesSelector( sel )\\n\\t\\t\\t\\t\\t);\\n\\t\\t\\t\\t}\\n\\n\\t\\t\\t\\tdocument.body.addEventListener( \\'click\\', function ( event ) {\\n\\t\\t\\t\\t\\tif ( ! event.target ) {\\n\\t\\t\\t\\t\\t\\treturn;\\n\\t\\t\\t\\t\\t}\\n\\n\\t\\t\\t\\t\\tvar el;\\n\\t\\t\\t\\t\\tif ( matches( event.target, \\'a.share-twitter\\' ) ) {\\n\\t\\t\\t\\t\\t\\tel = event.target;\\n\\t\\t\\t\\t\\t} else if ( event.target.parentNode && matches( event.target.parentNode, \\'a.share-twitter\\' ) ) {\\n\\t\\t\\t\\t\\t\\tel = event.target.parentNode;\\n\\t\\t\\t\\t\\t}\\n\\n\\t\\t\\t\\t\\tif ( el ) {\\n\\t\\t\\t\\t\\t\\tevent.preventDefault();\\n\\n\\t\\t\\t\\t\\t\\t// If there\\'s another sharing window open, close it.\\n\\t\\t\\t\\t\\t\\tif ( typeof windowOpen !== \\'undefined\\' ) {\\n\\t\\t\\t\\t\\t\\t\\twindowOpen.close();\\n\\t\\t\\t\\t\\t\\t}\\n\\t\\t\\t\\t\\t\\twindowOpen = window.open( el.getAttribute( \\'href\\' ), \\'wpcomtwitter\\', \\'menubar=1,resizable=1,width=600,height=350\\' );\\n\\t\\t\\t\\t\\t\\treturn false;\\n\\t\\t\\t\\t\\t}\\n\\t\\t\\t\\t} );\\n\\t\\t\\t} )();\\nvar windowOpen;\\n\\t\\t\\t( function () {\\n\\t\\t\\t\\tfunction matches( el, sel ) {\\n\\t\\t\\t\\t\\treturn !! (\\n\\t\\t\\t\\t\\t\\tel.matches && el.matches( sel ) ||\\n\\t\\t\\t\\t\\t\\tel.msMatchesSelector && el.msMatchesSelector( sel )\\n\\t\\t\\t\\t\\t);\\n\\t\\t\\t\\t}\\n\\n\\t\\t\\t\\tdocument.body.addEventListener( \\'click\\', function ( event ) {\\n\\t\\t\\t\\t\\tif ( ! event.target ) {\\n\\t\\t\\t\\t\\t\\treturn;\\n\\t\\t\\t\\t\\t}\\n\\n\\t\\t\\t\\t\\tvar el;\\n\\t\\t\\t\\t\\tif ( matches( event.target, \\'a.share-facebook\\' ) ) {\\n\\t\\t\\t\\t\\t\\tel = event.target;\\n\\t\\t\\t\\t\\t} else if ( event.target.parentNode && matches( event.target.parentNode, \\'a.share-facebook\\' ) ) {\\n\\t\\t\\t\\t\\t\\tel = event.target.parentNode;\\n\\t\\t\\t\\t\\t}\\n\\n\\t\\t\\t\\t\\tif ( el ) {\\n\\t\\t\\t\\t\\t\\tevent.preventDefault();\\n\\n\\t\\t\\t\\t\\t\\t// If there\\'s another sharing window open, close it.\\n\\t\\t\\t\\t\\t\\tif ( typeof windowOpen !== \\'undefined\\' ) {\\n\\t\\t\\t\\t\\t\\t\\twindowOpen.close();\\n\\t\\t\\t\\t\\t\\t}\\n\\t\\t\\t\\t\\t\\twindowOpen = window.open( el.getAttribute( \\'href\\' ), \\'wpcomfacebook\\', \\'menubar=1,resizable=1,width=600,height=400\\' );\\n\\t\\t\\t\\t\\t\\treturn false;\\n\\t\\t\\t\\t\\t}\\n\\t\\t\\t\\t} );\\n\\t\\t\\t} )();\\n</script>\\n<script type=\"text/javascript\">\\n// <![CDATA[\\n(function() {\\ntry{\\n  if ( window.external &&\\'msIsSiteMode\\' in window.external) {\\n    if (window.external.msIsSiteMode()) {\\n      var jl = document.createElement(\\'script\\');\\n      jl.type=\\'text/javascript\\';\\n      jl.async=true;\\n      jl.src=\\'/wp-content/plugins/ie-sitemode/custom-jumplist.php\\';\\n      var s = document.getElementsByTagName(\\'script\\')[0];\\n      s.parentNode.insertBefore(jl, s);\\n    }\\n  }\\n}catch(e){}\\n})();\\n// ]]>\\n</script>\\t<iframe src=\\'https://widgets.wp.com/likes/master.html?ver=20230309#ver=20230309&amp;lang=ko&amp;lang_ver=1629891228&amp;origin=https://sparkkorea.com\\' scrolling=\\'no\\' id=\\'likes-master\\' name=\\'likes-master\\' style=\\'display:none;\\'></iframe>\\n\\t<div id=\\'likes-other-gravatars\\'>\\n\\t\\t<div class=\"likes-text\">\\n\\t\\t\\t<span>%d</span> 블로거가 이것을 좋아합니다:\\t\\t</div>\\n\\t\\t<ul class=\"wpl-avatars sd-like-gravatars\"></ul>\\n\\t</div>\\n\\n\\t\\t<script src=\"//stats.wp.com/w.js?63\" defer></script> <script type=\"text/javascript\">\\n_tkq = window._tkq || [];\\n_stq = window._stq || [];\\n_tkq.push([\\'storeContext\\', {\\'blog_id\\':\\'163927570\\',\\'blog_tz\\':\\'9\\',\\'user_lang\\':\\'ko\\',\\'blog_lang\\':\\'ko\\',\\'user_id\\':\\'0\\'}]);\\n_stq.push([\\'view\\', {\\'blog\\':\\'163927570\\',\\'v\\':\\'wpcom\\',\\'tz\\':\\'9\\',\\'user_id\\':\\'0\\',\\'post\\':\\'102\\',\\'subd\\':\\'sparkkorea\\'}]);\\n_stq.push([\\'extra\\', {\\'crypt\\':\\'UE40eW5QN0p8M2Y/RE1mNzc2NTVTamdsd0xoLz9RQkM2K298TXY9bERQMXc2MjhEaVZfb2wwakRoSj0mUkp1THptM1NdbkV1WjZIcU9mVWQmPUIvMlN6Jk8wW3NYVEJ3dWZOWExuWD8xeVkmK0dUTXo0Y2Zla35pLTE0dlY2QWxQL01fUWNOQUp6Ui1sbnctaHA1W3JNX1ZKel1BfkIvcFA1PVZhVXR+eFVVRjFZXTI1RmZ6TEhSbTE9ZHZ4VzJlPVVfMDcucy1VRzBnTltORHRneFQvdUomNyZ5RVhma3JtfGlPX1V+dF9HMHBEbjRnQzQ1N3BjOWxMLXBEX0ovY0k2Z0lmXXBqLD9wTHQ=\\'}]);\\n_stq.push([ \\'clickTrackerInit\\', \\'163927570\\', \\'102\\' ]);\\n\\t</script>\\n<noscript><img src=\"https://pixel.wp.com/b.gif?v=noscript\" style=\"height:1px;width:1px;overflow:hidden;position:absolute;bottom:1px;\" alt=\"\" /></noscript>\\n<script>\\nif ( \\'object\\' === typeof wpcom_mobile_user_agent_info ) {\\n\\n\\twpcom_mobile_user_agent_info.init();\\n\\tvar mobileStatsQueryString = \"\";\\n\\t\\n\\tif( false !== wpcom_mobile_user_agent_info.matchedPlatformName )\\n\\t\\tmobileStatsQueryString += \"&x_\" + \\'mobile_platforms\\' + \\'=\\' + wpcom_mobile_user_agent_info.matchedPlatformName;\\n\\t\\n\\tif( false !== wpcom_mobile_user_agent_info.matchedUserAgentName )\\n\\t\\tmobileStatsQueryString += \"&x_\" + \\'mobile_devices\\' + \\'=\\' + wpcom_mobile_user_agent_info.matchedUserAgentName;\\n\\t\\n\\tif( wpcom_mobile_user_agent_info.isIPad() )\\n\\t\\tmobileStatsQueryString += \"&x_\" + \\'ipad_views\\' + \\'=\\' + \\'views\\';\\n\\n\\tif( \"\" != mobileStatsQueryString ) {\\n\\t\\tnew Image().src = document.location.protocol + \\'//pixel.wp.com/g.gif?v=wpcom-no-pv\\' + mobileStatsQueryString + \\'&baba=\\' + Math.random();\\n\\t}\\n\\t\\n}\\n</script>\\n</body>\\n</html>\\n'"
      ]
     },
     "execution_count": 8,
     "metadata": {},
     "output_type": "execute_result"
    }
   ],
   "source": [
    "webPageSrc"
   ]
  },
  {
   "cell_type": "code",
   "execution_count": 8,
   "id": "24a17dfc-1362-4257-a63f-ae315097efc9",
   "metadata": {},
   "outputs": [],
   "source": [
    "htmlObj = bs4.BeautifulSoup(webPageSrc, \"html.parser\")"
   ]
  },
  {
   "cell_type": "code",
   "execution_count": 10,
   "id": "0eac5cd2-1d8f-460e-80de-d845e989b30f",
   "metadata": {
    "collapsed": true,
    "jupyter": {
     "outputs_hidden": true
    },
    "tags": []
   },
   "outputs": [
    {
     "data": {
      "text/plain": [
       "<!DOCTYPE html>\n",
       "\n",
       "<html lang=\"ko-KR\">\n",
       "<head>\n",
       "<meta charset=\"utf-8\"/>\n",
       "<meta content=\"width=device-width, initial-scale=1\" name=\"viewport\"/>\n",
       "<link href=\"http://gmpg.org/xfn/11\" rel=\"profile\"/>\n",
       "<link href=\"https://sparkkorea.com/xmlrpc.php\" rel=\"pingback\"/>\n",
       "<title>퀴즈 – 스파크 코리아</title>\n",
       "<meta content=\"max-image-preview:large\" name=\"robots\">\n",
       "<meta content=\"QRZVgHsoL23RuwmgmXNuXfO-mUaxCkdvhP2rRvLT270\" name=\"google-site-verification\">\n",
       "<!-- Async WordPress.com Remote Login -->\n",
       "<script id=\"wpcom_remote_login_js\">\n",
       "var wpcom_remote_login_extra_auth = '';\n",
       "function wpcom_remote_login_remove_dom_node_id( element_id ) {\n",
       "\tvar dom_node = document.getElementById( element_id );\n",
       "\tif ( dom_node ) { dom_node.parentNode.removeChild( dom_node ); }\n",
       "}\n",
       "function wpcom_remote_login_remove_dom_node_classes( class_name ) {\n",
       "\tvar dom_nodes = document.querySelectorAll( '.' + class_name );\n",
       "\tfor ( var i = 0; i < dom_nodes.length; i++ ) {\n",
       "\t\tdom_nodes[ i ].parentNode.removeChild( dom_nodes[ i ] );\n",
       "\t}\n",
       "}\n",
       "function wpcom_remote_login_final_cleanup() {\n",
       "\twpcom_remote_login_remove_dom_node_classes( \"wpcom_remote_login_msg\" );\n",
       "\twpcom_remote_login_remove_dom_node_id( \"wpcom_remote_login_key\" );\n",
       "\twpcom_remote_login_remove_dom_node_id( \"wpcom_remote_login_validate\" );\n",
       "\twpcom_remote_login_remove_dom_node_id( \"wpcom_remote_login_js\" );\n",
       "\twpcom_remote_login_remove_dom_node_id( \"wpcom_request_access_iframe\" );\n",
       "\twpcom_remote_login_remove_dom_node_id( \"wpcom_request_access_styles\" );\n",
       "}\n",
       "\n",
       "// Watch for messages back from the remote login\n",
       "window.addEventListener( \"message\", function( e ) {\n",
       "\tif ( e.origin === \"https://r-login.wordpress.com\" ) {\n",
       "\t\tvar data = {};\n",
       "\t\ttry {\n",
       "\t\t\tdata = JSON.parse( e.data );\n",
       "\t\t} catch( e ) {\n",
       "\t\t\twpcom_remote_login_final_cleanup();\n",
       "\t\t\treturn;\n",
       "\t\t}\n",
       "\n",
       "\t\tif ( data.msg === 'LOGIN' ) {\n",
       "\t\t\t// Clean up the login check iframe\n",
       "\t\t\twpcom_remote_login_remove_dom_node_id( \"wpcom_remote_login_key\" );\n",
       "\n",
       "\t\t\tvar id_regex = new RegExp( /^[0-9]+$/ );\n",
       "\t\t\tvar token_regex = new RegExp( /^.*|.*|.*$/ );\n",
       "\t\t\tif (\n",
       "\t\t\t\ttoken_regex.test( data.token )\n",
       "\t\t\t\t&& id_regex.test( data.wpcomid )\n",
       "\t\t\t) {\n",
       "\t\t\t\t// We have everything we need to ask for a login\n",
       "\t\t\t\tvar script = document.createElement( \"script\" );\n",
       "\t\t\t\tscript.setAttribute( \"id\", \"wpcom_remote_login_validate\" );\n",
       "\t\t\t\tscript.src = '/remote-login.php?wpcom_remote_login=validate'\n",
       "\t\t\t\t\t+ '&wpcomid=' + data.wpcomid\n",
       "\t\t\t\t\t+ '&token=' + encodeURIComponent( data.token )\n",
       "\t\t\t\t\t+ '&host=' + window.location.protocol\n",
       "\t\t\t\t\t+ '//' + window.location.hostname\n",
       "\t\t\t\t\t+ '&postid=102'\n",
       "\t\t\t\t\t+ '&is_singular=';\n",
       "\t\t\t\tdocument.body.appendChild( script );\n",
       "\t\t\t}\n",
       "\n",
       "\t\t\treturn;\n",
       "\t\t}\n",
       "\n",
       "\t\t// Safari ITP, not logged in, so redirect\n",
       "\t\tif ( data.msg === 'LOGIN-REDIRECT' ) {\n",
       "\t\t\twindow.location = 'https://wordpress.com/log-in?redirect_to=' + window.location.href;\n",
       "\t\t\treturn;\n",
       "\t\t}\n",
       "\n",
       "\t\t// Safari ITP, storage access failed, remove the request\n",
       "\t\tif ( data.msg === 'LOGIN-REMOVE' ) {\n",
       "\t\t\tvar css_zap = 'html { -webkit-transition: margin-top 1s; transition: margin-top 1s; } /* 9001 */ html { margin-top: 0 !important; } * html body { margin-top: 0 !important; } @media screen and ( max-width: 782px ) { html { margin-top: 0 !important; } * html body { margin-top: 0 !important; } }';\n",
       "\t\t\tvar style_zap = document.createElement( 'style' );\n",
       "\t\t\tstyle_zap.type = 'text/css';\n",
       "\t\t\tstyle_zap.appendChild( document.createTextNode( css_zap ) );\n",
       "\t\t\tdocument.body.appendChild( style_zap );\n",
       "\n",
       "\t\t\tvar e = document.getElementById( 'wpcom_request_access_iframe' );\n",
       "\t\t\te.parentNode.removeChild( e );\n",
       "\n",
       "\t\t\tdocument.cookie = 'wordpress_com_login_access=denied; path=/; max-age=31536000';\n",
       "\n",
       "\t\t\treturn;\n",
       "\t\t}\n",
       "\n",
       "\t\t// Safari ITP\n",
       "\t\tif ( data.msg === 'REQUEST_ACCESS' ) {\n",
       "\t\t\tconsole.log( 'request access: safari' );\n",
       "\n",
       "\t\t\t// Check ITP iframe enable/disable knob\n",
       "\t\t\tif ( wpcom_remote_login_extra_auth !== 'safari_itp_iframe' ) {\n",
       "\t\t\t\treturn;\n",
       "\t\t\t}\n",
       "\n",
       "\t\t\t// If we are in a \"private window\" there is no ITP.\n",
       "\t\t\tvar private_window = false;\n",
       "\t\t\ttry {\n",
       "\t\t\t\tvar opendb = window.openDatabase( null, null, null, null );\n",
       "\t\t\t} catch( e ) {\n",
       "\t\t\t\tprivate_window = true;\n",
       "\t\t\t}\n",
       "\n",
       "\t\t\tif ( private_window ) {\n",
       "\t\t\t\tconsole.log( 'private window' );\n",
       "\t\t\t\treturn;\n",
       "\t\t\t}\n",
       "\n",
       "\t\t\tvar iframe = document.createElement( 'iframe' );\n",
       "\t\t\tiframe.id = 'wpcom_request_access_iframe';\n",
       "\t\t\tiframe.setAttribute( 'scrolling', 'no' );\n",
       "\t\t\tiframe.setAttribute( 'sandbox', 'allow-storage-access-by-user-activation allow-scripts allow-same-origin allow-top-navigation-by-user-activation' );\n",
       "\t\t\tiframe.src = 'https://r-login.wordpress.com/remote-login.php?wpcom_remote_login=request_access&origin=' + encodeURIComponent( data.origin ) + '&wpcomid=' + encodeURIComponent( data.wpcomid );\n",
       "\n",
       "\t\t\tvar css = 'html { -webkit-transition: margin-top 1s; transition: margin-top 1s; } /* 9001 */ html { margin-top: 46px !important; } * html body { margin-top: 46px !important; } @media screen and ( max-width: 660px ) { html { margin-top: 71px !important; } * html body { margin-top: 71px !important; } #wpcom_request_access_iframe { display: block; height: 71px !important; } } #wpcom_request_access_iframe { border: 0px; height: 46px; position: fixed; top: 0; left: 0; width: 100%; min-width: 100%; z-index: 99999; background: #23282d; } ';\n",
       "\n",
       "\t\t\tvar style = document.createElement( 'style' );\n",
       "\t\t\tstyle.type = 'text/css';\n",
       "\t\t\tstyle.id = 'wpcom_request_access_styles';\n",
       "\t\t\tstyle.appendChild( document.createTextNode( css ) );\n",
       "\t\t\tdocument.body.appendChild( style );\n",
       "\n",
       "\t\t\tdocument.body.appendChild( iframe );\n",
       "\t\t}\n",
       "\n",
       "\t\tif ( data.msg === 'DONE' ) {\n",
       "\t\t\twpcom_remote_login_final_cleanup();\n",
       "\t\t}\n",
       "\t}\n",
       "}, false );\n",
       "\n",
       "// Inject the remote login iframe after the page has had a chance to load\n",
       "// more critical resources\n",
       "window.addEventListener( \"DOMContentLoaded\", function( e ) {\n",
       "\tvar iframe = document.createElement( \"iframe\" );\n",
       "\tiframe.style.display = \"none\";\n",
       "\tiframe.setAttribute( \"scrolling\", \"no\" );\n",
       "\tiframe.setAttribute( \"id\", \"wpcom_remote_login_key\" );\n",
       "\tiframe.src = \"https://r-login.wordpress.com/remote-login.php\"\n",
       "\t\t+ \"?wpcom_remote_login=key\"\n",
       "\t\t+ \"&origin=aHR0cHM6Ly9zcGFya2tvcmVhLmNvbQ%3D%3D\"\n",
       "\t\t+ \"&wpcomid=163927570\"\n",
       "\t\t+ \"&time=1679564941\";\n",
       "\tdocument.body.appendChild( iframe );\n",
       "}, false );\n",
       "</script>\n",
       "<link href=\"//s2.wp.com\" rel=\"dns-prefetch\">\n",
       "<link href=\"//s1.wp.com\" rel=\"dns-prefetch\">\n",
       "<link href=\"//sparkkorea.wordpress.com\" rel=\"dns-prefetch\"/>\n",
       "<link href=\"//s0.wp.com\" rel=\"dns-prefetch\"/>\n",
       "<link href=\"//wordpress.com\" rel=\"dns-prefetch\"/>\n",
       "<link href=\"//fonts-api.wp.com\" rel=\"dns-prefetch\"/>\n",
       "<link crossorigin=\"\" href=\"https://fonts.gstatic.com\" rel=\"preconnect\"/>\n",
       "<link href=\"https://sparkkorea.com/feed/\" rel=\"alternate\" title=\"스파크 코리아 » 피드\" type=\"application/rss+xml\"/>\n",
       "<link href=\"https://sparkkorea.com/comments/feed/\" rel=\"alternate\" title=\"스파크 코리아 » 댓글 피드\" type=\"application/rss+xml\"/>\n",
       "<script type=\"text/javascript\">\n",
       "\t\t/* <![CDATA[ */\n",
       "\t\tfunction addLoadEvent(func) {\n",
       "\t\t\tvar oldonload = window.onload;\n",
       "\t\t\tif (typeof window.onload != 'function') {\n",
       "\t\t\t\twindow.onload = func;\n",
       "\t\t\t} else {\n",
       "\t\t\t\twindow.onload = function () {\n",
       "\t\t\t\t\toldonload();\n",
       "\t\t\t\t\tfunc();\n",
       "\t\t\t\t}\n",
       "\t\t\t}\n",
       "\t\t}\n",
       "\t\t/* ]]> */\n",
       "\t</script>\n",
       "<script type=\"text/javascript\">\n",
       "window._wpemojiSettings = {\"baseUrl\":\"https:\\/\\/s0.wp.com\\/wp-content\\/mu-plugins\\/wpcom-smileys\\/twemoji\\/2\\/72x72\\/\",\"ext\":\".png\",\"svgUrl\":\"https:\\/\\/s0.wp.com\\/wp-content\\/mu-plugins\\/wpcom-smileys\\/twemoji\\/2\\/svg\\/\",\"svgExt\":\".svg\",\"source\":{\"concatemoji\":\"https:\\/\\/s0.wp.com\\/wp-includes\\/js\\/wp-emoji-release.min.js?m=1677072837h&ver=6.2-RC2-55570\"}};\n",
       "/*! This file is auto-generated */\n",
       "!function(e,a,t){var n,r,o,i=a.createElement(\"canvas\"),p=i.getContext&&i.getContext(\"2d\");function s(e,t){p.clearRect(0,0,i.width,i.height),p.fillText(e,0,0);e=i.toDataURL();return p.clearRect(0,0,i.width,i.height),p.fillText(t,0,0),e===i.toDataURL()}function c(e){var t=a.createElement(\"script\");t.src=e,t.defer=t.type=\"text/javascript\",a.getElementsByTagName(\"head\")[0].appendChild(t)}for(o=Array(\"flag\",\"emoji\"),t.supports={everything:!0,everythingExceptFlag:!0},r=0;r<o.length;r++)t.supports[o[r]]=function(e){if(p&&p.fillText)switch(p.textBaseline=\"top\",p.font=\"600 32px Arial\",e){case\"flag\":return s(\"\\ud83c\\udff3\\ufe0f\\u200d\\u26a7\\ufe0f\",\"\\ud83c\\udff3\\ufe0f\\u200b\\u26a7\\ufe0f\")?!1:!s(\"\\ud83c\\uddfa\\ud83c\\uddf3\",\"\\ud83c\\uddfa\\u200b\\ud83c\\uddf3\")&&!s(\"\\ud83c\\udff4\\udb40\\udc67\\udb40\\udc62\\udb40\\udc65\\udb40\\udc6e\\udb40\\udc67\\udb40\\udc7f\",\"\\ud83c\\udff4\\u200b\\udb40\\udc67\\u200b\\udb40\\udc62\\u200b\\udb40\\udc65\\u200b\\udb40\\udc6e\\u200b\\udb40\\udc67\\u200b\\udb40\\udc7f\");case\"emoji\":return!s(\"\\ud83e\\udef1\\ud83c\\udffb\\u200d\\ud83e\\udef2\\ud83c\\udfff\",\"\\ud83e\\udef1\\ud83c\\udffb\\u200b\\ud83e\\udef2\\ud83c\\udfff\")}return!1}(o[r]),t.supports.everything=t.supports.everything&&t.supports[o[r]],\"flag\"!==o[r]&&(t.supports.everythingExceptFlag=t.supports.everythingExceptFlag&&t.supports[o[r]]);t.supports.everythingExceptFlag=t.supports.everythingExceptFlag&&!t.supports.flag,t.DOMReady=!1,t.readyCallback=function(){t.DOMReady=!0},t.supports.everything||(n=function(){t.readyCallback()},a.addEventListener?(a.addEventListener(\"DOMContentLoaded\",n,!1),e.addEventListener(\"load\",n,!1)):(e.attachEvent(\"onload\",n),a.attachEvent(\"onreadystatechange\",function(){\"complete\"===a.readyState&&t.readyCallback()})),(e=t.source||{}).concatemoji?c(e.concatemoji):e.wpemoji&&e.twemoji&&(c(e.twemoji),c(e.wpemoji)))}(window,document,window._wpemojiSettings);\n",
       "</script>\n",
       "<style type=\"text/css\">\n",
       "img.wp-smiley,\n",
       "img.emoji {\n",
       "\tdisplay: inline !important;\n",
       "\tborder: none !important;\n",
       "\tbox-shadow: none !important;\n",
       "\theight: 1em !important;\n",
       "\twidth: 1em !important;\n",
       "\tmargin: 0 0.07em !important;\n",
       "\tvertical-align: -0.1em !important;\n",
       "\tbackground: none !important;\n",
       "\tpadding: 0 !important;\n",
       "}\n",
       "</style>\n",
       "<link crossorigin=\"anonymous\" href=\"https://s1.wp.com/_static/??-eJytjMsOwiAQRX9IOiWKxoXxWwpOkHZ4hIE2/L0NiRt16fLknntgS8LEUDAU8FUkqtYFhi2Z6AV7R9g+aDDMB/h9I7cgw4wlTWYRnb70t2vrjhqz3ZeMsEo1nIYRdHX0AE2xB3SecgMujfAfofJE30N3f5Pny1VJOarj/AIz1V8/&amp;cssminify=yes\" id=\"all-css-0-1\" media=\"all\" rel=\"stylesheet\" type=\"text/css\"/>\n",
       "<style id=\"wp-block-library-inline-css\">\n",
       ".has-text-align-justify {\n",
       "\ttext-align:justify;\n",
       "}\n",
       ".wp-block-cover__image-background.has-parallax {\n",
       "\tbackground-size: cover;\n",
       "}\n",
       "</style>\n",
       "<link crossorigin=\"anonymous\" href=\"https://s1.wp.com/_static/??-eJyVj9EKwjAMRX/IrBPU6YP4LV0Ware2K03L2N8bHyZOZeBL4CY5uTdqimADutIRq56Vp85qcuQp5JWITs+UwJHROFfehgqZd2oLl9m7XkE4hvzcia4YG1iZIrKlZKB1Iw5yjHLUOIDYjiWDSbZTnGdH/59IOttg+AN/xZaGQqeZLUK+S1T+mdQXWJxwTCR9H/X3kxvYFIWBto2JmEGqt8UvlsLd/HV/as6Xpq6Ph/4BjgOajA==&amp;cssminify=yes\" id=\"all-css-2-1\" media=\"all\" rel=\"stylesheet\" type=\"text/css\"/>\n",
       "<style id=\"global-styles-inline-css\">\n",
       "body{--wp--preset--color--black: #000000;--wp--preset--color--cyan-bluish-gray: #abb8c3;--wp--preset--color--white: #fff;--wp--preset--color--pale-pink: #f78da7;--wp--preset--color--vivid-red: #cf2e2e;--wp--preset--color--luminous-vivid-orange: #ff6900;--wp--preset--color--luminous-vivid-amber: #fcb900;--wp--preset--color--light-green-cyan: #7bdcb5;--wp--preset--color--vivid-green-cyan: #00d084;--wp--preset--color--pale-cyan-blue: #8ed1fc;--wp--preset--color--vivid-cyan-blue: #0693e3;--wp--preset--color--vivid-purple: #9b51e0;--wp--preset--color--bright-blue: #678db8;--wp--preset--color--yellow: #e7ae01;--wp--preset--color--light-gray-blue: #abb7c3;--wp--preset--color--medium-gray: #6a6c6e;--wp--preset--color--dark-gray: #1a1c1e;--wp--preset--color--dark-gray-blue: #292c2f;--wp--preset--gradient--vivid-cyan-blue-to-vivid-purple: linear-gradient(135deg,rgba(6,147,227,1) 0%,rgb(155,81,224) 100%);--wp--preset--gradient--light-green-cyan-to-vivid-green-cyan: linear-gradient(135deg,rgb(122,220,180) 0%,rgb(0,208,130) 100%);--wp--preset--gradient--luminous-vivid-amber-to-luminous-vivid-orange: linear-gradient(135deg,rgba(252,185,0,1) 0%,rgba(255,105,0,1) 100%);--wp--preset--gradient--luminous-vivid-orange-to-vivid-red: linear-gradient(135deg,rgba(255,105,0,1) 0%,rgb(207,46,46) 100%);--wp--preset--gradient--very-light-gray-to-cyan-bluish-gray: linear-gradient(135deg,rgb(238,238,238) 0%,rgb(169,184,195) 100%);--wp--preset--gradient--cool-to-warm-spectrum: linear-gradient(135deg,rgb(74,234,220) 0%,rgb(151,120,209) 20%,rgb(207,42,186) 40%,rgb(238,44,130) 60%,rgb(251,105,98) 80%,rgb(254,248,76) 100%);--wp--preset--gradient--blush-light-purple: linear-gradient(135deg,rgb(255,206,236) 0%,rgb(152,150,240) 100%);--wp--preset--gradient--blush-bordeaux: linear-gradient(135deg,rgb(254,205,165) 0%,rgb(254,45,45) 50%,rgb(107,0,62) 100%);--wp--preset--gradient--luminous-dusk: linear-gradient(135deg,rgb(255,203,112) 0%,rgb(199,81,192) 50%,rgb(65,88,208) 100%);--wp--preset--gradient--pale-ocean: linear-gradient(135deg,rgb(255,245,203) 0%,rgb(182,227,212) 50%,rgb(51,167,181) 100%);--wp--preset--gradient--electric-grass: linear-gradient(135deg,rgb(202,248,128) 0%,rgb(113,206,126) 100%);--wp--preset--gradient--midnight: linear-gradient(135deg,rgb(2,3,129) 0%,rgb(40,116,252) 100%);--wp--preset--duotone--dark-grayscale: url('#wp-duotone-dark-grayscale');--wp--preset--duotone--grayscale: url('#wp-duotone-grayscale');--wp--preset--duotone--purple-yellow: url('#wp-duotone-purple-yellow');--wp--preset--duotone--blue-red: url('#wp-duotone-blue-red');--wp--preset--duotone--midnight: url('#wp-duotone-midnight');--wp--preset--duotone--magenta-yellow: url('#wp-duotone-magenta-yellow');--wp--preset--duotone--purple-green: url('#wp-duotone-purple-green');--wp--preset--duotone--blue-orange: url('#wp-duotone-blue-orange');--wp--preset--font-size--small: 13px;--wp--preset--font-size--medium: 20px;--wp--preset--font-size--large: 36px;--wp--preset--font-size--x-large: 42px;--wp--preset--font-family--albert-sans: 'Albert Sans';--wp--preset--font-family--alegreya: Alegreya;--wp--preset--font-family--arvo: Arvo;--wp--preset--font-family--bodoni-moda: 'Bodoni Moda';--wp--preset--font-family--cabin: Cabin;--wp--preset--font-family--chivo: Chivo;--wp--preset--font-family--commissioner: Commissioner;--wp--preset--font-family--cormorant: Cormorant;--wp--preset--font-family--courier-prime: 'Courier Prime';--wp--preset--font-family--crimson-pro: 'Crimson Pro';--wp--preset--font-family--dm-mono: 'DM Mono';--wp--preset--font-family--dm-sans: 'DM Sans';--wp--preset--font-family--domine: Domine;--wp--preset--font-family--eb-garamond: 'EB Garamond';--wp--preset--font-family--epilogue: Epilogue;--wp--preset--font-family--figtree: Figtree;--wp--preset--font-family--fira-sans: 'Fira Sans';--wp--preset--font-family--fraunces: Fraunces;--wp--preset--font-family--ibm-plex-mono: 'IBM Plex Mono';--wp--preset--font-family--ibm-plex-sans: 'IBM Plex Sans';--wp--preset--font-family--inter: Inter;--wp--preset--font-family--josefin-sans: 'Josefin Sans';--wp--preset--font-family--jost: Jost;--wp--preset--font-family--libre-baskerville: 'Libre Baskerville';--wp--preset--font-family--libre-franklin: 'Libre Franklin';--wp--preset--font-family--literata: Literata;--wp--preset--font-family--lora: Lora;--wp--preset--font-family--merriweather: Merriweather;--wp--preset--font-family--montserrat: Montserrat;--wp--preset--font-family--newsreader: Newsreader;--wp--preset--font-family--nunito: Nunito;--wp--preset--font-family--open-sans: 'Open Sans';--wp--preset--font-family--overpass: Overpass;--wp--preset--font-family--petrona: Petrona;--wp--preset--font-family--piazzolla: Piazzolla;--wp--preset--font-family--playfair-display: 'Playfair Display';--wp--preset--font-family--plus-jakarta-sans: 'Plus Jakarta Sans';--wp--preset--font-family--poppins: Poppins;--wp--preset--font-family--raleway: Raleway;--wp--preset--font-family--roboto-slab: 'Roboto Slab';--wp--preset--font-family--roboto: Roboto;--wp--preset--font-family--rubik: Rubik;--wp--preset--font-family--sora: Sora;--wp--preset--font-family--source-sans-pro: 'Source Sans Pro';--wp--preset--font-family--source-serif-pro: 'Source Serif Pro';--wp--preset--font-family--space-mono: 'Space Mono';--wp--preset--font-family--texturina: Texturina;--wp--preset--font-family--work-sans: 'Work Sans';--wp--preset--spacing--20: 0.44rem;--wp--preset--spacing--30: 0.67rem;--wp--preset--spacing--40: 1rem;--wp--preset--spacing--50: 1.5rem;--wp--preset--spacing--60: 2.25rem;--wp--preset--spacing--70: 3.38rem;--wp--preset--spacing--80: 5.06rem;--wp--preset--shadow--natural: 6px 6px 9px rgba(0, 0, 0, 0.2);--wp--preset--shadow--deep: 12px 12px 50px rgba(0, 0, 0, 0.4);--wp--preset--shadow--sharp: 6px 6px 0px rgba(0, 0, 0, 0.2);--wp--preset--shadow--outlined: 6px 6px 0px -3px rgba(255, 255, 255, 1), 6px 6px rgba(0, 0, 0, 1);--wp--preset--shadow--crisp: 6px 6px 0px rgba(0, 0, 0, 1);}:where(.is-layout-flex){gap: 0.5em;}body .is-layout-flow > .alignleft{float: left;margin-inline-start: 0;margin-inline-end: 2em;}body .is-layout-flow > .alignright{float: right;margin-inline-start: 2em;margin-inline-end: 0;}body .is-layout-flow > .aligncenter{margin-left: auto !important;margin-right: auto !important;}body .is-layout-constrained > .alignleft{float: left;margin-inline-start: 0;margin-inline-end: 2em;}body .is-layout-constrained > .alignright{float: right;margin-inline-start: 2em;margin-inline-end: 0;}body .is-layout-constrained > .aligncenter{margin-left: auto !important;margin-right: auto !important;}body .is-layout-constrained > :where(:not(.alignleft):not(.alignright):not(.alignfull)){max-width: var(--wp--style--global--content-size);margin-left: auto !important;margin-right: auto !important;}body .is-layout-constrained > .alignwide{max-width: var(--wp--style--global--wide-size);}body .is-layout-flex{display: flex;}body .is-layout-flex{flex-wrap: wrap;align-items: center;}body .is-layout-flex > *{margin: 0;}:where(.wp-block-columns.is-layout-flex){gap: 2em;}.has-black-color{color: var(--wp--preset--color--black) !important;}.has-cyan-bluish-gray-color{color: var(--wp--preset--color--cyan-bluish-gray) !important;}.has-white-color{color: var(--wp--preset--color--white) !important;}.has-pale-pink-color{color: var(--wp--preset--color--pale-pink) !important;}.has-vivid-red-color{color: var(--wp--preset--color--vivid-red) !important;}.has-luminous-vivid-orange-color{color: var(--wp--preset--color--luminous-vivid-orange) !important;}.has-luminous-vivid-amber-color{color: var(--wp--preset--color--luminous-vivid-amber) !important;}.has-light-green-cyan-color{color: var(--wp--preset--color--light-green-cyan) !important;}.has-vivid-green-cyan-color{color: var(--wp--preset--color--vivid-green-cyan) !important;}.has-pale-cyan-blue-color{color: var(--wp--preset--color--pale-cyan-blue) !important;}.has-vivid-cyan-blue-color{color: var(--wp--preset--color--vivid-cyan-blue) !important;}.has-vivid-purple-color{color: var(--wp--preset--color--vivid-purple) !important;}.has-black-background-color{background-color: var(--wp--preset--color--black) !important;}.has-cyan-bluish-gray-background-color{background-color: var(--wp--preset--color--cyan-bluish-gray) !important;}.has-white-background-color{background-color: var(--wp--preset--color--white) !important;}.has-pale-pink-background-color{background-color: var(--wp--preset--color--pale-pink) !important;}.has-vivid-red-background-color{background-color: var(--wp--preset--color--vivid-red) !important;}.has-luminous-vivid-orange-background-color{background-color: var(--wp--preset--color--luminous-vivid-orange) !important;}.has-luminous-vivid-amber-background-color{background-color: var(--wp--preset--color--luminous-vivid-amber) !important;}.has-light-green-cyan-background-color{background-color: var(--wp--preset--color--light-green-cyan) !important;}.has-vivid-green-cyan-background-color{background-color: var(--wp--preset--color--vivid-green-cyan) !important;}.has-pale-cyan-blue-background-color{background-color: var(--wp--preset--color--pale-cyan-blue) !important;}.has-vivid-cyan-blue-background-color{background-color: var(--wp--preset--color--vivid-cyan-blue) !important;}.has-vivid-purple-background-color{background-color: var(--wp--preset--color--vivid-purple) !important;}.has-black-border-color{border-color: var(--wp--preset--color--black) !important;}.has-cyan-bluish-gray-border-color{border-color: var(--wp--preset--color--cyan-bluish-gray) !important;}.has-white-border-color{border-color: var(--wp--preset--color--white) !important;}.has-pale-pink-border-color{border-color: var(--wp--preset--color--pale-pink) !important;}.has-vivid-red-border-color{border-color: var(--wp--preset--color--vivid-red) !important;}.has-luminous-vivid-orange-border-color{border-color: var(--wp--preset--color--luminous-vivid-orange) !important;}.has-luminous-vivid-amber-border-color{border-color: var(--wp--preset--color--luminous-vivid-amber) !important;}.has-light-green-cyan-border-color{border-color: var(--wp--preset--color--light-green-cyan) !important;}.has-vivid-green-cyan-border-color{border-color: var(--wp--preset--color--vivid-green-cyan) !important;}.has-pale-cyan-blue-border-color{border-color: var(--wp--preset--color--pale-cyan-blue) !important;}.has-vivid-cyan-blue-border-color{border-color: var(--wp--preset--color--vivid-cyan-blue) !important;}.has-vivid-purple-border-color{border-color: var(--wp--preset--color--vivid-purple) !important;}.has-vivid-cyan-blue-to-vivid-purple-gradient-background{background: var(--wp--preset--gradient--vivid-cyan-blue-to-vivid-purple) !important;}.has-light-green-cyan-to-vivid-green-cyan-gradient-background{background: var(--wp--preset--gradient--light-green-cyan-to-vivid-green-cyan) !important;}.has-luminous-vivid-amber-to-luminous-vivid-orange-gradient-background{background: var(--wp--preset--gradient--luminous-vivid-amber-to-luminous-vivid-orange) !important;}.has-luminous-vivid-orange-to-vivid-red-gradient-background{background: var(--wp--preset--gradient--luminous-vivid-orange-to-vivid-red) !important;}.has-very-light-gray-to-cyan-bluish-gray-gradient-background{background: var(--wp--preset--gradient--very-light-gray-to-cyan-bluish-gray) !important;}.has-cool-to-warm-spectrum-gradient-background{background: var(--wp--preset--gradient--cool-to-warm-spectrum) !important;}.has-blush-light-purple-gradient-background{background: var(--wp--preset--gradient--blush-light-purple) !important;}.has-blush-bordeaux-gradient-background{background: var(--wp--preset--gradient--blush-bordeaux) !important;}.has-luminous-dusk-gradient-background{background: var(--wp--preset--gradient--luminous-dusk) !important;}.has-pale-ocean-gradient-background{background: var(--wp--preset--gradient--pale-ocean) !important;}.has-electric-grass-gradient-background{background: var(--wp--preset--gradient--electric-grass) !important;}.has-midnight-gradient-background{background: var(--wp--preset--gradient--midnight) !important;}.has-small-font-size{font-size: var(--wp--preset--font-size--small) !important;}.has-medium-font-size{font-size: var(--wp--preset--font-size--medium) !important;}.has-large-font-size{font-size: var(--wp--preset--font-size--large) !important;}.has-x-large-font-size{font-size: var(--wp--preset--font-size--x-large) !important;}\n",
       ":where(.wp-block-columns.is-layout-flex){gap: 2em;}\n",
       ".wp-block-pullquote{font-size: 1.5em;line-height: 1.6;}\n",
       ".wp-block-navigation a:where(:not(.wp-element-button)){color: inherit;}\n",
       "</style>\n",
       "<link crossorigin=\"anonymous\" href=\"https://s1.wp.com/_static/??/wp-content/mu-plugins/comment-likes/css/comment-likes.css,/i/noticons/noticons.css?m=1436783281j&amp;cssminify=yes\" id=\"all-css-4-1\" media=\"all\" rel=\"stylesheet\" type=\"text/css\"/>\n",
       "<link href=\"https://fonts-api.wp.com/css?family=Lato%3A400%2C400italic%2C700%2C700italic%7CNoto+Serif%3A400%2C400italic%2C700%2C700italic&amp;subset=latin%2Clatin-ext\" id=\"dyad-2-fonts-css\" media=\"all\" rel=\"stylesheet\"/>\n",
       "<link crossorigin=\"anonymous\" href=\"https://s0.wp.com/_static/??-eJyNj9kKwjAURH/IeGtx6Yv4KZLeXGPabGSh9O9Ng2BBkb7NwJxhBibP0NlENoHJzOsslY0wUPIcx7cHH5zImJSzcFcWQZKloAoXf8s9xriDVXV6kqEIPvcgZi5YCzHNmjbkSgJ67XDcUrpsq8Vs8ujMF7F6KMmxUsvrqbVhD81V+IcGKoNkkbKu+9gFupnr4Xy6dF3THpvhBfZwgjk=&amp;cssminify=yes\" id=\"all-css-6-1\" media=\"all\" rel=\"stylesheet\" type=\"text/css\"/>\n",
       "<link crossorigin=\"anonymous\" href=\"https://s2.wp.com/wp-content/mu-plugins/global-print/global-print.css?m=1465851035h&amp;cssminify=yes\" id=\"print-css-7-1\" media=\"print\" rel=\"stylesheet\" type=\"text/css\"/>\n",
       "<style id=\"jetpack-global-styles-frontend-style-inline-css\">\n",
       ":root { --font-headings: unset; --font-base: unset; --font-headings-default: -apple-system,BlinkMacSystemFont,\"Segoe UI\",Roboto,Oxygen-Sans,Ubuntu,Cantarell,\"Helvetica Neue\",sans-serif; --font-base-default: -apple-system,BlinkMacSystemFont,\"Segoe UI\",Roboto,Oxygen-Sans,Ubuntu,Cantarell,\"Helvetica Neue\",sans-serif;}\n",
       "</style>\n",
       "<link crossorigin=\"anonymous\" href=\"https://s0.wp.com/_static/??-eJyVjUEKwjAQRS9kHAVb60I8isRJSFInM6GTULx9W3Ejrty9B5/3YS4GhavnCrmZQi0kVhh9LRafH4cyiWtYkzDklcgraLSTd9a51xsThz2q7uDf3j0xggomS4YkiH7JT7NGn9f3eIJA8rC0DW75euzPl+7QDUM/Lj+0TlE=&amp;cssminify=yes\" id=\"all-css-10-1\" media=\"all\" rel=\"stylesheet\" type=\"text/css\"/>\n",
       "<script id=\"wpcom-actionbar-placeholder-js-extra\">\n",
       "var actionbardata = {\"siteID\":\"163927570\",\"siteURL\":\"https:\\/\\/sparkkorea.com\",\"xhrURL\":\"https:\\/\\/sparkkorea.com\\/wp-admin\\/admin-ajax.php\",\"nonce\":\"5663c0bd23\",\"isLoggedIn\":\"\",\"statusMessage\":\"\",\"subsEmailDefault\":\"instantly\",\"proxyScriptUrl\":\"https:\\/\\/s0.wp.com\\/wp-content\\/js\\/wpcom-proxy-request.js?ver=20211021\",\"shortlink\":\"https:\\/\\/wp.me\\/Pb5P34-1E\",\"i18n\":{\"followedText\":\"\\uc774 \\uc0ac\\uc774\\ud2b8\\uc758 \\uc0c8 \\uae00\\uc774 \\uc774\\uc81c <a href=\\\"https:\\/\\/wordpress.com\\/read\\\">\\ub9ac\\ub354(Reader)<\\/a>\\uc5d0 \\ud45c\\uc2dc\\ub429\\ub2c8\\ub2e4\",\"foldBar\":\"\\uc774 \\ud45c\\uc2dc\\uc904 \\ucd95\\uc18c\",\"unfoldBar\":\"\\uc774 \\ud45c\\uc2dc\\uc904 \\ud655\\uc7a5\"}};\n",
       "</script>\n",
       "<script crossorigin=\"anonymous\" src=\"https://s1.wp.com/_static/??-eJzTLy/QTc7PK0nNK9HPKtbPzU/KzEnVLS1OLUpMB4rpZual5etlFevoo6oryinRLSjKr6iEyWXmJeeUpqQWgySzCktTiyqhlF5uZh5BRbq5melFiSWpUMX2ubaGZuYWlhYGlhaGWQCPrjue\" type=\"text/javascript\"></script>\n",
       "<script type=\"text/javascript\">\n",
       "\twindow.addEventListener( 'DOMContentLoaded', function() {\n",
       "\t\trltInitialize( {\"token\":null,\"iframeOrigins\":[\"https:\\/\\/widgets.wp.com\"]} );\n",
       "\t} );\n",
       "</script>\n",
       "<link href=\"https://sparkkorea.wordpress.com/xmlrpc.php?rsd\" rel=\"EditURI\" title=\"RSD\" type=\"application/rsd+xml\"/>\n",
       "<link href=\"https://s1.wp.com/wp-includes/wlwmanifest.xml\" rel=\"wlwmanifest\" type=\"application/wlwmanifest+xml\"/>\n",
       "<meta content=\"WordPress.com\" name=\"generator\"/>\n",
       "<link href=\"https://sparkkorea.com/%ed%80%b4%ec%a6%88/\" rel=\"canonical\"/>\n",
       "<link href=\"https://wp.me/Pb5P34-1E\" rel=\"shortlink\"/>\n",
       "<link href=\"https://public-api.wordpress.com/oembed/?format=json&amp;url=https%3A%2F%2Fsparkkorea.com%2F%25ed%2580%25b4%25ec%25a6%2588%2F&amp;for=wpcom-auto-discovery\" rel=\"alternate\" type=\"application/json+oembed\"/><link href=\"https://public-api.wordpress.com/oembed/?format=xml&amp;url=https%3A%2F%2Fsparkkorea.com%2F%25ed%2580%25b4%25ec%25a6%2588%2F&amp;for=wpcom-auto-discovery\" rel=\"alternate\" type=\"application/xml+oembed\"/>\n",
       "<!-- Jetpack Open Graph Tags -->\n",
       "<meta content=\"article\" property=\"og:type\"/>\n",
       "<meta content=\"퀴즈\" property=\"og:title\"/>\n",
       "<meta content=\"https://sparkkorea.com/%ed%80%b4%ec%a6%88/\" property=\"og:url\"/>\n",
       "<meta content=\"메인 설문 준비중 Spark 퀴즈 6/13 Spark 심화과정 6/13 Spark 기본과정 6/18 Spark [MAP_FILTER] 6/18 Spark GroupBy 심화 6/25 Spark RDD 실전 분석 6/27 Spark RDD 실전 분석2\" property=\"og:description\"/>\n",
       "<meta content=\"2019-07-08T09:35:27+00:00\" property=\"article:published_time\"/>\n",
       "<meta content=\"2020-03-20T09:42:15+00:00\" property=\"article:modified_time\"/>\n",
       "<meta content=\"스파크 코리아\" property=\"og:site_name\"/>\n",
       "<meta content=\"https://s0.wp.com/i/blank.jpg\" property=\"og:image\"/>\n",
       "<meta content=\"\" property=\"og:image:alt\"/>\n",
       "<meta content=\"ko_KR\" property=\"og:locale\"/>\n",
       "<meta content=\"https://www.facebook.com/WordPresscom\" property=\"article:publisher\"/>\n",
       "<meta content=\"퀴즈\" name=\"twitter:text:title\"/>\n",
       "<meta content=\"summary\" name=\"twitter:card\"/>\n",
       "<!-- End Jetpack Open Graph Tags -->\n",
       "<link href=\"https://s1.wp.com/i/favicon.ico\" rel=\"shortcut icon\" sizes=\"16x16 24x24 32x32 48x48\" type=\"image/x-icon\"/>\n",
       "<link href=\"https://s1.wp.com/i/favicon.ico\" rel=\"icon\" sizes=\"16x16 24x24 32x32 48x48\" type=\"image/x-icon\"/>\n",
       "<link href=\"https://s2.wp.com/i/webclip.png\" rel=\"apple-touch-icon\"/>\n",
       "<link href=\"https://sparkkorea.com/osd.xml\" rel=\"search\" title=\"스파크 코리아\" type=\"application/opensearchdescription+xml\"/>\n",
       "<link href=\"https://s1.wp.com/opensearch.xml\" rel=\"search\" title=\"WordPress.com\" type=\"application/opensearchdescription+xml\"/>\n",
       "<meta content=\"스파크 코리아\" name=\"application-name\"/><meta content=\"width=device-width;height=device-height\" name=\"msapplication-window\"/><meta content=\"스파크코리아 자료공유\" name=\"msapplication-tooltip\"/><meta content=\"name=구독;action-uri=https://sparkkorea.com/feed/;icon-uri=https://s1.wp.com/i/favicon.ico\" name=\"msapplication-task\"/><meta content=\"name=무료 블로그 등록;action-uri=http://wordpress.com/signup/;icon-uri=https://s1.wp.com/i/favicon.ico\" name=\"msapplication-task\"/><meta content=\"name=WordPress.com 지원;action-uri=http://support.wordpress.com/;icon-uri=https://s1.wp.com/i/favicon.ico\" name=\"msapplication-task\"/><meta content=\"name=WordPress.com 포럼;action-uri=http://forums.wordpress.com/;icon-uri=https://s1.wp.com/i/favicon.ico\" name=\"msapplication-task\"/><meta content=\"메인 설문 준비중 Spark 퀴즈 6/13 Spark 심화과정 6/13 Spark 기본과정 6/18 Spark [MAP_FILTER] 6/18 Spark GroupBy 심화 6/25 Spark RDD 실전 분석 6/27 Spark RDD 실전 분석2\" name=\"description\"/>\n",
       "</link></link></meta></meta></head>\n",
       "<body class=\"page-template-default page page-id-102 wp-embed-responsive customizer-styles-applied is-singular no-js highlander-enabled highlander-light\">\n",
       "<div class=\"hfeed site\" id=\"page\">\n",
       "<a class=\"skip-link screen-reader-text\" href=\"#content\">컨텐츠로 건너뛰기</a>\n",
       "<header class=\"site-header\" id=\"masthead\" role=\"banner\">\n",
       "<div class=\"site-branding\">\n",
       "<h1 class=\"site-title\">\n",
       "<a href=\"https://sparkkorea.com/\" rel=\"home\">\n",
       "\t\t\t\t\t스파크 코리아\t\t\t\t</a>\n",
       "</h1>\n",
       "<p class=\"site-description\">스파크코리아 자료공유</p>\n",
       "</div><!-- .site-branding -->\n",
       "<nav class=\"main-navigation\" id=\"site-navigation\" role=\"navigation\">\n",
       "<button aria-controls=\"primary-menu\" aria-expanded=\"false\" class=\"menu-toggle\">메뉴</button>\n",
       "<div class=\"primary-menu\"><ul class=\"menu\" id=\"primary-menu\"><li class=\"menu-item menu-item-type-post_type menu-item-object-page menu-item-27\" id=\"menu-item-27\"><a href=\"https://sparkkorea.com/%ec%9e%90%eb%a3%8c%ec%8b%a4/\">자료실</a></li>\n",
       "<li class=\"menu-item menu-item-type-post_type menu-item-object-page current-menu-item page_item page-item-102 current_page_item menu-item-382\" id=\"menu-item-382\"><a aria-current=\"page\" href=\"https://sparkkorea.com/%ed%80%b4%ec%a6%88/\">퀴즈</a></li>\n",
       "<li class=\"menu-item menu-item-type-post_type menu-item-object-page menu-item-264\" id=\"menu-item-264\"><a href=\"https://sparkkorea.com/%ec%84%a4%eb%ac%b8-2/\">설문s</a></li>\n",
       "<li class=\"menu-item menu-item-type-post_type menu-item-object-page menu-item-383\" id=\"menu-item-383\"><a href=\"https://sparkkorea.com/%ed%85%8c%ec%8a%a4%ed%8a%b8/\">테스트</a></li>\n",
       "<li class=\"menu-item menu-item-type-post_type menu-item-object-page menu-item-397\" id=\"menu-item-397\"><a href=\"https://sparkkorea.com/%ec%84%a4%eb%ac%b8/\">학생퀴즈</a></li>\n",
       "</ul></div> </nav>\n",
       "</header><!-- #masthead -->\n",
       "<div class=\"site-inner\">\n",
       "<div class=\"site-content\" id=\"content\">\n",
       "<main class=\"content-area\" id=\"primary\" role=\"main\">\n",
       "<article class=\"post-102 page type-page status-publish hentry\" id=\"post-102\">\n",
       "<div class=\"entry-inner\">\n",
       "<header class=\"entry-header\">\n",
       "<h1 class=\"entry-title\">퀴즈</h1> </header><!-- .entry-header -->\n",
       "<div class=\"entry-content\">\n",
       "<div class=\"class_general_main\" id=\"id_general_main\">\n",
       "<h1> 메인 </h1>\n",
       "<a href=\"#\"> 설문 준비중 </a>\n",
       "<p></p>\n",
       "</div>\n",
       "<div class=\"class_spark_quiz\" id=\"id_spark_quiz\">\n",
       "<h1>Spark 퀴즈 </h1>\n",
       "<a href=\"https://forms.gle/Fw49w9GhWQChDcZm7\"> 6/13 Spark 심화과정 </a>\n",
       "<p></p>\n",
       "<a href=\"https://forms.gle/G4TcXm3fKuHLHA6D6\"> 6/13 Spark 기본과정 </a>\n",
       "<p></p>\n",
       "<a href=\"https://forms.gle/M8gr1kC2ubA3UDVp8\"> 6/18 Spark [MAP_FILTER] </a>\n",
       "<p></p>\n",
       "<a href=\"https://forms.gle/h8w5mZ4MNaPLCPbi6\"> 6/18 Spark GroupBy 심화 </a>\n",
       "<p></p>\n",
       "<a href=\"https://forms.gle/q5yL6QHfueDLM5w27\"> 6/25 Spark RDD 실전 분석 </a>\n",
       "<p></p>\n",
       "<a href=\"https://forms.gle/Gxb4y6LfVYiaLu4M7\"> 6/27 Spark RDD 실전 분석2 </a>\n",
       "<p></p>\n",
       "</div>\n",
       "<div class=\"sharedaddy sd-like-enabled sd-sharing-enabled\" id=\"jp-post-flair\"><div class=\"sharedaddy sd-sharing-enabled\"><div class=\"robots-nocontent sd-block sd-social sd-social-icon-text sd-sharing\"><h3 class=\"sd-title\">이 글 공유하기:</h3><div class=\"sd-content\"><ul><li class=\"share-twitter\"><a class=\"share-twitter sd-button share-icon\" data-shared=\"sharing-twitter-102\" href=\"https://sparkkorea.com/%ed%80%b4%ec%a6%88/?share=twitter\" rel=\"nofollow noopener noreferrer\" target=\"_blank\" title=\"트위터로 공유하기\"><span>트위터</span></a></li><li class=\"share-facebook\"><a class=\"share-facebook sd-button share-icon\" data-shared=\"sharing-facebook-102\" href=\"https://sparkkorea.com/%ed%80%b4%ec%a6%88/?share=facebook\" rel=\"nofollow noopener noreferrer\" target=\"_blank\" title=\"페이스북에 공유하려면 클릭하세요.\"><span>Facebook</span></a></li><li class=\"share-end\"></li></ul></div></div></div><div class=\"sharedaddy sd-block sd-like jetpack-likes-widget-wrapper jetpack-likes-widget-unloaded\" data-name=\"like-post-frame-163927570-102-641c208dcfda7\" data-src=\"//widgets.wp.com/likes/index.html?ver=20230309#blog_id=163927570&amp;post_id=102&amp;origin=sparkkorea.wordpress.com&amp;obj_id=163927570-102-641c208dcfda7&amp;domain=sparkkorea.com\" data-title=\"좋아요 또는 리블로깅\" id=\"like-post-wrapper-163927570-102-641c208dcfda7\"><h3 class=\"sd-title\">이것이 좋아요:</h3><div class=\"likes-widget-placeholder post-likes-widget-placeholder\" style=\"height: 55px;\"><span class=\"button\"><span>좋아하기</span></span> <span class=\"loading\">가져오는 중...</span></div><span class=\"sd-text-color\"></span><a class=\"sd-link-color\"></a></div></div> </div><!-- .entry-content -->\n",
       "</div><!-- .entry-inner -->\n",
       "</article><!-- #post-## -->\n",
       "</main><!-- #main -->\n",
       "</div><!-- #content -->\n",
       "<footer class=\"site-footer\" id=\"colophon\" role=\"contentinfo\">\n",
       "<div class=\"footer-bottom-info\">\n",
       "<div class=\"site-info\">\n",
       "<a href=\"https://wordpress.com/?ref=footer_segment_business\" rel=\"nofollow\">워드프레스닷컴 웹사이트.</a>\n",
       "</div><!-- .site-info -->\n",
       "</div><!-- .footer-bottom-info -->\n",
       "</footer><!-- #colophon -->\n",
       "</div><!-- .site-inner -->\n",
       "</div><!-- #page -->\n",
       "<!-- -->\n",
       "<script id=\"grofiles-cards-js\" src=\"//0.gravatar.com/js/gprofiles.js?ver=202312z\"></script>\n",
       "<script id=\"wpgroho-js-extra\">\n",
       "var WPGroHo = {\"my_hash\":\"\"};\n",
       "</script>\n",
       "<script crossorigin=\"anonymous\" src=\"https://s1.wp.com/wp-content/mu-plugins/gravatar-hovercards/wpgroho.js?m=1610363240h\" type=\"text/javascript\"></script>\n",
       "<script>\n",
       "\t\t// Initialize and attach hovercards to all gravatars\n",
       "\t\t( function() {\n",
       "\t\t\tfunction init() {\n",
       "\t\t\t\tif ( typeof Gravatar === 'undefined' ) {\n",
       "\t\t\t\t\treturn;\n",
       "\t\t\t\t}\n",
       "\n",
       "\t\t\t\tif ( typeof Gravatar.init !== 'function' ) {\n",
       "\t\t\t\t\treturn;\n",
       "\t\t\t\t}\n",
       "\n",
       "\t\t\t\tGravatar.profile_cb = function ( hash, id ) {\n",
       "\t\t\t\t\tWPGroHo.syncProfileData( hash, id );\n",
       "\t\t\t\t};\n",
       "\n",
       "\t\t\t\tGravatar.my_hash = WPGroHo.my_hash;\n",
       "\t\t\t\tGravatar.init( 'body', '#wp-admin-bar-my-account' );\n",
       "\t\t\t}\n",
       "\n",
       "\t\t\tif ( document.readyState !== 'loading' ) {\n",
       "\t\t\t\tinit();\n",
       "\t\t\t} else {\n",
       "\t\t\t\tdocument.addEventListener( 'DOMContentLoaded', init );\n",
       "\t\t\t}\n",
       "\t\t} )();\n",
       "\t</script>\n",
       "<div style=\"display:none\">\n",
       "</div>\n",
       "<div class=\"actnbr-pub-dyad-2 actnbr-has-follow\" id=\"actionbar\" style=\"display: none;\">\n",
       "<ul>\n",
       "<li class=\"actnbr-ellipsis actnbr-hidden\">\n",
       "<svg class=\"gridicon gridicons-ellipsis\" height=\"24\" viewbox=\"0 0 24 24\" width=\"24\" xmlns=\"http://www.w3.org/2000/svg\"><g><path d=\"M7 12c0 1.104-.896 2-2 2s-2-.896-2-2 .896-2 2-2 2 .896 2 2zm12-2c-1.104 0-2 .896-2 2s.896 2 2 2 2-.896 2-2-.896-2-2-2zm-7 0c-1.104 0-2 .896-2 2s.896 2 2 2 2-.896 2-2-.896-2-2-2z\"></path></g></svg> <div class=\"actnbr-popover tip tip-top-left actnbr-more\">\n",
       "<div class=\"tip-arrow\"></div>\n",
       "<div class=\"tip-inner\">\n",
       "<ul>\n",
       "<li class=\"actnbr-sitename\">\n",
       "<a href=\"https://sparkkorea.com\">\n",
       "<img alt=\"\" class=\"avatar avatar-50\" height=\"50\" src=\"https://s2.wp.com/i/logo/wpcom-gray-white.png\" width=\"50\"/>\t\t\t\t스파크 코리아\t\t\t</a>\n",
       "</li>\n",
       "<li class=\"actnbr-folded-customize\">\n",
       "<a href=\"https://sparkkorea.wordpress.com/wp-admin/customize.php?url=https%3A%2F%2Fsparkkorea.wordpress.com%2F%25ED%2580%25B4%25EC%25A6%2588%2F\">\n",
       "<svg class=\"gridicon gridicons-customize\" height=\"20\" viewbox=\"0 0 24 24\" width=\"20\" xmlns=\"http://www.w3.org/2000/svg\"><g><path d=\"M2 6c0-1.505.78-3.08 2-4 0 .845.69 2 2 2 1.657 0 3 1.343 3 3 0 .386-.08.752-.212 1.09.74.594 1.476 1.19 2.19 1.81L8.9 11.98c-.62-.716-1.214-1.454-1.807-2.192C6.753 9.92 6.387 10 6 10c-2.21 0-4-1.79-4-4zm12.152 6.848l1.34-1.34c.607.304 1.283.492 2.008.492 2.485 0 4.5-2.015 4.5-4.5 0-.725-.188-1.4-.493-2.007L18 9l-2-2 3.507-3.507C18.9 3.188 18.225 3 17.5 3 15.015 3 13 5.015 13 7.5c0 .725.188 1.4.493 2.007L3 20l2 2 6.848-6.848c1.885 1.928 3.874 3.753 5.977 5.45l1.425 1.148 1.5-1.5-1.15-1.425c-1.695-2.103-3.52-4.092-5.448-5.977z\"></path></g></svg> <span>사용자 정의하기</span>\n",
       "</a>\n",
       "</li>\n",
       "<li class=\"actnbr-signup\"><a href=\"https://wordpress.com/start/\">가입</a></li>\n",
       "<li class=\"actnbr-login\"><a href=\"https://wordpress.com/log-in?redirect_to=https%3A%2F%2Fr-login.wordpress.com%2Fremote-login.php%3Faction%3Dlink%26back%3Dhttps%253A%252F%252Fsparkkorea.com%252F%2525ed%252580%2525b4%2525ec%2525a6%252588%252F\">로그인</a></li>\n",
       "<li class=\"actnbr-shortlink\"><a href=\"https://wp.me/Pb5P34-1E\">단축 링크 복사</a></li>\n",
       "<li class=\"flb-report\"><a href=\"http://en.wordpress.com/abuse/\">이 콘텐츠 신고하기</a></li>\n",
       "<li class=\"actnbr-subs\">\n",
       "<a href=\"https://subscribe.wordpress.com/\">구독 관리</a>\n",
       "</li>\n",
       "</ul>\n",
       "</div>\n",
       "</div>\n",
       "</li>\n",
       "</ul>\n",
       "</div>\n",
       "<script>\n",
       "window.addEventListener( \"load\", function( event ) {\n",
       "\tvar link = document.createElement( \"link\" );\n",
       "\tlink.href = \"https://s0.wp.com/wp-content/mu-plugins/actionbar/actionbar.css?v=20210915\";\n",
       "\tlink.type = \"text/css\";\n",
       "\tlink.rel = \"stylesheet\";\n",
       "\tdocument.head.appendChild( link );\n",
       "\n",
       "\tvar script = document.createElement( \"script\" );\n",
       "\tscript.src = \"https://s0.wp.com/wp-content/mu-plugins/actionbar/actionbar.js?v=20220329\";\n",
       "\tscript.defer = true;\n",
       "\tdocument.body.appendChild( script );\n",
       "} );\n",
       "</script>\n",
       "<script type=\"text/javascript\">\n",
       "\t\twindow.WPCOM_sharing_counts = {\"https:\\/\\/sparkkorea.com\\/%ed%80%b4%ec%a6%88\\/\":102};\n",
       "\t</script>\n",
       "<script id=\"comment-like-js-extra\">\n",
       "var comment_like_text = {\"loading\":\"\\uac00\\uc838\\uc624\\ub294 \\uc911...\",\"swipeUrl\":\"https:\\/\\/s2.wp.com\\/wp-content\\/mu-plugins\\/comment-likes\\/js\\/lib\\/swipe.js?ver=20131008\"};\n",
       "</script>\n",
       "<script id=\"sharing-js-js-extra\">\n",
       "var sharing_js_options = {\"lang\":\"en\",\"counts\":\"1\",\"is_stats_active\":\"1\"};\n",
       "</script>\n",
       "<script crossorigin=\"anonymous\" src=\"https://s2.wp.com/_static/??-eJyNUO1OwzAMfCEya0xi4wfiUZAbe63bxAn5GPTtSdmEqoEq/vnj7nw++IjGBi2sBcYMxBexHD93Y36A1cpXE13tRTM4mTjDe+XKAyo5ThtgG7xvI3MljXeDe2IZ2DdYrB3QjGQeF4biRXosEvRf8DxJbOo6mXOwNZuz/Dwjal2lqw/x2HN2AYlp50X/wnjMQdO8Xm+e7l3o0G2kgdSkTIdpkS6cWmVKQjv9SmJFGrnEBrn1EFOgapc44K2Zha6KI8gDJiYkmr9L0f7m+tW/7J+Op8Pp+XjYj18kXrbD\" type=\"text/javascript\"></script>\n",
       "<script type=\"text/javascript\">\n",
       "var windowOpen;\n",
       "\t\t\t( function () {\n",
       "\t\t\t\tfunction matches( el, sel ) {\n",
       "\t\t\t\t\treturn !! (\n",
       "\t\t\t\t\t\tel.matches && el.matches( sel ) ||\n",
       "\t\t\t\t\t\tel.msMatchesSelector && el.msMatchesSelector( sel )\n",
       "\t\t\t\t\t);\n",
       "\t\t\t\t}\n",
       "\n",
       "\t\t\t\tdocument.body.addEventListener( 'click', function ( event ) {\n",
       "\t\t\t\t\tif ( ! event.target ) {\n",
       "\t\t\t\t\t\treturn;\n",
       "\t\t\t\t\t}\n",
       "\n",
       "\t\t\t\t\tvar el;\n",
       "\t\t\t\t\tif ( matches( event.target, 'a.share-twitter' ) ) {\n",
       "\t\t\t\t\t\tel = event.target;\n",
       "\t\t\t\t\t} else if ( event.target.parentNode && matches( event.target.parentNode, 'a.share-twitter' ) ) {\n",
       "\t\t\t\t\t\tel = event.target.parentNode;\n",
       "\t\t\t\t\t}\n",
       "\n",
       "\t\t\t\t\tif ( el ) {\n",
       "\t\t\t\t\t\tevent.preventDefault();\n",
       "\n",
       "\t\t\t\t\t\t// If there's another sharing window open, close it.\n",
       "\t\t\t\t\t\tif ( typeof windowOpen !== 'undefined' ) {\n",
       "\t\t\t\t\t\t\twindowOpen.close();\n",
       "\t\t\t\t\t\t}\n",
       "\t\t\t\t\t\twindowOpen = window.open( el.getAttribute( 'href' ), 'wpcomtwitter', 'menubar=1,resizable=1,width=600,height=350' );\n",
       "\t\t\t\t\t\treturn false;\n",
       "\t\t\t\t\t}\n",
       "\t\t\t\t} );\n",
       "\t\t\t} )();\n",
       "var windowOpen;\n",
       "\t\t\t( function () {\n",
       "\t\t\t\tfunction matches( el, sel ) {\n",
       "\t\t\t\t\treturn !! (\n",
       "\t\t\t\t\t\tel.matches && el.matches( sel ) ||\n",
       "\t\t\t\t\t\tel.msMatchesSelector && el.msMatchesSelector( sel )\n",
       "\t\t\t\t\t);\n",
       "\t\t\t\t}\n",
       "\n",
       "\t\t\t\tdocument.body.addEventListener( 'click', function ( event ) {\n",
       "\t\t\t\t\tif ( ! event.target ) {\n",
       "\t\t\t\t\t\treturn;\n",
       "\t\t\t\t\t}\n",
       "\n",
       "\t\t\t\t\tvar el;\n",
       "\t\t\t\t\tif ( matches( event.target, 'a.share-facebook' ) ) {\n",
       "\t\t\t\t\t\tel = event.target;\n",
       "\t\t\t\t\t} else if ( event.target.parentNode && matches( event.target.parentNode, 'a.share-facebook' ) ) {\n",
       "\t\t\t\t\t\tel = event.target.parentNode;\n",
       "\t\t\t\t\t}\n",
       "\n",
       "\t\t\t\t\tif ( el ) {\n",
       "\t\t\t\t\t\tevent.preventDefault();\n",
       "\n",
       "\t\t\t\t\t\t// If there's another sharing window open, close it.\n",
       "\t\t\t\t\t\tif ( typeof windowOpen !== 'undefined' ) {\n",
       "\t\t\t\t\t\t\twindowOpen.close();\n",
       "\t\t\t\t\t\t}\n",
       "\t\t\t\t\t\twindowOpen = window.open( el.getAttribute( 'href' ), 'wpcomfacebook', 'menubar=1,resizable=1,width=600,height=400' );\n",
       "\t\t\t\t\t\treturn false;\n",
       "\t\t\t\t\t}\n",
       "\t\t\t\t} );\n",
       "\t\t\t} )();\n",
       "</script>\n",
       "<script type=\"text/javascript\">\n",
       "// <![CDATA[\n",
       "(function() {\n",
       "try{\n",
       "  if ( window.external &&'msIsSiteMode' in window.external) {\n",
       "    if (window.external.msIsSiteMode()) {\n",
       "      var jl = document.createElement('script');\n",
       "      jl.type='text/javascript';\n",
       "      jl.async=true;\n",
       "      jl.src='/wp-content/plugins/ie-sitemode/custom-jumplist.php';\n",
       "      var s = document.getElementsByTagName('script')[0];\n",
       "      s.parentNode.insertBefore(jl, s);\n",
       "    }\n",
       "  }\n",
       "}catch(e){}\n",
       "})();\n",
       "// ]]>\n",
       "</script> <iframe id=\"likes-master\" name=\"likes-master\" scrolling=\"no\" src=\"https://widgets.wp.com/likes/master.html?ver=20230309#ver=20230309&amp;lang=ko&amp;lang_ver=1629891228&amp;origin=https://sparkkorea.com\" style=\"display:none;\"></iframe>\n",
       "<div id=\"likes-other-gravatars\">\n",
       "<div class=\"likes-text\">\n",
       "<span>%d</span> 블로거가 이것을 좋아합니다:\t\t</div>\n",
       "<ul class=\"wpl-avatars sd-like-gravatars\"></ul>\n",
       "</div>\n",
       "<script defer=\"\" src=\"//stats.wp.com/w.js?63\"></script> <script type=\"text/javascript\">\n",
       "_tkq = window._tkq || [];\n",
       "_stq = window._stq || [];\n",
       "_tkq.push(['storeContext', {'blog_id':'163927570','blog_tz':'9','user_lang':'ko','blog_lang':'ko','user_id':'0'}]);\n",
       "_stq.push(['view', {'blog':'163927570','v':'wpcom','tz':'9','user_id':'0','post':'102','subd':'sparkkorea'}]);\n",
       "_stq.push(['extra', {'crypt':'UE40eW5QN0p8M2Y/RE1mNzc2NTVTamdsd0xoLz9RQkM2K298TXY9bERQMXc2MjhEaVZfb2wwakRoSj0mUkp1THptM1NdbkV1WjZIcU9mVWQmPUIvMlN6Jk8wW3NYVEJ3dWZOWExuWD8xeVkmK0dUTXo0Y2Zla35pLTE0dlY2QWxQL01fUWNOQUp6Ui1sbnctaHA1W3JNX1ZKel1BfkIvcFA1PVZhVXR+eFVVRjFZXTI1RmZ6TEhSbTE9ZHZ4VzJlPVVfMDcucy1VRzBnTltORHRneFQvdUomNyZ5RVhma3JtfGlPX1V+dF9HMHBEbjRnQzQ1N3BjOWxMLXBEX0ovY0k2Z0lmXXBqLD9wTHQ='}]);\n",
       "_stq.push([ 'clickTrackerInit', '163927570', '102' ]);\n",
       "\t</script>\n",
       "<noscript><img alt=\"\" src=\"https://pixel.wp.com/b.gif?v=noscript\" style=\"height:1px;width:1px;overflow:hidden;position:absolute;bottom:1px;\"/></noscript>\n",
       "<script>\n",
       "if ( 'object' === typeof wpcom_mobile_user_agent_info ) {\n",
       "\n",
       "\twpcom_mobile_user_agent_info.init();\n",
       "\tvar mobileStatsQueryString = \"\";\n",
       "\t\n",
       "\tif( false !== wpcom_mobile_user_agent_info.matchedPlatformName )\n",
       "\t\tmobileStatsQueryString += \"&x_\" + 'mobile_platforms' + '=' + wpcom_mobile_user_agent_info.matchedPlatformName;\n",
       "\t\n",
       "\tif( false !== wpcom_mobile_user_agent_info.matchedUserAgentName )\n",
       "\t\tmobileStatsQueryString += \"&x_\" + 'mobile_devices' + '=' + wpcom_mobile_user_agent_info.matchedUserAgentName;\n",
       "\t\n",
       "\tif( wpcom_mobile_user_agent_info.isIPad() )\n",
       "\t\tmobileStatsQueryString += \"&x_\" + 'ipad_views' + '=' + 'views';\n",
       "\n",
       "\tif( \"\" != mobileStatsQueryString ) {\n",
       "\t\tnew Image().src = document.location.protocol + '//pixel.wp.com/g.gif?v=wpcom-no-pv' + mobileStatsQueryString + '&baba=' + Math.random();\n",
       "\t}\n",
       "\t\n",
       "}\n",
       "</script>\n",
       "</body>\n",
       "</html>"
      ]
     },
     "execution_count": 10,
     "metadata": {},
     "output_type": "execute_result"
    }
   ],
   "source": [
    "htmlObj"
   ]
  },
  {
   "cell_type": "markdown",
   "id": "08466fc4-b599-47c1-9ff8-30c93240feef",
   "metadata": {
    "tags": []
   },
   "source": [
    "2. 태그정보 수집하기"
   ]
  },
  {
   "cell_type": "code",
   "execution_count": 18,
   "id": "6bdd78b6-c5b1-44f6-9749-d5a26bc29289",
   "metadata": {
    "tags": []
   },
   "outputs": [],
   "source": [
    "import pandas as pd"
   ]
  },
  {
   "cell_type": "code",
   "execution_count": 20,
   "id": "0ff1acd2-b941-41d1-8a95-a4cbef88b990",
   "metadata": {
    "tags": []
   },
   "outputs": [],
   "source": [
    "divs1 = htmlObj.find(name=\"a\")  #\"a\"가 들어가있는 한개만 가져온다."
   ]
  },
  {
   "cell_type": "code",
   "execution_count": 21,
   "id": "35b0eb28-26ea-4d6d-932a-543332c63f54",
   "metadata": {
    "tags": []
   },
   "outputs": [
    {
     "name": "stdout",
     "output_type": "stream",
     "text": [
      "<a class=\"skip-link screen-reader-text\" href=\"#content\">컨텐츠로 건너뛰기</a>\n"
     ]
    }
   ],
   "source": [
    "print(divs1)"
   ]
  },
  {
   "cell_type": "code",
   "execution_count": 22,
   "id": "7be63634-0f90-40e0-8585-76ce9e1e8352",
   "metadata": {},
   "outputs": [],
   "source": [
    "divs = htmlObj.findAll(name=\"div\")  #\"div\"가 들어가있는 모두를 가져온다."
   ]
  },
  {
   "cell_type": "code",
   "execution_count": 14,
   "id": "2ddb64ac-2ca6-4edf-849d-3907e97aadf3",
   "metadata": {
    "collapsed": true,
    "jupyter": {
     "outputs_hidden": true
    },
    "tags": []
   },
   "outputs": [
    {
     "data": {
      "text/plain": [
       "[<div class=\"hfeed site\" id=\"page\">\n",
       " <a class=\"skip-link screen-reader-text\" href=\"#content\">컨텐츠로 건너뛰기</a>\n",
       " <header class=\"site-header\" id=\"masthead\" role=\"banner\">\n",
       " <div class=\"site-branding\">\n",
       " <h1 class=\"site-title\">\n",
       " <a href=\"https://sparkkorea.com/\" rel=\"home\">\n",
       " \t\t\t\t\t스파크 코리아\t\t\t\t</a>\n",
       " </h1>\n",
       " <p class=\"site-description\">스파크코리아 자료공유</p>\n",
       " </div><!-- .site-branding -->\n",
       " <nav class=\"main-navigation\" id=\"site-navigation\" role=\"navigation\">\n",
       " <button aria-controls=\"primary-menu\" aria-expanded=\"false\" class=\"menu-toggle\">메뉴</button>\n",
       " <div class=\"primary-menu\"><ul class=\"menu\" id=\"primary-menu\"><li class=\"menu-item menu-item-type-post_type menu-item-object-page menu-item-27\" id=\"menu-item-27\"><a href=\"https://sparkkorea.com/%ec%9e%90%eb%a3%8c%ec%8b%a4/\">자료실</a></li>\n",
       " <li class=\"menu-item menu-item-type-post_type menu-item-object-page current-menu-item page_item page-item-102 current_page_item menu-item-382\" id=\"menu-item-382\"><a aria-current=\"page\" href=\"https://sparkkorea.com/%ed%80%b4%ec%a6%88/\">퀴즈</a></li>\n",
       " <li class=\"menu-item menu-item-type-post_type menu-item-object-page menu-item-264\" id=\"menu-item-264\"><a href=\"https://sparkkorea.com/%ec%84%a4%eb%ac%b8-2/\">설문s</a></li>\n",
       " <li class=\"menu-item menu-item-type-post_type menu-item-object-page menu-item-383\" id=\"menu-item-383\"><a href=\"https://sparkkorea.com/%ed%85%8c%ec%8a%a4%ed%8a%b8/\">테스트</a></li>\n",
       " <li class=\"menu-item menu-item-type-post_type menu-item-object-page menu-item-397\" id=\"menu-item-397\"><a href=\"https://sparkkorea.com/%ec%84%a4%eb%ac%b8/\">학생퀴즈</a></li>\n",
       " </ul></div> </nav>\n",
       " </header><!-- #masthead -->\n",
       " <div class=\"site-inner\">\n",
       " <div class=\"site-content\" id=\"content\">\n",
       " <main class=\"content-area\" id=\"primary\" role=\"main\">\n",
       " <article class=\"post-102 page type-page status-publish hentry\" id=\"post-102\">\n",
       " <div class=\"entry-inner\">\n",
       " <header class=\"entry-header\">\n",
       " <h1 class=\"entry-title\">퀴즈</h1> </header><!-- .entry-header -->\n",
       " <div class=\"entry-content\">\n",
       " <div class=\"class_general_main\" id=\"id_general_main\">\n",
       " <h1> 메인 </h1>\n",
       " <a href=\"#\"> 설문 준비중 </a>\n",
       " <p></p>\n",
       " </div>\n",
       " <div class=\"class_spark_quiz\" id=\"id_spark_quiz\">\n",
       " <h1>Spark 퀴즈 </h1>\n",
       " <a href=\"https://forms.gle/Fw49w9GhWQChDcZm7\"> 6/13 Spark 심화과정 </a>\n",
       " <p></p>\n",
       " <a href=\"https://forms.gle/G4TcXm3fKuHLHA6D6\"> 6/13 Spark 기본과정 </a>\n",
       " <p></p>\n",
       " <a href=\"https://forms.gle/M8gr1kC2ubA3UDVp8\"> 6/18 Spark [MAP_FILTER] </a>\n",
       " <p></p>\n",
       " <a href=\"https://forms.gle/h8w5mZ4MNaPLCPbi6\"> 6/18 Spark GroupBy 심화 </a>\n",
       " <p></p>\n",
       " <a href=\"https://forms.gle/q5yL6QHfueDLM5w27\"> 6/25 Spark RDD 실전 분석 </a>\n",
       " <p></p>\n",
       " <a href=\"https://forms.gle/Gxb4y6LfVYiaLu4M7\"> 6/27 Spark RDD 실전 분석2 </a>\n",
       " <p></p>\n",
       " </div>\n",
       " <div class=\"sharedaddy sd-like-enabled sd-sharing-enabled\" id=\"jp-post-flair\"><div class=\"sharedaddy sd-sharing-enabled\"><div class=\"robots-nocontent sd-block sd-social sd-social-icon-text sd-sharing\"><h3 class=\"sd-title\">이 글 공유하기:</h3><div class=\"sd-content\"><ul><li class=\"share-twitter\"><a class=\"share-twitter sd-button share-icon\" data-shared=\"sharing-twitter-102\" href=\"https://sparkkorea.com/%ed%80%b4%ec%a6%88/?share=twitter\" rel=\"nofollow noopener noreferrer\" target=\"_blank\" title=\"트위터로 공유하기\"><span>트위터</span></a></li><li class=\"share-facebook\"><a class=\"share-facebook sd-button share-icon\" data-shared=\"sharing-facebook-102\" href=\"https://sparkkorea.com/%ed%80%b4%ec%a6%88/?share=facebook\" rel=\"nofollow noopener noreferrer\" target=\"_blank\" title=\"페이스북에 공유하려면 클릭하세요.\"><span>Facebook</span></a></li><li class=\"share-end\"></li></ul></div></div></div><div class=\"sharedaddy sd-block sd-like jetpack-likes-widget-wrapper jetpack-likes-widget-unloaded\" data-name=\"like-post-frame-163927570-102-641c21efde759\" data-src=\"//widgets.wp.com/likes/index.html?ver=20230309#blog_id=163927570&amp;post_id=102&amp;origin=sparkkorea.wordpress.com&amp;obj_id=163927570-102-641c21efde759&amp;domain=sparkkorea.com\" data-title=\"좋아요 또는 리블로깅\" id=\"like-post-wrapper-163927570-102-641c21efde759\"><h3 class=\"sd-title\">이것이 좋아요:</h3><div class=\"likes-widget-placeholder post-likes-widget-placeholder\" style=\"height: 55px;\"><span class=\"button\"><span>좋아하기</span></span> <span class=\"loading\">가져오는 중...</span></div><span class=\"sd-text-color\"></span><a class=\"sd-link-color\"></a></div></div> </div><!-- .entry-content -->\n",
       " </div><!-- .entry-inner -->\n",
       " </article><!-- #post-## -->\n",
       " </main><!-- #main -->\n",
       " </div><!-- #content -->\n",
       " <footer class=\"site-footer\" id=\"colophon\" role=\"contentinfo\">\n",
       " <div class=\"footer-bottom-info\">\n",
       " <div class=\"site-info\">\n",
       " <a href=\"https://wordpress.com/?ref=footer_segment_business\" rel=\"nofollow\">워드프레스닷컴 웹사이트.</a>\n",
       " </div><!-- .site-info -->\n",
       " </div><!-- .footer-bottom-info -->\n",
       " </footer><!-- #colophon -->\n",
       " </div><!-- .site-inner -->\n",
       " </div>,\n",
       " <div class=\"site-branding\">\n",
       " <h1 class=\"site-title\">\n",
       " <a href=\"https://sparkkorea.com/\" rel=\"home\">\n",
       " \t\t\t\t\t스파크 코리아\t\t\t\t</a>\n",
       " </h1>\n",
       " <p class=\"site-description\">스파크코리아 자료공유</p>\n",
       " </div>,\n",
       " <div class=\"primary-menu\"><ul class=\"menu\" id=\"primary-menu\"><li class=\"menu-item menu-item-type-post_type menu-item-object-page menu-item-27\" id=\"menu-item-27\"><a href=\"https://sparkkorea.com/%ec%9e%90%eb%a3%8c%ec%8b%a4/\">자료실</a></li>\n",
       " <li class=\"menu-item menu-item-type-post_type menu-item-object-page current-menu-item page_item page-item-102 current_page_item menu-item-382\" id=\"menu-item-382\"><a aria-current=\"page\" href=\"https://sparkkorea.com/%ed%80%b4%ec%a6%88/\">퀴즈</a></li>\n",
       " <li class=\"menu-item menu-item-type-post_type menu-item-object-page menu-item-264\" id=\"menu-item-264\"><a href=\"https://sparkkorea.com/%ec%84%a4%eb%ac%b8-2/\">설문s</a></li>\n",
       " <li class=\"menu-item menu-item-type-post_type menu-item-object-page menu-item-383\" id=\"menu-item-383\"><a href=\"https://sparkkorea.com/%ed%85%8c%ec%8a%a4%ed%8a%b8/\">테스트</a></li>\n",
       " <li class=\"menu-item menu-item-type-post_type menu-item-object-page menu-item-397\" id=\"menu-item-397\"><a href=\"https://sparkkorea.com/%ec%84%a4%eb%ac%b8/\">학생퀴즈</a></li>\n",
       " </ul></div>,\n",
       " <div class=\"site-inner\">\n",
       " <div class=\"site-content\" id=\"content\">\n",
       " <main class=\"content-area\" id=\"primary\" role=\"main\">\n",
       " <article class=\"post-102 page type-page status-publish hentry\" id=\"post-102\">\n",
       " <div class=\"entry-inner\">\n",
       " <header class=\"entry-header\">\n",
       " <h1 class=\"entry-title\">퀴즈</h1> </header><!-- .entry-header -->\n",
       " <div class=\"entry-content\">\n",
       " <div class=\"class_general_main\" id=\"id_general_main\">\n",
       " <h1> 메인 </h1>\n",
       " <a href=\"#\"> 설문 준비중 </a>\n",
       " <p></p>\n",
       " </div>\n",
       " <div class=\"class_spark_quiz\" id=\"id_spark_quiz\">\n",
       " <h1>Spark 퀴즈 </h1>\n",
       " <a href=\"https://forms.gle/Fw49w9GhWQChDcZm7\"> 6/13 Spark 심화과정 </a>\n",
       " <p></p>\n",
       " <a href=\"https://forms.gle/G4TcXm3fKuHLHA6D6\"> 6/13 Spark 기본과정 </a>\n",
       " <p></p>\n",
       " <a href=\"https://forms.gle/M8gr1kC2ubA3UDVp8\"> 6/18 Spark [MAP_FILTER] </a>\n",
       " <p></p>\n",
       " <a href=\"https://forms.gle/h8w5mZ4MNaPLCPbi6\"> 6/18 Spark GroupBy 심화 </a>\n",
       " <p></p>\n",
       " <a href=\"https://forms.gle/q5yL6QHfueDLM5w27\"> 6/25 Spark RDD 실전 분석 </a>\n",
       " <p></p>\n",
       " <a href=\"https://forms.gle/Gxb4y6LfVYiaLu4M7\"> 6/27 Spark RDD 실전 분석2 </a>\n",
       " <p></p>\n",
       " </div>\n",
       " <div class=\"sharedaddy sd-like-enabled sd-sharing-enabled\" id=\"jp-post-flair\"><div class=\"sharedaddy sd-sharing-enabled\"><div class=\"robots-nocontent sd-block sd-social sd-social-icon-text sd-sharing\"><h3 class=\"sd-title\">이 글 공유하기:</h3><div class=\"sd-content\"><ul><li class=\"share-twitter\"><a class=\"share-twitter sd-button share-icon\" data-shared=\"sharing-twitter-102\" href=\"https://sparkkorea.com/%ed%80%b4%ec%a6%88/?share=twitter\" rel=\"nofollow noopener noreferrer\" target=\"_blank\" title=\"트위터로 공유하기\"><span>트위터</span></a></li><li class=\"share-facebook\"><a class=\"share-facebook sd-button share-icon\" data-shared=\"sharing-facebook-102\" href=\"https://sparkkorea.com/%ed%80%b4%ec%a6%88/?share=facebook\" rel=\"nofollow noopener noreferrer\" target=\"_blank\" title=\"페이스북에 공유하려면 클릭하세요.\"><span>Facebook</span></a></li><li class=\"share-end\"></li></ul></div></div></div><div class=\"sharedaddy sd-block sd-like jetpack-likes-widget-wrapper jetpack-likes-widget-unloaded\" data-name=\"like-post-frame-163927570-102-641c21efde759\" data-src=\"//widgets.wp.com/likes/index.html?ver=20230309#blog_id=163927570&amp;post_id=102&amp;origin=sparkkorea.wordpress.com&amp;obj_id=163927570-102-641c21efde759&amp;domain=sparkkorea.com\" data-title=\"좋아요 또는 리블로깅\" id=\"like-post-wrapper-163927570-102-641c21efde759\"><h3 class=\"sd-title\">이것이 좋아요:</h3><div class=\"likes-widget-placeholder post-likes-widget-placeholder\" style=\"height: 55px;\"><span class=\"button\"><span>좋아하기</span></span> <span class=\"loading\">가져오는 중...</span></div><span class=\"sd-text-color\"></span><a class=\"sd-link-color\"></a></div></div> </div><!-- .entry-content -->\n",
       " </div><!-- .entry-inner -->\n",
       " </article><!-- #post-## -->\n",
       " </main><!-- #main -->\n",
       " </div><!-- #content -->\n",
       " <footer class=\"site-footer\" id=\"colophon\" role=\"contentinfo\">\n",
       " <div class=\"footer-bottom-info\">\n",
       " <div class=\"site-info\">\n",
       " <a href=\"https://wordpress.com/?ref=footer_segment_business\" rel=\"nofollow\">워드프레스닷컴 웹사이트.</a>\n",
       " </div><!-- .site-info -->\n",
       " </div><!-- .footer-bottom-info -->\n",
       " </footer><!-- #colophon -->\n",
       " </div>,\n",
       " <div class=\"site-content\" id=\"content\">\n",
       " <main class=\"content-area\" id=\"primary\" role=\"main\">\n",
       " <article class=\"post-102 page type-page status-publish hentry\" id=\"post-102\">\n",
       " <div class=\"entry-inner\">\n",
       " <header class=\"entry-header\">\n",
       " <h1 class=\"entry-title\">퀴즈</h1> </header><!-- .entry-header -->\n",
       " <div class=\"entry-content\">\n",
       " <div class=\"class_general_main\" id=\"id_general_main\">\n",
       " <h1> 메인 </h1>\n",
       " <a href=\"#\"> 설문 준비중 </a>\n",
       " <p></p>\n",
       " </div>\n",
       " <div class=\"class_spark_quiz\" id=\"id_spark_quiz\">\n",
       " <h1>Spark 퀴즈 </h1>\n",
       " <a href=\"https://forms.gle/Fw49w9GhWQChDcZm7\"> 6/13 Spark 심화과정 </a>\n",
       " <p></p>\n",
       " <a href=\"https://forms.gle/G4TcXm3fKuHLHA6D6\"> 6/13 Spark 기본과정 </a>\n",
       " <p></p>\n",
       " <a href=\"https://forms.gle/M8gr1kC2ubA3UDVp8\"> 6/18 Spark [MAP_FILTER] </a>\n",
       " <p></p>\n",
       " <a href=\"https://forms.gle/h8w5mZ4MNaPLCPbi6\"> 6/18 Spark GroupBy 심화 </a>\n",
       " <p></p>\n",
       " <a href=\"https://forms.gle/q5yL6QHfueDLM5w27\"> 6/25 Spark RDD 실전 분석 </a>\n",
       " <p></p>\n",
       " <a href=\"https://forms.gle/Gxb4y6LfVYiaLu4M7\"> 6/27 Spark RDD 실전 분석2 </a>\n",
       " <p></p>\n",
       " </div>\n",
       " <div class=\"sharedaddy sd-like-enabled sd-sharing-enabled\" id=\"jp-post-flair\"><div class=\"sharedaddy sd-sharing-enabled\"><div class=\"robots-nocontent sd-block sd-social sd-social-icon-text sd-sharing\"><h3 class=\"sd-title\">이 글 공유하기:</h3><div class=\"sd-content\"><ul><li class=\"share-twitter\"><a class=\"share-twitter sd-button share-icon\" data-shared=\"sharing-twitter-102\" href=\"https://sparkkorea.com/%ed%80%b4%ec%a6%88/?share=twitter\" rel=\"nofollow noopener noreferrer\" target=\"_blank\" title=\"트위터로 공유하기\"><span>트위터</span></a></li><li class=\"share-facebook\"><a class=\"share-facebook sd-button share-icon\" data-shared=\"sharing-facebook-102\" href=\"https://sparkkorea.com/%ed%80%b4%ec%a6%88/?share=facebook\" rel=\"nofollow noopener noreferrer\" target=\"_blank\" title=\"페이스북에 공유하려면 클릭하세요.\"><span>Facebook</span></a></li><li class=\"share-end\"></li></ul></div></div></div><div class=\"sharedaddy sd-block sd-like jetpack-likes-widget-wrapper jetpack-likes-widget-unloaded\" data-name=\"like-post-frame-163927570-102-641c21efde759\" data-src=\"//widgets.wp.com/likes/index.html?ver=20230309#blog_id=163927570&amp;post_id=102&amp;origin=sparkkorea.wordpress.com&amp;obj_id=163927570-102-641c21efde759&amp;domain=sparkkorea.com\" data-title=\"좋아요 또는 리블로깅\" id=\"like-post-wrapper-163927570-102-641c21efde759\"><h3 class=\"sd-title\">이것이 좋아요:</h3><div class=\"likes-widget-placeholder post-likes-widget-placeholder\" style=\"height: 55px;\"><span class=\"button\"><span>좋아하기</span></span> <span class=\"loading\">가져오는 중...</span></div><span class=\"sd-text-color\"></span><a class=\"sd-link-color\"></a></div></div> </div><!-- .entry-content -->\n",
       " </div><!-- .entry-inner -->\n",
       " </article><!-- #post-## -->\n",
       " </main><!-- #main -->\n",
       " </div>,\n",
       " <div class=\"entry-inner\">\n",
       " <header class=\"entry-header\">\n",
       " <h1 class=\"entry-title\">퀴즈</h1> </header><!-- .entry-header -->\n",
       " <div class=\"entry-content\">\n",
       " <div class=\"class_general_main\" id=\"id_general_main\">\n",
       " <h1> 메인 </h1>\n",
       " <a href=\"#\"> 설문 준비중 </a>\n",
       " <p></p>\n",
       " </div>\n",
       " <div class=\"class_spark_quiz\" id=\"id_spark_quiz\">\n",
       " <h1>Spark 퀴즈 </h1>\n",
       " <a href=\"https://forms.gle/Fw49w9GhWQChDcZm7\"> 6/13 Spark 심화과정 </a>\n",
       " <p></p>\n",
       " <a href=\"https://forms.gle/G4TcXm3fKuHLHA6D6\"> 6/13 Spark 기본과정 </a>\n",
       " <p></p>\n",
       " <a href=\"https://forms.gle/M8gr1kC2ubA3UDVp8\"> 6/18 Spark [MAP_FILTER] </a>\n",
       " <p></p>\n",
       " <a href=\"https://forms.gle/h8w5mZ4MNaPLCPbi6\"> 6/18 Spark GroupBy 심화 </a>\n",
       " <p></p>\n",
       " <a href=\"https://forms.gle/q5yL6QHfueDLM5w27\"> 6/25 Spark RDD 실전 분석 </a>\n",
       " <p></p>\n",
       " <a href=\"https://forms.gle/Gxb4y6LfVYiaLu4M7\"> 6/27 Spark RDD 실전 분석2 </a>\n",
       " <p></p>\n",
       " </div>\n",
       " <div class=\"sharedaddy sd-like-enabled sd-sharing-enabled\" id=\"jp-post-flair\"><div class=\"sharedaddy sd-sharing-enabled\"><div class=\"robots-nocontent sd-block sd-social sd-social-icon-text sd-sharing\"><h3 class=\"sd-title\">이 글 공유하기:</h3><div class=\"sd-content\"><ul><li class=\"share-twitter\"><a class=\"share-twitter sd-button share-icon\" data-shared=\"sharing-twitter-102\" href=\"https://sparkkorea.com/%ed%80%b4%ec%a6%88/?share=twitter\" rel=\"nofollow noopener noreferrer\" target=\"_blank\" title=\"트위터로 공유하기\"><span>트위터</span></a></li><li class=\"share-facebook\"><a class=\"share-facebook sd-button share-icon\" data-shared=\"sharing-facebook-102\" href=\"https://sparkkorea.com/%ed%80%b4%ec%a6%88/?share=facebook\" rel=\"nofollow noopener noreferrer\" target=\"_blank\" title=\"페이스북에 공유하려면 클릭하세요.\"><span>Facebook</span></a></li><li class=\"share-end\"></li></ul></div></div></div><div class=\"sharedaddy sd-block sd-like jetpack-likes-widget-wrapper jetpack-likes-widget-unloaded\" data-name=\"like-post-frame-163927570-102-641c21efde759\" data-src=\"//widgets.wp.com/likes/index.html?ver=20230309#blog_id=163927570&amp;post_id=102&amp;origin=sparkkorea.wordpress.com&amp;obj_id=163927570-102-641c21efde759&amp;domain=sparkkorea.com\" data-title=\"좋아요 또는 리블로깅\" id=\"like-post-wrapper-163927570-102-641c21efde759\"><h3 class=\"sd-title\">이것이 좋아요:</h3><div class=\"likes-widget-placeholder post-likes-widget-placeholder\" style=\"height: 55px;\"><span class=\"button\"><span>좋아하기</span></span> <span class=\"loading\">가져오는 중...</span></div><span class=\"sd-text-color\"></span><a class=\"sd-link-color\"></a></div></div> </div><!-- .entry-content -->\n",
       " </div>,\n",
       " <div class=\"entry-content\">\n",
       " <div class=\"class_general_main\" id=\"id_general_main\">\n",
       " <h1> 메인 </h1>\n",
       " <a href=\"#\"> 설문 준비중 </a>\n",
       " <p></p>\n",
       " </div>\n",
       " <div class=\"class_spark_quiz\" id=\"id_spark_quiz\">\n",
       " <h1>Spark 퀴즈 </h1>\n",
       " <a href=\"https://forms.gle/Fw49w9GhWQChDcZm7\"> 6/13 Spark 심화과정 </a>\n",
       " <p></p>\n",
       " <a href=\"https://forms.gle/G4TcXm3fKuHLHA6D6\"> 6/13 Spark 기본과정 </a>\n",
       " <p></p>\n",
       " <a href=\"https://forms.gle/M8gr1kC2ubA3UDVp8\"> 6/18 Spark [MAP_FILTER] </a>\n",
       " <p></p>\n",
       " <a href=\"https://forms.gle/h8w5mZ4MNaPLCPbi6\"> 6/18 Spark GroupBy 심화 </a>\n",
       " <p></p>\n",
       " <a href=\"https://forms.gle/q5yL6QHfueDLM5w27\"> 6/25 Spark RDD 실전 분석 </a>\n",
       " <p></p>\n",
       " <a href=\"https://forms.gle/Gxb4y6LfVYiaLu4M7\"> 6/27 Spark RDD 실전 분석2 </a>\n",
       " <p></p>\n",
       " </div>\n",
       " <div class=\"sharedaddy sd-like-enabled sd-sharing-enabled\" id=\"jp-post-flair\"><div class=\"sharedaddy sd-sharing-enabled\"><div class=\"robots-nocontent sd-block sd-social sd-social-icon-text sd-sharing\"><h3 class=\"sd-title\">이 글 공유하기:</h3><div class=\"sd-content\"><ul><li class=\"share-twitter\"><a class=\"share-twitter sd-button share-icon\" data-shared=\"sharing-twitter-102\" href=\"https://sparkkorea.com/%ed%80%b4%ec%a6%88/?share=twitter\" rel=\"nofollow noopener noreferrer\" target=\"_blank\" title=\"트위터로 공유하기\"><span>트위터</span></a></li><li class=\"share-facebook\"><a class=\"share-facebook sd-button share-icon\" data-shared=\"sharing-facebook-102\" href=\"https://sparkkorea.com/%ed%80%b4%ec%a6%88/?share=facebook\" rel=\"nofollow noopener noreferrer\" target=\"_blank\" title=\"페이스북에 공유하려면 클릭하세요.\"><span>Facebook</span></a></li><li class=\"share-end\"></li></ul></div></div></div><div class=\"sharedaddy sd-block sd-like jetpack-likes-widget-wrapper jetpack-likes-widget-unloaded\" data-name=\"like-post-frame-163927570-102-641c21efde759\" data-src=\"//widgets.wp.com/likes/index.html?ver=20230309#blog_id=163927570&amp;post_id=102&amp;origin=sparkkorea.wordpress.com&amp;obj_id=163927570-102-641c21efde759&amp;domain=sparkkorea.com\" data-title=\"좋아요 또는 리블로깅\" id=\"like-post-wrapper-163927570-102-641c21efde759\"><h3 class=\"sd-title\">이것이 좋아요:</h3><div class=\"likes-widget-placeholder post-likes-widget-placeholder\" style=\"height: 55px;\"><span class=\"button\"><span>좋아하기</span></span> <span class=\"loading\">가져오는 중...</span></div><span class=\"sd-text-color\"></span><a class=\"sd-link-color\"></a></div></div> </div>,\n",
       " <div class=\"class_general_main\" id=\"id_general_main\">\n",
       " <h1> 메인 </h1>\n",
       " <a href=\"#\"> 설문 준비중 </a>\n",
       " <p></p>\n",
       " </div>,\n",
       " <div class=\"class_spark_quiz\" id=\"id_spark_quiz\">\n",
       " <h1>Spark 퀴즈 </h1>\n",
       " <a href=\"https://forms.gle/Fw49w9GhWQChDcZm7\"> 6/13 Spark 심화과정 </a>\n",
       " <p></p>\n",
       " <a href=\"https://forms.gle/G4TcXm3fKuHLHA6D6\"> 6/13 Spark 기본과정 </a>\n",
       " <p></p>\n",
       " <a href=\"https://forms.gle/M8gr1kC2ubA3UDVp8\"> 6/18 Spark [MAP_FILTER] </a>\n",
       " <p></p>\n",
       " <a href=\"https://forms.gle/h8w5mZ4MNaPLCPbi6\"> 6/18 Spark GroupBy 심화 </a>\n",
       " <p></p>\n",
       " <a href=\"https://forms.gle/q5yL6QHfueDLM5w27\"> 6/25 Spark RDD 실전 분석 </a>\n",
       " <p></p>\n",
       " <a href=\"https://forms.gle/Gxb4y6LfVYiaLu4M7\"> 6/27 Spark RDD 실전 분석2 </a>\n",
       " <p></p>\n",
       " </div>,\n",
       " <div class=\"sharedaddy sd-like-enabled sd-sharing-enabled\" id=\"jp-post-flair\"><div class=\"sharedaddy sd-sharing-enabled\"><div class=\"robots-nocontent sd-block sd-social sd-social-icon-text sd-sharing\"><h3 class=\"sd-title\">이 글 공유하기:</h3><div class=\"sd-content\"><ul><li class=\"share-twitter\"><a class=\"share-twitter sd-button share-icon\" data-shared=\"sharing-twitter-102\" href=\"https://sparkkorea.com/%ed%80%b4%ec%a6%88/?share=twitter\" rel=\"nofollow noopener noreferrer\" target=\"_blank\" title=\"트위터로 공유하기\"><span>트위터</span></a></li><li class=\"share-facebook\"><a class=\"share-facebook sd-button share-icon\" data-shared=\"sharing-facebook-102\" href=\"https://sparkkorea.com/%ed%80%b4%ec%a6%88/?share=facebook\" rel=\"nofollow noopener noreferrer\" target=\"_blank\" title=\"페이스북에 공유하려면 클릭하세요.\"><span>Facebook</span></a></li><li class=\"share-end\"></li></ul></div></div></div><div class=\"sharedaddy sd-block sd-like jetpack-likes-widget-wrapper jetpack-likes-widget-unloaded\" data-name=\"like-post-frame-163927570-102-641c21efde759\" data-src=\"//widgets.wp.com/likes/index.html?ver=20230309#blog_id=163927570&amp;post_id=102&amp;origin=sparkkorea.wordpress.com&amp;obj_id=163927570-102-641c21efde759&amp;domain=sparkkorea.com\" data-title=\"좋아요 또는 리블로깅\" id=\"like-post-wrapper-163927570-102-641c21efde759\"><h3 class=\"sd-title\">이것이 좋아요:</h3><div class=\"likes-widget-placeholder post-likes-widget-placeholder\" style=\"height: 55px;\"><span class=\"button\"><span>좋아하기</span></span> <span class=\"loading\">가져오는 중...</span></div><span class=\"sd-text-color\"></span><a class=\"sd-link-color\"></a></div></div>,\n",
       " <div class=\"sharedaddy sd-sharing-enabled\"><div class=\"robots-nocontent sd-block sd-social sd-social-icon-text sd-sharing\"><h3 class=\"sd-title\">이 글 공유하기:</h3><div class=\"sd-content\"><ul><li class=\"share-twitter\"><a class=\"share-twitter sd-button share-icon\" data-shared=\"sharing-twitter-102\" href=\"https://sparkkorea.com/%ed%80%b4%ec%a6%88/?share=twitter\" rel=\"nofollow noopener noreferrer\" target=\"_blank\" title=\"트위터로 공유하기\"><span>트위터</span></a></li><li class=\"share-facebook\"><a class=\"share-facebook sd-button share-icon\" data-shared=\"sharing-facebook-102\" href=\"https://sparkkorea.com/%ed%80%b4%ec%a6%88/?share=facebook\" rel=\"nofollow noopener noreferrer\" target=\"_blank\" title=\"페이스북에 공유하려면 클릭하세요.\"><span>Facebook</span></a></li><li class=\"share-end\"></li></ul></div></div></div>,\n",
       " <div class=\"robots-nocontent sd-block sd-social sd-social-icon-text sd-sharing\"><h3 class=\"sd-title\">이 글 공유하기:</h3><div class=\"sd-content\"><ul><li class=\"share-twitter\"><a class=\"share-twitter sd-button share-icon\" data-shared=\"sharing-twitter-102\" href=\"https://sparkkorea.com/%ed%80%b4%ec%a6%88/?share=twitter\" rel=\"nofollow noopener noreferrer\" target=\"_blank\" title=\"트위터로 공유하기\"><span>트위터</span></a></li><li class=\"share-facebook\"><a class=\"share-facebook sd-button share-icon\" data-shared=\"sharing-facebook-102\" href=\"https://sparkkorea.com/%ed%80%b4%ec%a6%88/?share=facebook\" rel=\"nofollow noopener noreferrer\" target=\"_blank\" title=\"페이스북에 공유하려면 클릭하세요.\"><span>Facebook</span></a></li><li class=\"share-end\"></li></ul></div></div>,\n",
       " <div class=\"sd-content\"><ul><li class=\"share-twitter\"><a class=\"share-twitter sd-button share-icon\" data-shared=\"sharing-twitter-102\" href=\"https://sparkkorea.com/%ed%80%b4%ec%a6%88/?share=twitter\" rel=\"nofollow noopener noreferrer\" target=\"_blank\" title=\"트위터로 공유하기\"><span>트위터</span></a></li><li class=\"share-facebook\"><a class=\"share-facebook sd-button share-icon\" data-shared=\"sharing-facebook-102\" href=\"https://sparkkorea.com/%ed%80%b4%ec%a6%88/?share=facebook\" rel=\"nofollow noopener noreferrer\" target=\"_blank\" title=\"페이스북에 공유하려면 클릭하세요.\"><span>Facebook</span></a></li><li class=\"share-end\"></li></ul></div>,\n",
       " <div class=\"sharedaddy sd-block sd-like jetpack-likes-widget-wrapper jetpack-likes-widget-unloaded\" data-name=\"like-post-frame-163927570-102-641c21efde759\" data-src=\"//widgets.wp.com/likes/index.html?ver=20230309#blog_id=163927570&amp;post_id=102&amp;origin=sparkkorea.wordpress.com&amp;obj_id=163927570-102-641c21efde759&amp;domain=sparkkorea.com\" data-title=\"좋아요 또는 리블로깅\" id=\"like-post-wrapper-163927570-102-641c21efde759\"><h3 class=\"sd-title\">이것이 좋아요:</h3><div class=\"likes-widget-placeholder post-likes-widget-placeholder\" style=\"height: 55px;\"><span class=\"button\"><span>좋아하기</span></span> <span class=\"loading\">가져오는 중...</span></div><span class=\"sd-text-color\"></span><a class=\"sd-link-color\"></a></div>,\n",
       " <div class=\"likes-widget-placeholder post-likes-widget-placeholder\" style=\"height: 55px;\"><span class=\"button\"><span>좋아하기</span></span> <span class=\"loading\">가져오는 중...</span></div>,\n",
       " <div class=\"footer-bottom-info\">\n",
       " <div class=\"site-info\">\n",
       " <a href=\"https://wordpress.com/?ref=footer_segment_business\" rel=\"nofollow\">워드프레스닷컴 웹사이트.</a>\n",
       " </div><!-- .site-info -->\n",
       " </div>,\n",
       " <div class=\"site-info\">\n",
       " <a href=\"https://wordpress.com/?ref=footer_segment_business\" rel=\"nofollow\">워드프레스닷컴 웹사이트.</a>\n",
       " </div>,\n",
       " <div style=\"display:none\">\n",
       " </div>,\n",
       " <div class=\"actnbr-pub-dyad-2 actnbr-has-follow\" id=\"actionbar\" style=\"display: none;\">\n",
       " <ul>\n",
       " <li class=\"actnbr-ellipsis actnbr-hidden\">\n",
       " <svg class=\"gridicon gridicons-ellipsis\" height=\"24\" viewbox=\"0 0 24 24\" width=\"24\" xmlns=\"http://www.w3.org/2000/svg\"><g><path d=\"M7 12c0 1.104-.896 2-2 2s-2-.896-2-2 .896-2 2-2 2 .896 2 2zm12-2c-1.104 0-2 .896-2 2s.896 2 2 2 2-.896 2-2-.896-2-2-2zm-7 0c-1.104 0-2 .896-2 2s.896 2 2 2 2-.896 2-2-.896-2-2-2z\"></path></g></svg> <div class=\"actnbr-popover tip tip-top-left actnbr-more\">\n",
       " <div class=\"tip-arrow\"></div>\n",
       " <div class=\"tip-inner\">\n",
       " <ul>\n",
       " <li class=\"actnbr-sitename\">\n",
       " <a href=\"https://sparkkorea.com\">\n",
       " <img alt=\"\" class=\"avatar avatar-50\" height=\"50\" src=\"https://s2.wp.com/i/logo/wpcom-gray-white.png\" width=\"50\"/>\t\t\t\t스파크 코리아\t\t\t</a>\n",
       " </li>\n",
       " <li class=\"actnbr-folded-customize\">\n",
       " <a href=\"https://sparkkorea.wordpress.com/wp-admin/customize.php?url=https%3A%2F%2Fsparkkorea.wordpress.com%2F%25ED%2580%25B4%25EC%25A6%2588%2F\">\n",
       " <svg class=\"gridicon gridicons-customize\" height=\"20\" viewbox=\"0 0 24 24\" width=\"20\" xmlns=\"http://www.w3.org/2000/svg\"><g><path d=\"M2 6c0-1.505.78-3.08 2-4 0 .845.69 2 2 2 1.657 0 3 1.343 3 3 0 .386-.08.752-.212 1.09.74.594 1.476 1.19 2.19 1.81L8.9 11.98c-.62-.716-1.214-1.454-1.807-2.192C6.753 9.92 6.387 10 6 10c-2.21 0-4-1.79-4-4zm12.152 6.848l1.34-1.34c.607.304 1.283.492 2.008.492 2.485 0 4.5-2.015 4.5-4.5 0-.725-.188-1.4-.493-2.007L18 9l-2-2 3.507-3.507C18.9 3.188 18.225 3 17.5 3 15.015 3 13 5.015 13 7.5c0 .725.188 1.4.493 2.007L3 20l2 2 6.848-6.848c1.885 1.928 3.874 3.753 5.977 5.45l1.425 1.148 1.5-1.5-1.15-1.425c-1.695-2.103-3.52-4.092-5.448-5.977z\"></path></g></svg> <span>사용자 정의하기</span>\n",
       " </a>\n",
       " </li>\n",
       " <li class=\"actnbr-signup\"><a href=\"https://wordpress.com/start/\">가입</a></li>\n",
       " <li class=\"actnbr-login\"><a href=\"https://wordpress.com/log-in?redirect_to=https%3A%2F%2Fr-login.wordpress.com%2Fremote-login.php%3Faction%3Dlink%26back%3Dhttps%253A%252F%252Fsparkkorea.com%252F%2525ed%252580%2525b4%2525ec%2525a6%252588%252F\">로그인</a></li>\n",
       " <li class=\"actnbr-shortlink\"><a href=\"https://wp.me/Pb5P34-1E\">단축 링크 복사</a></li>\n",
       " <li class=\"flb-report\"><a href=\"http://en.wordpress.com/abuse/\">이 콘텐츠 신고하기</a></li>\n",
       " <li class=\"actnbr-subs\">\n",
       " <a href=\"https://subscribe.wordpress.com/\">구독 관리</a>\n",
       " </li>\n",
       " </ul>\n",
       " </div>\n",
       " </div>\n",
       " </li>\n",
       " </ul>\n",
       " </div>,\n",
       " <div class=\"actnbr-popover tip tip-top-left actnbr-more\">\n",
       " <div class=\"tip-arrow\"></div>\n",
       " <div class=\"tip-inner\">\n",
       " <ul>\n",
       " <li class=\"actnbr-sitename\">\n",
       " <a href=\"https://sparkkorea.com\">\n",
       " <img alt=\"\" class=\"avatar avatar-50\" height=\"50\" src=\"https://s2.wp.com/i/logo/wpcom-gray-white.png\" width=\"50\"/>\t\t\t\t스파크 코리아\t\t\t</a>\n",
       " </li>\n",
       " <li class=\"actnbr-folded-customize\">\n",
       " <a href=\"https://sparkkorea.wordpress.com/wp-admin/customize.php?url=https%3A%2F%2Fsparkkorea.wordpress.com%2F%25ED%2580%25B4%25EC%25A6%2588%2F\">\n",
       " <svg class=\"gridicon gridicons-customize\" height=\"20\" viewbox=\"0 0 24 24\" width=\"20\" xmlns=\"http://www.w3.org/2000/svg\"><g><path d=\"M2 6c0-1.505.78-3.08 2-4 0 .845.69 2 2 2 1.657 0 3 1.343 3 3 0 .386-.08.752-.212 1.09.74.594 1.476 1.19 2.19 1.81L8.9 11.98c-.62-.716-1.214-1.454-1.807-2.192C6.753 9.92 6.387 10 6 10c-2.21 0-4-1.79-4-4zm12.152 6.848l1.34-1.34c.607.304 1.283.492 2.008.492 2.485 0 4.5-2.015 4.5-4.5 0-.725-.188-1.4-.493-2.007L18 9l-2-2 3.507-3.507C18.9 3.188 18.225 3 17.5 3 15.015 3 13 5.015 13 7.5c0 .725.188 1.4.493 2.007L3 20l2 2 6.848-6.848c1.885 1.928 3.874 3.753 5.977 5.45l1.425 1.148 1.5-1.5-1.15-1.425c-1.695-2.103-3.52-4.092-5.448-5.977z\"></path></g></svg> <span>사용자 정의하기</span>\n",
       " </a>\n",
       " </li>\n",
       " <li class=\"actnbr-signup\"><a href=\"https://wordpress.com/start/\">가입</a></li>\n",
       " <li class=\"actnbr-login\"><a href=\"https://wordpress.com/log-in?redirect_to=https%3A%2F%2Fr-login.wordpress.com%2Fremote-login.php%3Faction%3Dlink%26back%3Dhttps%253A%252F%252Fsparkkorea.com%252F%2525ed%252580%2525b4%2525ec%2525a6%252588%252F\">로그인</a></li>\n",
       " <li class=\"actnbr-shortlink\"><a href=\"https://wp.me/Pb5P34-1E\">단축 링크 복사</a></li>\n",
       " <li class=\"flb-report\"><a href=\"http://en.wordpress.com/abuse/\">이 콘텐츠 신고하기</a></li>\n",
       " <li class=\"actnbr-subs\">\n",
       " <a href=\"https://subscribe.wordpress.com/\">구독 관리</a>\n",
       " </li>\n",
       " </ul>\n",
       " </div>\n",
       " </div>,\n",
       " <div class=\"tip-arrow\"></div>,\n",
       " <div class=\"tip-inner\">\n",
       " <ul>\n",
       " <li class=\"actnbr-sitename\">\n",
       " <a href=\"https://sparkkorea.com\">\n",
       " <img alt=\"\" class=\"avatar avatar-50\" height=\"50\" src=\"https://s2.wp.com/i/logo/wpcom-gray-white.png\" width=\"50\"/>\t\t\t\t스파크 코리아\t\t\t</a>\n",
       " </li>\n",
       " <li class=\"actnbr-folded-customize\">\n",
       " <a href=\"https://sparkkorea.wordpress.com/wp-admin/customize.php?url=https%3A%2F%2Fsparkkorea.wordpress.com%2F%25ED%2580%25B4%25EC%25A6%2588%2F\">\n",
       " <svg class=\"gridicon gridicons-customize\" height=\"20\" viewbox=\"0 0 24 24\" width=\"20\" xmlns=\"http://www.w3.org/2000/svg\"><g><path d=\"M2 6c0-1.505.78-3.08 2-4 0 .845.69 2 2 2 1.657 0 3 1.343 3 3 0 .386-.08.752-.212 1.09.74.594 1.476 1.19 2.19 1.81L8.9 11.98c-.62-.716-1.214-1.454-1.807-2.192C6.753 9.92 6.387 10 6 10c-2.21 0-4-1.79-4-4zm12.152 6.848l1.34-1.34c.607.304 1.283.492 2.008.492 2.485 0 4.5-2.015 4.5-4.5 0-.725-.188-1.4-.493-2.007L18 9l-2-2 3.507-3.507C18.9 3.188 18.225 3 17.5 3 15.015 3 13 5.015 13 7.5c0 .725.188 1.4.493 2.007L3 20l2 2 6.848-6.848c1.885 1.928 3.874 3.753 5.977 5.45l1.425 1.148 1.5-1.5-1.15-1.425c-1.695-2.103-3.52-4.092-5.448-5.977z\"></path></g></svg> <span>사용자 정의하기</span>\n",
       " </a>\n",
       " </li>\n",
       " <li class=\"actnbr-signup\"><a href=\"https://wordpress.com/start/\">가입</a></li>\n",
       " <li class=\"actnbr-login\"><a href=\"https://wordpress.com/log-in?redirect_to=https%3A%2F%2Fr-login.wordpress.com%2Fremote-login.php%3Faction%3Dlink%26back%3Dhttps%253A%252F%252Fsparkkorea.com%252F%2525ed%252580%2525b4%2525ec%2525a6%252588%252F\">로그인</a></li>\n",
       " <li class=\"actnbr-shortlink\"><a href=\"https://wp.me/Pb5P34-1E\">단축 링크 복사</a></li>\n",
       " <li class=\"flb-report\"><a href=\"http://en.wordpress.com/abuse/\">이 콘텐츠 신고하기</a></li>\n",
       " <li class=\"actnbr-subs\">\n",
       " <a href=\"https://subscribe.wordpress.com/\">구독 관리</a>\n",
       " </li>\n",
       " </ul>\n",
       " </div>,\n",
       " <div id=\"likes-other-gravatars\">\n",
       " <div class=\"likes-text\">\n",
       " <span>%d</span> 블로거가 이것을 좋아합니다:\t\t</div>\n",
       " <ul class=\"wpl-avatars sd-like-gravatars\"></ul>\n",
       " </div>,\n",
       " <div class=\"likes-text\">\n",
       " <span>%d</span> 블로거가 이것을 좋아합니다:\t\t</div>]"
      ]
     },
     "execution_count": 14,
     "metadata": {},
     "output_type": "execute_result"
    }
   ],
   "source": [
    "divs"
   ]
  },
  {
   "cell_type": "code",
   "execution_count": 23,
   "id": "63424ad0-74f3-47dc-a801-576e018fcf67",
   "metadata": {
    "tags": []
   },
   "outputs": [
    {
     "data": {
      "text/plain": [
       "24"
      ]
     },
     "execution_count": 23,
     "metadata": {},
     "output_type": "execute_result"
    }
   ],
   "source": [
    "len(divs)"
   ]
  },
  {
   "cell_type": "code",
   "execution_count": 24,
   "id": "59e26eba-6cc9-4e96-850d-a5d3116e500c",
   "metadata": {},
   "outputs": [
    {
     "data": {
      "text/plain": [
       "bs4.element.ResultSet"
      ]
     },
     "execution_count": 24,
     "metadata": {},
     "output_type": "execute_result"
    }
   ],
   "source": [
    "type(divs)"
   ]
  },
  {
   "cell_type": "code",
   "execution_count": 25,
   "id": "6fbc89a2-41e4-4df2-894c-3e41ee2f6952",
   "metadata": {},
   "outputs": [],
   "source": [
    "aTag =[]"
   ]
  },
  {
   "cell_type": "code",
   "execution_count": 26,
   "id": "84575456-5ea9-402a-85ba-574ab2b417da",
   "metadata": {
    "tags": []
   },
   "outputs": [],
   "source": [
    "for i in range(0, len(aTag)):\n",
    "    try:\n",
    "        linkList.append(aTag[i].attrs[\"href\"]) #\"href\"라는 속성값을 linkList에 추가한다.\n",
    "    except Exception as e:\n",
    "        print(e)        "
   ]
  },
  {
   "cell_type": "code",
   "execution_count": 29,
   "id": "88fec15d-9009-413d-a2d2-b7f753b18437",
   "metadata": {},
   "outputs": [],
   "source": [
    "aTag = htmlObj.find(name = \"a\")"
   ]
  },
  {
   "cell_type": "code",
   "execution_count": 30,
   "id": "e117e225-d5e8-4310-b103-347c42cea1c9",
   "metadata": {},
   "outputs": [
    {
     "data": {
      "text/plain": [
       "<a class=\"skip-link screen-reader-text\" href=\"#content\">컨텐츠로 건너뛰기</a>"
      ]
     },
     "execution_count": 30,
     "metadata": {},
     "output_type": "execute_result"
    }
   ],
   "source": [
    "aTag"
   ]
  },
  {
   "cell_type": "code",
   "execution_count": 31,
   "id": "5073bf6f-1d33-48f6-8810-e06abd94f2f9",
   "metadata": {},
   "outputs": [
    {
     "data": {
      "text/plain": [
       "'#content'"
      ]
     },
     "execution_count": 31,
     "metadata": {},
     "output_type": "execute_result"
    }
   ],
   "source": [
    "aTag.attrs[\"href\"]"
   ]
  },
  {
   "cell_type": "code",
   "execution_count": 32,
   "id": "1610caf4-8e51-4137-ba0d-60e4943f2d16",
   "metadata": {},
   "outputs": [
    {
     "data": {
      "text/plain": [
       "'컨텐츠로 건너뛰기'"
      ]
     },
     "execution_count": 32,
     "metadata": {},
     "output_type": "execute_result"
    }
   ],
   "source": [
    "aTag.text"
   ]
  },
  {
   "cell_type": "markdown",
   "id": "4c12e2f2-77b0-4bf4-a660-9309e8211b77",
   "metadata": {},
   "source": [
    "# 3. 속성값을 활용해서 태그정보를 수집하자!"
   ]
  },
  {
   "cell_type": "code",
   "execution_count": 23,
   "id": "52490bfd-1e69-42b5-b831-be1fc4eb536c",
   "metadata": {
    "tags": []
   },
   "outputs": [
    {
     "data": {
      "text/plain": [
       "{'ID': 'ID_SPARK_QUIZ'}"
      ]
     },
     "execution_count": 23,
     "metadata": {},
     "output_type": "execute_result"
    }
   ],
   "source": [
    "#딕셔너리(KEY, VALUE)타입\n",
    "{\"ID\":\"ID_SPARK_QUIZ\"}"
   ]
  },
  {
   "cell_type": "code",
   "execution_count": 34,
   "id": "9616c7c1-e3dc-4fb5-a43e-3c6f3b33bbae",
   "metadata": {},
   "outputs": [],
   "source": [
    "testDict = {\"address\":\"seoul\",\n",
    "            \"name\":\"haiteam\"}"
   ]
  },
  {
   "cell_type": "code",
   "execution_count": 35,
   "id": "6fe28486-3086-474f-a48e-cb50a77e31f6",
   "metadata": {},
   "outputs": [
    {
     "data": {
      "text/plain": [
       "'seoul'"
      ]
     },
     "execution_count": 35,
     "metadata": {},
     "output_type": "execute_result"
    }
   ],
   "source": [
    "testDict[\"address\"]"
   ]
  },
  {
   "cell_type": "code",
   "execution_count": 36,
   "id": "f5162bfd-ad9b-4ff1-af24-a76e5af1624e",
   "metadata": {
    "tags": []
   },
   "outputs": [],
   "source": [
    "targetDiv = htmlObj.find(name=\"div\",attrs={\"id\":\"id_spark_quiz\"}) # div 중에서 id : id_spark_quiz인것을 찾는다."
   ]
  },
  {
   "cell_type": "code",
   "execution_count": 37,
   "id": "48038747-2dff-42dd-be6d-e03cd86ce9cc",
   "metadata": {
    "tags": []
   },
   "outputs": [
    {
     "data": {
      "text/plain": [
       "<div class=\"class_spark_quiz\" id=\"id_spark_quiz\">\n",
       "<h1>Spark 퀴즈 </h1>\n",
       "<a href=\"https://forms.gle/Fw49w9GhWQChDcZm7\"> 6/13 Spark 심화과정 </a>\n",
       "<p></p>\n",
       "<a href=\"https://forms.gle/G4TcXm3fKuHLHA6D6\"> 6/13 Spark 기본과정 </a>\n",
       "<p></p>\n",
       "<a href=\"https://forms.gle/M8gr1kC2ubA3UDVp8\"> 6/18 Spark [MAP_FILTER] </a>\n",
       "<p></p>\n",
       "<a href=\"https://forms.gle/h8w5mZ4MNaPLCPbi6\"> 6/18 Spark GroupBy 심화 </a>\n",
       "<p></p>\n",
       "<a href=\"https://forms.gle/q5yL6QHfueDLM5w27\"> 6/25 Spark RDD 실전 분석 </a>\n",
       "<p></p>\n",
       "<a href=\"https://forms.gle/Gxb4y6LfVYiaLu4M7\"> 6/27 Spark RDD 실전 분석2 </a>\n",
       "<p></p>\n",
       "</div>"
      ]
     },
     "execution_count": 37,
     "metadata": {},
     "output_type": "execute_result"
    }
   ],
   "source": [
    "targetDiv"
   ]
  },
  {
   "cell_type": "code",
   "execution_count": 38,
   "id": "11f87bb2-59f5-45b3-99a1-a9a93547381f",
   "metadata": {},
   "outputs": [],
   "source": [
    "aLinks = targetDiv.findAll(name=\"a\")"
   ]
  },
  {
   "cell_type": "code",
   "execution_count": 39,
   "id": "2c1b6324-8104-4059-acd4-a9d8b2b291af",
   "metadata": {},
   "outputs": [
    {
     "data": {
      "text/plain": [
       "<a href=\"https://forms.gle/Fw49w9GhWQChDcZm7\"> 6/13 Spark 심화과정 </a>"
      ]
     },
     "execution_count": 39,
     "metadata": {},
     "output_type": "execute_result"
    }
   ],
   "source": [
    "aLinks[0]"
   ]
  },
  {
   "cell_type": "code",
   "execution_count": 40,
   "id": "f1f42e8f-1e8a-4159-b179-9686a9baa266",
   "metadata": {
    "tags": []
   },
   "outputs": [
    {
     "data": {
      "text/plain": [
       "[<a href=\"https://forms.gle/Fw49w9GhWQChDcZm7\"> 6/13 Spark 심화과정 </a>,\n",
       " <a href=\"https://forms.gle/G4TcXm3fKuHLHA6D6\"> 6/13 Spark 기본과정 </a>,\n",
       " <a href=\"https://forms.gle/M8gr1kC2ubA3UDVp8\"> 6/18 Spark [MAP_FILTER] </a>,\n",
       " <a href=\"https://forms.gle/h8w5mZ4MNaPLCPbi6\"> 6/18 Spark GroupBy 심화 </a>,\n",
       " <a href=\"https://forms.gle/q5yL6QHfueDLM5w27\"> 6/25 Spark RDD 실전 분석 </a>,\n",
       " <a href=\"https://forms.gle/Gxb4y6LfVYiaLu4M7\"> 6/27 Spark RDD 실전 분석2 </a>]"
      ]
     },
     "execution_count": 40,
     "metadata": {},
     "output_type": "execute_result"
    }
   ],
   "source": [
    "aLinks"
   ]
  },
  {
   "cell_type": "code",
   "execution_count": 41,
   "id": "48dc2b77-6bcc-4327-9e94-a28cac63bd74",
   "metadata": {
    "tags": []
   },
   "outputs": [],
   "source": [
    "aLinksLen = len(aLinks)"
   ]
  },
  {
   "cell_type": "code",
   "execution_count": 42,
   "id": "3d9eff60-7ee3-4198-9cbc-bbb1f4d73aeb",
   "metadata": {},
   "outputs": [
    {
     "data": {
      "text/plain": [
       "6"
      ]
     },
     "execution_count": 42,
     "metadata": {},
     "output_type": "execute_result"
    }
   ],
   "source": [
    "aLinksLen"
   ]
  },
  {
   "cell_type": "code",
   "execution_count": 43,
   "id": "1c1b911a-2949-462f-8c86-eec93bfefe65",
   "metadata": {},
   "outputs": [],
   "source": [
    "nameList = []\n",
    "linkList = []"
   ]
  },
  {
   "cell_type": "code",
   "execution_count": 45,
   "id": "53b386e0-c686-4799-aef1-b1e2d5926ec7",
   "metadata": {},
   "outputs": [],
   "source": [
    "for i in range(0, aLinksLen):\n",
    "    #퀴즈 이름 및 링크 정보 수집\n",
    "    quizName = aLinks[i].text\n",
    "    quizLink = aLinks[i].attrs[\"href\"]\n",
    "    #리스트에 수집한값 append\n",
    "    nameList.append(quizName)\n",
    "    linkList.append(quizLink)"
   ]
  },
  {
   "cell_type": "code",
   "execution_count": 46,
   "id": "6d0d67b6-3624-446a-92a7-308911a772f8",
   "metadata": {},
   "outputs": [
    {
     "data": {
      "text/plain": [
       "[' 6/13 Spark 심화과정 ',\n",
       " ' 6/13 Spark 기본과정 ',\n",
       " ' 6/18 Spark [MAP_FILTER] ',\n",
       " ' 6/18 Spark GroupBy 심화 ',\n",
       " ' 6/25 Spark RDD 실전 분석 ',\n",
       " ' 6/27 Spark RDD 실전 분석2 ']"
      ]
     },
     "execution_count": 46,
     "metadata": {},
     "output_type": "execute_result"
    }
   ],
   "source": [
    "nameList"
   ]
  },
  {
   "cell_type": "markdown",
   "id": "f84b1bf8-0a28-44aa-aac2-a596919304f5",
   "metadata": {
    "tags": []
   },
   "source": [
    "www.sparkkorea.com /퀴즈 내퀴즈이름/링크정보를 row별로 수집하자"
   ]
  },
  {
   "cell_type": "code",
   "execution_count": 47,
   "id": "2ec89577-8ba0-4d23-99f4-6b132638be3d",
   "metadata": {},
   "outputs": [],
   "source": [
    "rowList = []"
   ]
  },
  {
   "cell_type": "code",
   "execution_count": 48,
   "id": "add1ba47-b39a-4d82-af5a-f95f56dcf33a",
   "metadata": {},
   "outputs": [],
   "source": [
    "import pandas as pd"
   ]
  },
  {
   "cell_type": "code",
   "execution_count": 49,
   "id": "0e5049ff-3c5c-420d-8d5d-2f11550d7bea",
   "metadata": {
    "tags": []
   },
   "outputs": [
    {
     "data": {
      "text/html": [
       "<div>\n",
       "<style scoped>\n",
       "    .dataframe tbody tr th:only-of-type {\n",
       "        vertical-align: middle;\n",
       "    }\n",
       "\n",
       "    .dataframe tbody tr th {\n",
       "        vertical-align: top;\n",
       "    }\n",
       "\n",
       "    .dataframe thead th {\n",
       "        text-align: right;\n",
       "    }\n",
       "</style>\n",
       "<table border=\"1\" class=\"dataframe\">\n",
       "  <thead>\n",
       "    <tr style=\"text-align: right;\">\n",
       "      <th></th>\n",
       "      <th>0</th>\n",
       "      <th>1</th>\n",
       "    </tr>\n",
       "  </thead>\n",
       "  <tbody>\n",
       "    <tr>\n",
       "      <th>0</th>\n",
       "      <td>6/13 Spark 심화과정</td>\n",
       "      <td>https://forms.gle/Fw49w9GhWQChDcZm7</td>\n",
       "    </tr>\n",
       "    <tr>\n",
       "      <th>1</th>\n",
       "      <td>6/13 Spark 기본과정</td>\n",
       "      <td>https://forms.gle/G4TcXm3fKuHLHA6D6</td>\n",
       "    </tr>\n",
       "    <tr>\n",
       "      <th>2</th>\n",
       "      <td>6/18 Spark [MAP_FILTER]</td>\n",
       "      <td>https://forms.gle/M8gr1kC2ubA3UDVp8</td>\n",
       "    </tr>\n",
       "    <tr>\n",
       "      <th>3</th>\n",
       "      <td>6/18 Spark GroupBy 심화</td>\n",
       "      <td>https://forms.gle/h8w5mZ4MNaPLCPbi6</td>\n",
       "    </tr>\n",
       "    <tr>\n",
       "      <th>4</th>\n",
       "      <td>6/25 Spark RDD 실전 분석</td>\n",
       "      <td>https://forms.gle/q5yL6QHfueDLM5w27</td>\n",
       "    </tr>\n",
       "    <tr>\n",
       "      <th>5</th>\n",
       "      <td>6/27 Spark RDD 실전 분석2</td>\n",
       "      <td>https://forms.gle/Gxb4y6LfVYiaLu4M7</td>\n",
       "    </tr>\n",
       "  </tbody>\n",
       "</table>\n",
       "</div>"
      ],
      "text/plain": [
       "                           0                                    1\n",
       "0           6/13 Spark 심화과정   https://forms.gle/Fw49w9GhWQChDcZm7\n",
       "1           6/13 Spark 기본과정   https://forms.gle/G4TcXm3fKuHLHA6D6\n",
       "2   6/18 Spark [MAP_FILTER]   https://forms.gle/M8gr1kC2ubA3UDVp8\n",
       "3     6/18 Spark GroupBy 심화   https://forms.gle/h8w5mZ4MNaPLCPbi6\n",
       "4      6/25 Spark RDD 실전 분석   https://forms.gle/q5yL6QHfueDLM5w27\n",
       "5     6/27 Spark RDD 실전 분석2   https://forms.gle/Gxb4y6LfVYiaLu4M7"
      ]
     },
     "execution_count": 49,
     "metadata": {},
     "output_type": "execute_result"
    }
   ],
   "source": [
    "resultDf = pd.DataFrame(zip(nameList,linkList))\n",
    "resultDf"
   ]
  },
  {
   "cell_type": "code",
   "execution_count": 50,
   "id": "001851fe-0328-4393-b946-47015df71bef",
   "metadata": {},
   "outputs": [],
   "source": [
    "resultDf.columns = [\"퀴즈제목\",\"퀴즈링크\"]"
   ]
  },
  {
   "cell_type": "code",
   "execution_count": 51,
   "id": "8aaed514-425f-4077-8ce4-cd2241bbe8b5",
   "metadata": {
    "tags": []
   },
   "outputs": [
    {
     "data": {
      "text/html": [
       "<div>\n",
       "<style scoped>\n",
       "    .dataframe tbody tr th:only-of-type {\n",
       "        vertical-align: middle;\n",
       "    }\n",
       "\n",
       "    .dataframe tbody tr th {\n",
       "        vertical-align: top;\n",
       "    }\n",
       "\n",
       "    .dataframe thead th {\n",
       "        text-align: right;\n",
       "    }\n",
       "</style>\n",
       "<table border=\"1\" class=\"dataframe\">\n",
       "  <thead>\n",
       "    <tr style=\"text-align: right;\">\n",
       "      <th></th>\n",
       "      <th>퀴즈제목</th>\n",
       "      <th>퀴즈링크</th>\n",
       "    </tr>\n",
       "  </thead>\n",
       "  <tbody>\n",
       "    <tr>\n",
       "      <th>0</th>\n",
       "      <td>6/13 Spark 심화과정</td>\n",
       "      <td>https://forms.gle/Fw49w9GhWQChDcZm7</td>\n",
       "    </tr>\n",
       "    <tr>\n",
       "      <th>1</th>\n",
       "      <td>6/13 Spark 기본과정</td>\n",
       "      <td>https://forms.gle/G4TcXm3fKuHLHA6D6</td>\n",
       "    </tr>\n",
       "    <tr>\n",
       "      <th>2</th>\n",
       "      <td>6/18 Spark [MAP_FILTER]</td>\n",
       "      <td>https://forms.gle/M8gr1kC2ubA3UDVp8</td>\n",
       "    </tr>\n",
       "    <tr>\n",
       "      <th>3</th>\n",
       "      <td>6/18 Spark GroupBy 심화</td>\n",
       "      <td>https://forms.gle/h8w5mZ4MNaPLCPbi6</td>\n",
       "    </tr>\n",
       "    <tr>\n",
       "      <th>4</th>\n",
       "      <td>6/25 Spark RDD 실전 분석</td>\n",
       "      <td>https://forms.gle/q5yL6QHfueDLM5w27</td>\n",
       "    </tr>\n",
       "    <tr>\n",
       "      <th>5</th>\n",
       "      <td>6/27 Spark RDD 실전 분석2</td>\n",
       "      <td>https://forms.gle/Gxb4y6LfVYiaLu4M7</td>\n",
       "    </tr>\n",
       "  </tbody>\n",
       "</table>\n",
       "</div>"
      ],
      "text/plain": [
       "                        퀴즈제목                                 퀴즈링크\n",
       "0           6/13 Spark 심화과정   https://forms.gle/Fw49w9GhWQChDcZm7\n",
       "1           6/13 Spark 기본과정   https://forms.gle/G4TcXm3fKuHLHA6D6\n",
       "2   6/18 Spark [MAP_FILTER]   https://forms.gle/M8gr1kC2ubA3UDVp8\n",
       "3     6/18 Spark GroupBy 심화   https://forms.gle/h8w5mZ4MNaPLCPbi6\n",
       "4      6/25 Spark RDD 실전 분석   https://forms.gle/q5yL6QHfueDLM5w27\n",
       "5     6/27 Spark RDD 실전 분석2   https://forms.gle/Gxb4y6LfVYiaLu4M7"
      ]
     },
     "execution_count": 51,
     "metadata": {},
     "output_type": "execute_result"
    }
   ],
   "source": [
    "resultDf"
   ]
  },
  {
   "cell_type": "code",
   "execution_count": 52,
   "id": "6ec58c16-3c0e-41cb-8341-5db8c8cffd9b",
   "metadata": {},
   "outputs": [],
   "source": [
    "resultDf.to_csv(\"./result.csv\",encoding = \"ms949\")"
   ]
  },
  {
   "cell_type": "markdown",
   "id": "c5b5c6db-dcdf-47d0-9da3-71a86d5be508",
   "metadata": {},
   "source": [
    "#테이블 데이터 크롤링"
   ]
  },
  {
   "cell_type": "code",
   "execution_count": null,
   "id": "fea3976f-aefb-4cdd-8f74-bde79b1389da",
   "metadata": {},
   "outputs": [],
   "source": []
  }
 ],
 "metadata": {
  "kernelspec": {
   "display_name": "Python 3 (ipykernel)",
   "language": "python",
   "name": "python3"
  },
  "language_info": {
   "codemirror_mode": {
    "name": "ipython",
    "version": 3
   },
   "file_extension": ".py",
   "mimetype": "text/x-python",
   "name": "python",
   "nbconvert_exporter": "python",
   "pygments_lexer": "ipython3",
   "version": "3.9.13"
  }
 },
 "nbformat": 4,
 "nbformat_minor": 5
}
