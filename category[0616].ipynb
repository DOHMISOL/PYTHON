{
 "cells": [
  {
   "cell_type": "code",
   "execution_count": 90,
   "id": "9515363a-fb78-4411-a4cb-bfa16022820b",
   "metadata": {},
   "outputs": [],
   "source": [
    "### 필요 라이브러리 ###\n",
    "import pandas as pd\n",
    "import matplotlib.pyplot as plt\n",
    "%matplotlib inline\n",
    "import numpy as np\n",
    "from PIL import Image\n",
    "import os\n",
    "import cv2\n",
    "import mnist #이미지불러오기 가능\n",
    "from tensorflow import keras\n",
    "from tensorflow.keras.layers import Dense, Dropout,Flatten\n",
    "from tensorflow.keras.models import Sequential # 순차적으로 쌓겠다\n",
    "from tensorflow.keras.utils import to_categorical"
   ]
  },
  {
   "cell_type": "code",
   "execution_count": 91,
   "id": "8b094046-bc5a-4303-aa0a-2282592ad9bd",
   "metadata": {},
   "outputs": [],
   "source": [
    "### 실제이미지를 for문으로 특정폴더 이미지를 list에다가 하나씩 저장한다."
   ]
  },
  {
   "cell_type": "markdown",
   "id": "beb91fdc-dc5c-4364-bed1-330d32c27c8e",
   "metadata": {},
   "source": [
    "### 데이터 불러오기"
   ]
  },
  {
   "cell_type": "code",
   "execution_count": 110,
   "id": "6e1edcb4-f9d5-4c8c-a6d5-f13fd4df25e0",
   "metadata": {
    "tags": []
   },
   "outputs": [],
   "source": [
    "TRAIN_DIR = 'Car_Brand_Logos/Train'\n",
    "TEST_DIR = 'Car_Brand_Logos/Test'"
   ]
  },
  {
   "cell_type": "code",
   "execution_count": 113,
   "id": "4455cb51-9e97-440c-a822-2e2a06cf8b6f",
   "metadata": {
    "tags": []
   },
   "outputs": [],
   "source": [
    "train_folder_list = os.listdir(TRAIN_DIR)\n",
    "test_folder_list = os.listdir(TEST_DIR)"
   ]
  },
  {
   "cell_type": "code",
   "execution_count": 98,
   "id": "d7e0a0b3-5662-4bad-bbfa-a6e31ef3d474",
   "metadata": {},
   "outputs": [],
   "source": [
    "IMG_SIZE = 48\n",
    "train_images=[]\n",
    "train_labels=[]\n",
    "\n",
    "for index in range(0,len(train_folder_list)):\n",
    "    path = os.path.join(TRAIN_DIR,train_folder_list[index])\n",
    "    path = path + '/'\n",
    "    img_list = os.listdir(path)\n",
    "    for img in img_list:\n",
    "        img_path = os.path.join(path,img)\n",
    "        try:\n",
    "            img = cv2.imread(img_path, cv2.IMREAD_GRAYSCALE)\n",
    "            new_img = cv2.resize(img, (IMG_SIZE,IMG_SIZE))\n",
    "            train_images.append(new_img)\n",
    "            train_labels.append(index)\n",
    "        except:\n",
    "            pass"
   ]
  },
  {
   "cell_type": "code",
   "execution_count": 114,
   "id": "58c57a3d-0c03-429a-b7cb-79a263658569",
   "metadata": {},
   "outputs": [],
   "source": [
    "IMG_SIZE = 48\n",
    "test_images=[]\n",
    "test_labels=[]\n",
    "\n",
    "for index in range(0,len(test_folder_list)):\n",
    "    path = os.path.join(TEST_DIR,test_folder_list[index])\n",
    "    path = path + '/'\n",
    "    img_list = os.listdir(path)\n",
    "    for img in img_list:\n",
    "        img_path = os.path.join(path,img)\n",
    "        try:\n",
    "            img = cv2.imread(img_path, cv2.IMREAD_GRAYSCALE)\n",
    "            new_img = cv2.resize(img, (IMG_SIZE,IMG_SIZE))\n",
    "            test_images.append(new_img)\n",
    "            test_labels.append(index)\n",
    "        except:\n",
    "            pass"
   ]
  },
  {
   "cell_type": "code",
   "execution_count": 115,
   "id": "7432fda5-df67-4da5-ac4a-96eacdb092ef",
   "metadata": {
    "tags": []
   },
   "outputs": [],
   "source": [
    "train_images = np.array(train_images)\n",
    "train_labels = np.array(train_labels)\n",
    "test_images = np.array(test_images)\n",
    "test_labels = np.array(test_labels)"
   ]
  },
  {
   "cell_type": "code",
   "execution_count": 117,
   "id": "42af0a0e-1942-4983-8cd2-c5402026dfd1",
   "metadata": {},
   "outputs": [
    {
     "name": "stdout",
     "output_type": "stream",
     "text": [
      "(2513, 48, 48)\n",
      "(2513,)\n",
      "(400, 48, 48)\n",
      "(400,)\n"
     ]
    }
   ],
   "source": [
    "print(train_images.shape)  #48, 48 픽셀(해상도)\n",
    "print(train_labels.shape)\n",
    "print(test_images.shape)\n",
    "print(test_labels.shape)"
   ]
  },
  {
   "cell_type": "code",
   "execution_count": 119,
   "id": "8b8ce9ac-969d-4b8d-9ba0-fcad8c5151f3",
   "metadata": {},
   "outputs": [],
   "source": [
    "eachImg = pd.DataFrame( train_images[2] )"
   ]
  },
  {
   "cell_type": "code",
   "execution_count": 121,
   "id": "c5eb8a0f-eaa9-429a-968c-b4b579604e91",
   "metadata": {},
   "outputs": [],
   "source": [
    "eachImg.to_csv(\"F:/eachImg.csv\") # 해당 csv파일에서 특징들을 추출(rgb의 값)"
   ]
  },
  {
   "cell_type": "code",
   "execution_count": 126,
   "id": "cf6d37c5-93c0-4a17-8d37-8c6e4573a668",
   "metadata": {},
   "outputs": [
    {
     "data": {
      "text/plain": [
       "<matplotlib.image.AxesImage at 0x1d58e9ba7f0>"
      ]
     },
     "execution_count": 126,
     "metadata": {},
     "output_type": "execute_result"
    },
    {
     "data": {
      "image/png": "[encoded data removed]",
      "text/plain": [
       "<Figure size 432x288 with 1 Axes>"
      ]
     },
     "metadata": {
      "needs_background": "light"
     },
     "output_type": "display_data"
    }
   ],
   "source": [
    "plt.imshow(eachImg,cmap=\"gray\")"
   ]
  },
  {
   "cell_type": "code",
   "execution_count": 139,
   "id": "b921cc4e-8c8d-43cf-919d-2e78b461f022",
   "metadata": {},
   "outputs": [],
   "source": [
    "# 이미지 정규화(255로 나눠주면 0~1사이의 값으로 나눈다)"
   ]
  },
  {
   "cell_type": "code",
   "execution_count": 129,
   "id": "d5a90ceb-017b-4c34-b3cf-30aa45fea803",
   "metadata": {},
   "outputs": [],
   "source": [
    "train_images = (train_images/255)\n",
    "test_images = (test_images/255)"
   ]
  },
  {
   "cell_type": "code",
   "execution_count": 138,
   "id": "b6eb6c25-ef60-4da8-a7d6-3acc3a276782",
   "metadata": {},
   "outputs": [],
   "source": [
    "#train_images = train_images.reshape((len(train_images),48,48))"
   ]
  },
  {
   "cell_type": "code",
   "execution_count": 137,
   "id": "35b3c145-02ea-4bf9-9758-0945ab4d9944",
   "metadata": {},
   "outputs": [
    {
     "name": "stdout",
     "output_type": "stream",
     "text": [
      "(2513, 48, 48)\n"
     ]
    }
   ],
   "source": [
    "print(train_images.shape)"
   ]
  },
  {
   "cell_type": "code",
   "execution_count": 141,
   "id": "c6aa40ac-6b77-4f60-af8c-aaa911f6107c",
   "metadata": {},
   "outputs": [],
   "source": [
    "## 각각의 값을 하나의 숫자로 나누고 싶을때는 array로 형변환해서 나눠준다(np.array)"
   ]
  },
  {
   "cell_type": "code",
   "execution_count": 143,
   "id": "d4fd4c30-ca27-4fea-8903-a126809b9ba8",
   "metadata": {},
   "outputs": [],
   "source": [
    "# np.array([1,2,3,4]) / 2\n",
    "# 답: array([0.5, 1. , 1.5, 2. ])\n",
    "# [1,2,3,4])/2 답 = 오류"
   ]
  },
  {
   "cell_type": "code",
   "execution_count": 151,
   "id": "5ffb8784-2c90-416f-85ff-947c07c5f357",
   "metadata": {},
   "outputs": [],
   "source": [
    "train_labels_one_hot = to_categorical(train_labels)"
   ]
  },
  {
   "cell_type": "code",
   "execution_count": 153,
   "id": "cfc1ad17-124f-4542-95a5-c12ece92ca47",
   "metadata": {},
   "outputs": [
    {
     "data": {
      "text/plain": [
       "array([1., 0., 0., 0., 0., 0., 0., 0.], dtype=float32)"
      ]
     },
     "execution_count": 153,
     "metadata": {},
     "output_type": "execute_result"
    }
   ],
   "source": [
    "train_labels_one_hot[2]"
   ]
  },
  {
   "cell_type": "code",
   "execution_count": null,
   "id": "13756e65-4bc9-4b64-98f1-668344455bad",
   "metadata": {},
   "outputs": [],
   "source": []
  }
 ],
 "metadata": {
  "kernelspec": {
   "display_name": "Python 3 (ipykernel)",
   "language": "python",
   "name": "python3"
  },
  "language_info": {
   "codemirror_mode": {
    "name": "ipython",
    "version": 3
   },
   "file_extension": ".py",
   "mimetype": "text/x-python",
   "name": "python",
   "nbconvert_exporter": "python",
   "pygments_lexer": "ipython3",
   "version": "3.9.7"
  }
 },
 "nbformat": 4,
 "nbformat_minor": 5
}
