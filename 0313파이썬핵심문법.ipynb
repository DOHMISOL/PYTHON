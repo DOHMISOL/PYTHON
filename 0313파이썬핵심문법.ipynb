{
 "cells": [
  {
   "cell_type": "code",
   "execution_count": null,
   "id": "e5915ab2-330d-4606-9e54-a7c63783664f",
   "metadata": {},
   "outputs": [],
   "source": [
    "#여기 앞에 lEDTV_를 다 붙여야 한다!"
   ]
  },
  {
   "cell_type": "code",
   "execution_count": 3,
   "id": "33c72d71-be29-46e7-861f-bfa8a5b4e344",
   "metadata": {},
   "outputs": [],
   "source": [
    "inList = [\"UN40EN001\", \"UN40EN002\"]"
   ]
  },
  {
   "cell_type": "code",
   "execution_count": null,
   "id": "39061739-bfba-430e-b040-667c076c5067",
   "metadata": {},
   "outputs": [],
   "source": [
    "# Step1 : 문자열로 \"LEDTV\" 선언한다."
   ]
  },
  {
   "cell_type": "code",
   "execution_count": 6,
   "id": "eda9c0f6-f5fa-416a-aca8-21beebdb6549",
   "metadata": {},
   "outputs": [],
   "source": [
    "preFix = \"LEDTV_\""
   ]
  },
  {
   "cell_type": "code",
   "execution_count": 7,
   "id": "ef830c10-50fb-4b9a-9c6e-08aae5584e70",
   "metadata": {},
   "outputs": [],
   "source": [
    "# Step2 : 리스트0번째 인덱스를 불러와서 문자열을 앞에 삽입한다.\n",
    "#         리스트를 같이 업데이트 한다."
   ]
  },
  {
   "cell_type": "code",
   "execution_count": 11,
   "id": "7fa09a7c-1243-4244-819a-ca89fb5a3125",
   "metadata": {},
   "outputs": [],
   "source": [
    "inList[0] = preFix + inList[0]"
   ]
  },
  {
   "cell_type": "code",
   "execution_count": 12,
   "id": "ebebda67-dc3b-4de8-be27-eab98c2d2358",
   "metadata": {},
   "outputs": [
    {
     "data": {
      "text/plain": [
       "['LEDTV_UN40EN001', 'UN40EN002']"
      ]
     },
     "execution_count": 12,
     "metadata": {},
     "output_type": "execute_result"
    }
   ],
   "source": [
    "inList"
   ]
  },
  {
   "cell_type": "code",
   "execution_count": 17,
   "id": "2f5978ab-66f5-4bde-a143-398e6a68d83e",
   "metadata": {},
   "outputs": [],
   "source": [
    "inList[1] = preFix + inList[1]"
   ]
  },
  {
   "cell_type": "code",
   "execution_count": 18,
   "id": "1517dce2-4968-47ff-8b27-911887fe334a",
   "metadata": {},
   "outputs": [
    {
     "data": {
      "text/plain": [
       "['LEDTV_UN40EN001', 'LEDTV_LEDTV_UN40EN002']"
      ]
     },
     "execution_count": 18,
     "metadata": {},
     "output_type": "execute_result"
    }
   ],
   "source": [
    "inList"
   ]
  },
  {
   "cell_type": "code",
   "execution_count": 19,
   "id": "6c6ad64f-b032-420f-82cf-321da69514e7",
   "metadata": {},
   "outputs": [],
   "source": [
    "# Step3 : 리스트1번째 인덱스를 불러와서 문자열을 앞에 삽입한다.\n",
    "#         리스트를 같이 업데이트 한다."
   ]
  },
  {
   "cell_type": "code",
   "execution_count": 22,
   "id": "55e27cf2-ec59-472e-8508-fc17d631195d",
   "metadata": {},
   "outputs": [],
   "source": [
    "inList = ['LEDTV_UN40EN001', 'LEDTV_LEDTV_UN40EN002']\n",
    "preFix = \"LEDTV_\""
   ]
  },
  {
   "cell_type": "code",
   "execution_count": 23,
   "id": "f1323789-5652-407a-9231-cc689620c877",
   "metadata": {},
   "outputs": [
    {
     "ename": "SyntaxError",
     "evalue": "invalid syntax (3746970794.py, line 1)",
     "output_type": "error",
     "traceback": [
      "\u001b[1;36m  File \u001b[1;32m\"C:\\Users\\SMART27\\AppData\\Local\\Temp\\ipykernel_10260\\3746970794.py\"\u001b[1;36m, line \u001b[1;32m1\u001b[0m\n\u001b[1;33m    for i int range(0, 2, 1);\u001b[0m\n\u001b[1;37m          ^\u001b[0m\n\u001b[1;31mSyntaxError\u001b[0m\u001b[1;31m:\u001b[0m invalid syntax\n"
     ]
    }
   ],
   "source": [
    "for i int range(0, 2, 1);\n",
    "    inList[i] = preFix + inList[i]"
   ]
  },
  {
   "cell_type": "code",
   "execution_count": 51,
   "id": "7674a487-8279-4b17-94eb-a4e16bbe4ee3",
   "metadata": {},
   "outputs": [
    {
     "data": {
      "text/plain": [
       "['LEDTV_LEDTV_LEDTV_LEDTV_UN40EN001', 'LEDTV_LEDTV_LEDTV_UN40EN002']"
      ]
     },
     "execution_count": 51,
     "metadata": {},
     "output_type": "execute_result"
    }
   ],
   "source": [
    "inList"
   ]
  },
  {
   "cell_type": "code",
   "execution_count": 25,
   "id": "ef37b2a8-0bf0-4002-8fe9-95d2087abc9a",
   "metadata": {},
   "outputs": [],
   "source": [
    "inListLen = len( inList )"
   ]
  },
  {
   "cell_type": "code",
   "execution_count": 26,
   "id": "dd4572ab-9cbe-4ed2-86b5-1a1f9eee934c",
   "metadata": {},
   "outputs": [
    {
     "ename": "SyntaxError",
     "evalue": "invalid syntax (4009443452.py, line 1)",
     "output_type": "error",
     "traceback": [
      "\u001b[1;36m  File \u001b[1;32m\"C:\\Users\\SMART27\\AppData\\Local\\Temp\\ipykernel_10260\\4009443452.py\"\u001b[1;36m, line \u001b[1;32m1\u001b[0m\n\u001b[1;33m    for i int range(0, inListLen);\u001b[0m\n\u001b[1;37m          ^\u001b[0m\n\u001b[1;31mSyntaxError\u001b[0m\u001b[1;31m:\u001b[0m invalid syntax\n"
     ]
    }
   ],
   "source": [
    "for i int range(0, inListLen);\n",
    "    inList[i] = preFix + inList[i]"
   ]
  },
  {
   "cell_type": "code",
   "execution_count": 27,
   "id": "1358ba56-da45-454e-a38f-b74485cbb172",
   "metadata": {},
   "outputs": [],
   "source": [
    "#디버깅"
   ]
  },
  {
   "cell_type": "code",
   "execution_count": 37,
   "id": "3e8e7dc5-30ca-4527-83e7-fc1d59726527",
   "metadata": {},
   "outputs": [],
   "source": [
    "i = 0"
   ]
  },
  {
   "cell_type": "code",
   "execution_count": 38,
   "id": "61cfcad1-c7d6-4183-8473-9b6c80c69477",
   "metadata": {},
   "outputs": [],
   "source": [
    "# for i int range(0, inListLen);\n",
    "inList[i] = preFix + inList[i]"
   ]
  },
  {
   "cell_type": "code",
   "execution_count": 39,
   "id": "5fcc9c7b-0a2b-4eba-ba7e-2ebb1f288606",
   "metadata": {},
   "outputs": [
    {
     "data": {
      "text/plain": [
       "['LEDTV_LEDTV_LEDTV_LEDTV_UN40EN001', 'LEDTV_LEDTV_LEDTV_UN40EN002']"
      ]
     },
     "execution_count": 39,
     "metadata": {},
     "output_type": "execute_result"
    }
   ],
   "source": [
    "inList"
   ]
  },
  {
   "cell_type": "code",
   "execution_count": 41,
   "id": "39cf84bb-fb5f-465a-94a3-b228ea3eb81c",
   "metadata": {},
   "outputs": [],
   "source": [
    "import pandas as pd\n",
    "\n",
    "pd.read_csv(\"./dataset/\n",
    "\n",
    "csData = pd.read_csv(\"C:/Users/SMART27/stdcode6/dataset/kopo_customerdata.csv\")\n",
    "csCodeData = list( csData.CUSTOMERCODE )\n",
    "\n",
    "# PreFix를 정의한다! \"한국은행_\"\n",
    "# 전부 붙인다!\n",
    "\n",
    "preFix = \"한국은행_\""
   ]
  },
  {
   "cell_type": "code",
   "execution_count": null,
   "id": "292b066e-8abf-443a-a113-46da864333db",
   "metadata": {},
   "outputs": [],
   "source": []
  }
 ],
 "metadata": {
  "kernelspec": {
   "display_name": "Python 3 (ipykernel)",
   "language": "python",
   "name": "python3"
  },
  "language_info": {
   "codemirror_mode": {
    "name": "ipython",
    "version": 3
   },
   "file_extension": ".py",
   "mimetype": "text/x-python",
   "name": "python",
   "nbconvert_exporter": "python",
   "pygments_lexer": "ipython3",
   "version": "3.9.13"
  }
 },
 "nbformat": 4,
 "nbformat_minor": 5
}
