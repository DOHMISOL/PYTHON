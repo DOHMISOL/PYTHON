{
 "cells": [
  {
   "cell_type": "code",
   "execution_count": 16,
   "id": "168a86e5-f08b-4b73-9b22-d5bbf8a57575",
   "metadata": {},
   "outputs": [],
   "source": [
    "### 필요 라이브러리\n",
    "import numpy as np\n",
    "import mnist\n",
    "import pandas as pd\n",
    "from tensorflow import keras\n",
    "from tensorflow.keras.layers import Dense, Dropout, Flatten \n",
    "from tensorflow.keras.models import Sequential #모델순차적으로 쌓는 lib\n",
    "from tensorflow.keras.utils import to_categorical"
   ]
  },
  {
   "cell_type": "markdown",
   "id": "1dcbe34a-b85b-4c7f-bc24-e51ff460898b",
   "metadata": {},
   "source": [
    "### 데이터 불러오기"
   ]
  },
  {
   "cell_type": "code",
   "execution_count": 12,
   "id": "e8cb6b7f-e3b7-482e-8ded-0a24c5f6155d",
   "metadata": {},
   "outputs": [],
   "source": [
    "train_images = mnist.train_images()\n",
    "train_labels = mnist.train_labels()\n",
    "test_images = mnist.test_images()\n",
    "test_labels = mnist.test_labels()"
   ]
  },
  {
   "cell_type": "code",
   "execution_count": 14,
   "id": "c222303b-545f-4454-86df-14f473ea5e91",
   "metadata": {},
   "outputs": [
    {
     "name": "stdout",
     "output_type": "stream",
     "text": [
      "(60000, 28, 28)\n",
      "(60000,)\n",
      "(10000, 28, 28)\n",
      "(10000,)\n"
     ]
    }
   ],
   "source": [
    "print(train_images.shape)\n",
    "print(train_labels.shape)\n",
    "print(test_images.shape)\n",
    "print(test_labels.shape)"
   ]
  },
  {
   "cell_type": "code",
   "execution_count": 15,
   "id": "4247baea-f946-437b-8985-4a884fe3d9fe",
   "metadata": {},
   "outputs": [],
   "source": [
    "## 28이 픽셀이 모여서 완성됨"
   ]
  },
  {
   "cell_type": "code",
   "execution_count": 17,
   "id": "2f766b61-fbf0-4204-ba08-c480650cb35f",
   "metadata": {},
   "outputs": [],
   "source": [
    "eachImg = pd.DataFrame( train_images[2] )"
   ]
  },
  {
   "cell_type": "code",
   "execution_count": 18,
   "id": "16b85482-62a0-431f-bf7c-a9646bbc222c",
   "metadata": {},
   "outputs": [
    {
     "data": {
      "text/plain": [
       "pandas.core.frame.DataFrame"
      ]
     },
     "execution_count": 18,
     "metadata": {},
     "output_type": "execute_result"
    }
   ],
   "source": [
    "type(eachImg)"
   ]
  },
  {
   "cell_type": "code",
   "execution_count": 20,
   "id": "08837d50-a9e5-40f8-9056-f805836f8101",
   "metadata": {},
   "outputs": [],
   "source": [
    "eachImg.to_csv(\"F:/eachImg.csv\")"
   ]
  },
  {
   "cell_type": "code",
   "execution_count": null,
   "id": "251cf44e-ed63-4d53-9b10-f4ece441d81b",
   "metadata": {},
   "outputs": [],
   "source": [
    "###영상 : 30Frame(이미지)/second"
   ]
  },
  {
   "cell_type": "code",
   "execution_count": 22,
   "id": "01ad71e4-f1d3-4eea-86f6-b08f9fc8cfc6",
   "metadata": {},
   "outputs": [],
   "source": [
    "# 이미지 정규화\n",
    "train_images = (train_images / 255)\n",
    "test_images = (test_images / 255)"
   ]
  },
  {
   "cell_type": "code",
   "execution_count": 34,
   "id": "fdff5216-96e7-4cbd-9d31-0b3bd09003db",
   "metadata": {},
   "outputs": [],
   "source": [
    "# 데이터를 그시점에 있는 데이터가 위치할 수 있도록 한다"
   ]
  },
  {
   "cell_type": "code",
   "execution_count": 32,
   "id": "ac08ef53-992d-4047-9b13-fb31c91d5e7b",
   "metadata": {},
   "outputs": [],
   "source": [
    "train_labels_one_hot = to_categorical(train_labels)\n",
    "test_labels_one_hot = to_categorical(test_labels)"
   ]
  },
  {
   "cell_type": "code",
   "execution_count": 33,
   "id": "d8ec9e1f-a8ae-4db5-8275-e4a3e08c0703",
   "metadata": {},
   "outputs": [
    {
     "data": {
      "text/plain": [
       "array([0., 0., 0., 0., 1., 0., 0., 0., 0., 0.], dtype=float32)"
      ]
     },
     "execution_count": 33,
     "metadata": {},
     "output_type": "execute_result"
    }
   ],
   "source": [
    "train_labels_one_hot[2]"
   ]
  },
  {
   "cell_type": "code",
   "execution_count": 35,
   "id": "c68ae73f-8baf-492e-a830-8f84162dd944",
   "metadata": {},
   "outputs": [
    {
     "data": {
      "text/plain": [
       "4"
      ]
     },
     "execution_count": 35,
     "metadata": {},
     "output_type": "execute_result"
    }
   ],
   "source": [
    "np.argmax(train_labels_one_hot[2])"
   ]
  },
  {
   "cell_type": "markdown",
   "id": "c94a2791-fd57-4fa5-aec8-967120e0a9c9",
   "metadata": {},
   "source": [
    "### B-1. 모델 생성"
   ]
  },
  {
   "cell_type": "code",
   "execution_count": 42,
   "id": "f2f3eca3-6ef7-4627-8510-83231762f58b",
   "metadata": {},
   "outputs": [
    {
     "data": {
      "text/plain": [
       "(28, 28)"
      ]
     },
     "execution_count": 42,
     "metadata": {},
     "output_type": "execute_result"
    }
   ],
   "source": [
    "# input layer를 위한 설정\n",
    "input_shape = train_images[0].shape\n",
    "input_shape"
   ]
  },
  {
   "cell_type": "code",
   "execution_count": 43,
   "id": "d26f0483-ff9e-4a41-87f3-91a459566bb9",
   "metadata": {},
   "outputs": [],
   "source": [
    "# output layer를 위한 설정\n",
    "nClasses = 10\n",
    "nClasses = len( np.unique(train_labels) )"
   ]
  },
  {
   "cell_type": "code",
   "execution_count": 51,
   "id": "8645d4fe-06ad-41e7-bc7d-d9e80f5a3ecd",
   "metadata": {},
   "outputs": [],
   "source": [
    "model = Sequential()\n",
    "# input layer\n",
    "model.add(Flatten(input_shape=input_shape))\n",
    "# hidden layer\n",
    "model.add(Dense(units=16, activation=\"relu\"))\n",
    "model.add(Dense(units=16, activation=\"relu\"))\n",
    "# output layer\n",
    "model.add(Dense(units=nClasses, activation=\"softmax\"))"
   ]
  },
  {
   "cell_type": "code",
   "execution_count": 52,
   "id": "a74222a8-7dc2-4e2f-a4e5-9afa078cf407",
   "metadata": {},
   "outputs": [
    {
     "name": "stdout",
     "output_type": "stream",
     "text": [
      "Model: \"sequential_3\"\n",
      "_________________________________________________________________\n",
      " Layer (type)                Output Shape              Param #   \n",
      "=================================================================\n",
      " flatten_3 (Flatten)         (None, 784)               0         \n",
      "                                                                 \n",
      " dense_6 (Dense)             (None, 16)                12560     \n",
      "                                                                 \n",
      " dense_7 (Dense)             (None, 16)                272       \n",
      "                                                                 \n",
      " dense_8 (Dense)             (None, 10)                170       \n",
      "                                                                 \n",
      "=================================================================\n",
      "Total params: 13,002\n",
      "Trainable params: 13,002\n",
      "Non-trainable params: 0\n",
      "_________________________________________________________________\n"
     ]
    }
   ],
   "source": [
    "model.summary()"
   ]
  },
  {
   "cell_type": "code",
   "execution_count": 53,
   "id": "aeda852b-f498-4cf0-99bf-90742f8ec788",
   "metadata": {
    "collapsed": true,
    "jupyter": {
     "outputs_hidden": true
    },
    "tags": []
   },
   "outputs": [
    {
     "data": {
      "image/png": "[encoded data removed]",
      "text/plain": [
       "<IPython.core.display.Image object>"
      ]
     },
     "execution_count": 53,
     "metadata": {},
     "output_type": "execute_result"
    }
   ],
   "source": [
    "from tensorflow.keras.utils import plot_model\n",
    "plot_model(model, to_file='model_plot.png', \n",
    "           show_shapes=True, \n",
    "           show_layer_names=True)"
   ]
  },
  {
   "cell_type": "markdown",
   "id": "750e3850-038f-4073-a6bc-ad7755300107",
   "metadata": {},
   "source": [
    "### B-2. 모델 컴파일"
   ]
  },
  {
   "cell_type": "code",
   "execution_count": 55,
   "id": "367f1ec6-357c-4c84-8801-c2a30f39a60c",
   "metadata": {},
   "outputs": [],
   "source": [
    "model.compile(loss=\"categorical_crossentropy\",\n",
    "              optimizer=\"adam\",\n",
    "              metrics=[\"accuracy\"] )"
   ]
  },
  {
   "cell_type": "markdown",
   "id": "0007f389-4727-47bf-a034-2c405559bf00",
   "metadata": {},
   "source": [
    "### B-3. 모델 훈련"
   ]
  },
  {
   "cell_type": "code",
   "execution_count": 57,
   "id": "a3a8a6d9-6560-46a3-ac9b-ea21e0966f92",
   "metadata": {},
   "outputs": [
    {
     "data": {
      "text/plain": [
       "(60000, 28, 28)"
      ]
     },
     "execution_count": 57,
     "metadata": {},
     "output_type": "execute_result"
    }
   ],
   "source": [
    "train_images.shape"
   ]
  },
  {
   "cell_type": "code",
   "execution_count": 58,
   "id": "2e40e755-483d-4bef-958f-c86df8095c24",
   "metadata": {},
   "outputs": [
    {
     "data": {
      "text/plain": [
       "1500.0"
      ]
     },
     "execution_count": 58,
     "metadata": {},
     "output_type": "execute_result"
    }
   ],
   "source": [
    "48000/32"
   ]
  },
  {
   "cell_type": "code",
   "execution_count": 56,
   "id": "07209e31-5654-4f02-9214-00e3db7121e6",
   "metadata": {},
   "outputs": [
    {
     "name": "stdout",
     "output_type": "stream",
     "text": [
      "Epoch 1/10\n",
      "1500/1500 [==============================] - 3s 2ms/step - loss: 1.5509 - accuracy: 0.5203 - val_loss: 0.9019 - val_accuracy: 0.7285\n",
      "Epoch 2/10\n",
      "1500/1500 [==============================] - 2s 1ms/step - loss: 0.7782 - accuracy: 0.7550 - val_loss: 0.6575 - val_accuracy: 0.8027\n",
      "Epoch 3/10\n",
      "1500/1500 [==============================] - 2s 1ms/step - loss: 0.6257 - accuracy: 0.8056 - val_loss: 0.5530 - val_accuracy: 0.8374\n",
      "Epoch 4/10\n",
      "1500/1500 [==============================] - 2s 1ms/step - loss: 0.5447 - accuracy: 0.8368 - val_loss: 0.4900 - val_accuracy: 0.8624\n",
      "Epoch 5/10\n",
      "1500/1500 [==============================] - 2s 1ms/step - loss: 0.4884 - accuracy: 0.8589 - val_loss: 0.4406 - val_accuracy: 0.8754\n",
      "Epoch 6/10\n",
      "1500/1500 [==============================] - 2s 1ms/step - loss: 0.4511 - accuracy: 0.8696 - val_loss: 0.4226 - val_accuracy: 0.8823\n",
      "Epoch 7/10\n",
      "1500/1500 [==============================] - 2s 1ms/step - loss: 0.4283 - accuracy: 0.8760 - val_loss: 0.3958 - val_accuracy: 0.8878\n",
      "Epoch 8/10\n",
      "1500/1500 [==============================] - 2s 1ms/step - loss: 0.4120 - accuracy: 0.8820 - val_loss: 0.3850 - val_accuracy: 0.8892\n",
      "Epoch 9/10\n",
      "1500/1500 [==============================] - 2s 1ms/step - loss: 0.4000 - accuracy: 0.8850 - val_loss: 0.3775 - val_accuracy: 0.8913\n",
      "Epoch 10/10\n",
      "1500/1500 [==============================] - 2s 1ms/step - loss: 0.3905 - accuracy: 0.8871 - val_loss: 0.3641 - val_accuracy: 0.8943\n"
     ]
    }
   ],
   "source": [
    "history = model.fit(x=train_images,\n",
    "                    y=train_labels_one_hot,\n",
    "                    epochs=10,\n",
    "                    batch_size=32,\n",
    "                    validation_split=0.2)"
   ]
  },
  {
   "cell_type": "markdown",
   "id": "b9828b75-d264-4a9e-8261-1f7cbbe569b1",
   "metadata": {},
   "source": [
    "### C-1. 모델 추론"
   ]
  },
  {
   "cell_type": "code",
   "execution_count": 67,
   "id": "8b9db5f2-2052-45d1-88b9-b6fcb2f276b2",
   "metadata": {},
   "outputs": [],
   "source": [
    "import cv2 #이미지 사이즈 조절"
   ]
  },
  {
   "cell_type": "code",
   "execution_count": 75,
   "id": "917a0514-f78a-4ae9-a5ea-51c61a01b181",
   "metadata": {
    "tags": []
   },
   "outputs": [],
   "source": [
    "testImg3 = cv2.imread(\"./KakaoTalk_20230612_155700524.jpg\",cv2.IMREAD_GRAYSCALE)"
   ]
  },
  {
   "cell_type": "code",
   "execution_count": 76,
   "id": "bd91c60d-1120-4546-81a3-e6c1de91950c",
   "metadata": {},
   "outputs": [],
   "source": [
    "import matplotlib.pyplot as plt"
   ]
  },
  {
   "cell_type": "code",
   "execution_count": 77,
   "id": "fd6a39c3-1c9a-483c-8a5c-90f81e9b624c",
   "metadata": {},
   "outputs": [
    {
     "data": {
      "text/plain": [
       "<keras.engine.sequential.Sequential at 0x21255d90550>"
      ]
     },
     "execution_count": 77,
     "metadata": {},
     "output_type": "execute_result"
    }
   ],
   "source": [
    "model"
   ]
  },
  {
   "cell_type": "code",
   "execution_count": 78,
   "id": "11e937e8-3d9e-41cc-b946-d366b82be6cd",
   "metadata": {},
   "outputs": [
    {
     "data": {
      "text/plain": [
       "<matplotlib.image.AxesImage at 0x21257839c40>"
      ]
     },
     "execution_count": 78,
     "metadata": {},
     "output_type": "execute_result"
    },
    {
     "data": {
      "image/png": "[encoded data removed]",
      "text/plain": [
       "<Figure size 432x288 with 1 Axes>"
      ]
     },
     "metadata": {
      "needs_background": "light"
     },
     "output_type": "display_data"
    }
   ],
   "source": [
    "plt.imshow(testImg3)"
   ]
  },
  {
   "cell_type": "code",
   "execution_count": 80,
   "id": "25b7f720-5ee0-4264-babb-f9a2b22ea9ef",
   "metadata": {},
   "outputs": [
    {
     "name": "stdout",
     "output_type": "stream",
     "text": [
      "1/1 [==============================] - 0s 99ms/step\n"
     ]
    }
   ],
   "source": [
    "testImg = testImg3.astype(float)\n",
    "testImg = testImg3 / 255.0\n",
    "testImg = testImg3.reshape(1,28,28)\n",
    "answer = model.predict(testImg)"
   ]
  },
  {
   "cell_type": "code",
   "execution_count": 81,
   "id": "7092f4dd-aef1-444d-bf61-a0fc591c2137",
   "metadata": {},
   "outputs": [
    {
     "data": {
      "text/plain": [
       "8"
      ]
     },
     "execution_count": 81,
     "metadata": {},
     "output_type": "execute_result"
    }
   ],
   "source": [
    "np.argmax(answer)"
   ]
  },
  {
   "cell_type": "code",
   "execution_count": null,
   "id": "88a221e9-6375-4b9c-a1d7-ed6ef468ab69",
   "metadata": {
    "collapsed": true,
    "jupyter": {
     "outputs_hidden": true
    },
    "tags": []
   },
   "outputs": [
    {
     "ename": "SyntaxError",
     "evalue": "unexpected EOF while parsing (Temp/ipykernel_7096/3403999592.py, line 1)",
     "output_type": "error",
     "traceback": [
      "\u001b[1;36m  File \u001b[1;32m\"C:\\Users\\SMART27\\AppData\\Local\\Temp/ipykernel_7096/3403999592.py\"\u001b[1;36m, line \u001b[1;32m1\u001b[0m\n\u001b[1;33m    model.evaluate(test_images, test_labels\u001b[0m\n\u001b[1;37m                                           ^\u001b[0m\n\u001b[1;31mSyntaxError\u001b[0m\u001b[1;31m:\u001b[0m unexpected EOF while parsing\n"
     ]
    }
   ],
   "source": [
    "model.evaluate(test_images, test_labels"
   ]
  },
  {
   "cell_type": "code",
   "execution_count": null,
   "id": "482f2cdc-eb4f-4b6d-8365-126528e273c5",
   "metadata": {},
   "outputs": [],
   "source": []
  },
  {
   "cell_type": "code",
   "execution_count": null,
   "id": "d8b62b55-f311-4f66-b42f-a842a377d661",
   "metadata": {},
   "outputs": [],
   "source": []
  },
  {
   "cell_type": "code",
   "execution_count": null,
   "id": "d95b557f-6b8a-4da5-87fd-a9c8e9dd2c0b",
   "metadata": {},
   "outputs": [],
   "source": []
  },
  {
   "cell_type": "code",
   "execution_count": null,
   "id": "6af2fa66-a73d-45fb-837e-646465026208",
   "metadata": {},
   "outputs": [],
   "source": []
  },
  {
   "cell_type": "code",
   "execution_count": null,
   "id": "0f4f7679-16e0-42f5-b90a-a38c07c78064",
   "metadata": {},
   "outputs": [],
   "source": []
  },
  {
   "cell_type": "code",
   "execution_count": null,
   "id": "124584eb-4051-49a3-85ee-2ca68e05228e",
   "metadata": {},
   "outputs": [],
   "source": []
  },
  {
   "cell_type": "code",
   "execution_count": 23,
   "id": "cb06b1cf-6d89-4346-ad1c-76078fddf760",
   "metadata": {},
   "outputs": [
    {
     "data": {
      "text/plain": [
       "numpy.ndarray"
      ]
     },
     "execution_count": 23,
     "metadata": {},
     "output_type": "execute_result"
    }
   ],
   "source": [
    "type(train_images)"
   ]
  },
  {
   "cell_type": "code",
   "execution_count": null,
   "id": "7d5043be-9876-4d3c-84e9-714813687b1a",
   "metadata": {},
   "outputs": [],
   "source": [
    "## 리스트 & array 차이"
   ]
  },
  {
   "cell_type": "code",
   "execution_count": 26,
   "id": "932e7c3c-bbc1-4a2d-a156-99e2bb9f36ec",
   "metadata": {},
   "outputs": [
    {
     "ename": "TypeError",
     "evalue": "unsupported operand type(s) for /: 'list' and 'int'",
     "output_type": "error",
     "traceback": [
      "\u001b[1;31m---------------------------------------------------------------------------\u001b[0m",
      "\u001b[1;31mTypeError\u001b[0m                                 Traceback (most recent call last)",
      "\u001b[1;32m~\\AppData\\Local\\Temp/ipykernel_7096/1284711140.py\u001b[0m in \u001b[0;36m<module>\u001b[1;34m\u001b[0m\n\u001b[1;32m----> 1\u001b[1;33m \u001b[1;33m[\u001b[0m\u001b[1;36m1\u001b[0m\u001b[1;33m,\u001b[0m\u001b[1;36m2\u001b[0m\u001b[1;33m,\u001b[0m\u001b[1;36m3\u001b[0m\u001b[1;33m,\u001b[0m\u001b[1;36m4\u001b[0m\u001b[1;33m]\u001b[0m \u001b[1;33m/\u001b[0m \u001b[1;36m2\u001b[0m  \u001b[1;31m##오류\u001b[0m\u001b[1;33m\u001b[0m\u001b[1;33m\u001b[0m\u001b[0m\n\u001b[0m",
      "\u001b[1;31mTypeError\u001b[0m: unsupported operand type(s) for /: 'list' and 'int'"
     ]
    }
   ],
   "source": [
    "[1,2,3,4] / 2  ##오류"
   ]
  },
  {
   "cell_type": "code",
   "execution_count": 27,
   "id": "29c4b508-884c-442f-a49c-d715eb8422f3",
   "metadata": {},
   "outputs": [
    {
     "data": {
      "text/plain": [
       "array([0.5, 1. , 1.5, 2. ])"
      ]
     },
     "execution_count": 27,
     "metadata": {},
     "output_type": "execute_result"
    }
   ],
   "source": [
    "np.array([1,2,3,4]) /2"
   ]
  },
  {
   "cell_type": "code",
   "execution_count": 31,
   "id": "628950df-823a-407f-8c8b-071547824f05",
   "metadata": {},
   "outputs": [
    {
     "data": {
      "text/plain": [
       "4"
      ]
     },
     "execution_count": 31,
     "metadata": {},
     "output_type": "execute_result"
    }
   ],
   "source": [
    "train_labels[9]"
   ]
  },
  {
   "cell_type": "code",
   "execution_count": null,
   "id": "82e4de0d-ee9c-45d2-9d70-462942e8a775",
   "metadata": {},
   "outputs": [],
   "source": []
  }
 ],
 "metadata": {
  "kernelspec": {
   "display_name": "Python 3 (ipykernel)",
   "language": "python",
   "name": "python3"
  },
  "language_info": {
   "codemirror_mode": {
    "name": "ipython",
    "version": 3
   },
   "file_extension": ".py",
   "mimetype": "text/x-python",
   "name": "python",
   "nbconvert_exporter": "python",
   "pygments_lexer": "ipython3",
   "version": "3.9.7"
  }
 },
 "nbformat": 4,
 "nbformat_minor": 5
}
