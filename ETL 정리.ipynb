{
 "cells": [
  {
   "cell_type": "markdown",
   "id": "05ff3c92-bec9-4abc-8745-c561cf23d52c",
   "metadata": {},
   "source": [
    "ETL정리"
   ]
  },
  {
   "cell_type": "markdown",
   "id": "30580636-1b3e-46a3-922b-28fecb484050",
   "metadata": {},
   "source": [
    "1-1. 파일데이터 수집\n",
    "    -- excel,csv 등의 파일을 파이썬에서 열기"
   ]
  },
  {
   "cell_type": "code",
   "execution_count": null,
   "id": "ccc4064d-48f3-463e-b43b-f8b573831180",
   "metadata": {},
   "outputs": [],
   "source": [
    "import pandas as pd"
   ]
  },
  {
   "cell_type": "code",
   "execution_count": 95,
   "id": "1e1d0dca-3706-4391-afa7-485435ae1ea7",
   "metadata": {},
   "outputs": [
    {
     "data": {
      "text/html": [
       "<div>\n",
       "<style scoped>\n",
       "    .dataframe tbody tr th:only-of-type {\n",
       "        vertical-align: middle;\n",
       "    }\n",
       "\n",
       "    .dataframe tbody tr th {\n",
       "        vertical-align: top;\n",
       "    }\n",
       "\n",
       "    .dataframe thead th {\n",
       "        text-align: right;\n",
       "    }\n",
       "</style>\n",
       "<table border=\"1\" class=\"dataframe\">\n",
       "  <thead>\n",
       "    <tr style=\"text-align: right;\">\n",
       "      <th></th>\n",
       "      <th>balance</th>\n",
       "      <th>stock</th>\n",
       "      <th>label</th>\n",
       "    </tr>\n",
       "  </thead>\n",
       "  <tbody>\n",
       "    <tr>\n",
       "      <th>0</th>\n",
       "      <td>30000000</td>\n",
       "      <td>22500000</td>\n",
       "      <td>normal</td>\n",
       "    </tr>\n",
       "    <tr>\n",
       "      <th>1</th>\n",
       "      <td>280000000</td>\n",
       "      <td>48000000</td>\n",
       "      <td>diamond</td>\n",
       "    </tr>\n",
       "    <tr>\n",
       "      <th>2</th>\n",
       "      <td>300000000</td>\n",
       "      <td>40666666</td>\n",
       "      <td>diamond</td>\n",
       "    </tr>\n",
       "    <tr>\n",
       "      <th>3</th>\n",
       "      <td>54000000</td>\n",
       "      <td>28000000</td>\n",
       "      <td>normal</td>\n",
       "    </tr>\n",
       "    <tr>\n",
       "      <th>4</th>\n",
       "      <td>768000000</td>\n",
       "      <td>32000000</td>\n",
       "      <td>vip</td>\n",
       "    </tr>\n",
       "    <tr>\n",
       "      <th>...</th>\n",
       "      <td>...</td>\n",
       "      <td>...</td>\n",
       "      <td>...</td>\n",
       "    </tr>\n",
       "    <tr>\n",
       "      <th>19995</th>\n",
       "      <td>628000000</td>\n",
       "      <td>44666666</td>\n",
       "      <td>diamond</td>\n",
       "    </tr>\n",
       "    <tr>\n",
       "      <th>19996</th>\n",
       "      <td>276000000</td>\n",
       "      <td>20000000</td>\n",
       "      <td>normal</td>\n",
       "    </tr>\n",
       "    <tr>\n",
       "      <th>19997</th>\n",
       "      <td>652000000</td>\n",
       "      <td>41333333</td>\n",
       "      <td>diamond</td>\n",
       "    </tr>\n",
       "    <tr>\n",
       "      <th>19998</th>\n",
       "      <td>676000000</td>\n",
       "      <td>45333333</td>\n",
       "      <td>diamond</td>\n",
       "    </tr>\n",
       "    <tr>\n",
       "      <th>19999</th>\n",
       "      <td>732000000</td>\n",
       "      <td>26000000</td>\n",
       "      <td>diamond</td>\n",
       "    </tr>\n",
       "  </tbody>\n",
       "</table>\n",
       "<p>20000 rows × 3 columns</p>\n",
       "</div>"
      ],
      "text/plain": [
       "         balance     stock    label\n",
       "0       30000000  22500000   normal\n",
       "1      280000000  48000000  diamond\n",
       "2      300000000  40666666  diamond\n",
       "3       54000000  28000000   normal\n",
       "4      768000000  32000000      vip\n",
       "...          ...       ...      ...\n",
       "19995  628000000  44666666  diamond\n",
       "19996  276000000  20000000   normal\n",
       "19997  652000000  41333333  diamond\n",
       "19998  676000000  45333333  diamond\n",
       "19999  732000000  26000000  diamond\n",
       "\n",
       "[20000 rows x 3 columns]"
      ]
     },
     "execution_count": 95,
     "metadata": {},
     "output_type": "execute_result"
    }
   ],
   "source": [
    "customerData = pd.read_csv(\"../dataset/customer.csv\") ##customerData = pd.read_excel(\"../dataset/customer.csv\")\n",
    "customerData"
   ]
  },
  {
   "cell_type": "code",
   "execution_count": 96,
   "id": "b3d6b9f9-8022-44d5-93cd-a51361596dbe",
   "metadata": {},
   "outputs": [],
   "source": [
    "customerData.columns = [\"custid\",\"avgprice\",\"emi\"]"
   ]
  },
  {
   "cell_type": "markdown",
   "id": "e54bed07-1251-4a4a-8713-af63f04eb596",
   "metadata": {},
   "source": [
    "1-2. 수정된 데이터 파이썬에 저장\n",
    "    -- 수정한 파일 데이터를 지정폴더에 저장"
   ]
  },
  {
   "cell_type": "code",
   "execution_count": null,
   "id": "7d002dc3-dd43-43bf-a921-fb0cf980f7b5",
   "metadata": {},
   "outputs": [],
   "source": [
    "customerData.to_csv(\"../dataset/customerdata_out.csv\", index = False) #customerData.to_excel(\"../dataset/customerdata_out.xlsx\", index = False)\n",
    "customerData.head()  #()개의 row 확인"
   ]
  },
  {
   "cell_type": "markdown",
   "id": "94801850-0eb1-4d07-8dc3-baf199ab7d17",
   "metadata": {},
   "source": [
    "## 옵션\n",
    "customerData.columns = [\"custid\",\"avgprice\",\"emi\" , encoding =\"ms949\"]\n",
    "customerData.columns = [\"custid\",\"avgprice\",\"emi\" , sep = \"|\"]\n",
    "customerData.columns = [\"custid\",\"avgprice\",\"emi\" , skiprows]  # 무시할 행 갯수\n",
    "customerData.columns = [\"custid\",\"avgprice\",\"emi\" , index = False]"
   ]
  },
  {
   "cell_type": "markdown",
   "id": "438285b3-c314-4d20-b7f8-21a30273bfb8",
   "metadata": {},
   "source": [
    "1-3. 웹 - > 파이썬 데이터 수집\n",
    "    --깃허브에서 raw 선택"
   ]
  },
  {
   "cell_type": "markdown",
   "id": "5772262f-623e-431d-a7e4-6195b48e3940",
   "metadata": {},
   "source": [
    "customerData = pd.read_csv(\"깃허브 raw url\")"
   ]
  },
  {
   "cell_type": "code",
   "execution_count": null,
   "id": "d05bafb3-1c8b-432a-98ec-4a66ed0b1319",
   "metadata": {},
   "outputs": [],
   "source": [
    "2-1 MySQL/Maraidb DB서버 데이터 수집\n",
    "\n",
    "#step1 패키지 불러오기\n",
    "\n",
    "import pandas as pd\n",
    "from sqlalchemy import create_engine\n",
    "import pymysql \n",
    "from sqlalchemy import types \n",
    "\n",
    "#step2 DB커넥션 열기\n",
    "\n",
    "inId=\"root\"\n",
    "inPw=\"mariadb\"\n",
    "inIp=\"120.0.0.1\"\n",
    "inPort=\"3306\"\n",
    "inDbName=\"mariadb\"\n",
    "\n",
    "engine = create_engine('mysql+pymysql://{}:{}@{}:{}/{}'.format(inId,inPw,inIp,inPort,inDbName))\n",
    "\n",
    "#step3 DB테이블을 읽어 DATA FRAME 변수에 저장하기\n",
    "\n",
    "selloutData = pd.read_sql_query('SELECT * FROM kopo_product_volume', engine) \n",
    "\n",
    "#step4 컬럼명 바꾸기\n",
    "\n",
    "selloutData.columns = ['REGIONID','PRODUCTGROUP','YEARWEEK','VOLUME']\n",
    "selloutData.head()\n",
    "\n",
    "#step5 데이터 저장\n",
    "\n",
    "resultname='mysqlresult'\n",
    "selloutData.to_sql(resultname, engine, if_exists='replace')\n",
    "#selloutData.to_sql(name = \"kopo_result_hk\",\n",
    "                  con = engine_meta,\n",
    "                   index = False,\n",
    "                   if_exists = \"replace\")    "
   ]
  },
  {
   "cell_type": "code",
   "execution_count": null,
   "id": "b77f3273-c530-4df6-be61-98d62c24711b",
   "metadata": {},
   "outputs": [],
   "source": [
    "2-2 oracle DB서버 데이터 수집\n",
    "\n",
    "#step1 패키지 불러오기\n",
    "\n",
    "import pandas as pd\n",
    "from sqlalchemy import create_engine\n",
    "from sqlalchemy import types \n",
    "\n",
    "#step2 DB커넥션 열기\n",
    "\n",
    "inId=\"kopo\"\n",
    "inPw=\"kopo\"\n",
    "inIp=\"120.0.0.1\"\n",
    "inPort=\"1521\"\n",
    "inDbName=\"orcl\"\n",
    "\n",
    "*주의 : 토드에서 tnsname 설정하기\n",
    "\n",
    "engine = create_engine('oracle+cx_oracle://{}:{}@{}:{}/{}'.format(inId,inPw,inIp,inPort,inDbName))\n",
    "\n",
    "#step3 DB테이블을 읽어 DATA FRAME 변수에 저장하기\n",
    "\n",
    "selloutData = pd.read_sql_query('SELECT * FROM kopo_product_volume', engine) \n",
    "\n",
    "#step4 컬럼명 바꾸기\n",
    "\n",
    "selloutData.columns = ['REGIONID','PRODUCTGROUP','YEARWEEK','VOLUME']\n",
    "print(selloutData.head())\n",
    "\n",
    "#step5 데이터 저장\n",
    "\n",
    "resultname='oracleresult'\n",
    "selloutData.to_sql(resultname, engine, if_exists='replace')\n",
    "#selloutData.to_sql(name = \"kopo_result_hk\",\n",
    "                  con = engine_meta,\n",
    "                   index = False,\n",
    "                   if_exists = \"replace\")    "
   ]
  }
 ],
 "metadata": {
  "kernelspec": {
   "display_name": "Python 3 (ipykernel)",
   "language": "python",
   "name": "python3"
  },
  "language_info": {
   "codemirror_mode": {
    "name": "ipython",
    "version": 3
   },
   "file_extension": ".py",
   "mimetype": "text/x-python",
   "name": "python",
   "nbconvert_exporter": "python",
   "pygments_lexer": "ipython3",
   "version": "3.9.13"
  }
 },
 "nbformat": 4,
 "nbformat_minor": 5
}
