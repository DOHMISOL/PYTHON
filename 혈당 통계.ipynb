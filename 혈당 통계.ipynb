{
 "cells": [
  {
   "cell_type": "markdown",
   "id": "05fcc1f1-36e0-4b32-a378-dee278a37fa5",
   "metadata": {},
   "source": [
    "### 1. 라이브러리 설치"
   ]
  },
  {
   "cell_type": "code",
   "execution_count": 1,
   "id": "09039537-11d9-47cf-830e-78ee50542039",
   "metadata": {},
   "outputs": [],
   "source": [
    "import pandas as pd\n",
    "import numpy as np\n",
    "import random\n",
    "import matplotlib.pyplot as plt\n",
    "import seaborn as sns\n",
    "import scipy.stats as stats"
   ]
  },
  {
   "cell_type": "markdown",
   "id": "3a2572e5-ffc6-459d-877d-32d998057020",
   "metadata": {},
   "source": [
    "### 2. 모집단추출"
   ]
  },
  {
   "cell_type": "code",
   "execution_count": 2,
   "id": "26a48e9d-0cbf-4e77-a2cd-8161e184f669",
   "metadata": {},
   "outputs": [],
   "source": [
    "# 모집단(population) 설정"
   ]
  },
  {
   "cell_type": "code",
   "execution_count": 3,
   "id": "ae2b1d89-6528-4917-b0e1-9bc765e65db1",
   "metadata": {},
   "outputs": [],
   "source": [
    "data = pd.read_csv(\"./bloodsugar.csv\")"
   ]
  },
  {
   "cell_type": "code",
   "execution_count": 4,
   "id": "fc6acf20-99af-48f3-9068-8f8fc2cd4dba",
   "metadata": {
    "scrolled": true
   },
   "outputs": [
    {
     "data": {
      "text/html": [
       "<div>\n",
       "<style scoped>\n",
       "    .dataframe tbody tr th:only-of-type {\n",
       "        vertical-align: middle;\n",
       "    }\n",
       "\n",
       "    .dataframe tbody tr th {\n",
       "        vertical-align: top;\n",
       "    }\n",
       "\n",
       "    .dataframe thead th {\n",
       "        text-align: right;\n",
       "    }\n",
       "</style>\n",
       "<table border=\"1\" class=\"dataframe\">\n",
       "  <thead>\n",
       "    <tr style=\"text-align: right;\">\n",
       "      <th></th>\n",
       "      <th>Unnamed: 0</th>\n",
       "      <th>id</th>\n",
       "      <th>memb_id</th>\n",
       "      <th>get_time</th>\n",
       "      <th>device_id</th>\n",
       "      <th>bls_value</th>\n",
       "      <th>tag1</th>\n",
       "      <th>tag2</th>\n",
       "      <th>tag3</th>\n",
       "      <th>device_serial</th>\n",
       "      <th>create_dttm</th>\n",
       "    </tr>\n",
       "  </thead>\n",
       "  <tbody>\n",
       "    <tr>\n",
       "      <th>0</th>\n",
       "      <td>0</td>\n",
       "      <td>11</td>\n",
       "      <td>52a62c11-7c4f-4912-91c9-ff5c145328cd</td>\n",
       "      <td>2023-08-30 21:53:18</td>\n",
       "      <td>d7acb805-d4c7-4bb0-bea7-cf9db83efe81</td>\n",
       "      <td>145</td>\n",
       "      <td>9</td>\n",
       "      <td>0</td>\n",
       "      <td>NaN</td>\n",
       "      <td>B0:4A:6A:C3:4E:CC</td>\n",
       "      <td>2023-10-18 04:34:39.446448</td>\n",
       "    </tr>\n",
       "    <tr>\n",
       "      <th>1</th>\n",
       "      <td>1</td>\n",
       "      <td>12</td>\n",
       "      <td>52a62c11-7c4f-4912-91c9-ff5c145328cd</td>\n",
       "      <td>2023-08-31 06:15:02</td>\n",
       "      <td>5c46d4b4-ceaa-43a3-9d79-3e2360eec29c</td>\n",
       "      <td>229</td>\n",
       "      <td>2</td>\n",
       "      <td>0</td>\n",
       "      <td>닭복음</td>\n",
       "      <td>EC:49:97:03:AB:CF</td>\n",
       "      <td>2023-10-18 04:34:39.446448</td>\n",
       "    </tr>\n",
       "    <tr>\n",
       "      <th>2</th>\n",
       "      <td>2</td>\n",
       "      <td>13</td>\n",
       "      <td>52a62c11-7c4f-4912-91c9-ff5c145328cd</td>\n",
       "      <td>2023-08-31 23:09:23</td>\n",
       "      <td>d7acb805-d4c7-4bb0-bea7-cf9db83efe81</td>\n",
       "      <td>132</td>\n",
       "      <td>0</td>\n",
       "      <td>0</td>\n",
       "      <td>NaN</td>\n",
       "      <td>B0:4A:6A:C3:4E:CC</td>\n",
       "      <td>2023-10-18 04:34:39.446448</td>\n",
       "    </tr>\n",
       "    <tr>\n",
       "      <th>3</th>\n",
       "      <td>3</td>\n",
       "      <td>14</td>\n",
       "      <td>52a62c11-7c4f-4912-91c9-ff5c145328cd</td>\n",
       "      <td>2023-09-01 03:18:52</td>\n",
       "      <td>5c46d4b4-ceaa-43a3-9d79-3e2360eec29c</td>\n",
       "      <td>114</td>\n",
       "      <td>5</td>\n",
       "      <td>0</td>\n",
       "      <td>NaN</td>\n",
       "      <td>EC:49:97:03:AB:CF</td>\n",
       "      <td>2023-10-18 04:34:39.446448</td>\n",
       "    </tr>\n",
       "    <tr>\n",
       "      <th>4</th>\n",
       "      <td>4</td>\n",
       "      <td>15</td>\n",
       "      <td>52a62c11-7c4f-4912-91c9-ff5c145328cd</td>\n",
       "      <td>2023-09-01 03:18:42</td>\n",
       "      <td>d7acb805-d4c7-4bb0-bea7-cf9db83efe81</td>\n",
       "      <td>121</td>\n",
       "      <td>5</td>\n",
       "      <td>0</td>\n",
       "      <td>NaN</td>\n",
       "      <td>AC:4D:16:41:99:0C</td>\n",
       "      <td>2023-10-18 04:34:39.446448</td>\n",
       "    </tr>\n",
       "  </tbody>\n",
       "</table>\n",
       "</div>"
      ],
      "text/plain": [
       "   Unnamed: 0  id                               memb_id             get_time  \\\n",
       "0           0  11  52a62c11-7c4f-4912-91c9-ff5c145328cd  2023-08-30 21:53:18   \n",
       "1           1  12  52a62c11-7c4f-4912-91c9-ff5c145328cd  2023-08-31 06:15:02   \n",
       "2           2  13  52a62c11-7c4f-4912-91c9-ff5c145328cd  2023-08-31 23:09:23   \n",
       "3           3  14  52a62c11-7c4f-4912-91c9-ff5c145328cd  2023-09-01 03:18:52   \n",
       "4           4  15  52a62c11-7c4f-4912-91c9-ff5c145328cd  2023-09-01 03:18:42   \n",
       "\n",
       "                              device_id  bls_value  tag1  tag2 tag3  \\\n",
       "0  d7acb805-d4c7-4bb0-bea7-cf9db83efe81        145     9     0  NaN   \n",
       "1  5c46d4b4-ceaa-43a3-9d79-3e2360eec29c        229     2     0  닭복음   \n",
       "2  d7acb805-d4c7-4bb0-bea7-cf9db83efe81        132     0     0  NaN   \n",
       "3  5c46d4b4-ceaa-43a3-9d79-3e2360eec29c        114     5     0  NaN   \n",
       "4  d7acb805-d4c7-4bb0-bea7-cf9db83efe81        121     5     0  NaN   \n",
       "\n",
       "       device_serial                 create_dttm  \n",
       "0  B0:4A:6A:C3:4E:CC  2023-10-18 04:34:39.446448  \n",
       "1  EC:49:97:03:AB:CF  2023-10-18 04:34:39.446448  \n",
       "2  B0:4A:6A:C3:4E:CC  2023-10-18 04:34:39.446448  \n",
       "3  EC:49:97:03:AB:CF  2023-10-18 04:34:39.446448  \n",
       "4  AC:4D:16:41:99:0C  2023-10-18 04:34:39.446448  "
      ]
     },
     "execution_count": 4,
     "metadata": {},
     "output_type": "execute_result"
    }
   ],
   "source": [
    "data.head()"
   ]
  },
  {
   "cell_type": "code",
   "execution_count": 5,
   "id": "19f72e73-476a-4720-8acd-0793cafbebb4",
   "metadata": {},
   "outputs": [
    {
     "data": {
      "text/plain": [
       "array([9, 2, 0, 5, 3, 4, 6, 7, 8, 1], dtype=int64)"
      ]
     },
     "execution_count": 5,
     "metadata": {},
     "output_type": "execute_result"
    }
   ],
   "source": [
    "data[\"tag1\"].unique()"
   ]
  },
  {
   "cell_type": "code",
   "execution_count": 6,
   "id": "3933d5b6-98c3-4bda-8022-07012766660f",
   "metadata": {},
   "outputs": [],
   "source": [
    "# 데이터 전처리"
   ]
  },
  {
   "cell_type": "code",
   "execution_count": 7,
   "id": "0c87db46-8c8d-4f5e-a540-41a14b6d05cd",
   "metadata": {},
   "outputs": [],
   "source": [
    "data = data.drop(columns=['Unnamed: 0'], inplace=False)"
   ]
  },
  {
   "cell_type": "code",
   "execution_count": 8,
   "id": "61530998-b5af-4753-847a-c136e29ceaad",
   "metadata": {},
   "outputs": [],
   "source": [
    "data['get_time'] = pd.to_datetime(data['get_time'])"
   ]
  },
  {
   "cell_type": "code",
   "execution_count": 9,
   "id": "26773621-a4d9-45fb-a7d6-81f3b4acfed5",
   "metadata": {},
   "outputs": [
    {
     "data": {
      "text/plain": [
       "id                        int64\n",
       "memb_id                  object\n",
       "get_time         datetime64[ns]\n",
       "device_id                object\n",
       "bls_value                 int64\n",
       "tag1                      int64\n",
       "tag2                      int64\n",
       "tag3                     object\n",
       "device_serial            object\n",
       "create_dttm              object\n",
       "dtype: object"
      ]
     },
     "execution_count": 9,
     "metadata": {},
     "output_type": "execute_result"
    }
   ],
   "source": [
    "data.dtypes"
   ]
  },
  {
   "cell_type": "code",
   "execution_count": 10,
   "id": "520a4d76-74bb-4edf-ab55-9172dc99677b",
   "metadata": {},
   "outputs": [],
   "source": [
    "# 표본(sample) 크기 설정"
   ]
  },
  {
   "cell_type": "code",
   "execution_count": 11,
   "id": "d49f325c-a83e-40b1-8640-49914ef324a7",
   "metadata": {},
   "outputs": [],
   "source": [
    "sample_size = 100"
   ]
  },
  {
   "cell_type": "code",
   "execution_count": 12,
   "id": "56ef0807-e51d-4a2b-b1a9-8b959e2bc37f",
   "metadata": {},
   "outputs": [],
   "source": [
    "# 표본 추출(Random)"
   ]
  },
  {
   "cell_type": "code",
   "execution_count": 13,
   "id": "e6cff690-f16d-4470-90f3-6f0d0ebb6812",
   "metadata": {},
   "outputs": [],
   "source": [
    "sample = data.sample(n=sample_size)"
   ]
  },
  {
   "cell_type": "code",
   "execution_count": 19,
   "id": "443687b6-a771-4b64-953f-fa927ca0921f",
   "metadata": {},
   "outputs": [
    {
     "data": {
      "text/plain": [
       "id                        int64\n",
       "memb_id                  object\n",
       "get_time         datetime64[ns]\n",
       "device_id                object\n",
       "bls_value                 int64\n",
       "tag1                      int64\n",
       "tag2                      int64\n",
       "tag3                     object\n",
       "device_serial            object\n",
       "create_dttm              object\n",
       "dtype: object"
      ]
     },
     "execution_count": 19,
     "metadata": {},
     "output_type": "execute_result"
    }
   ],
   "source": [
    "sample.dtypes"
   ]
  },
  {
   "cell_type": "markdown",
   "id": "f51197d1-1e46-4196-b12b-1a4c07f2be1a",
   "metadata": {},
   "source": [
    "### 3. 기술통계"
   ]
  },
  {
   "cell_type": "code",
   "execution_count": 20,
   "id": "e69d4499-0bd0-47d4-8979-3d6dbfd8ac9a",
   "metadata": {},
   "outputs": [
    {
     "data": {
      "text/html": [
       "<div>\n",
       "<style scoped>\n",
       "    .dataframe tbody tr th:only-of-type {\n",
       "        vertical-align: middle;\n",
       "    }\n",
       "\n",
       "    .dataframe tbody tr th {\n",
       "        vertical-align: top;\n",
       "    }\n",
       "\n",
       "    .dataframe thead th {\n",
       "        text-align: right;\n",
       "    }\n",
       "</style>\n",
       "<table border=\"1\" class=\"dataframe\">\n",
       "  <thead>\n",
       "    <tr style=\"text-align: right;\">\n",
       "      <th></th>\n",
       "      <th>id</th>\n",
       "      <th>get_time</th>\n",
       "      <th>bls_value</th>\n",
       "      <th>tag1</th>\n",
       "      <th>tag2</th>\n",
       "    </tr>\n",
       "  </thead>\n",
       "  <tbody>\n",
       "    <tr>\n",
       "      <th>count</th>\n",
       "      <td>100.000000</td>\n",
       "      <td>100</td>\n",
       "      <td>100.000000</td>\n",
       "      <td>100.000000</td>\n",
       "      <td>100.0</td>\n",
       "    </tr>\n",
       "    <tr>\n",
       "      <th>mean</th>\n",
       "      <td>309.360000</td>\n",
       "      <td>2023-08-02 20:40:56.639999744</td>\n",
       "      <td>128.710000</td>\n",
       "      <td>2.120000</td>\n",
       "      <td>0.0</td>\n",
       "    </tr>\n",
       "    <tr>\n",
       "      <th>min</th>\n",
       "      <td>12.000000</td>\n",
       "      <td>2023-04-11 11:04:55</td>\n",
       "      <td>78.000000</td>\n",
       "      <td>0.000000</td>\n",
       "      <td>0.0</td>\n",
       "    </tr>\n",
       "    <tr>\n",
       "      <th>25%</th>\n",
       "      <td>148.750000</td>\n",
       "      <td>2023-06-05 16:29:40.750000128</td>\n",
       "      <td>115.750000</td>\n",
       "      <td>0.000000</td>\n",
       "      <td>0.0</td>\n",
       "    </tr>\n",
       "    <tr>\n",
       "      <th>50%</th>\n",
       "      <td>250.500000</td>\n",
       "      <td>2023-07-23 22:11:49.500000</td>\n",
       "      <td>125.500000</td>\n",
       "      <td>1.500000</td>\n",
       "      <td>0.0</td>\n",
       "    </tr>\n",
       "    <tr>\n",
       "      <th>75%</th>\n",
       "      <td>342.500000</td>\n",
       "      <td>2023-09-02 05:32:17.750000128</td>\n",
       "      <td>137.250000</td>\n",
       "      <td>4.000000</td>\n",
       "      <td>0.0</td>\n",
       "    </tr>\n",
       "    <tr>\n",
       "      <th>max</th>\n",
       "      <td>837.000000</td>\n",
       "      <td>2023-12-20 23:48:12</td>\n",
       "      <td>229.000000</td>\n",
       "      <td>9.000000</td>\n",
       "      <td>0.0</td>\n",
       "    </tr>\n",
       "    <tr>\n",
       "      <th>std</th>\n",
       "      <td>239.576964</td>\n",
       "      <td>NaN</td>\n",
       "      <td>23.772191</td>\n",
       "      <td>2.507685</td>\n",
       "      <td>0.0</td>\n",
       "    </tr>\n",
       "  </tbody>\n",
       "</table>\n",
       "</div>"
      ],
      "text/plain": [
       "               id                       get_time   bls_value        tag1  \\\n",
       "count  100.000000                            100  100.000000  100.000000   \n",
       "mean   309.360000  2023-08-02 20:40:56.639999744  128.710000    2.120000   \n",
       "min     12.000000            2023-04-11 11:04:55   78.000000    0.000000   \n",
       "25%    148.750000  2023-06-05 16:29:40.750000128  115.750000    0.000000   \n",
       "50%    250.500000     2023-07-23 22:11:49.500000  125.500000    1.500000   \n",
       "75%    342.500000  2023-09-02 05:32:17.750000128  137.250000    4.000000   \n",
       "max    837.000000            2023-12-20 23:48:12  229.000000    9.000000   \n",
       "std    239.576964                            NaN   23.772191    2.507685   \n",
       "\n",
       "        tag2  \n",
       "count  100.0  \n",
       "mean     0.0  \n",
       "min      0.0  \n",
       "25%      0.0  \n",
       "50%      0.0  \n",
       "75%      0.0  \n",
       "max      0.0  \n",
       "std      0.0  "
      ]
     },
     "execution_count": 20,
     "metadata": {},
     "output_type": "execute_result"
    }
   ],
   "source": [
    "sample.describe()"
   ]
  },
  {
   "cell_type": "code",
   "execution_count": 21,
   "id": "8e501147-a3e4-4c6a-9c81-d0f92d931427",
   "metadata": {},
   "outputs": [
    {
     "data": {
      "text/plain": [
       "<Figure size 1000x600 with 0 Axes>"
      ]
     },
     "execution_count": 21,
     "metadata": {},
     "output_type": "execute_result"
    },
    {
     "data": {
      "text/plain": [
       "<Figure size 1000x600 with 0 Axes>"
      ]
     },
     "metadata": {},
     "output_type": "display_data"
    }
   ],
   "source": [
    "# 그래프 그리기\n",
    "plt.figure(figsize=(10, 6))"
   ]
  },
  {
   "cell_type": "code",
   "execution_count": 27,
   "id": "3641e6e0-e653-43b2-b5a8-3b8b9e890029",
   "metadata": {},
   "outputs": [
    {
     "data": {
      "image/png": "[encoded data removed]",
      "text/plain": [
       "<Figure size 1000x600 with 1 Axes>"
      ]
     },
     "metadata": {},
     "output_type": "display_data"
    }
   ],
   "source": [
    "plt.figure(figsize=(10, 6))\n",
    "sns.kdeplot(data=sample, x='get_time', y='bls_value', cmap='viridis', fill=True)\n",
    "plt.title('Kernel Density Estimation of bls_value over time')\n",
    "plt.xlabel('get_time')\n",
    "plt.ylabel('bls_value')\n",
    "plt.xticks(rotation=45)  # x축 레이블 회전\n",
    "plt.show()"
   ]
  },
  {
   "cell_type": "code",
   "execution_count": 38,
   "id": "4f74aec5-21e0-4337-b017-89d051d1ba1e",
   "metadata": {},
   "outputs": [
    {
     "data": {
      "text/plain": [
       "id                int64\n",
       "memb_id          object\n",
       "get_time         object\n",
       "device_id        object\n",
       "bls_value         int64\n",
       "tag1              int64\n",
       "tag2              int64\n",
       "tag3             object\n",
       "device_serial    object\n",
       "create_dttm      object\n",
       "dtype: object"
      ]
     },
     "execution_count": 38,
     "metadata": {},
     "output_type": "execute_result"
    }
   ],
   "source": [
    "sample.dtypes"
   ]
  },
  {
   "cell_type": "markdown",
   "id": "2cb7576f-04e6-43c8-8933-c813bfeb832d",
   "metadata": {},
   "source": [
    "### 4. 추론통계"
   ]
  },
  {
   "cell_type": "code",
   "execution_count": 31,
   "id": "23ee005e-b587-4dd7-93ef-f8c13636dfc1",
   "metadata": {},
   "outputs": [],
   "source": [
    "# 가상의 혈당 데이터 생성\n",
    "np.random.seed(42)  # 시드 설정을 통해 재현성 확보\n",
    "data1 = pd.DataFrame({\n",
    "    'morning': np.random.normal(loc=120, scale=10, size=50),  # 아침 혈당\n",
    "    'evening': np.random.normal(loc=130, scale=15, size=50)   # 저녁 혈당\n",
    "})"
   ]
  },
  {
   "cell_type": "code",
   "execution_count": 35,
   "id": "dc95abbc-5927-4902-ae13-9a2ebac6e656",
   "metadata": {},
   "outputs": [
    {
     "data": {
      "text/html": [
       "<div>\n",
       "<style scoped>\n",
       "    .dataframe tbody tr th:only-of-type {\n",
       "        vertical-align: middle;\n",
       "    }\n",
       "\n",
       "    .dataframe tbody tr th {\n",
       "        vertical-align: top;\n",
       "    }\n",
       "\n",
       "    .dataframe thead th {\n",
       "        text-align: right;\n",
       "    }\n",
       "</style>\n",
       "<table border=\"1\" class=\"dataframe\">\n",
       "  <thead>\n",
       "    <tr style=\"text-align: right;\">\n",
       "      <th></th>\n",
       "      <th>morning</th>\n",
       "      <th>evening</th>\n",
       "    </tr>\n",
       "  </thead>\n",
       "  <tbody>\n",
       "    <tr>\n",
       "      <th>0</th>\n",
       "      <td>124.967142</td>\n",
       "      <td>134.861260</td>\n",
       "    </tr>\n",
       "    <tr>\n",
       "      <th>1</th>\n",
       "      <td>118.617357</td>\n",
       "      <td>124.223766</td>\n",
       "    </tr>\n",
       "    <tr>\n",
       "      <th>2</th>\n",
       "      <td>126.476885</td>\n",
       "      <td>119.846170</td>\n",
       "    </tr>\n",
       "    <tr>\n",
       "      <th>3</th>\n",
       "      <td>135.230299</td>\n",
       "      <td>139.175144</td>\n",
       "    </tr>\n",
       "    <tr>\n",
       "      <th>4</th>\n",
       "      <td>117.658466</td>\n",
       "      <td>145.464993</td>\n",
       "    </tr>\n",
       "  </tbody>\n",
       "</table>\n",
       "</div>"
      ],
      "text/plain": [
       "      morning     evening\n",
       "0  124.967142  134.861260\n",
       "1  118.617357  124.223766\n",
       "2  126.476885  119.846170\n",
       "3  135.230299  139.175144\n",
       "4  117.658466  145.464993"
      ]
     },
     "execution_count": 35,
     "metadata": {},
     "output_type": "execute_result"
    }
   ],
   "source": [
    "data.head()"
   ]
  },
  {
   "cell_type": "code",
   "execution_count": 32,
   "id": "8f9b03d2-13e3-4ee2-8f82-0f2719c50ce8",
   "metadata": {},
   "outputs": [
    {
     "name": "stdout",
     "output_type": "stream",
     "text": [
      "T-Statistic: -5.4997664919141105, P-Value: 3.0303503261375475e-07\n",
      "두 그룹 간의 혈당 수준에는 통계적으로 유의한 차이가 있습니다.\n"
     ]
    }
   ],
   "source": [
    "# 독립표본 t-검정 수행\n",
    "t_stat, p_value = stats.ttest_ind(data['morning'], data['evening'])\n",
    "print(f\"T-Statistic: {t_stat}, P-Value: {p_value}\")\n",
    "\n",
    "# 결과 해석\n",
    "alpha = 0.05\n",
    "if p_value < alpha:\n",
    "    print(\"두 그룹 간의 혈당 수준에는 통계적으로 유의한 차이가 있습니다.\")\n",
    "else:\n",
    "    print(\"두 그룹 간의 혈당 수준에는 통계적으로 유의한 차이가 없습니다.\")\n"
   ]
  },
  {
   "cell_type": "code",
   "execution_count": 33,
   "id": "88c9fde1-98a6-498d-9af1-1e253e10e88e",
   "metadata": {},
   "outputs": [
    {
     "name": "stdout",
     "output_type": "stream",
     "text": [
      "상관 계수: 0.1100717853401607\n",
      "아침과 저녁 혈당 간에는 선형 관계가 적거나 없습니다.\n"
     ]
    }
   ],
   "source": [
    "# 상관 분석 수행\n",
    "correlation = data['morning'].corr(data['evening'])\n",
    "print(f\"상관 계수: {correlation}\")\n",
    "\n",
    "# 결과 해석\n",
    "if abs(correlation) >= 0.7:\n",
    "    print(\"아침과 저녁 혈당 간에 강한 양의 선형 관계가 있습니다.\")\n",
    "elif 0.5 <= abs(correlation) < 0.7:\n",
    "    print(\"아침과 저녁 혈당 간에 중간 정도의 양의 선형 관계가 있습니다.\")\n",
    "else:\n",
    "    print(\"아침과 저녁 혈당 간에는 선형 관계가 적거나 없습니다.\")\n"
   ]
  },
  {
   "cell_type": "code",
   "execution_count": null,
   "id": "ff16bb61-a530-4b63-8598-a63629fbdace",
   "metadata": {},
   "outputs": [],
   "source": []
  }
 ],
 "metadata": {
  "kernelspec": {
   "display_name": "Python 3 (ipykernel)",
   "language": "python",
   "name": "python3"
  },
  "language_info": {
   "codemirror_mode": {
    "name": "ipython",
    "version": 3
   },
   "file_extension": ".py",
   "mimetype": "text/x-python",
   "name": "python",
   "nbconvert_exporter": "python",
   "pygments_lexer": "ipython3",
   "version": "3.10.9"
  }
 },
 "nbformat": 4,
 "nbformat_minor": 5
}
