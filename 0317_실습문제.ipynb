{
 "cells": [
  {
   "cell_type": "code",
   "execution_count": null,
   "id": "51cec144-253e-48c9-8f47-c0bf344c3f52",
   "metadata": {},
   "outputs": [],
   "source": [
    "#문제tvList2 = [ 'UN40EN001', 'LEDTV_UN40EN002','LEDTV_LEDTV_UN40EN003’, ‘UN40EN004’]\n",
    "리스트에서 LEDTV_가 한 개만 앞에 붙도록 하세요\n",
    "(* 대소문자 구분없이 전부 처리!)\n",
    "힌트: \n",
    "A = “haiteam_”\n",
    "B = A*3\n",
    "B <- haiteam_haiteam_haiteam_"
   ]
  },
  {
   "cell_type": "code",
   "execution_count": 2,
   "id": "f84be525-5281-4790-84f2-a09c14d5fa8f",
   "metadata": {},
   "outputs": [
    {
     "data": {
      "text/plain": [
       "['LEDTV_UN40EN001', 'LEDTV_UN40EN002', 'LEDTV_UN40EN003', 'LEDTV_UN40EN004']"
      ]
     },
     "execution_count": 2,
     "metadata": {},
     "output_type": "execute_result"
    }
   ],
   "source": [
    "tvList2 = [\"UN40EN001\",\"LEDTV_UN40EN002\",\"LEDTV_LEDTV_UN40EN003\",\"UN40EN004\"]\n",
    "\n",
    "preFix = \"LEDTV_\"\n",
    "\n",
    "for i in range(0,len(tvList2)):\n",
    "    if tvList2[i].count(preFix) == 0:\n",
    "        tvList2[i]= preFix + tvList2[i]\n",
    "    elif tvList2[i].count(preFix) == 1:\n",
    "        pass\n",
    "    elif tvList2[i].count(preFix) >= 2:\n",
    "        tvList2[i] = tvList2[i].replace(preFix,'')\n",
    "        tvList2[i]= preFix + tvList2[i]\n",
    "\n",
    "tvList2"
   ]
  }
 ],
 "metadata": {
  "kernelspec": {
   "display_name": "Python 3 (ipykernel)",
   "language": "python",
   "name": "python3"
  },
  "language_info": {
   "codemirror_mode": {
    "name": "ipython",
    "version": 3
   },
   "file_extension": ".py",
   "mimetype": "text/x-python",
   "name": "python",
   "nbconvert_exporter": "python",
   "pygments_lexer": "ipython3",
   "version": "3.9.13"
  }
 },
 "nbformat": 4,
 "nbformat_minor": 5
}
