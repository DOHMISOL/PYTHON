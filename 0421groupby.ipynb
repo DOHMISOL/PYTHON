{
 "cells": [
  {
   "cell_type": "code",
   "execution_count": 10,
   "id": "d828724f-418d-46eb-b901-e09abc378ef4",
   "metadata": {
    "tags": []
   },
   "outputs": [],
   "source": [
    "import pandas as pd\n",
    "columns2=[\"성별\",\"이름\",\"나이\",\"거주지\",\"해피포인트\"]\n",
    "row1 = [\"남성\",\"김효관\", \"42\",\"서울\",80]\n",
    "row2 = [\"여성\",\"안민정\", \"40\",\"창원\",75]\n",
    "row3 = [\"남성\",\"김어진\", \"10\",\"서울\",65]\n",
    "row4 = [\"남성\",\"이종수\", \"42\",\"경기도\",95]\n",
    "row5 = [\"여성\",\"이지슬\", \"26\",\"경기도\",80]\n",
    "\n",
    "indata = pd.DataFrame( [row1,row2,row3,row4,row5] )\n",
    "indata.columns = columns2"
   ]
  },
  {
   "cell_type": "code",
   "execution_count": 9,
   "id": "7aab8d19-1018-449f-b262-c43abde4babf",
   "metadata": {},
   "outputs": [],
   "source": [
    "### 1. 성별 해피포인트 평균"
   ]
  },
  {
   "cell_type": "code",
   "execution_count": 10,
   "id": "93191607-f7e9-49aa-b60a-229606ef736a",
   "metadata": {},
   "outputs": [],
   "source": [
    "#### 그룹키 성별[해피포인트] <- 집계함수(mean)"
   ]
  },
  {
   "cell_type": "code",
   "execution_count": 11,
   "id": "3c5480a8-a5ae-4bd5-b5e6-d2a4541d10e2",
   "metadata": {},
   "outputs": [],
   "source": [
    "groupKey = [\"성별\"]"
   ]
  },
  {
   "cell_type": "code",
   "execution_count": null,
   "id": "604176bd-dc14-42d7-8a1d-263a1edaf870",
   "metadata": {},
   "outputs": [],
   "source": [
    "indata.groupby(by=groupKey)[\"해피포인트\"].agg([\"mean\"])"
   ]
  },
  {
   "cell_type": "code",
   "execution_count": 14,
   "id": "a5df1ee6-780c-4870-bcfa-9a116a08715d",
   "metadata": {},
   "outputs": [],
   "source": [
    "groupKey = [\"성별\",\"거주지\"]"
   ]
  },
  {
   "cell_type": "code",
   "execution_count": 15,
   "id": "f174e509-48d3-490e-97e3-38ee62d21023",
   "metadata": {},
   "outputs": [
    {
     "data": {
      "text/html": [
       "<div>\n",
       "<style scoped>\n",
       "    .dataframe tbody tr th:only-of-type {\n",
       "        vertical-align: middle;\n",
       "    }\n",
       "\n",
       "    .dataframe tbody tr th {\n",
       "        vertical-align: top;\n",
       "    }\n",
       "\n",
       "    .dataframe thead th {\n",
       "        text-align: right;\n",
       "    }\n",
       "</style>\n",
       "<table border=\"1\" class=\"dataframe\">\n",
       "  <thead>\n",
       "    <tr style=\"text-align: right;\">\n",
       "      <th></th>\n",
       "      <th></th>\n",
       "      <th>mean</th>\n",
       "    </tr>\n",
       "    <tr>\n",
       "      <th>성별</th>\n",
       "      <th>거주지</th>\n",
       "      <th></th>\n",
       "    </tr>\n",
       "  </thead>\n",
       "  <tbody>\n",
       "    <tr>\n",
       "      <th rowspan=\"2\" valign=\"top\">남성</th>\n",
       "      <th>경기도</th>\n",
       "      <td>95.0</td>\n",
       "    </tr>\n",
       "    <tr>\n",
       "      <th>서울</th>\n",
       "      <td>72.5</td>\n",
       "    </tr>\n",
       "    <tr>\n",
       "      <th rowspan=\"2\" valign=\"top\">여성</th>\n",
       "      <th>경기도</th>\n",
       "      <td>80.0</td>\n",
       "    </tr>\n",
       "    <tr>\n",
       "      <th>창원</th>\n",
       "      <td>75.0</td>\n",
       "    </tr>\n",
       "  </tbody>\n",
       "</table>\n",
       "</div>"
      ],
      "text/plain": [
       "        mean\n",
       "성별 거주지      \n",
       "남성 경기도  95.0\n",
       "   서울   72.5\n",
       "여성 경기도  80.0\n",
       "   창원   75.0"
      ]
     },
     "execution_count": 15,
     "metadata": {},
     "output_type": "execute_result"
    }
   ],
   "source": [
    "indata.groupby(by=groupKey)[\"해피포인트\"].agg([\"mean\"])"
   ]
  },
  {
   "cell_type": "code",
   "execution_count": 19,
   "id": "962a4e36-3e81-4837-ba54-bac08ecbc2ca",
   "metadata": {},
   "outputs": [
    {
     "data": {
      "text/html": [
       "<div>\n",
       "<style scoped>\n",
       "    .dataframe tbody tr th:only-of-type {\n",
       "        vertical-align: middle;\n",
       "    }\n",
       "\n",
       "    .dataframe tbody tr th {\n",
       "        vertical-align: top;\n",
       "    }\n",
       "\n",
       "    .dataframe thead th {\n",
       "        text-align: right;\n",
       "    }\n",
       "</style>\n",
       "<table border=\"1\" class=\"dataframe\">\n",
       "  <thead>\n",
       "    <tr style=\"text-align: right;\">\n",
       "      <th></th>\n",
       "      <th>REGIONID</th>\n",
       "      <th>PRODUCT</th>\n",
       "      <th>YEARWEEK</th>\n",
       "      <th>QTY</th>\n",
       "    </tr>\n",
       "  </thead>\n",
       "  <tbody>\n",
       "    <tr>\n",
       "      <th>0</th>\n",
       "      <td>A60</td>\n",
       "      <td>PRODUCT4</td>\n",
       "      <td>201402</td>\n",
       "      <td>71.0</td>\n",
       "    </tr>\n",
       "    <tr>\n",
       "      <th>1</th>\n",
       "      <td>A60</td>\n",
       "      <td>PRODUCT59</td>\n",
       "      <td>201402</td>\n",
       "      <td>22275.0</td>\n",
       "    </tr>\n",
       "    <tr>\n",
       "      <th>2</th>\n",
       "      <td>A60</td>\n",
       "      <td>PRODUCT34</td>\n",
       "      <td>201402</td>\n",
       "      <td>4463.0</td>\n",
       "    </tr>\n",
       "    <tr>\n",
       "      <th>3</th>\n",
       "      <td>A60</td>\n",
       "      <td>PRODUCT47</td>\n",
       "      <td>201402</td>\n",
       "      <td>0.0</td>\n",
       "    </tr>\n",
       "    <tr>\n",
       "      <th>4</th>\n",
       "      <td>A60</td>\n",
       "      <td>PRODUCT56</td>\n",
       "      <td>201402</td>\n",
       "      <td>23.0</td>\n",
       "    </tr>\n",
       "    <tr>\n",
       "      <th>...</th>\n",
       "      <td>...</td>\n",
       "      <td>...</td>\n",
       "      <td>...</td>\n",
       "      <td>...</td>\n",
       "    </tr>\n",
       "    <tr>\n",
       "      <th>124653</th>\n",
       "      <td>A10</td>\n",
       "      <td>PRODUCT60</td>\n",
       "      <td>201630</td>\n",
       "      <td>824.0</td>\n",
       "    </tr>\n",
       "    <tr>\n",
       "      <th>124654</th>\n",
       "      <td>A10</td>\n",
       "      <td>PRODUCT56</td>\n",
       "      <td>201630</td>\n",
       "      <td>275.0</td>\n",
       "    </tr>\n",
       "    <tr>\n",
       "      <th>124655</th>\n",
       "      <td>A10</td>\n",
       "      <td>PRODUCT61</td>\n",
       "      <td>201630</td>\n",
       "      <td>0.0</td>\n",
       "    </tr>\n",
       "    <tr>\n",
       "      <th>124656</th>\n",
       "      <td>A10</td>\n",
       "      <td>PRODUCT12</td>\n",
       "      <td>201630</td>\n",
       "      <td>15021.0</td>\n",
       "    </tr>\n",
       "    <tr>\n",
       "      <th>124657</th>\n",
       "      <td>A10</td>\n",
       "      <td>PRODUCT1</td>\n",
       "      <td>201630</td>\n",
       "      <td>568.0</td>\n",
       "    </tr>\n",
       "  </tbody>\n",
       "</table>\n",
       "<p>124658 rows × 4 columns</p>\n",
       "</div>"
      ],
      "text/plain": [
       "       REGIONID    PRODUCT  YEARWEEK      QTY\n",
       "0           A60   PRODUCT4    201402     71.0\n",
       "1           A60  PRODUCT59    201402  22275.0\n",
       "2           A60  PRODUCT34    201402   4463.0\n",
       "3           A60  PRODUCT47    201402      0.0\n",
       "4           A60  PRODUCT56    201402     23.0\n",
       "...         ...        ...       ...      ...\n",
       "124653      A10  PRODUCT60    201630    824.0\n",
       "124654      A10  PRODUCT56    201630    275.0\n",
       "124655      A10  PRODUCT61    201630      0.0\n",
       "124656      A10  PRODUCT12    201630  15021.0\n",
       "124657      A10   PRODUCT1    201630    568.0\n",
       "\n",
       "[124658 rows x 4 columns]"
      ]
     },
     "execution_count": 19,
     "metadata": {},
     "output_type": "execute_result"
    }
   ],
   "source": [
    "pd.read_csv(\"../dataset/kopo_channel_seasonality_new.csv\")"
   ]
  },
  {
   "cell_type": "code",
   "execution_count": 20,
   "id": "fca69b80-f0c7-40b5-bfa7-c86f6c877b3f",
   "metadata": {
    "collapsed": true,
    "jupyter": {
     "outputs_hidden": true
    },
    "tags": []
   },
   "outputs": [
    {
     "ename": "KeyError",
     "evalue": "'YEARWEEK'",
     "output_type": "error",
     "traceback": [
      "\u001b[1;31m---------------------------------------------------------------------------\u001b[0m",
      "\u001b[1;31mKeyError\u001b[0m                                  Traceback (most recent call last)",
      "\u001b[1;32m~\\anaconda3\\lib\\site-packages\\pandas\\core\\indexes\\base.py\u001b[0m in \u001b[0;36mget_loc\u001b[1;34m(self, key, method, tolerance)\u001b[0m\n\u001b[0;32m   3628\u001b[0m             \u001b[1;32mtry\u001b[0m\u001b[1;33m:\u001b[0m\u001b[1;33m\u001b[0m\u001b[1;33m\u001b[0m\u001b[0m\n\u001b[1;32m-> 3629\u001b[1;33m                 \u001b[1;32mreturn\u001b[0m \u001b[0mself\u001b[0m\u001b[1;33m.\u001b[0m\u001b[0m_engine\u001b[0m\u001b[1;33m.\u001b[0m\u001b[0mget_loc\u001b[0m\u001b[1;33m(\u001b[0m\u001b[0mcasted_key\u001b[0m\u001b[1;33m)\u001b[0m\u001b[1;33m\u001b[0m\u001b[1;33m\u001b[0m\u001b[0m\n\u001b[0m\u001b[0;32m   3630\u001b[0m             \u001b[1;32mexcept\u001b[0m \u001b[0mKeyError\u001b[0m \u001b[1;32mas\u001b[0m \u001b[0merr\u001b[0m\u001b[1;33m:\u001b[0m\u001b[1;33m\u001b[0m\u001b[1;33m\u001b[0m\u001b[0m\n",
      "\u001b[1;32m~\\anaconda3\\lib\\site-packages\\pandas\\_libs\\index.pyx\u001b[0m in \u001b[0;36mpandas._libs.index.IndexEngine.get_loc\u001b[1;34m()\u001b[0m\n",
      "\u001b[1;32m~\\anaconda3\\lib\\site-packages\\pandas\\_libs\\index.pyx\u001b[0m in \u001b[0;36mpandas._libs.index.IndexEngine.get_loc\u001b[1;34m()\u001b[0m\n",
      "\u001b[1;32mpandas\\_libs\\hashtable_class_helper.pxi\u001b[0m in \u001b[0;36mpandas._libs.hashtable.PyObjectHashTable.get_item\u001b[1;34m()\u001b[0m\n",
      "\u001b[1;32mpandas\\_libs\\hashtable_class_helper.pxi\u001b[0m in \u001b[0;36mpandas._libs.hashtable.PyObjectHashTable.get_item\u001b[1;34m()\u001b[0m\n",
      "\u001b[1;31mKeyError\u001b[0m: 'YEARWEEK'",
      "\nThe above exception was the direct cause of the following exception:\n",
      "\u001b[1;31mKeyError\u001b[0m                                  Traceback (most recent call last)",
      "\u001b[1;32m~\\AppData\\Local\\Temp\\ipykernel_5936\\4257768974.py\u001b[0m in \u001b[0;36m<module>\u001b[1;34m\u001b[0m\n\u001b[1;32m----> 1\u001b[1;33m \u001b[0mindata\u001b[0m\u001b[1;33m[\u001b[0m\u001b[1;34m\"YEAR\"\u001b[0m\u001b[1;33m]\u001b[0m \u001b[1;33m=\u001b[0m \u001b[0mindata\u001b[0m\u001b[1;33m[\u001b[0m\u001b[1;34m\"YEARWEEK\"\u001b[0m\u001b[1;33m]\u001b[0m\u001b[1;33m.\u001b[0m\u001b[0mastype\u001b[0m\u001b[1;33m(\u001b[0m\u001b[0mstr\u001b[0m\u001b[1;33m)\u001b[0m\u001b[1;33m.\u001b[0m\u001b[0mstr\u001b[0m\u001b[1;33m[\u001b[0m\u001b[1;36m0\u001b[0m\u001b[1;33m:\u001b[0m\u001b[1;36m4\u001b[0m\u001b[1;33m]\u001b[0m\u001b[1;33m\u001b[0m\u001b[1;33m\u001b[0m\u001b[0m\n\u001b[0m",
      "\u001b[1;32m~\\anaconda3\\lib\\site-packages\\pandas\\core\\frame.py\u001b[0m in \u001b[0;36m__getitem__\u001b[1;34m(self, key)\u001b[0m\n\u001b[0;32m   3503\u001b[0m             \u001b[1;32mif\u001b[0m \u001b[0mself\u001b[0m\u001b[1;33m.\u001b[0m\u001b[0mcolumns\u001b[0m\u001b[1;33m.\u001b[0m\u001b[0mnlevels\u001b[0m \u001b[1;33m>\u001b[0m \u001b[1;36m1\u001b[0m\u001b[1;33m:\u001b[0m\u001b[1;33m\u001b[0m\u001b[1;33m\u001b[0m\u001b[0m\n\u001b[0;32m   3504\u001b[0m                 \u001b[1;32mreturn\u001b[0m \u001b[0mself\u001b[0m\u001b[1;33m.\u001b[0m\u001b[0m_getitem_multilevel\u001b[0m\u001b[1;33m(\u001b[0m\u001b[0mkey\u001b[0m\u001b[1;33m)\u001b[0m\u001b[1;33m\u001b[0m\u001b[1;33m\u001b[0m\u001b[0m\n\u001b[1;32m-> 3505\u001b[1;33m             \u001b[0mindexer\u001b[0m \u001b[1;33m=\u001b[0m \u001b[0mself\u001b[0m\u001b[1;33m.\u001b[0m\u001b[0mcolumns\u001b[0m\u001b[1;33m.\u001b[0m\u001b[0mget_loc\u001b[0m\u001b[1;33m(\u001b[0m\u001b[0mkey\u001b[0m\u001b[1;33m)\u001b[0m\u001b[1;33m\u001b[0m\u001b[1;33m\u001b[0m\u001b[0m\n\u001b[0m\u001b[0;32m   3506\u001b[0m             \u001b[1;32mif\u001b[0m \u001b[0mis_integer\u001b[0m\u001b[1;33m(\u001b[0m\u001b[0mindexer\u001b[0m\u001b[1;33m)\u001b[0m\u001b[1;33m:\u001b[0m\u001b[1;33m\u001b[0m\u001b[1;33m\u001b[0m\u001b[0m\n\u001b[0;32m   3507\u001b[0m                 \u001b[0mindexer\u001b[0m \u001b[1;33m=\u001b[0m \u001b[1;33m[\u001b[0m\u001b[0mindexer\u001b[0m\u001b[1;33m]\u001b[0m\u001b[1;33m\u001b[0m\u001b[1;33m\u001b[0m\u001b[0m\n",
      "\u001b[1;32m~\\anaconda3\\lib\\site-packages\\pandas\\core\\indexes\\base.py\u001b[0m in \u001b[0;36mget_loc\u001b[1;34m(self, key, method, tolerance)\u001b[0m\n\u001b[0;32m   3629\u001b[0m                 \u001b[1;32mreturn\u001b[0m \u001b[0mself\u001b[0m\u001b[1;33m.\u001b[0m\u001b[0m_engine\u001b[0m\u001b[1;33m.\u001b[0m\u001b[0mget_loc\u001b[0m\u001b[1;33m(\u001b[0m\u001b[0mcasted_key\u001b[0m\u001b[1;33m)\u001b[0m\u001b[1;33m\u001b[0m\u001b[1;33m\u001b[0m\u001b[0m\n\u001b[0;32m   3630\u001b[0m             \u001b[1;32mexcept\u001b[0m \u001b[0mKeyError\u001b[0m \u001b[1;32mas\u001b[0m \u001b[0merr\u001b[0m\u001b[1;33m:\u001b[0m\u001b[1;33m\u001b[0m\u001b[1;33m\u001b[0m\u001b[0m\n\u001b[1;32m-> 3631\u001b[1;33m                 \u001b[1;32mraise\u001b[0m \u001b[0mKeyError\u001b[0m\u001b[1;33m(\u001b[0m\u001b[0mkey\u001b[0m\u001b[1;33m)\u001b[0m \u001b[1;32mfrom\u001b[0m \u001b[0merr\u001b[0m\u001b[1;33m\u001b[0m\u001b[1;33m\u001b[0m\u001b[0m\n\u001b[0m\u001b[0;32m   3632\u001b[0m             \u001b[1;32mexcept\u001b[0m \u001b[0mTypeError\u001b[0m\u001b[1;33m:\u001b[0m\u001b[1;33m\u001b[0m\u001b[1;33m\u001b[0m\u001b[0m\n\u001b[0;32m   3633\u001b[0m                 \u001b[1;31m# If we have a listlike key, _check_indexing_error will raise\u001b[0m\u001b[1;33m\u001b[0m\u001b[1;33m\u001b[0m\u001b[0m\n",
      "\u001b[1;31mKeyError\u001b[0m: 'YEARWEEK'"
     ]
    }
   ],
   "source": [
    "indata[\"YEAR\"] = indata[\"YEARWEEK\"].astype(str).str[0:4]"
   ]
  },
  {
   "cell_type": "code",
   "execution_count": null,
   "id": "e71c5bae-a52e-4d38-83ce-7f0e46d7bdd1",
   "metadata": {},
   "outputs": [],
   "source": [
    "a60p4Data2  = indata.loc[(indata.REGIONID==\"A60\")&\n",
    "               \n",
    "                         \n",
    "                         (indata.PRODUCT==\"PRODUCT4\")]"
   ]
  },
  {
   "cell_type": "code",
   "execution_count": null,
   "id": "9ffcaffa-cf64-48e1-a9e0-eed2119ba277",
   "metadata": {},
   "outputs": [],
   "source": [
    "a60p4Data2 "
   ]
  },
  {
   "cell_type": "code",
   "execution_count": 21,
   "id": "45e6651f-783d-4d6b-8054-3dbcc8e91728",
   "metadata": {},
   "outputs": [],
   "source": [
    "groupKey = [\"YEAR\"]"
   ]
  },
  {
   "cell_type": "code",
   "execution_count": null,
   "id": "e53b2283-114b-436b-9430-b2f55f6a0b22",
   "metadata": {},
   "outputs": [],
   "source": [
    "indata.groupby(groupKey)[\"QTY\"].agg([\"mean\"])"
   ]
  },
  {
   "cell_type": "code",
   "execution_count": null,
   "id": "c82bd819-8851-4969-9f62-ef3e14387bef",
   "metadata": {},
   "outputs": [],
   "source": [
    "#(2014, 2015, 2016)\n",
    "indata.groupby(연도) -> 데이터가 몇줄나올까요?"
   ]
  },
  {
   "cell_type": "code",
   "execution_count": 1,
   "id": "b5e6c07b-8935-4b53-8f4f-ffd9a79d609f",
   "metadata": {},
   "outputs": [],
   "source": [
    "import pandas as pd\n"
   ]
  }
 ],
 "metadata": {
  "kernelspec": {
   "display_name": "Python 3 (ipykernel)",
   "language": "python",
   "name": "python3"
  },
  "language_info": {
   "codemirror_mode": {
    "name": "ipython",
    "version": 3
   },
   "file_extension": ".py",
   "mimetype": "text/x-python",
   "name": "python",
   "nbconvert_exporter": "python",
   "pygments_lexer": "ipython3",
   "version": "3.9.13"
  }
 },
 "nbformat": 4,
 "nbformat_minor": 5
}
