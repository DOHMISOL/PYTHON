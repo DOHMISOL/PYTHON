{
 "cells": [
  {
   "cell_type": "code",
   "execution_count": null,
   "id": "0bd7ef46-4f27-400b-b61a-14e9899b7a13",
   "metadata": {},
   "outputs": [],
   "source": [
    "#문제1번 . 아래의 라이브러리를 활용하여 위의 예시와 같이 작동하도록 구현하세요. "
   ]
  },
  {
   "cell_type": "code",
   "execution_count": 17,
   "id": "d2ed78f4-37c5-4015-8966-041b63b5f202",
   "metadata": {},
   "outputs": [
    {
     "name": "stdout",
     "output_type": "stream",
     "text": [
      "201933\n"
     ]
    }
   ],
   "source": [
    "from isoweek import Week\n",
    "\n",
    "def preWeek(inputValue,inputWeek):\n",
    "    currYear = inputValue[:4]\n",
    "    currWeek = inputValue[4:6]\n",
    "\n",
    "    currYear = int(currYear)\n",
    "    currWeek = int(currWeek)\n",
    "    inputWeek = int(inputWeek)\n",
    "    calWeek = currWeek - inputWeek\n",
    "\n",
    "    if calWeek <= 0:\n",
    "        YearToWeek = Week.last_week_of_year(currYear-1).week\n",
    "        currYear = currYear - 1\n",
    "        currWeek = YearToWeek - inputWeek + currWeek\n",
    "        return(str(currYear) + str(currWeek))\n",
    "    else:\n",
    "        return(str(currYear) + str(calWeek))\n",
    "\n",
    "print( preWeek(\"202001\", \"20\") )"
   ]
  },
  {
   "cell_type": "code",
   "execution_count": 57,
   "id": "57352088-72c4-40ba-b148-cc7ebc22eaea",
   "metadata": {},
   "outputs": [
    {
     "name": "stdout",
     "output_type": "stream",
     "text": [
      "2023-04-16 11:51:42.947564\n"
     ]
    }
   ],
   "source": [
    "from datetime import datetime\n",
    "now = datetime.now()\n",
    "print(now)"
   ]
  },
  {
   "cell_type": "code",
   "execution_count": 58,
   "id": "7f9a2fd9-306f-4b3d-8bfc-c351628c0811",
   "metadata": {},
   "outputs": [
    {
     "name": "stdout",
     "output_type": "stream",
     "text": [
      "2023-04-16 11:51:43.214405\n"
     ]
    }
   ],
   "source": [
    "from datetime import datetime\n",
    "now = datetime.now()\n",
    "print(now)"
   ]
  },
  {
   "cell_type": "code",
   "execution_count": 59,
   "id": "1631acd4-0bfe-47bb-861a-98f6f1aa4e11",
   "metadata": {},
   "outputs": [
    {
     "name": "stdout",
     "output_type": "stream",
     "text": [
      "2023-04-16 11:51:43.388841\n"
     ]
    }
   ],
   "source": [
    "today = datetime.today()\n",
    "print(today)"
   ]
  },
  {
   "cell_type": "code",
   "execution_count": 60,
   "id": "8e2057cf-9842-4920-90e8-3bed6c44172a",
   "metadata": {},
   "outputs": [
    {
     "name": "stdout",
     "output_type": "stream",
     "text": [
      "11:51:43.581522\n"
     ]
    }
   ],
   "source": [
    "now = datetime.now()\n",
    "print(now.time())"
   ]
  },
  {
   "cell_type": "code",
   "execution_count": 73,
   "id": "b88b553a-ea52-4bd5-848c-b5a68ff1b58b",
   "metadata": {},
   "outputs": [
    {
     "name": "stdout",
     "output_type": "stream",
     "text": [
      "2023\n"
     ]
    }
   ],
   "source": [
    "from datetime import datetime\n",
    "now = datetime.now()\n",
    "print(now.year)"
   ]
  },
  {
   "cell_type": "code",
   "execution_count": 76,
   "id": "dcaf7344-1e8c-4f43-bfeb-6717f1c64f5a",
   "metadata": {},
   "outputs": [
    {
     "name": "stdout",
     "output_type": "stream",
     "text": [
      "2023\n",
      "4\n",
      "16\n",
      "16\n",
      "6\n"
     ]
    }
   ],
   "source": [
    "from datetime import datetime\n",
    "now = datetime.now()\n",
    "print(now.year)\n",
    "print(now.month)\n",
    "print(now.day)\n",
    "print(now.second)\n",
    "print(now.weekday())"
   ]
  },
  {
   "cell_type": "code",
   "execution_count": 94,
   "id": "926297d9-3e65-4f5f-8e99-bd58fa89f609",
   "metadata": {},
   "outputs": [
    {
     "data": {
      "text/plain": [
       "datetime.date(2023, 7, 25)"
      ]
     },
     "execution_count": 94,
     "metadata": {},
     "output_type": "execute_result"
    }
   ],
   "source": [
    "import datetime\n",
    "today = datetime.date.today()\n",
    "today\n",
    "\n",
    "diff_days = datetime.timedelta(days=100)\n",
    "diff_days\n",
    "\n",
    "today + diff_days"
   ]
  },
  {
   "cell_type": "markdown",
   "id": "b6338081-6dcc-4d63-a4d7-cf7b1555dd01",
   "metadata": {},
   "source": [
    "#문제2번 월별 과거 월을 계산하는 함수를 구현하세요 #ex)2013년 3개월전 "
   ]
  },
  {
   "cell_type": "code",
   "execution_count": 133,
   "id": "7a993dcf-ea00-46da-9cf0-c2a76daa9270",
   "metadata": {},
   "outputs": [],
   "source": [
    "import datetime\n",
    "\n",
    "def calculate_past_month(months_ago):\n",
    "    today = datetime.date.today()\n",
    "    past_month = today.replace(month=today.month-months_ago) # 현재 달에서 과거 몇개월 전의 월을 계산함\n",
    "    \n",
    "    # 계산된 월이 만약 작년으로 넘어갈 경우 재설정\n",
    "    if past_month <= 0 :\n",
    "        today.replace(year=today.year\n",
    "            \n",
    "    return past_month"
   ]
  },
  {
   "cell_type": "code",
   "execution_count": 144,
   "id": "e695d074-18e0-4ab9-ae07-420cf524eb92",
   "metadata": {},
   "outputs": [
    {
     "name": "stdout",
     "output_type": "stream",
     "text": [
      "2023-03-16\n"
     ]
    }
   ],
   "source": [
    "print(calculate_past_month(1))"
   ]
  }
 ],
 "metadata": {
  "kernelspec": {
   "display_name": "Python 3 (ipykernel)",
   "language": "python",
   "name": "python3"
  },
  "language_info": {
   "codemirror_mode": {
    "name": "ipython",
    "version": 3
   },
   "file_extension": ".py",
   "mimetype": "text/x-python",
   "name": "python",
   "nbconvert_exporter": "python",
   "pygments_lexer": "ipython3",
   "version": "3.9.13"
  }
 },
 "nbformat": 4,
 "nbformat_minor": 5
}
