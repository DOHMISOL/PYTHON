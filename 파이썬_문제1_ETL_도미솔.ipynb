{
 "cells": [
  {
   "cell_type": "markdown",
   "id": "a2215548-a3c9-45b9-acd3-72a2777ce77c",
   "metadata": {},
   "source": [
    "# ETL 프로그램 개발"
   ]
  },
  {
   "cell_type": "markdown",
   "id": "2eeb5db5-03ea-40e5-ada4-81f6a3b7ca22",
   "metadata": {},
   "source": [
    "1. 필요 라이브러리 설치"
   ]
  },
  {
   "cell_type": "code",
   "execution_count": 100,
   "id": "b56cc8a2-2b04-442d-9ce4-fa21cf4285c1",
   "metadata": {},
   "outputs": [],
   "source": [
    "import pandas as pd\n",
    "import os as os\n",
    "import glob\n",
    "from sqlalchemy import create_engine,types\n",
    "encoing = \"ms949\""
   ]
  },
  {
   "cell_type": "markdown",
   "id": "31d2b036-5a72-4b4d-8c60-d154c598e076",
   "metadata": {},
   "source": [
    "2. 데이터베이스 연결 설정"
   ]
  },
  {
   "cell_type": "code",
   "execution_count": 101,
   "id": "ed494457-dc1d-4e5f-82a7-02e4c8bfbcbd",
   "metadata": {},
   "outputs": [],
   "source": [
    "row1 = [ \"SRC_FORDER\", \"../dataset/\" ]\n",
    "row2 = [ \"SRC_CON\", \"'oracle+cx_oracle://{}:{}@{}:{}/{}'.format(id,pw,ip,port,dbName)\" ]"
   ]
  },
  {
   "cell_type": "code",
   "execution_count": 102,
   "id": "58b5e1f6-e44c-4718-a013-dc31a229c7c0",
   "metadata": {},
   "outputs": [],
   "source": [
    "paramData = pd.DataFrame( [row1, row2 ], columns = [\"param_name\", \"param_value\" ])"
   ]
  },
  {
   "cell_type": "code",
   "execution_count": 103,
   "id": "91015740-eec2-42d4-8aa9-66be277d87d8",
   "metadata": {},
   "outputs": [
    {
     "data": {
      "text/html": [
       "<div>\n",
       "<style scoped>\n",
       "    .dataframe tbody tr th:only-of-type {\n",
       "        vertical-align: middle;\n",
       "    }\n",
       "\n",
       "    .dataframe tbody tr th {\n",
       "        vertical-align: top;\n",
       "    }\n",
       "\n",
       "    .dataframe thead th {\n",
       "        text-align: right;\n",
       "    }\n",
       "</style>\n",
       "<table border=\"1\" class=\"dataframe\">\n",
       "  <thead>\n",
       "    <tr style=\"text-align: right;\">\n",
       "      <th></th>\n",
       "      <th>param_name</th>\n",
       "      <th>param_value</th>\n",
       "    </tr>\n",
       "  </thead>\n",
       "  <tbody>\n",
       "    <tr>\n",
       "      <th>0</th>\n",
       "      <td>SRC_FORDER</td>\n",
       "      <td>../dataset/</td>\n",
       "    </tr>\n",
       "    <tr>\n",
       "      <th>1</th>\n",
       "      <td>SRC_CON</td>\n",
       "      <td>'oracle+cx_oracle://{}:{}@{}:{}/{}'.format(id,...</td>\n",
       "    </tr>\n",
       "  </tbody>\n",
       "</table>\n",
       "</div>"
      ],
      "text/plain": [
       "   param_name                                        param_value\n",
       "0  SRC_FORDER                                        ../dataset/\n",
       "1     SRC_CON  'oracle+cx_oracle://{}:{}@{}:{}/{}'.format(id,..."
      ]
     },
     "execution_count": 103,
     "metadata": {},
     "output_type": "execute_result"
    }
   ],
   "source": [
    "paramData"
   ]
  },
  {
   "cell_type": "code",
   "execution_count": 104,
   "id": "0c2b5453-7167-4949-96ef-673e8a8dad2c",
   "metadata": {},
   "outputs": [
    {
     "name": "stdout",
     "output_type": "stream",
     "text": [
      "폴더명 : ../dataset/\n",
      "DB :'oracle+cx_oracle://{}:{}@{}:{}/{}'.format(id,pw,ip,port,dbName)\n"
     ]
    }
   ],
   "source": [
    "SRC_FORDER = paramData.loc[paramData.param_name==\"SRC_FORDER\",\"param_value\"].values[0]\n",
    "SRC_CON = paramData.loc[paramData.param_name==\"SRC_CON\",\"param_value\"].values[0]\n",
    "print(\"폴더명 : \" + SRC_FORDER)\n",
    "print(\"DB :\" + SRC_CON)"
   ]
  },
  {
   "cell_type": "markdown",
   "id": "c8fb7dbe-4f0f-4b80-9178-9ea87f4c2921",
   "metadata": {
    "jp-MarkdownHeadingCollapsed": true,
    "tags": []
   },
   "source": [
    "3. 파일 불러오기"
   ]
  },
  {
   "cell_type": "code",
   "execution_count": 118,
   "id": "cf9e5546-cd83-4a9d-9303-174bb21c313f",
   "metadata": {},
   "outputs": [
    {
     "data": {
      "text/plain": [
       "{'param_name': VARCHAR(length=100), 'param_value': VARCHAR(length=100)}"
      ]
     },
     "execution_count": 118,
     "metadata": {},
     "output_type": "execute_result"
    }
   ],
   "source": [
    "from sqlalchemy import types\n",
    "\n",
    "objectColumns = list(paramData.columns[paramData.dtypes == 'object'])\n",
    "typeDict={}\n",
    "\n",
    "maxLen = 100 #보통 varchar(200)으로 만든 테이블 컬럼을 (100)으로 바꿔서 성능을 향상시킨다\n",
    "for i in range(0, len(objectColumns)):\n",
    "    typeDict[ objectColumns[i] ] = types.VARCHAR(100)\n",
    "\n",
    "typeDict"
   ]
  },
  {
   "cell_type": "markdown",
   "id": "818e4b7e-83c9-4597-8d90-2c5399a98c66",
   "metadata": {},
   "source": [
    "4. db 접속 엔진 생성"
   ]
  },
  {
   "cell_type": "code",
   "execution_count": 119,
   "id": "5c60e6fd-0c42-4e03-8a16-6bde3f4a8e24",
   "metadata": {},
   "outputs": [],
   "source": [
    "id = \"kopo\"\n",
    "pw = \"kopo\"\n",
    "ip = \"192.168.110.112\" \n",
    "port = \"1521\"\n",
    "dbName = \"orcl\""
   ]
  },
  {
   "cell_type": "code",
   "execution_count": 120,
   "id": "bb51f614-f0a4-4a6f-baa0-3ab8e7ed733a",
   "metadata": {},
   "outputs": [],
   "source": [
    "engine_meta = create_engine('oracle+cx_oracle://{}:{}@{}:{}/{}'.format(id,pw,ip,port,dbName))"
   ]
  },
  {
   "cell_type": "markdown",
   "id": "98c54ee3-97b3-4447-8ff7-8f559f25f134",
   "metadata": {},
   "source": [
    "5. 데이터 저장"
   ]
  },
  {
   "cell_type": "code",
   "execution_count": 121,
   "id": "0635c05a-c05b-4b73-8a04-71e984be5817",
   "metadata": {},
   "outputs": [
    {
     "data": {
      "text/plain": [
       "2"
      ]
     },
     "execution_count": 121,
     "metadata": {},
     "output_type": "execute_result"
    }
   ],
   "source": [
    "resultname='oracleresult'\n",
    "paramData.to_sql(name = \"kopo_result_hk\", con = engine_meta, index = False, if_exists = \"replace\")"
   ]
  }
 ],
 "metadata": {
  "kernelspec": {
   "display_name": "Python 3 (ipykernel)",
   "language": "python",
   "name": "python3"
  },
  "language_info": {
   "codemirror_mode": {
    "name": "ipython",
    "version": 3
   },
   "file_extension": ".py",
   "mimetype": "text/x-python",
   "name": "python",
   "nbconvert_exporter": "python",
   "pygments_lexer": "ipython3",
   "version": "3.9.13"
  }
 },
 "nbformat": 4,
 "nbformat_minor": 5
}
