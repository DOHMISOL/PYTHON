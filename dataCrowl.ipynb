{
 "cells": [
  {
   "cell_type": "code",
   "execution_count": 1,
   "id": "5ddb5439-bb87-4820-9f73-cf7156b1b050",
   "metadata": {},
   "outputs": [],
   "source": [
    "import bs4, requests\n",
    "import pandas as pd"
   ]
  },
  {
   "cell_type": "code",
   "execution_count": 2,
   "id": "b74494c2-0083-4419-a755-6bc7eb4c06c3",
   "metadata": {},
   "outputs": [],
   "source": [
    "targetUrl = \"https://sparkkorea.com/%ed%80%b4%ec%a6%88/\""
   ]
  },
  {
   "cell_type": "code",
   "execution_count": 3,
   "id": "c8877513-a5f6-428b-8a32-b3a14fc6dabd",
   "metadata": {},
   "outputs": [],
   "source": [
    "resp = requests.get(targetUrl)"
   ]
  },
  {
   "cell_type": "code",
   "execution_count": 4,
   "id": "37e707c6-af63-4084-969a-46ee409a65bc",
   "metadata": {},
   "outputs": [],
   "source": [
    "try :\n",
    "    resp = requests.get(targetUrl)\n",
    "except Exception as e:\n",
    "    print(e)"
   ]
  },
  {
   "cell_type": "code",
   "execution_count": 5,
   "id": "5180d6fe-74e6-4ff8-bf00-eee964dc5815",
   "metadata": {},
   "outputs": [],
   "source": [
    "webPageSrc = resp.text"
   ]
  },
  {
   "cell_type": "code",
   "execution_count": 6,
   "id": "e0371f47-39de-4480-900c-562150daf26b",
   "metadata": {},
   "outputs": [],
   "source": [
    "htmlObj = bs4.BeautifulSoup(webPageSrc, \"html.parser\")"
   ]
  },
  {
   "cell_type": "code",
   "execution_count": 7,
   "id": "7af2e3f6-994c-4c8a-b7f0-a8aad4f7788c",
   "metadata": {},
   "outputs": [],
   "source": [
    "aTag = htmlObj.find(name = \"a\")"
   ]
  },
  {
   "cell_type": "code",
   "execution_count": 8,
   "id": "f74aa1ec-0b2f-485e-9791-dbea5cb63117",
   "metadata": {},
   "outputs": [
    {
     "data": {
      "text/plain": [
       "<a class=\"skip-link screen-reader-text\" href=\"#content\">컨텐츠로 건너뛰기</a>"
      ]
     },
     "execution_count": 8,
     "metadata": {},
     "output_type": "execute_result"
    }
   ],
   "source": [
    "aTag"
   ]
  },
  {
   "cell_type": "code",
   "execution_count": null,
   "id": "dde3fa03-d4dc-47f6-bae0-acd15bc0e25e",
   "metadata": {},
   "outputs": [],
   "source": []
  }
 ],
 "metadata": {
  "kernelspec": {
   "display_name": "Python 3 (ipykernel)",
   "language": "python",
   "name": "python3"
  },
  "language_info": {
   "codemirror_mode": {
    "name": "ipython",
    "version": 3
   },
   "file_extension": ".py",
   "mimetype": "text/x-python",
   "name": "python",
   "nbconvert_exporter": "python",
   "pygments_lexer": "ipython3",
   "version": "3.9.13"
  }
 },
 "nbformat": 4,
 "nbformat_minor": 5
}
