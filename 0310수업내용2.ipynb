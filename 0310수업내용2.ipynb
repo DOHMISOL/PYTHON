{
 "cells": [
  {
   "cell_type": "code",
   "execution_count": 1,
   "id": "1530cc75-b16d-4aa3-8bab-4ca2f379ddda",
   "metadata": {},
   "outputs": [
    {
     "data": {
      "text/plain": [
       "-6.0"
      ]
     },
     "execution_count": 1,
     "metadata": {},
     "output_type": "execute_result"
    }
   ],
   "source": [
    "9*(5-7)/3"
   ]
  },
  {
   "cell_type": "code",
   "execution_count": 2,
   "id": "3cfa1f45-ee04-43cb-bffb-86b507540f15",
   "metadata": {},
   "outputs": [
    {
     "ename": "SyntaxError",
     "evalue": "invalid syntax (2102970424.py, line 1)",
     "output_type": "error",
     "traceback": [
      "\u001b[1;36m  File \u001b[1;32m\"C:\\Users\\SMART27\\AppData\\Local\\Temp\\ipykernel_10708\\2102970424.py\"\u001b[1;36m, line \u001b[1;32m1\u001b[0m\n\u001b[1;33m    hello,world!\u001b[0m\n\u001b[1;37m               ^\u001b[0m\n\u001b[1;31mSyntaxError\u001b[0m\u001b[1;31m:\u001b[0m invalid syntax\n"
     ]
    }
   ],
   "source": [
    "hello,world!"
   ]
  },
  {
   "cell_type": "code",
   "execution_count": 5,
   "id": "0619f3f8-1426-426c-af7d-fda40d2bfd4e",
   "metadata": {},
   "outputs": [
    {
     "name": "stdout",
     "output_type": "stream",
     "text": [
      "hello world!\n"
     ]
    }
   ],
   "source": [
    "print(\"hello world!\")"
   ]
  },
  {
   "cell_type": "code",
   "execution_count": 6,
   "id": "7f08688f-4f04-4bef-8f94-0d9e812f41b7",
   "metadata": {},
   "outputs": [
    {
     "name": "stdout",
     "output_type": "stream",
     "text": [
      "hello world!\n"
     ]
    }
   ],
   "source": [
    "print(\"hello world!\")"
   ]
  },
  {
   "cell_type": "code",
   "execution_count": 7,
   "id": "bf6987df-f382-4640-9885-1c49c9f54d2b",
   "metadata": {},
   "outputs": [
    {
     "name": "stdout",
     "output_type": "stream",
     "text": [
      "5\n"
     ]
    }
   ],
   "source": [
    "print(5)"
   ]
  },
  {
   "cell_type": "code",
   "execution_count": 8,
   "id": "992ea84d-29af-4b85-ac11-0e80ff55c0cb",
   "metadata": {},
   "outputs": [
    {
     "name": "stdout",
     "output_type": "stream",
     "text": [
      "6\n"
     ]
    }
   ],
   "source": [
    "print(2+4)"
   ]
  },
  {
   "cell_type": "code",
   "execution_count": 9,
   "id": "00033dc8-f72f-4c0c-93e6-614b22f01e31",
   "metadata": {},
   "outputs": [
    {
     "name": "stdout",
     "output_type": "stream",
     "text": [
      "2+3\n"
     ]
    }
   ],
   "source": [
    "print(\"2+3\")"
   ]
  },
  {
   "cell_type": "code",
   "execution_count": 10,
   "id": "55d3f978-1bda-47a4-b25c-034526557682",
   "metadata": {},
   "outputs": [
    {
     "name": "stdout",
     "output_type": "stream",
     "text": [
      "2+5= 7\n"
     ]
    }
   ],
   "source": [
    "print(\"2+5=\",7)"
   ]
  },
  {
   "cell_type": "code",
   "execution_count": 11,
   "id": "e5098b49-5cc9-4029-8008-47e71f9e26bc",
   "metadata": {},
   "outputs": [
    {
     "name": "stdout",
     "output_type": "stream",
     "text": [
      "2+5= 7\n"
     ]
    }
   ],
   "source": [
    "print (\"2+5=\",7)"
   ]
  },
  {
   "cell_type": "code",
   "execution_count": 12,
   "id": "aa77cdfb-151e-4107-a0be-a1f8ac8afcfd",
   "metadata": {},
   "outputs": [
    {
     "name": "stdout",
     "output_type": "stream",
     "text": [
      "1 2 3 2+5= 7\n"
     ]
    }
   ],
   "source": [
    "print(1,2,3,\"2+5=\",7)"
   ]
  },
  {
   "cell_type": "code",
   "execution_count": 13,
   "id": "1809ac44-8175-436b-a557-34f767aad9aa",
   "metadata": {},
   "outputs": [
    {
     "name": "stdout",
     "output_type": "stream",
     "text": [
      "3+4= 7\n"
     ]
    }
   ],
   "source": [
    "print(\"3+4=\",3+4)"
   ]
  },
  {
   "cell_type": "code",
   "execution_count": 14,
   "id": "d22e2123-d91f-4d4a-bf21-bc2c740953f5",
   "metadata": {},
   "outputs": [
    {
     "name": "stdout",
     "output_type": "stream",
     "text": [
      "도미솔\n"
     ]
    }
   ],
   "source": [
    "print(\"도미솔\")"
   ]
  },
  {
   "cell_type": "code",
   "execution_count": 15,
   "id": "cfdf555b-8fbc-43b9-9b14-affd4e6f3488",
   "metadata": {},
   "outputs": [
    {
     "name": "stdout",
     "output_type": "stream",
     "text": [
      "55\n"
     ]
    }
   ],
   "source": [
    "print(1+2+3+4+5+6+7+8+9+10)"
   ]
  },
  {
   "cell_type": "code",
   "execution_count": 16,
   "id": "ad90b9d0-d481-483d-9a21-8af84b2d205f",
   "metadata": {},
   "outputs": [
    {
     "name": "stdout",
     "output_type": "stream",
     "text": [
      "10\n"
     ]
    }
   ],
   "source": [
    "print(2*5)"
   ]
  },
  {
   "cell_type": "code",
   "execution_count": 17,
   "id": "3d601ad0-6840-4193-9710-cf4255be4205",
   "metadata": {},
   "outputs": [
    {
     "name": "stdout",
     "output_type": "stream",
     "text": [
      "3\n"
     ]
    }
   ],
   "source": [
    "print(5-(3-1))"
   ]
  },
  {
   "cell_type": "code",
   "execution_count": 18,
   "id": "354aebbc-9bbf-40d1-89d0-960b911d41e3",
   "metadata": {},
   "outputs": [
    {
     "name": "stdout",
     "output_type": "stream",
     "text": [
      "3\n"
     ]
    }
   ],
   "source": [
    "print(5-(3-1))"
   ]
  },
  {
   "cell_type": "code",
   "execution_count": 19,
   "id": "38c7bf1c-288c-4264-bb87-db8738f6625b",
   "metadata": {},
   "outputs": [
    {
     "name": "stdout",
     "output_type": "stream",
     "text": [
      "5.0 20\n"
     ]
    }
   ],
   "source": [
    "print (10/2, 10*2)"
   ]
  },
  {
   "cell_type": "code",
   "execution_count": 20,
   "id": "34d1cfd8-0188-4e89-bf67-164864e07e47",
   "metadata": {},
   "outputs": [
    {
     "name": "stdout",
     "output_type": "stream",
     "text": [
      "5.0 20\n"
     ]
    }
   ],
   "source": [
    "print(10/2, 10*2)"
   ]
  },
  {
   "cell_type": "code",
   "execution_count": 21,
   "id": "c4cc7c34-4bcb-4859-a9a9-9099bcfe0331",
   "metadata": {},
   "outputs": [
    {
     "name": "stdout",
     "output_type": "stream",
     "text": [
      "90.0\n"
     ]
    }
   ],
   "source": [
    "x = 3 * 50\n",
    "y = x + 120\n",
    "z = y / 3\n",
    "print(z)"
   ]
  },
  {
   "cell_type": "code",
   "execution_count": 22,
   "id": "469405d7-0d92-4c34-942c-f9cbfd7a9a01",
   "metadata": {},
   "outputs": [
    {
     "name": "stdout",
     "output_type": "stream",
     "text": [
      "90.0\n"
     ]
    }
   ],
   "source": [
    "x = 3 * 50\n",
    "x = x + 120\n",
    "x = x / 3\n",
    "print(x)"
   ]
  },
  {
   "cell_type": "code",
   "execution_count": 29,
   "id": "d1178038-eaca-4aab-ad61-1ecd9917fec8",
   "metadata": {},
   "outputs": [
    {
     "name": "stdout",
     "output_type": "stream",
     "text": [
      "4.0\n"
     ]
    }
   ],
   "source": [
    "x = 2 * 2 * 2\n",
    "x = x / 4\n",
    "x = x * x\n",
    "print(x)"
   ]
  },
  {
   "cell_type": "code",
   "execution_count": 30,
   "id": "5d4dbf8d-7f6d-4c51-802b-51c46efd8127",
   "metadata": {},
   "outputs": [
    {
     "name": "stdout",
     "output_type": "stream",
     "text": [
      "121 797\n"
     ]
    }
   ],
   "source": [
    "x, y = 121, 797\n",
    "print(x, y)"
   ]
  },
  {
   "cell_type": "code",
   "execution_count": 33,
   "id": "f4ad84e5-8cd2-443f-b433-22e804762231",
   "metadata": {},
   "outputs": [],
   "source": [
    "    def greet():\n",
    "        print(\"반갑습니다.\")\n",
    "        print(\"파이썬의 세계로 오신 것을 환영합니다.\")\n",
    "        "
   ]
  },
  {
   "cell_type": "code",
   "execution_count": 34,
   "id": "f8cb4759-ba39-458a-b7cc-f46d725083f2",
   "metadata": {},
   "outputs": [
    {
     "name": "stdout",
     "output_type": "stream",
     "text": [
      "반갑습니다.\n",
      "파이썬의 세계로 오신 것을 환영합니다.\n"
     ]
    }
   ],
   "source": [
    "    greet()"
   ]
  },
  {
   "cell_type": "code",
   "execution_count": 38,
   "id": "c1c4e3f7-2af4-4e98-bac9-91cbacb49e89",
   "metadata": {},
   "outputs": [],
   "source": [
    "def greet():\n",
    "    print(\"반갑습니다.\")\n",
    "    print(\"파이썬의 세계로 오신 것을 환영합니다.\")"
   ]
  },
  {
   "cell_type": "code",
   "execution_count": 40,
   "id": "72c4e8bd-1452-475f-9e6d-521f8ae9b429",
   "metadata": {},
   "outputs": [
    {
     "name": "stdout",
     "output_type": "stream",
     "text": [
      "반갑습니다.\n",
      "파이썬의 세계로 오신 것을 환영합니다.\n"
     ]
    }
   ],
   "source": [
    "greet()"
   ]
  },
  {
   "cell_type": "code",
   "execution_count": 41,
   "id": "411fa6b0-49d2-4682-867b-4c84ae69bdd2",
   "metadata": {},
   "outputs": [],
   "source": [
    "def greet():\n",
    "    print(\"반값습니다.\")\n",
    "    print(\"파이썬의 세계로 오신것을 환영합니다.\")"
   ]
  },
  {
   "cell_type": "code",
   "execution_count": 42,
   "id": "fafe24d7-c9ec-44d4-b8ba-f3dacc4c8456",
   "metadata": {},
   "outputs": [
    {
     "name": "stdout",
     "output_type": "stream",
     "text": [
      "반값습니다.\n",
      "파이썬의 세계로 오신것을 환영합니다.\n"
     ]
    }
   ],
   "source": [
    "greet()"
   ]
  },
  {
   "cell_type": "code",
   "execution_count": 44,
   "id": "8bdd300d-5fef-4ecd-b50c-1ce861fe6043",
   "metadata": {},
   "outputs": [],
   "source": [
    "def MH():\n",
    "    print(\"1 + 2 + 3 + 4 + 5 =\", 1 + 2 + 3 + 4 + 5)\n",
    "    print(\"Simple is the best!\")\n",
    "    print(\"행복한 파이썬!\")\n"
   ]
  },
  {
   "cell_type": "code",
   "execution_count": 45,
   "id": "4c1f2b39-0c40-46ef-a210-b430a1b65cd8",
   "metadata": {},
   "outputs": [
    {
     "name": "stdout",
     "output_type": "stream",
     "text": [
      "1 + 2 + 3 + 4 + 5 = 15\n",
      "Simple is the best!\n",
      "행복한 파이썬!\n"
     ]
    }
   ],
   "source": [
    "MH()"
   ]
  },
  {
   "cell_type": "code",
   "execution_count": 46,
   "id": "e0537207-54e7-4fa4-8318-2fd8e7c09fbc",
   "metadata": {},
   "outputs": [
    {
     "name": "stdout",
     "output_type": "stream",
     "text": [
      "1 + 2 + 3 + 4 + 5 = 15\n",
      "Simple is the best!\n",
      "행복한 파이썬!\n"
     ]
    }
   ],
   "source": [
    "MH()"
   ]
  },
  {
   "cell_type": "code",
   "execution_count": 47,
   "id": "a7935d6c-f6c1-4573-96ed-7d4de40f2b47",
   "metadata": {},
   "outputs": [
    {
     "name": "stdout",
     "output_type": "stream",
     "text": [
      "<class 'int'>\n"
     ]
    }
   ],
   "source": [
    "strValue = '1234'\n",
    "cvIntValue = int(strValue)\n",
    "print(type(cvIntValue))"
   ]
  },
  {
   "cell_type": "code",
   "execution_count": 49,
   "id": "c9e610b3-df31-40da-9d5c-3e18988d8ef3",
   "metadata": {},
   "outputs": [
    {
     "name": "stdout",
     "output_type": "stream",
     "text": [
      "<class 'float'>\n"
     ]
    }
   ],
   "source": [
    "strValue = '1234'\n",
    "cvFloatValue = float(strValue)\n",
    "print(type(cvFloatValue))"
   ]
  },
  {
   "cell_type": "code",
   "execution_count": 52,
   "id": "1d1045c9-eb68-43e3-86de-68d537b2720a",
   "metadata": {},
   "outputs": [
    {
     "name": "stdout",
     "output_type": "stream",
     "text": [
      "<class 'str'>\n"
     ]
    }
   ],
   "source": [
    "numberValue = 1234\n",
    "cvstrValue = str(numberValue)\n",
    "print(type(cvstrValue))"
   ]
  },
  {
   "cell_type": "code",
   "execution_count": 53,
   "id": "fd58e29b-2dbe-4145-a09d-58a14e4f998a",
   "metadata": {},
   "outputs": [
    {
     "name": "stdout",
     "output_type": "stream",
     "text": [
      "AAA\n"
     ]
    }
   ],
   "source": [
    "yearweek = \"aaa\"\n",
    "upperletter = yearweek.upper()\n",
    "print(upperletter)\n"
   ]
  },
  {
   "cell_type": "code",
   "execution_count": 54,
   "id": "d7f84f9b-9c1b-4e37-998b-187cceceba20",
   "metadata": {},
   "outputs": [
    {
     "ename": "SyntaxError",
     "evalue": "cannot assign to literal (3089012136.py, line 2)",
     "output_type": "error",
     "traceback": [
      "\u001b[1;36m  File \u001b[1;32m\"C:\\Users\\SMART27\\AppData\\Local\\Temp\\ipykernel_10708\\3089012136.py\"\u001b[1;36m, line \u001b[1;32m2\u001b[0m\n\u001b[1;33m    2 = 2.upper()\u001b[0m\n\u001b[1;37m    ^\u001b[0m\n\u001b[1;31mSyntaxError\u001b[0m\u001b[1;31m:\u001b[0m cannot assign to literal\n"
     ]
    }
   ],
   "source": [
    "upperletter = yearweek.upper()\n",
    "2 = 2.upper()"
   ]
  },
  {
   "cell_type": "code",
   "execution_count": null,
   "id": "4fa4062d-2a96-4f55-b0b9-dc5c68cb5055",
   "metadata": {},
   "outputs": [],
   "source": [
    "upperletter = yearweek.upper()\n",
    "uearletter = yearweek.lower()"
   ]
  },
  {
   "cell_type": "code",
   "execution_count": 82,
   "id": "75928291-24a9-46ed-b999-7701a28149b7",
   "metadata": {},
   "outputs": [],
   "source": [
    "stockName = [\"SEC\"]\n",
    "priceList = [120,130]\n",
    "dateList = [201712,201713]"
   ]
  },
  {
   "cell_type": "code",
   "execution_count": 106,
   "id": "8605a465-1741-4dc0-b973-d05d28b1b7f2",
   "metadata": {},
   "outputs": [
    {
     "name": "stdout",
     "output_type": "stream",
     "text": [
      "[120, 130, 140, 150]\n"
     ]
    }
   ],
   "source": [
    "updateList = [120,130,140,150]\n",
    "print(updateList)"
   ]
  },
  {
   "cell_type": "code",
   "execution_count": 110,
   "id": "09b5800f-fdc7-49be-bed8-f59dd80fbd8b",
   "metadata": {},
   "outputs": [],
   "source": [
    "functionList = [120,130,140,150]"
   ]
  },
  {
   "cell_type": "code",
   "execution_count": 111,
   "id": "4154496f-3ce3-40b1-abf3-8e69e9b989f5",
   "metadata": {},
   "outputs": [
    {
     "name": "stdout",
     "output_type": "stream",
     "text": [
      "[120, 130, 140, 150, 100]\n"
     ]
    }
   ],
   "source": [
    "functionList.append(100)\n",
    "print(functionList)"
   ]
  },
  {
   "cell_type": "code",
   "execution_count": 117,
   "id": "1e45e1c2-9ceb-4897-9dcf-123e74bda95a",
   "metadata": {},
   "outputs": [
    {
     "name": "stdout",
     "output_type": "stream",
     "text": [
      "[11, 12, 100, 120, 130, 140, 150, 11, 12]\n"
     ]
    }
   ],
   "source": [
    "functionList.extend([11,12])\n",
    "print(functionList)"
   ]
  },
  {
   "cell_type": "code",
   "execution_count": 121,
   "id": "67689960-1176-4b94-83a9-b5815b30392a",
   "metadata": {},
   "outputs": [
    {
     "name": "stdout",
     "output_type": "stream",
     "text": [
      "[150, 140, 130, 120, 100, 12, 12, 11, 11]\n"
     ]
    }
   ],
   "source": [
    "functionList.sort(reverse = True)\n",
    "print(functionList)"
   ]
  },
  {
   "cell_type": "code",
   "execution_count": 122,
   "id": "41885131-640b-432f-af3c-62c587382c65",
   "metadata": {},
   "outputs": [
    {
     "ename": "SyntaxError",
     "evalue": "unexpected EOF while parsing (1140089165.py, line 1)",
     "output_type": "error",
     "traceback": [
      "\u001b[1;36m  File \u001b[1;32m\"C:\\Users\\SMART27\\AppData\\Local\\Temp\\ipykernel_10708\\1140089165.py\"\u001b[1;36m, line \u001b[1;32m1\u001b[0m\n\u001b[1;33m    print(functionList.index(150)\u001b[0m\n\u001b[1;37m                                 ^\u001b[0m\n\u001b[1;31mSyntaxError\u001b[0m\u001b[1;31m:\u001b[0m unexpected EOF while parsing\n"
     ]
    }
   ],
   "source": [
    "print(functionList.index(150)"
   ]
  },
  {
   "cell_type": "code",
   "execution_count": 123,
   "id": "d3de3c3b-0a73-4ba0-a42a-c4741c030086",
   "metadata": {},
   "outputs": [
    {
     "name": "stdout",
     "output_type": "stream",
     "text": [
      "0\n"
     ]
    }
   ],
   "source": [
    "print(functionList.index(150))"
   ]
  },
  {
   "cell_type": "code",
   "execution_count": 124,
   "id": "7cf39aad-ec94-42a7-a60a-6c9f12a33af2",
   "metadata": {},
   "outputs": [
    {
     "name": "stdout",
     "output_type": "stream",
     "text": [
      "0\n"
     ]
    }
   ],
   "source": [
    "print(functionList.index(150))"
   ]
  },
  {
   "cell_type": "code",
   "execution_count": 125,
   "id": "02a5fd23-9d39-40b1-9a51-37cd72d38380",
   "metadata": {},
   "outputs": [
    {
     "name": "stdout",
     "output_type": "stream",
     "text": [
      "9\n"
     ]
    }
   ],
   "source": [
    "print(len(functionList))"
   ]
  },
  {
   "cell_type": "code",
   "execution_count": 126,
   "id": "076de5bf-dd28-45c4-81e4-f3f667f0bc79",
   "metadata": {},
   "outputs": [
    {
     "name": "stdout",
     "output_type": "stream",
     "text": [
      "11\n"
     ]
    }
   ],
   "source": [
    "print(min(functionList))"
   ]
  },
  {
   "cell_type": "code",
   "execution_count": 127,
   "id": "756fb6b9-17f8-4464-b760-db1685303360",
   "metadata": {},
   "outputs": [
    {
     "name": "stdout",
     "output_type": "stream",
     "text": [
      "150\n"
     ]
    }
   ],
   "source": [
    "print(max(functionList))"
   ]
  },
  {
   "cell_type": "code",
   "execution_count": 128,
   "id": "a089c4f3-35bc-43a6-b3b3-dd44ecd0ff8b",
   "metadata": {},
   "outputs": [
    {
     "name": "stdout",
     "output_type": "stream",
     "text": [
      "686\n"
     ]
    }
   ],
   "source": [
    "print(sum(functionList))"
   ]
  },
  {
   "cell_type": "code",
   "execution_count": 129,
   "id": "66aeb294-06d1-4c3b-8e4f-a21e90f3c17c",
   "metadata": {},
   "outputs": [
    {
     "name": "stdout",
     "output_type": "stream",
     "text": [
      "0\n"
     ]
    }
   ],
   "source": [
    "print(functionList.index(150))"
   ]
  },
  {
   "cell_type": "code",
   "execution_count": 132,
   "id": "2d349db0-d37f-4a5f-9a04-4e57a5dd6593",
   "metadata": {},
   "outputs": [
    {
     "data": {
      "text/plain": [
       "2"
      ]
     },
     "execution_count": 132,
     "metadata": {},
     "output_type": "execute_result"
    }
   ],
   "source": [
    "functionList = [120,130,140,150,120]\n",
    "functionList.count(120)"
   ]
  },
  {
   "cell_type": "code",
   "execution_count": 193,
   "id": "4c2470db-7fd9-47bb-8191-e69adde2164d",
   "metadata": {},
   "outputs": [
    {
     "data": {
      "text/plain": [
       "[120, 150, 300, 500, 1000, 100, 2000]"
      ]
     },
     "execution_count": 193,
     "metadata": {},
     "output_type": "execute_result"
    }
   ],
   "source": [
    "functionList = [120, 150, 300, 500, 1000, 100, 2000]\n",
    "functionList"
   ]
  },
  {
   "cell_type": "code",
   "execution_count": null,
   "id": "8c1ff405-6f8f-4916-8e8e-c9f567e599ed",
   "metadata": {},
   "outputs": [],
   "source": [
    "# [120,150,300,500,1000,100,2000] 값에서 최소 최대 값을 뺀 평균을 average 이름의 변수에 담으세요"
   ]
  },
  {
   "cell_type": "markdown",
   "id": "59a74e35-c88c-492c-a6e5-d0f6fc1b093a",
   "metadata": {
    "tags": []
   },
   "source": [
    "# \"Sec 2018W28 250” 문자열 생성 후 stock_name, date, value로 각각 의미하는 문자열을 생성하세요\n",
    "(단 모두 대문자여야 하며, ‘W’를 삭제해야함)"
   ]
  },
  {
   "cell_type": "code",
   "execution_count": null,
   "id": "04635671-737a-4a28-afce-e7030bd2ca8c",
   "metadata": {},
   "outputs": [
    {
     "data": {
      "text/plain": [
       "'SEC 201828 250'"
      ]
     },
     "execution_count": 189,
     "metadata": {},
     "output_type": "execute_result"
    }
   ],
   "source": [
    "testValue = \"Sec 2018W28 250\"\n",
    "testValue = testValue.upper()\n",
    "testValue = testValue.replace (\"W\",\"\")\n",
    "testValue"
   ]
  },
  {
   "cell_type": "code",
   "execution_count": null,
   "id": "cacee9d2-55bc-4a4f-b6d1-09a3cfc762d3",
   "metadata": {},
   "outputs": [],
   "source": [
    "stock_name = testValue[:2]\n",
    "date = testValue[4:10]\n",
    "value = testValue[11:]"
   ]
  },
  {
   "cell_type": "code",
   "execution_count": null,
   "id": "f8b2466f-b708-4229-93ef-be867de368fd",
   "metadata": {},
   "outputs": [
    {
     "data": {
      "text/plain": [
       "('SE', '201828', '250')"
      ]
     },
     "execution_count": 197,
     "metadata": {},
     "output_type": "execute_result"
    }
   ],
   "source": [
    "stock_name, date, value"
   ]
  },
  {
   "cell_type": "code",
   "execution_count": null,
   "id": "0667ff9d-d256-4699-b773-6c27f28e2483",
   "metadata": {},
   "outputs": [
    {
     "ename": "TypeError",
     "evalue": "'int' object is not callable",
     "output_type": "error",
     "traceback": [
      "\u001b[1;31m---------------------------------------------------------------------------\u001b[0m",
      "\u001b[1;31mTypeError\u001b[0m                                 Traceback (most recent call last)",
      "\u001b[1;32m~\\AppData\\Local\\Temp\\ipykernel_10708\\2888132922.py\u001b[0m in \u001b[0;36m<module>\u001b[1;34m\u001b[0m\n\u001b[1;32m----> 1\u001b[1;33m \u001b[0mprint\u001b[0m\u001b[1;33m(\u001b[0m\u001b[0mstock_name\u001b[0m\u001b[1;33m)\u001b[0m\u001b[1;33m\u001b[0m\u001b[1;33m\u001b[0m\u001b[0m\n\u001b[0m\u001b[0;32m      2\u001b[0m \u001b[0mprint\u001b[0m\u001b[1;33m(\u001b[0m\u001b[0mdate\u001b[0m\u001b[1;33m)\u001b[0m\u001b[1;33m\u001b[0m\u001b[1;33m\u001b[0m\u001b[0m\n\u001b[0;32m      3\u001b[0m \u001b[0mprint\u001b[0m\u001b[1;33m(\u001b[0m\u001b[0mvalue\u001b[0m\u001b[1;33m)\u001b[0m\u001b[1;33m\u001b[0m\u001b[1;33m\u001b[0m\u001b[0m\n",
      "\u001b[1;31mTypeError\u001b[0m: 'int' object is not callable"
     ]
    }
   ],
   "source": [
    "print(stock_name)\n",
    "print(date)\n",
    "print(value)"
   ]
  },
  {
   "cell_type": "code",
   "execution_count": null,
   "id": "03b5ff33-c595-4402-8a5e-ba708073e728",
   "metadata": {},
   "outputs": [],
   "source": [
    "print(sum(testlist))\n",
    "print(len(testList))\n",
    "print(max(testList))\n",
    "print(min(testList))\n"
   ]
  },
  {
   "cell_type": "code",
   "execution_count": 199,
   "id": "53fac3ce-ea6b-4106-970c-b41f7f6e32c8",
   "metadata": {},
   "outputs": [
    {
     "data": {
      "text/plain": [
       "[66, 8, 7, 4, 3, 2, 1]"
      ]
     },
     "execution_count": 199,
     "metadata": {},
     "output_type": "execute_result"
    }
   ],
   "source": [
    "testList3 = [1,3,4,2,66,7,8]\n",
    "testList3.sort(reverse = True)\n",
    "testList3"
   ]
  },
  {
   "cell_type": "code",
   "execution_count": 215,
   "id": "1c878625-8246-4a61-8220-cd6998a46e8d",
   "metadata": {},
   "outputs": [
    {
     "data": {
      "text/plain": [
       "8"
      ]
     },
     "execution_count": 215,
     "metadata": {},
     "output_type": "execute_result"
    }
   ],
   "source": [
    "testList = [1,2,5,2,7,344,78,376]\n",
    "len(testList)"
   ]
  },
  {
   "cell_type": "code",
   "execution_count": 218,
   "id": "0f3c5836-1396-47a9-b920-7c162a15beb9",
   "metadata": {},
   "outputs": [
    {
     "data": {
      "text/plain": [
       "1"
      ]
     },
     "execution_count": 218,
     "metadata": {},
     "output_type": "execute_result"
    }
   ],
   "source": [
    "testList = [1,2,5,2,7,344,78,376]\n",
    "testList.count(344)"
   ]
  },
  {
   "cell_type": "code",
   "execution_count": 220,
   "id": "40a36332-8932-4c0e-a3bf-4819bf7a4d0b",
   "metadata": {},
   "outputs": [
    {
     "data": {
      "text/plain": [
       "2"
      ]
     },
     "execution_count": 220,
     "metadata": {},
     "output_type": "execute_result"
    }
   ],
   "source": [
    "testList = [1,2,5,2,7,344,78,376]\n",
    "testList.count(2)"
   ]
  },
  {
   "cell_type": "code",
   "execution_count": null,
   "id": "e5b7eb48-717a-4e46-99de-4bc1d256330d",
   "metadata": {},
   "outputs": [],
   "source": [
    "# [120,150,300,500,1000,100,2000] 값에서 최소 최대 값을 뺀 평균을 average 이름의 변수에 담으세요"
   ]
  },
  {
   "cell_type": "code",
   "execution_count": 227,
   "id": "cbf832bd-2f0c-43e9-80b1-d5272743a4d8",
   "metadata": {},
   "outputs": [
    {
     "data": {
      "text/plain": [
       "414.0"
      ]
     },
     "execution_count": 227,
     "metadata": {},
     "output_type": "execute_result"
    }
   ],
   "source": [
    "testList = [120,150,300,500,1000,100,2000]\n",
    "invalue = max( testList )\n",
    "invalue2 = min( testList )\n",
    "testList.remove(invalue)\n",
    "testList.remove(invalue2)\n",
    "sum( testList) / len( testList)"
   ]
  },
  {
   "cell_type": "code",
   "execution_count": null,
   "id": "e3c569eb-3b31-4ba9-ae20-7cc40455935c",
   "metadata": {},
   "outputs": [],
   "source": []
  }
 ],
 "metadata": {
  "kernelspec": {
   "display_name": "Python 3 (ipykernel)",
   "language": "python",
   "name": "python3"
  },
  "language_info": {
   "codemirror_mode": {
    "name": "ipython",
    "version": 3
   },
   "file_extension": ".py",
   "mimetype": "text/x-python",
   "name": "python",
   "nbconvert_exporter": "python",
   "pygments_lexer": "ipython3",
   "version": "3.9.13"
  }
 },
 "nbformat": 4,
 "nbformat_minor": 5
}
