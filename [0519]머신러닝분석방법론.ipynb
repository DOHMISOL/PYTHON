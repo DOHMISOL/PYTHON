{
 "cells": [
  {
   "cell_type": "markdown",
   "id": "97be5ca3-52f0-49b1-bd5f-f0c68bf13d18",
   "metadata": {},
   "source": [
    "## 라이브러리 선언 및 데이터 불러오기"
   ]
  },
  {
   "cell_type": "code",
   "execution_count": 2,
   "id": "aabee2d6-2ce9-44b6-864b-c59248d5fa2f",
   "metadata": {},
   "outputs": [],
   "source": [
    "# 데이터 처리 라이브러리\n",
    "import pandas as pd\n",
    "import numpy as np\n",
    "\n",
    "# 머신러닝 라이브러리\n",
    "from sklearn import tree\n",
    "from sklearn import ensemble"
   ]
  },
  {
   "cell_type": "code",
   "execution_count": 3,
   "id": "12065242-8db4-4f47-bcf2-88239c21b6db",
   "metadata": {},
   "outputs": [],
   "source": [
    "featuresData = pd.read_csv(\"../dataset/feature_regression_example.csv\")"
   ]
  },
  {
   "cell_type": "markdown",
   "id": "cc70c4e5-aed2-4747-8a18-55e0240ad7ff",
   "metadata": {},
   "source": [
    "# A. 데이터 전처리"
   ]
  },
  {
   "cell_type": "markdown",
   "id": "dceafcc4-c980-4c50-a2af-d6959db36c5a",
   "metadata": {},
   "source": [
    "### A-1. 타입통합 / 특성 숫자컬럼 추가"
   ]
  },
  {
   "cell_type": "code",
   "execution_count": 4,
   "id": "c4664051-20ba-42ba-8cc8-997f41f71581",
   "metadata": {},
   "outputs": [
    {
     "data": {
      "text/html": [
       "<div>\n",
       "<style scoped>\n",
       "    .dataframe tbody tr th:only-of-type {\n",
       "        vertical-align: middle;\n",
       "    }\n",
       "\n",
       "    .dataframe tbody tr th {\n",
       "        vertical-align: top;\n",
       "    }\n",
       "\n",
       "    .dataframe thead th {\n",
       "        text-align: right;\n",
       "    }\n",
       "</style>\n",
       "<table border=\"1\" class=\"dataframe\">\n",
       "  <thead>\n",
       "    <tr style=\"text-align: right;\">\n",
       "      <th></th>\n",
       "      <th>REGIONID</th>\n",
       "      <th>PRODUCTGROUP</th>\n",
       "      <th>PRODUCT</th>\n",
       "      <th>ITEM</th>\n",
       "      <th>YEARWEEK</th>\n",
       "      <th>YEAR</th>\n",
       "      <th>WEEK</th>\n",
       "      <th>QTY</th>\n",
       "      <th>HOLIDAY</th>\n",
       "      <th>HCLUS</th>\n",
       "      <th>PROMOTION</th>\n",
       "      <th>PRO_PERCENT</th>\n",
       "    </tr>\n",
       "  </thead>\n",
       "  <tbody>\n",
       "    <tr>\n",
       "      <th>0</th>\n",
       "      <td>SEOUL_BANK_001</td>\n",
       "      <td>PG02</td>\n",
       "      <td>PRODUCT0010</td>\n",
       "      <td>ITEM0115</td>\n",
       "      <td>201501</td>\n",
       "      <td>2015</td>\n",
       "      <td>1</td>\n",
       "      <td>1225</td>\n",
       "      <td>Y</td>\n",
       "      <td>1</td>\n",
       "      <td>Y</td>\n",
       "      <td>0.209442</td>\n",
       "    </tr>\n",
       "    <tr>\n",
       "      <th>1</th>\n",
       "      <td>SEOUL_BANK_001</td>\n",
       "      <td>PG02</td>\n",
       "      <td>PRODUCT0010</td>\n",
       "      <td>ITEM0115</td>\n",
       "      <td>201502</td>\n",
       "      <td>2015</td>\n",
       "      <td>2</td>\n",
       "      <td>968</td>\n",
       "      <td>N</td>\n",
       "      <td>4</td>\n",
       "      <td>Y</td>\n",
       "      <td>0.209442</td>\n",
       "    </tr>\n",
       "    <tr>\n",
       "      <th>2</th>\n",
       "      <td>SEOUL_BANK_001</td>\n",
       "      <td>PG02</td>\n",
       "      <td>PRODUCT0010</td>\n",
       "      <td>ITEM0115</td>\n",
       "      <td>201503</td>\n",
       "      <td>2015</td>\n",
       "      <td>3</td>\n",
       "      <td>1209</td>\n",
       "      <td>N</td>\n",
       "      <td>4</td>\n",
       "      <td>Y</td>\n",
       "      <td>0.208155</td>\n",
       "    </tr>\n",
       "    <tr>\n",
       "      <th>3</th>\n",
       "      <td>SEOUL_BANK_001</td>\n",
       "      <td>PG02</td>\n",
       "      <td>PRODUCT0010</td>\n",
       "      <td>ITEM0115</td>\n",
       "      <td>201504</td>\n",
       "      <td>2015</td>\n",
       "      <td>4</td>\n",
       "      <td>1810</td>\n",
       "      <td>Y</td>\n",
       "      <td>2</td>\n",
       "      <td>Y</td>\n",
       "      <td>0.208155</td>\n",
       "    </tr>\n",
       "    <tr>\n",
       "      <th>4</th>\n",
       "      <td>SEOUL_BANK_001</td>\n",
       "      <td>PG02</td>\n",
       "      <td>PRODUCT0010</td>\n",
       "      <td>ITEM0115</td>\n",
       "      <td>201505</td>\n",
       "      <td>2015</td>\n",
       "      <td>5</td>\n",
       "      <td>1773</td>\n",
       "      <td>N</td>\n",
       "      <td>4</td>\n",
       "      <td>Y</td>\n",
       "      <td>0.208155</td>\n",
       "    </tr>\n",
       "    <tr>\n",
       "      <th>...</th>\n",
       "      <td>...</td>\n",
       "      <td>...</td>\n",
       "      <td>...</td>\n",
       "      <td>...</td>\n",
       "      <td>...</td>\n",
       "      <td>...</td>\n",
       "      <td>...</td>\n",
       "      <td>...</td>\n",
       "      <td>...</td>\n",
       "      <td>...</td>\n",
       "      <td>...</td>\n",
       "      <td>...</td>\n",
       "    </tr>\n",
       "    <tr>\n",
       "      <th>100</th>\n",
       "      <td>SEOUL_BANK_001</td>\n",
       "      <td>PG02</td>\n",
       "      <td>PRODUCT0010</td>\n",
       "      <td>ITEM0115</td>\n",
       "      <td>201648</td>\n",
       "      <td>2016</td>\n",
       "      <td>48</td>\n",
       "      <td>2412</td>\n",
       "      <td>Y</td>\n",
       "      <td>0</td>\n",
       "      <td>Y</td>\n",
       "      <td>0.421888</td>\n",
       "    </tr>\n",
       "    <tr>\n",
       "      <th>101</th>\n",
       "      <td>SEOUL_BANK_001</td>\n",
       "      <td>PG02</td>\n",
       "      <td>PRODUCT0010</td>\n",
       "      <td>ITEM0115</td>\n",
       "      <td>201649</td>\n",
       "      <td>2016</td>\n",
       "      <td>49</td>\n",
       "      <td>1955</td>\n",
       "      <td>N</td>\n",
       "      <td>4</td>\n",
       "      <td>Y</td>\n",
       "      <td>0.421888</td>\n",
       "    </tr>\n",
       "    <tr>\n",
       "      <th>102</th>\n",
       "      <td>SEOUL_BANK_001</td>\n",
       "      <td>PG02</td>\n",
       "      <td>PRODUCT0010</td>\n",
       "      <td>ITEM0115</td>\n",
       "      <td>201650</td>\n",
       "      <td>2016</td>\n",
       "      <td>50</td>\n",
       "      <td>1800</td>\n",
       "      <td>N</td>\n",
       "      <td>4</td>\n",
       "      <td>Y</td>\n",
       "      <td>0.352361</td>\n",
       "    </tr>\n",
       "    <tr>\n",
       "      <th>103</th>\n",
       "      <td>SEOUL_BANK_001</td>\n",
       "      <td>PG02</td>\n",
       "      <td>PRODUCT0010</td>\n",
       "      <td>ITEM0115</td>\n",
       "      <td>201651</td>\n",
       "      <td>2016</td>\n",
       "      <td>51</td>\n",
       "      <td>1173</td>\n",
       "      <td>N</td>\n",
       "      <td>4</td>\n",
       "      <td>Y</td>\n",
       "      <td>0.352361</td>\n",
       "    </tr>\n",
       "    <tr>\n",
       "      <th>104</th>\n",
       "      <td>SEOUL_BANK_001</td>\n",
       "      <td>PG02</td>\n",
       "      <td>PRODUCT0010</td>\n",
       "      <td>ITEM0115</td>\n",
       "      <td>201652</td>\n",
       "      <td>2016</td>\n",
       "      <td>52</td>\n",
       "      <td>332</td>\n",
       "      <td>Y</td>\n",
       "      <td>1</td>\n",
       "      <td>Y</td>\n",
       "      <td>0.352361</td>\n",
       "    </tr>\n",
       "  </tbody>\n",
       "</table>\n",
       "<p>105 rows × 12 columns</p>\n",
       "</div>"
      ],
      "text/plain": [
       "           REGIONID PRODUCTGROUP      PRODUCT      ITEM  YEARWEEK  YEAR  WEEK  \\\n",
       "0    SEOUL_BANK_001         PG02  PRODUCT0010  ITEM0115    201501  2015     1   \n",
       "1    SEOUL_BANK_001         PG02  PRODUCT0010  ITEM0115    201502  2015     2   \n",
       "2    SEOUL_BANK_001         PG02  PRODUCT0010  ITEM0115    201503  2015     3   \n",
       "3    SEOUL_BANK_001         PG02  PRODUCT0010  ITEM0115    201504  2015     4   \n",
       "4    SEOUL_BANK_001         PG02  PRODUCT0010  ITEM0115    201505  2015     5   \n",
       "..              ...          ...          ...       ...       ...   ...   ...   \n",
       "100  SEOUL_BANK_001         PG02  PRODUCT0010  ITEM0115    201648  2016    48   \n",
       "101  SEOUL_BANK_001         PG02  PRODUCT0010  ITEM0115    201649  2016    49   \n",
       "102  SEOUL_BANK_001         PG02  PRODUCT0010  ITEM0115    201650  2016    50   \n",
       "103  SEOUL_BANK_001         PG02  PRODUCT0010  ITEM0115    201651  2016    51   \n",
       "104  SEOUL_BANK_001         PG02  PRODUCT0010  ITEM0115    201652  2016    52   \n",
       "\n",
       "      QTY HOLIDAY  HCLUS PROMOTION  PRO_PERCENT  \n",
       "0    1225       Y      1         Y     0.209442  \n",
       "1     968       N      4         Y     0.209442  \n",
       "2    1209       N      4         Y     0.208155  \n",
       "3    1810       Y      2         Y     0.208155  \n",
       "4    1773       N      4         Y     0.208155  \n",
       "..    ...     ...    ...       ...          ...  \n",
       "100  2412       Y      0         Y     0.421888  \n",
       "101  1955       N      4         Y     0.421888  \n",
       "102  1800       N      4         Y     0.352361  \n",
       "103  1173       N      4         Y     0.352361  \n",
       "104   332       Y      1         Y     0.352361  \n",
       "\n",
       "[105 rows x 12 columns]"
      ]
     },
     "execution_count": 4,
     "metadata": {},
     "output_type": "execute_result"
    }
   ],
   "source": [
    "featuresData"
   ]
  },
  {
   "cell_type": "code",
   "execution_count": 5,
   "id": "d8bc62b4-a79a-43e7-9f1a-d0f6b94e2c01",
   "metadata": {},
   "outputs": [
    {
     "data": {
      "text/plain": [
       "REGIONID         object\n",
       "PRODUCTGROUP     object\n",
       "PRODUCT          object\n",
       "ITEM             object\n",
       "YEARWEEK          int64\n",
       "YEAR              int64\n",
       "WEEK              int64\n",
       "QTY               int64\n",
       "HOLIDAY          object\n",
       "HCLUS             int64\n",
       "PROMOTION        object\n",
       "PRO_PERCENT     float64\n",
       "dtype: object"
      ]
     },
     "execution_count": 5,
     "metadata": {},
     "output_type": "execute_result"
    }
   ],
   "source": [
    "featuresData.dtypes"
   ]
  },
  {
   "cell_type": "code",
   "execution_count": 6,
   "id": "830608b0-4fa2-4c80-bc21-4ca7369ec2b1",
   "metadata": {},
   "outputs": [],
   "source": [
    "#데이터 타입 통합\n",
    "featuresData[\"REGIONID\"] = featuresData[\"REGIONID\"].astype(str)\n",
    "featuresData[\"PRODUCTGROUP\"] = featuresData[\"PRODUCTGROUP\"].astype(str)"
   ]
  },
  {
   "cell_type": "code",
   "execution_count": 7,
   "id": "4f94d41e-51a8-41ee-b7d3-a2efe80f7127",
   "metadata": {},
   "outputs": [],
   "source": [
    "# 특성값 숫자컬럼 변경"
   ]
  },
  {
   "cell_type": "markdown",
   "id": "cce3ba99-b665-4f02-8355-5a257509a605",
   "metadata": {},
   "source": [
    "### NP.WHERE를 쓰는거는 가장 간단하게 데이터를 변환\n",
    "NP.where 활용포인트 : 변환대상이 적을경우!\n",
    "변환대상이 5개정 될 경우에는 MAP함수를 써보는 것도 괜찮다.\n",
    "딕셔너리는 { 대괄호를 쓰고 중간에 KEY값과 VALUE값을 쓰고 사이에 : 를 넣는다)"
   ]
  },
  {
   "cell_type": "markdown",
   "id": "9a1a397f-3a2d-47ae-a2eb-93af17a97c45",
   "metadata": {},
   "source": [
    "##카테고리가 4-5RO\n",
    "np.where(featuresData.PROMOTIO==\"Y\",10,\n",
    "         np.where(featuresData.PROMOTION==\"N',9,\n",
    "                  np.where(featuresData.PROMOTION==\"N',9)"
   ]
  },
  {
   "cell_type": "code",
   "execution_count": 8,
   "id": "05696059-9a75-47d6-8bc4-88a883f093c1",
   "metadata": {
    "tags": []
   },
   "outputs": [
    {
     "ename": "IndentationError",
     "evalue": "unexpected indent (1933058816.py, line 4)",
     "output_type": "error",
     "traceback": [
      "\u001b[1;36m  File \u001b[1;32m\"C:\\Users\\SMART27\\AppData\\Local\\Temp\\ipykernel_7340\\1933058816.py\"\u001b[1;36m, line \u001b[1;32m4\u001b[0m\n\u001b[1;33m    if inValue == \"Y\"\u001b[0m\n\u001b[1;37m    ^\u001b[0m\n\u001b[1;31mIndentationError\u001b[0m\u001b[1;31m:\u001b[0m unexpected indent\n"
     ]
    }
   ],
   "source": [
    "def ynLabelFunc(inValue) :\n",
    "    #inValue =\"Y\"\n",
    "    outValue = 1\n",
    "        if inValue == \"Y\"\n",
    "        outValue == 1\n",
    "        if inValue == \"Y\"\n",
    "            outValue == 1\n",
    "        else : \n",
    "            outValue =0\n",
    "        return outValue"
   ]
  },
  {
   "cell_type": "code",
   "execution_count": null,
   "id": "63a8b887-8a38-40c1-accb-92d442536e2b",
   "metadata": {},
   "outputs": [],
   "source": [
    "ynMap = {\"Y\":1, \"N\":2}"
   ]
  },
  {
   "cell_type": "code",
   "execution_count": null,
   "id": "15efdc80-502f-444f-8b51-a91ec84dbdca",
   "metadata": {
    "tags": []
   },
   "outputs": [],
   "source": [
    "ynMap[\"N\"]"
   ]
  },
  {
   "cell_type": "code",
   "execution_count": null,
   "id": "6b5813b9-6273-4131-b8e9-4067fa710c41",
   "metadata": {},
   "outputs": [],
   "source": [
    "featuresData[\"HOLIDAY_YNMAP\"] = featuresData.HOLIDAY.map(ynMap)  ##NP.WHERE를 사용하는 대신 MAP을 사용한다."
   ]
  },
  {
   "cell_type": "code",
   "execution_count": null,
   "id": "ae4055f4-4914-4b11-8fbd-9d4bf5f02b56",
   "metadata": {},
   "outputs": [],
   "source": [
    "#변환대상이 100개 된다?(labelencode)"
   ]
  },
  {
   "cell_type": "code",
   "execution_count": null,
   "id": "44a7cb32-105c-41d5-9ff3-0afe90217d60",
   "metadata": {},
   "outputs": [],
   "source": [
    "from sklearn.preprocessing import LabelEncoder"
   ]
  },
  {
   "cell_type": "code",
   "execution_count": null,
   "id": "2f7eb88a-9cf2-41dd-8b2a-6bf63d2fb4d5",
   "metadata": {},
   "outputs": [],
   "source": [
    "ynLabelEn = LabelEncoder()"
   ]
  },
  {
   "cell_type": "code",
   "execution_count": null,
   "id": "3977e396-209c-404a-8951-04b28c9144fa",
   "metadata": {
    "tags": []
   },
   "outputs": [],
   "source": [
    "ynLabelEn.fit_transform(featuresData[\"HOLIDAY\"])"
   ]
  },
  {
   "cell_type": "code",
   "execution_count": null,
   "id": "e810b2ec-5842-466f-b0f9-4245c92225b3",
   "metadata": {
    "tags": []
   },
   "outputs": [],
   "source": [
    "featuresData.drop_duplicates()"
   ]
  },
  {
   "cell_type": "code",
   "execution_count": null,
   "id": "776ca049-7cf9-48c5-b3c7-20e2831578d8",
   "metadata": {},
   "outputs": [],
   "source": [
    "csData = pd.read_csv(\"../dataset/customerdata.csv\")\n",
    "csData"
   ]
  },
  {
   "cell_type": "code",
   "execution_count": null,
   "id": "613c3859-7552-4a86-ae1e-e2204218443a",
   "metadata": {},
   "outputs": [],
   "source": [
    "csData[\"CUSTID\"] = ynLabelEn.fit_transform(csData[\"CUSTID\"])  ## 1. custtype의 갯수를 확인하고 2.오름차순으로 정렬한 후에 3.숫자로 변경해줌."
   ]
  },
  {
   "cell_type": "code",
   "execution_count": null,
   "id": "396d351a-0020-465a-981b-7bb2067a645e",
   "metadata": {},
   "outputs": [],
   "source": [
    "csData"
   ]
  },
  {
   "cell_type": "code",
   "execution_count": null,
   "id": "39d3a814-b7fc-4db2-96b2-c83bd1777c5c",
   "metadata": {
    "tags": []
   },
   "outputs": [],
   "source": [
    "ynLabelEn.inverse_transform(csData[\"CUSTID\"])"
   ]
  },
  {
   "cell_type": "code",
   "execution_count": null,
   "id": "26fd6478-69ad-4b01-86bd-f977030ba557",
   "metadata": {
    "tags": []
   },
   "outputs": [],
   "source": [
    "featuresData.head(1)"
   ]
  },
  {
   "cell_type": "code",
   "execution_count": null,
   "id": "0373562e-4d65-43cc-8f71-f330569a163c",
   "metadata": {},
   "outputs": [],
   "source": [
    "# 숫자가 아니라 문자를 머신러닝에 던지면 에러가 발생함.(변경 Y=1 , N=0)\n",
    "featuresData[\"PROMOTION_LB\"] = np.where(featuresData.PROMOTION ==\"Y\",1,0)\n",
    "featuresData[\"HOLIDAY_LB\"] = np.where(featuresData.HOLIDAY ==\"Y\",1,0)"
   ]
  },
  {
   "cell_type": "code",
   "execution_count": null,
   "id": "b7982d82-5717-432b-8931-945f5786773d",
   "metadata": {
    "tags": []
   },
   "outputs": [],
   "source": [
    "# 검증\n",
    "featuresData.loc[(featuresData.PROMOTION_LB == 1) &\n",
    "                 (featuresData.PROMOTION == \"Y\") ] "
   ]
  },
  {
   "cell_type": "markdown",
   "id": "82e12f9f-22c5-42ba-a25f-7ecd836f2140",
   "metadata": {},
   "source": [
    "## A-2 특성 선정 / 데이터 분리"
   ]
  },
  {
   "cell_type": "code",
   "execution_count": null,
   "id": "3efa8dce-cc1a-43d4-be50-7b59af2d2d57",
   "metadata": {},
   "outputs": [],
   "source": [
    "import matplotlib.pyplot as plt \n",
    "import seaborn as sns #만약 오류가 안되면 pip uninstall scipy 하고 pip install scipy 하면 됌(scipy는 통계를 담당하는 라이브러리임)\n",
    "%matplotlib inline  ## "
   ]
  },
  {
   "cell_type": "code",
   "execution_count": null,
   "id": "b1516e8f-81a5-4c57-bd21-bffb60a0ac69",
   "metadata": {},
   "outputs": [],
   "source": [
    "sns.distplot(featuresData[\"QTY\"]) #distplot = 변수하나에 대한 분포도"
   ]
  },
  {
   "cell_type": "code",
   "execution_count": null,
   "id": "8add3aca-40e8-4e47-989b-80740fa7e23a",
   "metadata": {
    "tags": []
   },
   "outputs": [],
   "source": [
    "sns.lmplot(data = featuresData, x = \"YEAR\", y = \"QTY\") # 상관계수를 나타낸다.  HCLUS : 블랙프라이데이와 같은 큰 휴일은 0으로 지정해놨음.\n",
    "plt.show()"
   ]
  },
  {
   "cell_type": "code",
   "execution_count": null,
   "id": "3d6878c6-64bf-4d7d-933d-d2e988e80dfa",
   "metadata": {},
   "outputs": [],
   "source": [
    "stdCorrRepeat = np.array( list( range(3,8,1) ) ) / 10  ##0.3~0.8의 상관계수가 0.1씩 증가한다."
   ]
  },
  {
   "cell_type": "code",
   "execution_count": null,
   "id": "a175ef88-b392-4df3-a60a-3cd65620e822",
   "metadata": {},
   "outputs": [],
   "source": [
    "stdCorrRepeat"
   ]
  },
  {
   "cell_type": "markdown",
   "id": "64704dcc-ba06-4d8f-995f-bfb2295d1fc5",
   "metadata": {},
   "source": [
    "# 머신러닝과 딥러닝의 차이\n",
    "# 딥러닝은 재료를 모두 쓰고 너가 알아서 필요한 자료 선택해, 머신러닝은 상관계수를 도출하고 feature을 설정"
   ]
  },
  {
   "cell_type": "code",
   "execution_count": null,
   "id": "0cdea3e0-69ab-49e5-98cf-159e9d6c0614",
   "metadata": {},
   "outputs": [],
   "source": [
    "# 특성 선정\n",
    "corrDf = featuresData.corr() #판매량에 영향을 주는 요소들이 어떤거인지 알 수 있음. #보통 0.3~0.7 은 상관관계가 있고, 0.7이상은 뚜렷한 상관관계를 띄고있다.\n",
    "stdCorr = 0.3"
   ]
  },
  {
   "cell_type": "code",
   "execution_count": null,
   "id": "2e3718a7-a3ec-4ac4-a3ce-c65a7292ed97",
   "metadata": {
    "tags": []
   },
   "outputs": [],
   "source": [
    "corrDf"
   ]
  },
  {
   "cell_type": "code",
   "execution_count": null,
   "id": "8bff81bc-f991-431a-b942-2b92d73172c6",
   "metadata": {},
   "outputs": [],
   "source": [
    "qtyCorr = corrDf.loc[[\"QTY\"] ]\n",
    "qtyCorr"
   ]
  },
  {
   "cell_type": "code",
   "execution_count": null,
   "id": "9a337804-26ad-407c-9c40-b086b6a1e13b",
   "metadata": {},
   "outputs": [],
   "source": [
    "qtyCorr = corrDf.loc[:,[\"QTY\"] ].sort_values(by=[\"QTY\"],ascending=False) #내림차순 false 오름차순 true\n",
    "qtyCorr"
   ]
  },
  {
   "cell_type": "code",
   "execution_count": null,
   "id": "82da6687-a40d-4311-bb48-dae2ca7aaafd",
   "metadata": {},
   "outputs": [],
   "source": [
    "sns.heatmap( qtyCorr, annot = True )\n",
    "#각각의 지표에 대해서 직접 숫자를 나타내줌. sort를 해주면 기존의 입력되어있는 순서로 보여주는데 숫자가 큰수로 정렬되어 더 명확하게 볼수 있음."
   ]
  },
  {
   "cell_type": "code",
   "execution_count": null,
   "id": "76982721-8f46-4159-bda7-bd17d44b4603",
   "metadata": {},
   "outputs": [],
   "source": [
    "# stepwise\n",
    "# 점진 선택법..."
   ]
  },
  {
   "cell_type": "code",
   "execution_count": null,
   "id": "936378b8-ee58-4114-903b-f6eb5a4b9378",
   "metadata": {},
   "outputs": [],
   "source": [
    "features = list( corrDf.loc[ (abs(corrDf.QTY) >= stdCorr) & (corrDf.QTY != 1) ].index ) ##나자신인 qty는 답안지 이기 때문에 제외시켜줘야한다.인덱스는 숫자 문자 둘다 가능함."
   ]
  },
  {
   "cell_type": "code",
   "execution_count": null,
   "id": "09189423-7af1-4eba-a744-cec7d9936456",
   "metadata": {},
   "outputs": [],
   "source": [
    "features"
   ]
  },
  {
   "cell_type": "code",
   "execution_count": null,
   "id": "aa74daf3-3063-44cb-a8dd-68897ef91daa",
   "metadata": {},
   "outputs": [],
   "source": [
    "label = [\"QTY\"]"
   ]
  },
  {
   "cell_type": "code",
   "execution_count": null,
   "id": "c89df6ef-a560-47ac-aba3-65c20965af40",
   "metadata": {},
   "outputs": [],
   "source": [
    "# 데이터 분리(7:3)"
   ]
  },
  {
   "cell_type": "code",
   "execution_count": null,
   "id": "800b5694-c5e4-4c33-a3aa-07d7f06a04d6",
   "metadata": {},
   "outputs": [],
   "source": [
    "stdRatio = 0.7"
   ]
  },
  {
   "cell_type": "code",
   "execution_count": null,
   "id": "ec14d973-ee9b-4973-9b1b-f9e915f78831",
   "metadata": {},
   "outputs": [],
   "source": [
    "featuresData.shape"
   ]
  },
  {
   "cell_type": "code",
   "execution_count": null,
   "id": "332c3560-3f1e-4161-8b70-6e66fd9a876a",
   "metadata": {},
   "outputs": [],
   "source": [
    "# 원래는 시간의 순으로 데이터를 7대3으로 나누나 시간이 없는 데이터도 있을수 있기 때문에 무작위(랜덤)로 뽑아서 7대3 데이터를 나눈다."
   ]
  },
  {
   "cell_type": "markdown",
   "id": "0cb87901-7689-47e7-b2c7-cd8cc36766a2",
   "metadata": {},
   "source": [
    "### 1.랜덤 데이터분리(training data / test data)"
   ]
  },
  {
   "cell_type": "code",
   "execution_count": 9,
   "id": "e06e30bb-46fb-4dcc-b6c2-63ed40f9a846",
   "metadata": {},
   "outputs": [],
   "source": [
    "from sklearn.model_selection import train_test_split"
   ]
  },
  {
   "cell_type": "code",
   "execution_count": 10,
   "id": "4d173266-ca46-420c-88ec-01548b8bcd15",
   "metadata": {
    "tags": []
   },
   "outputs": [
    {
     "ename": "NameError",
     "evalue": "name 'features' is not defined",
     "output_type": "error",
     "traceback": [
      "\u001b[1;31m---------------------------------------------------------------------------\u001b[0m",
      "\u001b[1;31mNameError\u001b[0m                                 Traceback (most recent call last)",
      "\u001b[1;32m~\\AppData\\Local\\Temp\\ipykernel_7340\\1575573379.py\u001b[0m in \u001b[0;36m<module>\u001b[1;34m\u001b[0m\n\u001b[0;32m      2\u001b[0m \u001b[0mtestDataFeatures\u001b[0m\u001b[1;33m,\u001b[0m\u001b[0;31m\\\u001b[0m\u001b[1;33m\u001b[0m\u001b[1;33m\u001b[0m\u001b[0m\n\u001b[0;32m      3\u001b[0m \u001b[0mtrainingDataLabel\u001b[0m\u001b[1;33m,\u001b[0m\u001b[0;31m\\\u001b[0m\u001b[1;33m\u001b[0m\u001b[1;33m\u001b[0m\u001b[0m\n\u001b[1;32m----> 4\u001b[1;33m testDataLabel = train_test_split(featuresData.loc[:,features],\n\u001b[0m\u001b[0;32m      5\u001b[0m                                  \u001b[0mfeaturesData\u001b[0m\u001b[1;33m.\u001b[0m\u001b[0mloc\u001b[0m\u001b[1;33m[\u001b[0m\u001b[1;33m:\u001b[0m\u001b[1;33m,\u001b[0m\u001b[0mlabel\u001b[0m\u001b[1;33m]\u001b[0m\u001b[1;33m,\u001b[0m\u001b[1;33m\u001b[0m\u001b[1;33m\u001b[0m\u001b[0m\n\u001b[0;32m      6\u001b[0m                                  \u001b[0mtest_size\u001b[0m\u001b[1;33m=\u001b[0m\u001b[1;36m0.2\u001b[0m\u001b[1;33m,\u001b[0m\u001b[1;33m\u001b[0m\u001b[1;33m\u001b[0m\u001b[0m\n",
      "\u001b[1;31mNameError\u001b[0m: name 'features' is not defined"
     ]
    }
   ],
   "source": [
    "traininDataFeatures,\\\n",
    "testDataFeatures,\\\n",
    "trainingDataLabel,\\\n",
    "testDataLabel = train_test_split(featuresData.loc[:,features],\n",
    "                                 featuresData.loc[:,label], \n",
    "                                 test_size=0.2, \n",
    "                                 random_state = 10) \n",
    "#계속돌릴때마다 값이 계속 달라진다 그래서 한번 추출한 데이터를 픽스하고 싶으면 random_state=10을 적어준다.\n",
    "traininDataFeatures,\\\n",
    "testDataFeatures,\\\n",
    "trainingDataLabel,\\\n",
    "testDataLabel "
   ]
  },
  {
   "cell_type": "code",
   "execution_count": null,
   "id": "1978a273-acf8-406b-a338-5f2f1ea987db",
   "metadata": {},
   "outputs": [],
   "source": [
    "print(trData.shape)\n",
    "print(tdData.shape)\n",
    "print(c.shape)\n",
    "print(d.shape)"
   ]
  },
  {
   "cell_type": "markdown",
   "id": "570337c4-b17c-45c2-bdb4-a77a3f8dc7e9",
   "metadata": {},
   "source": [
    "## 2.시간순 데이터분리(training data / test data)"
   ]
  },
  {
   "cell_type": "code",
   "execution_count": null,
   "id": "9ffbc0f4-baa6-414e-856e-2ab6ce32d38f",
   "metadata": {},
   "outputs": [],
   "source": [
    "sortKey = [\"YEARWEEK\"]"
   ]
  },
  {
   "cell_type": "code",
   "execution_count": null,
   "id": "1d8f3eeb-f45e-4cec-9a37-545c7bd80985",
   "metadata": {},
   "outputs": [],
   "source": [
    "sortedData =featuresData.sort_values(sortKey).reset_index(drop=True)\n",
    "sortedData.YEARWEEK.describe()  # 예를 들어 2015년 데이터를 가지고 트레이닝데이터를 만들어보고 2016년데이터를 가지고 테스트해보자!"
   ]
  },
  {
   "cell_type": "code",
   "execution_count": null,
   "id": "dfd640e4-8251-42da-8263-246eb330b0d4",
   "metadata": {},
   "outputs": [],
   "source": [
    "stdYearweek = 2016"
   ]
  },
  {
   "cell_type": "code",
   "execution_count": null,
   "id": "f342048a-4bc7-4645-b85b-d8a6939b0d57",
   "metadata": {},
   "outputs": [],
   "source": [
    "trainingDataFeatures = featuresData.loc[featuresData.YEAR < stdYearweek, features] #문제지\n",
    "trainingDataLabel = featuresData.loc[featuresData.YEAR < stdYearweek, label] #정답\n",
    "testDataFeatures = featuresData.loc[featuresData.YEAR > stdYearweek, features] #문제지\n",
    "testDataLabel = featuresData.loc[featuresData.YEAR > stdYearweek, label] #정답"
   ]
  },
  {
   "cell_type": "code",
   "execution_count": null,
   "id": "254c3a5a-bd34-4f4a-9896-fe5dcf40f439",
   "metadata": {
    "tags": []
   },
   "outputs": [],
   "source": [
    "stdIndex = int(featuresData.shape[0] * stdRatio)\n",
    "stdIndex"
   ]
  },
  {
   "cell_type": "code",
   "execution_count": null,
   "id": "1ed6150a-7eff-44d0-bb82-7ce7602f984a",
   "metadata": {},
   "outputs": [],
   "source": [
    "trainingDataFeatures = featuresData.loc[0:stdIndex, features] #문제지\n",
    "trainingDataLabel = featuresData.loc[0:stdIndex, label] #정답\n",
    "testDataFeatures = featuresData.loc[stdIndex+1 :, features] #문제지\n",
    "testDataLabel = featuresData.loc[stdIndex+1 :, label] #정답"
   ]
  },
  {
   "cell_type": "code",
   "execution_count": 11,
   "id": "484af865-f9e2-414f-8f5c-88fa4e0f4053",
   "metadata": {},
   "outputs": [
    {
     "ename": "NameError",
     "evalue": "name 'trainingDataFeatures' is not defined",
     "output_type": "error",
     "traceback": [
      "\u001b[1;31m---------------------------------------------------------------------------\u001b[0m",
      "\u001b[1;31mNameError\u001b[0m                                 Traceback (most recent call last)",
      "\u001b[1;32m~\\AppData\\Local\\Temp\\ipykernel_7340\\3996481484.py\u001b[0m in \u001b[0;36m<module>\u001b[1;34m\u001b[0m\n\u001b[1;32m----> 1\u001b[1;33m \u001b[0mprint\u001b[0m \u001b[1;33m(\u001b[0m \u001b[0mtrainingDataFeatures\u001b[0m\u001b[1;33m.\u001b[0m\u001b[0mshape\u001b[0m \u001b[1;33m)\u001b[0m\u001b[1;33m\u001b[0m\u001b[1;33m\u001b[0m\u001b[0m\n\u001b[0m\u001b[0;32m      2\u001b[0m \u001b[0mprint\u001b[0m \u001b[1;33m(\u001b[0m \u001b[0mtrainingDataLabel\u001b[0m\u001b[1;33m.\u001b[0m\u001b[0mshape\u001b[0m \u001b[1;33m)\u001b[0m\u001b[1;33m\u001b[0m\u001b[1;33m\u001b[0m\u001b[0m\n\u001b[0;32m      3\u001b[0m \u001b[0mprint\u001b[0m \u001b[1;33m(\u001b[0m \u001b[0mtestDataFeatures\u001b[0m\u001b[1;33m.\u001b[0m\u001b[0mshape\u001b[0m \u001b[1;33m)\u001b[0m\u001b[1;33m\u001b[0m\u001b[1;33m\u001b[0m\u001b[0m\n\u001b[0;32m      4\u001b[0m \u001b[0mprint\u001b[0m \u001b[1;33m(\u001b[0m \u001b[0mtestDataLabel\u001b[0m\u001b[1;33m.\u001b[0m\u001b[0mshape\u001b[0m \u001b[1;33m)\u001b[0m\u001b[1;33m\u001b[0m\u001b[1;33m\u001b[0m\u001b[0m\n",
      "\u001b[1;31mNameError\u001b[0m: name 'trainingDataFeatures' is not defined"
     ]
    }
   ],
   "source": [
    "print ( trainingDataFeatures.shape )\n",
    "print ( trainingDataLabel.shape )\n",
    "print ( testDataFeatures.shape )\n",
    "print ( testDataLabel.shape )"
   ]
  },
  {
   "cell_type": "markdown",
   "id": "4fb0256f-2cf5-40ec-bc73-60445c1f169a",
   "metadata": {},
   "source": [
    "## B 모델적용"
   ]
  },
  {
   "cell_type": "markdown",
   "id": "b0f1f58d-1191-446a-ae2a-ffcdd38b930e",
   "metadata": {},
   "source": [
    "### B-3. 모델적용"
   ]
  },
  {
   "cell_type": "code",
   "execution_count": 12,
   "id": "01c5213e-c2cc-49d8-89b5-a69278248b4a",
   "metadata": {},
   "outputs": [],
   "source": [
    "from sklearn import tree"
   ]
  },
  {
   "cell_type": "code",
   "execution_count": 13,
   "id": "946e145d-06ce-417e-a533-42785e767116",
   "metadata": {},
   "outputs": [],
   "source": [
    "from sklearn.tree import plot_tree"
   ]
  },
  {
   "cell_type": "code",
   "execution_count": 14,
   "id": "310280b8-3837-4857-8eeb-3afd74b8b117",
   "metadata": {},
   "outputs": [],
   "source": [
    "import matplotlib.pyplot as plt"
   ]
  },
  {
   "cell_type": "code",
   "execution_count": 15,
   "id": "157d8998-8760-4224-be43-2f6e65e45e51",
   "metadata": {},
   "outputs": [],
   "source": [
    "# 알고리즘을 고정시킴으로써 예측값을 재현 가능하게 해줌(random_state=10)\n",
    "dtModel = tree.DecisionTreeRegressor(random_state=10)"
   ]
  },
  {
   "cell_type": "code",
   "execution_count": 16,
   "id": "98844ccf-4459-4ac7-afa7-5383b8fc6e73",
   "metadata": {},
   "outputs": [
    {
     "ename": "NameError",
     "evalue": "name 'trainingDataFeatures' is not defined",
     "output_type": "error",
     "traceback": [
      "\u001b[1;31m---------------------------------------------------------------------------\u001b[0m",
      "\u001b[1;31mNameError\u001b[0m                                 Traceback (most recent call last)",
      "\u001b[1;32m~\\AppData\\Local\\Temp\\ipykernel_7340\\3888578084.py\u001b[0m in \u001b[0;36m<module>\u001b[1;34m\u001b[0m\n\u001b[1;32m----> 1\u001b[1;33m dtModel.fit(X=trainingDataFeatures,\n\u001b[0m\u001b[0;32m      2\u001b[0m             y=trainingDataLabel) ## 대문자 X는 문제지, 소문자 y는 정답지)\n",
      "\u001b[1;31mNameError\u001b[0m: name 'trainingDataFeatures' is not defined"
     ]
    }
   ],
   "source": [
    "dtModel.fit(X=trainingDataFeatures,\n",
    "            y=trainingDataLabel) ## 대문자 X는 문제지, 소문자 y는 정답지)"
   ]
  },
  {
   "cell_type": "code",
   "execution_count": null,
   "id": "2d3016c2-1cd5-464b-aee0-f32fd09037cc",
   "metadata": {},
   "outputs": [],
   "source": [
    "plt.figure(figsize=(13,8))\n",
    "plot_tree(dtModel)"
   ]
  },
  {
   "cell_type": "code",
   "execution_count": null,
   "id": "b41619de-3bcc-400f-b2e8-8a01bcd09060",
   "metadata": {},
   "outputs": [],
   "source": []
  },
  {
   "cell_type": "code",
   "execution_count": null,
   "id": "43dba5fd-9466-4b5f-b2c0-a983972d36fb",
   "metadata": {},
   "outputs": [],
   "source": []
  },
  {
   "cell_type": "code",
   "execution_count": null,
   "id": "2ab56c72-b911-4589-b0ef-1549c5965994",
   "metadata": {},
   "outputs": [],
   "source": []
  },
  {
   "cell_type": "markdown",
   "id": "001a37f7-9411-497c-b230-f92488445a56",
   "metadata": {},
   "source": [
    "## C. 예측/검증"
   ]
  },
  {
   "cell_type": "markdown",
   "id": "b9b7bfb6-dacb-4a25-a24e-19af7c8ab4d2",
   "metadata": {},
   "source": [
    "### c-1. 예측"
   ]
  },
  {
   "cell_type": "code",
   "execution_count": 22,
   "id": "5f988d2f-9562-48e1-9285-5c59f122bca4",
   "metadata": {},
   "outputs": [
    {
     "data": {
      "text/plain": [
       "DecisionTreeRegressor(random_state=10)"
      ]
     },
     "execution_count": 22,
     "metadata": {},
     "output_type": "execute_result"
    }
   ],
   "source": [
    "dtModel"
   ]
  },
  {
   "cell_type": "code",
   "execution_count": 23,
   "id": "595a255f-b6c0-439b-9b29-574ef3684599",
   "metadata": {},
   "outputs": [],
   "source": [
    "predictValue = dtModel.predict( X = testDataFeatures ) ##테스트데이터(X)의 문제지를 대입하였을때 정답지(predictValue)를 추출한다."
   ]
  },
  {
   "cell_type": "code",
   "execution_count": 24,
   "id": "bae904ea-56fc-41bc-b4d7-a9ddbe8d4523",
   "metadata": {},
   "outputs": [
    {
     "data": {
      "text/plain": [
       "31"
      ]
     },
     "execution_count": 24,
     "metadata": {},
     "output_type": "execute_result"
    }
   ],
   "source": [
    "len(predictValue) ##qty(31개)가 정답지로 추출된다."
   ]
  },
  {
   "cell_type": "markdown",
   "id": "6a61c29b-728e-4d34-936e-f4e3aa2a5cc2",
   "metadata": {},
   "source": [
    "# 미래는 어떻게 예측할 것이냐?"
   ]
  },
  {
   "cell_type": "code",
   "execution_count": 25,
   "id": "cd17b7c0-8dcd-431e-b52d-ddf33f0f85a7",
   "metadata": {},
   "outputs": [
    {
     "data": {
      "text/plain": [
       "['HCLUS', 'PRO_PERCENT', 'PROMOTION_LB', 'HOLIDAY_LB']"
      ]
     },
     "execution_count": 25,
     "metadata": {},
     "output_type": "execute_result"
    }
   ],
   "source": [
    "features"
   ]
  },
  {
   "cell_type": "code",
   "execution_count": 26,
   "id": "a815f63d-e04a-4f73-84ce-b44c01e932dc",
   "metadata": {},
   "outputs": [],
   "source": [
    "inputHclus = 1 # 대휴일1 소휴일 :4\n",
    "inputProPercent = 0.5 # 프로모션 비율\n",
    "inputPromotionLb = 1 # 프로모션 적용 Y\n",
    "inputHlb = 1 # 홀리데이 적용 Y"
   ]
  },
  {
   "cell_type": "code",
   "execution_count": 27,
   "id": "15e6fae9-1e6d-4c5a-a12e-4482554aaa3e",
   "metadata": {},
   "outputs": [],
   "source": [
    "testData = pd.DataFrame( [ [inputHclus, inputProPercent, inputPromotionLb, inputHlb] ] )"
   ]
  },
  {
   "cell_type": "code",
   "execution_count": 28,
   "id": "fd38d784-7d74-466c-bf1c-b5ded1db1075",
   "metadata": {
    "tags": []
   },
   "outputs": [
    {
     "name": "stderr",
     "output_type": "stream",
     "text": [
      "C:\\Users\\SMART27\\anaconda3\\lib\\site-packages\\sklearn\\base.py:450: UserWarning: X does not have valid feature names, but DecisionTreeRegressor was fitted with feature names\n",
      "  warnings.warn(\n"
     ]
    },
    {
     "data": {
      "text/plain": [
       "array([2193.8])"
      ]
     },
     "execution_count": 28,
     "metadata": {},
     "output_type": "execute_result"
    }
   ],
   "source": [
    "dtModel.predict(testData)"
   ]
  }
 ],
 "metadata": {
  "kernelspec": {
   "display_name": "Python 3 (ipykernel)",
   "language": "python",
   "name": "python3"
  },
  "language_info": {
   "codemirror_mode": {
    "name": "ipython",
    "version": 3
   },
   "file_extension": ".py",
   "mimetype": "text/x-python",
   "name": "python",
   "nbconvert_exporter": "python",
   "pygments_lexer": "ipython3",
   "version": "3.9.13"
  }
 },
 "nbformat": 4,
 "nbformat_minor": 5
}
