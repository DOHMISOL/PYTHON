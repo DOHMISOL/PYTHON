{
 "cells": [
  {
   "cell_type": "code",
   "execution_count": null,
   "metadata": {},
   "outputs": [],
   "source": []
  },
  {
   "cell_type": "code",
   "execution_count": 1,
   "metadata": {},
   "outputs": [
    {
     "ename": "FileNotFoundError",
     "evalue": "[Errno 2] No such file or directory: '건강보험심사평가원_전국 병의원 및 약국 현황 2021.3 (csv)/3. 의료기관별상세정보서비스(시설정보) 2021.3.csv'",
     "output_type": "error",
     "traceback": [
      "\u001b[1;31m---------------------------------------------------------------------------\u001b[0m",
      "\u001b[1;31mFileNotFoundError\u001b[0m                         Traceback (most recent call last)",
      "Cell \u001b[1;32mIn[1], line 15\u001b[0m\n\u001b[0;32m     11\u001b[0m         local_dic[key2] \u001b[38;5;241m=\u001b[39m value\n\u001b[0;32m     12\u001b[0m     dic[key1] \u001b[38;5;241m=\u001b[39m local_dic\n\u001b[1;32m---> 15\u001b[0m fh \u001b[38;5;241m=\u001b[39m \u001b[38;5;28;43mopen\u001b[39;49m\u001b[43m(\u001b[49m\u001b[38;5;124;43m'\u001b[39;49m\u001b[38;5;124;43m건강보험심사평가원_전국 병의원 및 약국 현황 2021.3 (csv)/3. 의료기관별상세정보서비스(시설정보) 2021.3.csv\u001b[39;49m\u001b[38;5;124;43m'\u001b[39;49m\u001b[43m,\u001b[49m\u001b[43m \u001b[49m\u001b[38;5;124;43m'\u001b[39;49m\u001b[38;5;124;43mr\u001b[39;49m\u001b[38;5;124;43m'\u001b[39;49m\u001b[43m,\u001b[49m\u001b[43m \u001b[49m\u001b[43mencoding\u001b[49m\u001b[38;5;241;43m=\u001b[39;49m\u001b[38;5;124;43m'\u001b[39;49m\u001b[38;5;124;43mcp949\u001b[39;49m\u001b[38;5;124;43m'\u001b[39;49m\u001b[43m)\u001b[49m\n\u001b[0;32m     16\u001b[0m rdr \u001b[38;5;241m=\u001b[39m csv\u001b[38;5;241m.\u001b[39mreader(fh, delimiter\u001b[38;5;241m=\u001b[39m\u001b[38;5;124m'\u001b[39m\u001b[38;5;124m,\u001b[39m\u001b[38;5;124m'\u001b[39m, quotechar\u001b[38;5;241m=\u001b[39m\u001b[38;5;124m'\u001b[39m\u001b[38;5;124m\"\u001b[39m\u001b[38;5;124m'\u001b[39m)\n\u001b[0;32m     17\u001b[0m stats, count \u001b[38;5;241m=\u001b[39m {}, \u001b[38;5;241m0\u001b[39m\n",
      "File \u001b[1;32m~\\AppData\\Local\\Programs\\Python\\Python310\\lib\\site-packages\\IPython\\core\\interactiveshell.py:310\u001b[0m, in \u001b[0;36m_modified_open\u001b[1;34m(file, *args, **kwargs)\u001b[0m\n\u001b[0;32m    303\u001b[0m \u001b[38;5;28;01mif\u001b[39;00m file \u001b[38;5;129;01min\u001b[39;00m {\u001b[38;5;241m0\u001b[39m, \u001b[38;5;241m1\u001b[39m, \u001b[38;5;241m2\u001b[39m}:\n\u001b[0;32m    304\u001b[0m     \u001b[38;5;28;01mraise\u001b[39;00m \u001b[38;5;167;01mValueError\u001b[39;00m(\n\u001b[0;32m    305\u001b[0m         \u001b[38;5;124mf\u001b[39m\u001b[38;5;124m\"\u001b[39m\u001b[38;5;124mIPython won\u001b[39m\u001b[38;5;124m'\u001b[39m\u001b[38;5;124mt let you open fd=\u001b[39m\u001b[38;5;132;01m{\u001b[39;00mfile\u001b[38;5;132;01m}\u001b[39;00m\u001b[38;5;124m by default \u001b[39m\u001b[38;5;124m\"\u001b[39m\n\u001b[0;32m    306\u001b[0m         \u001b[38;5;124m\"\u001b[39m\u001b[38;5;124mas it is likely to crash IPython. If you know what you are doing, \u001b[39m\u001b[38;5;124m\"\u001b[39m\n\u001b[0;32m    307\u001b[0m         \u001b[38;5;124m\"\u001b[39m\u001b[38;5;124myou can use builtins\u001b[39m\u001b[38;5;124m'\u001b[39m\u001b[38;5;124m open.\u001b[39m\u001b[38;5;124m\"\u001b[39m\n\u001b[0;32m    308\u001b[0m     )\n\u001b[1;32m--> 310\u001b[0m \u001b[38;5;28;01mreturn\u001b[39;00m io_open(file, \u001b[38;5;241m*\u001b[39margs, \u001b[38;5;241m*\u001b[39m\u001b[38;5;241m*\u001b[39mkwargs)\n",
      "\u001b[1;31mFileNotFoundError\u001b[0m: [Errno 2] No such file or directory: '건강보험심사평가원_전국 병의원 및 약국 현황 2021.3 (csv)/3. 의료기관별상세정보서비스(시설정보) 2021.3.csv'"
     ]
    }
   ],
   "source": [
    "import csv\n",
    "import re\n",
    "\n",
    "def add_item_into_nested_dictionary(dic, key1, key2, value):\n",
    "    local_dic = {}\n",
    "    if key1 in dic:\n",
    "        local_dic = dic[key1]\n",
    "    if key2 in local_dic:\n",
    "        local_dic[key2] += value\n",
    "    else:\n",
    "        local_dic[key2] = value\n",
    "    dic[key1] = local_dic\n",
    "        \n",
    "    \n",
    "fh = open('건강보험심사평가원_전국 병의원 및 약국 현황 2021.3 (csv)/3. 의료기관별상세정보서비스(시설정보) 2021.3.csv', 'r', encoding='cp949')\n",
    "rdr = csv.reader(fh, delimiter=',', quotechar='\"')\n",
    "stats, count = {}, 0\n",
    "for row in rdr:\n",
    "#    print(row)\n",
    "    count += 1\n",
    "    if count > 1:\n",
    "        # 통계 작성 \n",
    "        add_item_into_nested_dictionary(stats, row[7], 0, int(row[16]))\n",
    "        add_item_into_nested_dictionary(stats, row[7], 1, int(row[17]))\n",
    "        add_item_into_nested_dictionary(stats, row[7], 2, int(row[18]))\n",
    "        add_item_into_nested_dictionary(stats, row[7], 3, int(row[19]))\n",
    "        add_item_into_nested_dictionary(stats, row[7], 4, int(row[20]))\n",
    "        add_item_into_nested_dictionary(stats, row[7], 5, int(row[21]))\n",
    "        add_item_into_nested_dictionary(stats, row[7], 6, int(row[22]))\n",
    "        add_item_into_nested_dictionary(stats, row[7], 7, int(row[23]))\n",
    "        add_item_into_nested_dictionary(stats, row[7], 8, int(row[24]))\n",
    "        add_item_into_nested_dictionary(stats, row[7], 9, int(row[25]))\n",
    "        add_item_into_nested_dictionary(stats, row[7], 10, int(row[26]))\n",
    "        add_item_into_nested_dictionary(stats, row[7], 11, int(row[27]))                \n",
    "        add_item_into_nested_dictionary(stats, row[7], 12, int(row[28]))       \n",
    "    else:\n",
    "        indexes = row[16:]\n",
    "        indexes.insert(0, '지역')\n",
    "        print(', '.join(indexes))    \n",
    "fh.close()\n",
    "#print(stats)\n",
    "\n",
    "for sido,dict in stats.items():\n",
    "    line = ','.join([sido,str(dict[0]),str(dict[1]),str(dict[2]),str(dict[3]),str(dict[4]),str(dict[5]),\n",
    "                    str(dict[6]),str(dict[7]),str(dict[8]),str(dict[9]),str(dict[10]),str(dict[11]),str(dict[12])])\n",
    "    print (line)\n",
    "\n",
    "\n",
    "#for key, dict in stats.items():\n",
    "#    print(key, dict)    \n",
    "    \n",
    "    \n",
    "    "
   ]
  },
  {
   "cell_type": "code",
   "execution_count": null,
   "metadata": {},
   "outputs": [],
   "source": []
  },
  {
   "cell_type": "code",
   "execution_count": null,
   "metadata": {},
   "outputs": [],
   "source": []
  }
 ],
 "metadata": {
  "kernelspec": {
   "display_name": "Python 3 (ipykernel)",
   "language": "python",
   "name": "python3"
  },
  "language_info": {
   "codemirror_mode": {
    "name": "ipython",
    "version": 3
   },
   "file_extension": ".py",
   "mimetype": "text/x-python",
   "name": "python",
   "nbconvert_exporter": "python",
   "pygments_lexer": "ipython3",
   "version": "3.10.9"
  }
 },
 "nbformat": 4,
 "nbformat_minor": 4
}
