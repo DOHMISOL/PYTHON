{
 "cells": [
  {
   "cell_type": "markdown",
   "id": "ff7fd429-426f-4e53-90e5-6488050d74c5",
   "metadata": {},
   "source": [
    "문자"
   ]
  },
  {
   "cell_type": "code",
   "execution_count": 1,
   "id": "a810343c-83e2-422d-b857-df05fb1c4fb1",
   "metadata": {},
   "outputs": [
    {
     "name": "stdout",
     "output_type": "stream",
     "text": [
      "database acess complted\n"
     ]
    }
   ],
   "source": [
    "print(\"database acess complted\")"
   ]
  },
  {
   "cell_type": "code",
   "execution_count": 2,
   "id": "2d4c037b-d3ab-4b24-9c6a-be74a0279ef6",
   "metadata": {},
   "outputs": [
    {
     "name": "stdout",
     "output_type": "stream",
     "text": [
      "******database acess complted******\n"
     ]
    }
   ],
   "source": [
    "print(\"*\"*6 + \"database acess complted\"+\"*\"*6)"
   ]
  },
  {
   "cell_type": "code",
   "execution_count": 4,
   "id": "ed386b29-d706-4f6f-9dab-1e001a840ded",
   "metadata": {},
   "outputs": [],
   "source": [
    "#yearweek를 내가 201801로 정의를 했다\n",
    "yearweek = \"201801\""
   ]
  },
  {
   "cell_type": "code",
   "execution_count": 5,
   "id": "7ea19e50-b515-487b-8b3f-aa2ddd41c66c",
   "metadata": {},
   "outputs": [
    {
     "data": {
      "text/plain": [
       "'1'"
      ]
     },
     "execution_count": 5,
     "metadata": {},
     "output_type": "execute_result"
    }
   ],
   "source": [
    "yearweek[2]"
   ]
  },
  {
   "cell_type": "code",
   "execution_count": 7,
   "id": "e776ad14-e4f6-45be-a4a0-31bfbb51a6f3",
   "metadata": {},
   "outputs": [
    {
     "data": {
      "text/plain": [
       "'2018'"
      ]
     },
     "execution_count": 7,
     "metadata": {},
     "output_type": "execute_result"
    }
   ],
   "source": [
    "yearweek[0:4]\n",
    "#마지막 4를 제외하고 가져온다![:4}"
   ]
  },
  {
   "cell_type": "code",
   "execution_count": 8,
   "id": "f2c6b5b7-796b-48df-a8ab-ebf58dace447",
   "metadata": {},
   "outputs": [
    {
     "data": {
      "text/plain": [
       "'01'"
      ]
     },
     "execution_count": 8,
     "metadata": {},
     "output_type": "execute_result"
    }
   ],
   "source": [
    "yearweek[4:]"
   ]
  },
  {
   "cell_type": "code",
   "execution_count": null,
   "id": "f4e00802-678f-4cf5-9204-108cc0f1d144",
   "metadata": {},
   "outputs": [],
   "source": [
    "yearweek"
   ]
  },
  {
   "cell_type": "code",
   "execution_count": 1,
   "id": "8255a8ee-5bd3-4887-9e0e-2df880f427c5",
   "metadata": {},
   "outputs": [],
   "source": [
    "# 기준 값(고객과 협의됨)\n",
    "yearLen = 4\n",
    "weekLen = 2"
   ]
  },
  {
   "cell_type": "code",
   "execution_count": 27,
   "id": "5b6034b1-6a87-4bd3-8cda-58a789375472",
   "metadata": {},
   "outputs": [
    {
     "data": {
      "text/plain": [
       "1"
      ]
     },
     "execution_count": 27,
     "metadata": {},
     "output_type": "execute_result"
    }
   ],
   "source": [
    "yearweek = \"2023W01\"\n",
    "yearweek.index(\"W\")  #index기능은 안에있는 문자열을 찾아서 어디에 위치해 있는지 출력\n",
    "yearweek.count(\"W\") #count기능은 안에 있는 문자열이 몇개인지 출력"
   ]
  },
  {
   "cell_type": "code",
   "execution_count": 3,
   "id": "24296491-29d9-4ecc-a3eb-3dcadd46c6a8",
   "metadata": {},
   "outputs": [
    {
     "name": "stdout",
     "output_type": "stream",
     "text": [
      "LED_TV\n",
      "led_tv\n"
     ]
    }
   ],
   "source": [
    "letters = \"LeD_tv\"\n",
    "print(letters.upper())   #대문자\n",
    "print(letters.lower())   #소문자"
   ]
  },
  {
   "cell_type": "code",
   "execution_count": 25,
   "id": "e971fa32-3282-4bb6-a0e3-f015a2236cfb",
   "metadata": {},
   "outputs": [
    {
     "name": "stdout",
     "output_type": "stream",
     "text": [
      "2017_28\n"
     ]
    }
   ],
   "source": [
    "repLetters = \"2017W28\"\n",
    "print(repLetters.replace(\"W\",\"_\"))   #replace 첫번째 잇는것을 두번째로 바꿔라"
   ]
  },
  {
   "cell_type": "code",
   "execution_count": 64,
   "id": "88e72894-b3a9-49d4-bd0c-102dcfaed1a1",
   "metadata": {},
   "outputs": [
    {
     "name": "stdout",
     "output_type": "stream",
     "text": [
      "2018_29\n"
     ]
    }
   ],
   "source": [
    "repLetters = \"2018W29\"\n",
    "print(repLetters.replace(\"W\",\"_\"))"
   ]
  },
  {
   "cell_type": "code",
   "execution_count": 8,
   "id": "b4e30020-fab3-4f22-a71d-78f1e8a60078",
   "metadata": {},
   "outputs": [
    {
     "name": "stdout",
     "output_type": "stream",
     "text": [
      "['2017', '28']\n"
     ]
    }
   ],
   "source": [
    "yearweek = \"2017W28\"\n",
    "yearweek_list = yearweek.split(\"W\")  #split 안에 있는 문자열 기준으로 나누라\n",
    "print(yearweek_list)"
   ]
  },
  {
   "cell_type": "code",
   "execution_count": 65,
   "id": "4dfda82a-d72a-4b72-abef-b3a6521641c7",
   "metadata": {},
   "outputs": [
    {
     "data": {
      "text/plain": [
       "['2019', '29']"
      ]
     },
     "execution_count": 65,
     "metadata": {},
     "output_type": "execute_result"
    }
   ],
   "source": [
    "a = \"2019W29\"\n",
    "a = a.split(\"W\")\n",
    "a"
   ]
  },
  {
   "cell_type": "code",
   "execution_count": 16,
   "id": "17e33b38-a6c0-4ec7-837b-df7b36583f82",
   "metadata": {},
   "outputs": [],
   "source": [
    "yearweek = \"2023W01\""
   ]
  },
  {
   "cell_type": "code",
   "execution_count": 17,
   "id": "3d114dbb-c8ec-4446-9364-9e1bd9ca2dcd",
   "metadata": {},
   "outputs": [
    {
     "data": {
      "text/plain": [
       "4"
      ]
     },
     "execution_count": 17,
     "metadata": {},
     "output_type": "execute_result"
    }
   ],
   "source": [
    "stdChar = yearweek.index(\"W\")\n",
    "stdChar"
   ]
  },
  {
   "cell_type": "code",
   "execution_count": 18,
   "id": "24a8a8d1-7862-4d60-b0b3-b1d3c6c79717",
   "metadata": {},
   "outputs": [],
   "source": [
    "yearweek = yearweek.replace(\"W\",\"\")"
   ]
  },
  {
   "cell_type": "code",
   "execution_count": 19,
   "id": "fc781861-860b-4e9b-b628-6eab1096fe2c",
   "metadata": {},
   "outputs": [
    {
     "data": {
      "text/plain": [
       "'2023'"
      ]
     },
     "execution_count": 19,
     "metadata": {},
     "output_type": "execute_result"
    }
   ],
   "source": [
    "yearValue = yearweek[:stdChar]\n",
    "yearValue"
   ]
  },
  {
   "cell_type": "code",
   "execution_count": 20,
   "id": "5cc303b9-12bb-477c-9f7c-39c308595a26",
   "metadata": {},
   "outputs": [
    {
     "data": {
      "text/plain": [
       "'01'"
      ]
     },
     "execution_count": 20,
     "metadata": {},
     "output_type": "execute_result"
    }
   ],
   "source": [
    "weekValue = yearweek[stdChar:]\n",
    "weekValue"
   ]
  },
  {
   "cell_type": "code",
   "execution_count": 22,
   "id": "821977d0-9bcd-4136-83f8-1c2015cbd1e5",
   "metadata": {},
   "outputs": [],
   "source": [
    "# 입력 받은 문자(대문자)\n",
    "yearweek = \"2023w01\"\n",
    "yearweek = yearweek.upper()"
   ]
  },
  {
   "cell_type": "code",
   "execution_count": 67,
   "id": "07e5b7eb-cf38-427a-b43f-40d63dda2b8d",
   "metadata": {},
   "outputs": [
    {
     "data": {
      "text/plain": [
       "'2023W01'"
      ]
     },
     "execution_count": 67,
     "metadata": {},
     "output_type": "execute_result"
    }
   ],
   "source": [
    "a = \"2023W01\"\n",
    "a = a.upper()\n",
    "a\n"
   ]
  },
  {
   "cell_type": "code",
   "execution_count": 23,
   "id": "3a8bafe8-4bdf-49e8-ad00-2ee2338f19a6",
   "metadata": {},
   "outputs": [],
   "source": [
    "# 기준 문자\n",
    "stdChar = \"W\"\n",
    "stdCharIndex = yearweek.index(stdChar)\n",
    "# 연주차 정보 추출\n",
    "yearValue = yearweek[:stdCharIndex]\n",
    "weekValue = yearweek[stdCharIndex:]"
   ]
  },
  {
   "cell_type": "code",
   "execution_count": 24,
   "id": "3df00e1a-8462-44db-ad4d-92d4109f6e42",
   "metadata": {},
   "outputs": [
    {
     "data": {
      "text/plain": [
       "'2023w01'"
      ]
     },
     "execution_count": 24,
     "metadata": {},
     "output_type": "execute_result"
    }
   ],
   "source": [
    "# 입력 받은 문자(소문자)\n",
    "yearweek = \"2023W01\"\n",
    "yearweek = yearweek.lower()\n",
    "yearweek"
   ]
  },
  {
   "cell_type": "code",
   "execution_count": 25,
   "id": "dac5aa6b-552a-4320-95aa-33a038eb5b93",
   "metadata": {},
   "outputs": [],
   "source": [
    "# 기준 문자\n",
    "stdChar = \"w\"\n",
    "stdCharIndex = yearweek.index(stdChar)\n",
    "# 연주차 정보 추출\n",
    "yearValue = yearweek[:stdCharIndex]\n",
    "weekValue = yearweek[stdCharIndex:]"
   ]
  },
  {
   "cell_type": "code",
   "execution_count": 29,
   "id": "628219a6-420e-4de2-b75d-3568e60bd49a",
   "metadata": {},
   "outputs": [
    {
     "data": {
      "text/plain": [
       "'2023_01'"
      ]
     },
     "execution_count": 29,
     "metadata": {},
     "output_type": "execute_result"
    }
   ],
   "source": [
    "# 문자치환\n",
    "yearweek = \"2023w01\"\n",
    "yearweek.replace(\"w\",\"_\")\n",
    " #\"w\"를\"_\"로 바꾼다."
   ]
  },
  {
   "cell_type": "code",
   "execution_count": 33,
   "id": "cbd7c581-50a4-4058-b580-f075d895324b",
   "metadata": {},
   "outputs": [
    {
     "data": {
      "text/plain": [
       "'202301'"
      ]
     },
     "execution_count": 33,
     "metadata": {},
     "output_type": "execute_result"
    }
   ],
   "source": [
    "yearweek = \"2023    01\"\n",
    "yearweek.replace(\" \", \"\")"
   ]
  },
  {
   "cell_type": "code",
   "execution_count": 41,
   "id": "4dcbb4fb-cae6-417f-bf6b-623e9f555e28",
   "metadata": {},
   "outputs": [
    {
     "data": {
      "text/plain": [
       "'2013%^%13'"
      ]
     },
     "execution_count": 41,
     "metadata": {},
     "output_type": "execute_result"
    }
   ],
   "source": [
    "yearweek = \"2013!@#$%@#$^!#@$%#$!13\"\n",
    "\n",
    "import re\n",
    "\n",
    "refinedYearweek = re.sub(\"[!@#@!#$@#$]\",\"\",yearweek)\n",
    "refinedYearweek\n",
    "# 세번째에서 첫번째 있는것을 두번째 있는 것으로 바꾸겠다."
   ]
  },
  {
   "cell_type": "code",
   "execution_count": null,
   "id": "a50d80b5-50cc-4b8d-8c23-b7a4595b427d",
   "metadata": {},
   "outputs": [
    {
     "data": {
      "text/plain": [
       "' 134134'"
      ]
     },
     "execution_count": 73,
     "metadata": {},
     "output_type": "execute_result"
    }
   ],
   "source": [
    "yearweek = \" 123413242\"\n",
    "\n",
    "import re \n",
    "\n",
    "a = re.sub(\"2\",\"\",yearweek)\n",
    "a"
   ]
  },
  {
   "cell_type": "code",
   "execution_count": null,
   "id": "ffafbb5a-5051-4ede-9861-0850811deff5",
   "metadata": {},
   "outputs": [],
   "source": [
    "sub 어떤 패턴을 , 뒤에 2번째로 대체하겠다.\n",
    "특수문자 제거할 때 많이 쓰인다."
   ]
  },
  {
   "cell_type": "code",
   "execution_count": 46,
   "id": "1397a1e7-d45d-49a3-bae6-6456194d250c",
   "metadata": {},
   "outputs": [],
   "source": [
    "yearweek = \"2016W12\""
   ]
  },
  {
   "cell_type": "code",
   "execution_count": 47,
   "id": "b5994f41-dc92-4a20-97a7-63c8f5896793",
   "metadata": {},
   "outputs": [],
   "source": [
    "stdChar = \"W\""
   ]
  },
  {
   "cell_type": "code",
   "execution_count": 48,
   "id": "05226dbf-662b-45a2-ad7a-adbcc83bbce0",
   "metadata": {},
   "outputs": [
    {
     "data": {
      "text/plain": [
       "'201612'"
      ]
     },
     "execution_count": 48,
     "metadata": {},
     "output_type": "execute_result"
    }
   ],
   "source": [
    "yearweek.replace(\"W\",\"\")"
   ]
  },
  {
   "cell_type": "code",
   "execution_count": 50,
   "id": "104b9c84-536c-4c46-977c-042b2b1e3d6c",
   "metadata": {},
   "outputs": [],
   "source": [
    "#2016W12가 현재 ''안에 있어 문자로 임."
   ]
  },
  {
   "cell_type": "code",
   "execution_count": 54,
   "id": "b360e2ad-d5f2-48b6-a98c-c59dfae64842",
   "metadata": {},
   "outputs": [],
   "source": [
    "## 숫자를 문자로 바꾸겠다."
   ]
  },
  {
   "cell_type": "code",
   "execution_count": 30,
   "id": "ba6dc604-42c4-4224-a6e9-428070330d93",
   "metadata": {},
   "outputs": [
    {
     "name": "stdout",
     "output_type": "stream",
     "text": [
      "2023\n",
      "2301\n"
     ]
    }
   ],
   "source": [
    "inValue = 202301\n",
    "inValue = str(inValue)\n",
    "\n",
    "year = inValue[:4]\n",
    "week = inValue[2:]\n",
    "print(year)\n",
    "print(week)"
   ]
  },
  {
   "cell_type": "code",
   "execution_count": 31,
   "id": "5fe716a4-545f-4cc3-a19b-8afcf402dfa8",
   "metadata": {},
   "outputs": [],
   "source": [
    "inValue = \"Sec 2018W18 250\""
   ]
  },
  {
   "cell_type": "code",
   "execution_count": 32,
   "id": "d5b571d3-815d-4ca8-a94a-c107c084546b",
   "metadata": {},
   "outputs": [
    {
     "data": {
      "text/plain": [
       "'Sec 2018W18 250'"
      ]
     },
     "execution_count": 32,
     "metadata": {},
     "output_type": "execute_result"
    }
   ],
   "source": [
    "inValue"
   ]
  },
  {
   "cell_type": "code",
   "execution_count": 35,
   "id": "2786724f-9970-404f-99bd-41b5da2221d8",
   "metadata": {},
   "outputs": [
    {
     "name": "stdout",
     "output_type": "stream",
     "text": [
      "SEC 2018W18 250\n",
      "3\n",
      "SEC\n",
      "2018W18 250\n"
     ]
    }
   ],
   "source": [
    "#“SEC 20180212 250” 문자열 생성 후 stock_name, date, value로 각각 의미하는 문자열을 생성하세요.\n",
    "stdChar = \"W\"\n",
    "\n",
    "cleanedData = inValue.upper()\n",
    "print(cleanedData)\n",
    "delimeter = \" \"  #split을 선언하기위해서 하는것\n",
    "\n",
    "firstDeli = cleanedData.index(delimeter)  #위치선언해주는것\n",
    "print(firstDeli)\n",
    "\n",
    "stockName = cleanedData[:firstDeli]\n",
    "print(stockName)\n",
    "\n",
    "lastData = cleanedData[firstDeli+1:]\n",
    "print(lastData)"
   ]
  },
  {
   "cell_type": "code",
   "execution_count": 39,
   "id": "99e2c381-ab63-4dbf-ab2b-ca280de3d0f3",
   "metadata": {},
   "outputs": [
    {
     "name": "stdout",
     "output_type": "stream",
     "text": [
      "SEC 201818 250\n"
     ]
    }
   ],
   "source": [
    "secondDeli = lastData.index(delimeter)\n",
    "\n",
    "yearweek = lastData[:secondDeli].replace(stdChar, \"\")\n",
    "\n",
    "value = lastData[secondDeli+1:]\n",
    "\n",
    "print(stockName, yearweek, value)"
   ]
  },
  {
   "cell_type": "code",
   "execution_count": 40,
   "id": "e04c77b7-8af0-452f-97bf-ff0cf27440da",
   "metadata": {},
   "outputs": [
    {
     "ename": "SyntaxError",
     "evalue": "invalid syntax (2394256001.py, line 10)",
     "output_type": "error",
     "traceback": [
      "\u001b[1;36m  File \u001b[1;32m\"C:\\Users\\SMART27\\AppData\\Local\\Temp\\ipykernel_9856\\2394256001.py\"\u001b[1;36m, line \u001b[1;32m10\u001b[0m\n\u001b[1;33m    SEC 201828 250\u001b[0m\n\u001b[1;37m        ^\u001b[0m\n\u001b[1;31mSyntaxError\u001b[0m\u001b[1;31m:\u001b[0m invalid syntax\n"
     ]
    }
   ],
   "source": [
    "#“SEC 20180212 250” 문자열 생성 후 stock_name, date, value로 각각 의미하는 문자열을 생성하세요.\n",
    "\n",
    "testValue = \"Sec 2018W28 250\"\n",
    "testValue = testValue.upper()\n",
    "stdChar = \"W\"\n",
    "testValue\n",
    "testValue = testValue.replace(\"W\",\"\")\n",
    "lue\n",
    "print(testValue)\n",
    "SEC 201828 250\n",
    "\n",
    "\n",
    "stock_name = testValue[:3]\n",
    "print(stock_name)\n",
    "date = testValue[4:10]\n",
    "print(date)\n",
    "value = testValue[11:]\n",
    "print(value)\n",
    "SEC\n",
    "201828\n",
    "250"
   ]
  },
  {
   "cell_type": "code",
   "execution_count": 1,
   "id": "1f0ad678-2347-44c3-be74-6a9e5c2b1faa",
   "metadata": {},
   "outputs": [
    {
     "name": "stdout",
     "output_type": "stream",
     "text": [
      "SEC\n",
      "201828\n",
      "250\n"
     ]
    }
   ],
   "source": [
    "inValue = \"Sec 2018W28 250\"\n",
    "\n",
    "inValue = inValue.upper()\n",
    "stock_name = inValue[:3]\n",
    "\n",
    "data = inValue.replace(\"W\",\"\")\n",
    "data = data[4:10]\n",
    "\n",
    "value = inValue[-3:]\n",
    "\n",
    "print(stock_name)\n",
    "print(data)\n",
    "print(value)"
   ]
  },
  {
   "cell_type": "code",
   "execution_count": 47,
   "id": "6b4dc288-8f2d-4e7a-8aea-786648af355a",
   "metadata": {},
   "outputs": [],
   "source": [
    "emptyL = []"
   ]
  },
  {
   "cell_type": "code",
   "execution_count": 48,
   "id": "bf262411-d677-4787-b929-3ddc422df9b0",
   "metadata": {},
   "outputs": [
    {
     "data": {
      "text/plain": [
       "[1, 2, 3, 4, 5]"
      ]
     },
     "execution_count": 48,
     "metadata": {},
     "output_type": "execute_result"
    }
   ],
   "source": [
    "priceList = [1,2,3,4,5]\n",
    "priceList"
   ]
  },
  {
   "cell_type": "code",
   "execution_count": 49,
   "id": "bbe50728-ec90-491d-95d8-99473054e60d",
   "metadata": {},
   "outputs": [
    {
     "data": {
      "text/plain": [
       "['aa', 1, 'bb', 2]"
      ]
     },
     "execution_count": 49,
     "metadata": {},
     "output_type": "execute_result"
    }
   ],
   "source": [
    "compList = [\"aa\",1,\"bb\",2]\n",
    "compList"
   ]
  },
  {
   "cell_type": "code",
   "execution_count": 50,
   "id": "e6e37f8c-27e1-4ede-a295-eef4d187f953",
   "metadata": {},
   "outputs": [
    {
     "data": {
      "text/plain": [
       "[1, 2, 3, 4, 5, 6, 7, 8]"
      ]
     },
     "execution_count": 50,
     "metadata": {},
     "output_type": "execute_result"
    }
   ],
   "source": [
    "priceList = [1,2,3,4]\n",
    "priceList2 = [5,6,7,8]\n",
    "priceList + priceList2"
   ]
  },
  {
   "cell_type": "code",
   "execution_count": 53,
   "id": "5155a1cd-456a-452e-9c94-da5c855404f3",
   "metadata": {},
   "outputs": [],
   "source": [
    "testList = [1, \"한^국\",2,\"미국\",3,\"네덜란드\"]"
   ]
  },
  {
   "cell_type": "code",
   "execution_count": 54,
   "id": "48906bf8-bbb4-412c-8993-6fb6f835d912",
   "metadata": {},
   "outputs": [
    {
     "data": {
      "text/plain": [
       "2"
      ]
     },
     "execution_count": 54,
     "metadata": {},
     "output_type": "execute_result"
    }
   ],
   "source": [
    "testList[2]"
   ]
  },
  {
   "cell_type": "code",
   "execution_count": 55,
   "id": "d97a8426-4592-4418-a5b6-c7a5ef054e53",
   "metadata": {},
   "outputs": [
    {
     "data": {
      "text/plain": [
       "[1, '한^국', 2]"
      ]
     },
     "execution_count": 55,
     "metadata": {},
     "output_type": "execute_result"
    }
   ],
   "source": [
    "testList[:3]"
   ]
  },
  {
   "cell_type": "code",
   "execution_count": 56,
   "id": "ee7aac7d-35f0-420b-be59-f95189c5bef5",
   "metadata": {},
   "outputs": [
    {
     "data": {
      "text/plain": [
       "6"
      ]
     },
     "execution_count": 56,
     "metadata": {},
     "output_type": "execute_result"
    }
   ],
   "source": [
    "len ( testList )"
   ]
  },
  {
   "cell_type": "code",
   "execution_count": 57,
   "id": "5a1e8c86-484c-4ca8-a2b7-b52e42ba3ab1",
   "metadata": {},
   "outputs": [
    {
     "data": {
      "text/plain": [
       "'한국'"
      ]
     },
     "execution_count": 57,
     "metadata": {},
     "output_type": "execute_result"
    }
   ],
   "source": [
    "testList[1].replace(\"^\",\"\")"
   ]
  },
  {
   "cell_type": "code",
   "execution_count": 121,
   "id": "850fe4e5-a9a5-456e-a04d-50da3340984d",
   "metadata": {},
   "outputs": [
    {
     "data": {
      "text/plain": [
       "[1, '한국', 2, '미국', 3, '네덜란드']"
      ]
     },
     "execution_count": 121,
     "metadata": {},
     "output_type": "execute_result"
    }
   ],
   "source": [
    "testList"
   ]
  },
  {
   "cell_type": "code",
   "execution_count": null,
   "id": "4e78b40a-3a4b-4d47-8b18-cf445a9ebb75",
   "metadata": {},
   "outputs": [],
   "source": [
    "testList[1] = testList[1].replace(\"^\",\"\")\n",
    "# 위와 같음"
   ]
  },
  {
   "cell_type": "code",
   "execution_count": null,
   "id": "cdd3ae7e-d0c0-4635-9470-e0a1cb76ab8d",
   "metadata": {},
   "outputs": [],
   "source": [
    "# 리스트 값 업데이트\n",
    "# 리스트 값 삭제\n",
    "#"
   ]
  },
  {
   "cell_type": "code",
   "execution_count": 145,
   "id": "d891832f-b851-49f8-8039-4d77398e9a3e",
   "metadata": {},
   "outputs": [],
   "source": [
    "testList = [1,2,3,4]"
   ]
  },
  {
   "cell_type": "code",
   "execution_count": 146,
   "id": "e7dc067d-48d2-4388-9a82-5cbc8d65b3a6",
   "metadata": {},
   "outputs": [
    {
     "data": {
      "text/plain": [
       "[1, 2, 3, 4, 10]"
      ]
     },
     "execution_count": 146,
     "metadata": {},
     "output_type": "execute_result"
    }
   ],
   "source": [
    "testList.append(10)\n",
    "testList"
   ]
  },
  {
   "cell_type": "code",
   "execution_count": 148,
   "id": "ff789ef3-cd87-43d0-b6ba-f00f91812100",
   "metadata": {},
   "outputs": [
    {
     "data": {
      "text/plain": [
       "[9999, 2, 3, 4, 10]"
      ]
     },
     "execution_count": 148,
     "metadata": {},
     "output_type": "execute_result"
    }
   ],
   "source": [
    "testList[0] = 9999\n",
    "testList"
   ]
  },
  {
   "cell_type": "code",
   "execution_count": 150,
   "id": "64a2fbc0-c0e6-4f85-8a99-58435d017f23",
   "metadata": {},
   "outputs": [
    {
     "data": {
      "text/plain": [
       "10018"
      ]
     },
     "execution_count": 150,
     "metadata": {},
     "output_type": "execute_result"
    }
   ],
   "source": [
    "sum( testList ) "
   ]
  },
  {
   "cell_type": "code",
   "execution_count": 153,
   "id": "beade408-8a70-44af-9b2f-dc97726d0cca",
   "metadata": {},
   "outputs": [],
   "source": [
    "testList2 = [1,2,3,4,4,5,6,7,8]"
   ]
  },
  {
   "cell_type": "code",
   "execution_count": 154,
   "id": "1cdfa039-f97e-40d3-8aa2-24ce02e1816b",
   "metadata": {},
   "outputs": [
    {
     "data": {
      "text/plain": [
       "40"
      ]
     },
     "execution_count": 154,
     "metadata": {},
     "output_type": "execute_result"
    }
   ],
   "source": [
    "sum( testList2 )"
   ]
  },
  {
   "cell_type": "code",
   "execution_count": null,
   "id": "f01074d7-e501-4f1d-83bd-734e713c3831",
   "metadata": {},
   "outputs": [],
   "source": []
  },
  {
   "cell_type": "raw",
   "id": "983098f0-0518-4698-93d8-a115a3a69f70",
   "metadata": {},
   "source": [
    "# 중요\n",
    "print( sum( testList) )\n",
    "print( len( testList) )\n",
    "print( max( testList) )\n",
    "print( min( testList) )"
   ]
  },
  {
   "cell_type": "code",
   "execution_count": 11,
   "id": "075c87b0-aab0-4357-906c-712a29c9643c",
   "metadata": {},
   "outputs": [
    {
     "data": {
      "text/plain": [
       "[66, 8, 7, 3, 2, 1]"
      ]
     },
     "execution_count": 11,
     "metadata": {},
     "output_type": "execute_result"
    }
   ],
   "source": [
    "#SORT\n",
    "testList3 = [1,3,2,66,7,8]\n",
    "testList3.sort(reverse=True)\n",
    "testList3"
   ]
  },
  {
   "cell_type": "code",
   "execution_count": 58,
   "id": "3565331e-f77d-419c-a9d6-dc117d123a64",
   "metadata": {},
   "outputs": [
    {
     "data": {
      "text/plain": [
       "[1, 3, 2, 66, 7, 8]"
      ]
     },
     "execution_count": 58,
     "metadata": {},
     "output_type": "execute_result"
    }
   ],
   "source": [
    "testList3 = [1,3,2,66,7,8]\n",
    "testList3"
   ]
  },
  {
   "cell_type": "code",
   "execution_count": 62,
   "id": "b62061aa-fa28-4c99-b9a6-b4fed4760c97",
   "metadata": {},
   "outputs": [
    {
     "data": {
      "text/plain": [
       "[1, 2, 3, 7, 8, 66]"
      ]
     },
     "execution_count": 62,
     "metadata": {},
     "output_type": "execute_result"
    }
   ],
   "source": [
    "testList3.sort(reverse =False)  #오르차순은 ()안에 생략가능\n",
    "testList3"
   ]
  },
  {
   "cell_type": "code",
   "execution_count": 60,
   "id": "23a3d689-528c-45e7-939c-7a9608f36237",
   "metadata": {},
   "outputs": [
    {
     "data": {
      "text/plain": [
       "[66, 8, 7, 3, 2, 1]"
      ]
     },
     "execution_count": 60,
     "metadata": {},
     "output_type": "execute_result"
    }
   ],
   "source": [
    "testList3.sort(reverse =True)\n",
    "testList3"
   ]
  },
  {
   "cell_type": "code",
   "execution_count": 10,
   "id": "de420fbe-7a45-4a72-a533-ae4ee1650c48",
   "metadata": {},
   "outputs": [
    {
     "data": {
      "text/plain": [
       "2"
      ]
     },
     "execution_count": 10,
     "metadata": {},
     "output_type": "execute_result"
    }
   ],
   "source": [
    "#COUNT\n",
    "testList4 = [120, 130, 140, 150, 120]\n",
    "testList4.count(120)"
   ]
  },
  {
   "cell_type": "code",
   "execution_count": 173,
   "id": "f565aed3-caf6-4bff-b8dc-3496a08515c2",
   "metadata": {},
   "outputs": [],
   "source": [
    "testList = [120,150,300,500,1000,100,2000]"
   ]
  },
  {
   "cell_type": "markdown",
   "id": "b84fbea1-fb43-44e3-be74-1b8042ae95b1",
   "metadata": {},
   "source": [
    "# 1 최소값을 제거한다.\n",
    "# 2 최대값을 제거한다.\n",
    "# 3 나머지 리스트의 평균을 구한다. 합/길이"
   ]
  },
  {
   "cell_type": "code",
   "execution_count": 167,
   "id": "0fb4773b-8931-4c10-a625-4e056b87f24e",
   "metadata": {},
   "outputs": [
    {
     "name": "stdout",
     "output_type": "stream",
     "text": [
      "100\n"
     ]
    }
   ],
   "source": [
    "sum( testList) - (man( testList ) )"
   ]
  },
  {
   "cell_type": "code",
   "execution_count": 177,
   "id": "85453e4a-c095-4d71-91ab-13d29631c6de",
   "metadata": {},
   "outputs": [
    {
     "data": {
      "text/plain": [
       "4070"
      ]
     },
     "execution_count": 177,
     "metadata": {},
     "output_type": "execute_result"
    }
   ],
   "source": [
    "sum( testList ) - (min( testList ) )"
   ]
  },
  {
   "cell_type": "code",
   "execution_count": 178,
   "id": "0782185d-b9fc-4a52-ac12-076950b1dbac",
   "metadata": {
    "tags": []
   },
   "outputs": [
    {
     "ename": "TypeError",
     "evalue": "'int' object is not iterable",
     "output_type": "error",
     "traceback": [
      "\u001b[1;31m---------------------------------------------------------------------------\u001b[0m",
      "\u001b[1;31mTypeError\u001b[0m                                 Traceback (most recent call last)",
      "\u001b[1;32m~\\AppData\\Local\\Temp\\ipykernel_12800\\2418045281.py\u001b[0m in \u001b[0;36m<module>\u001b[1;34m\u001b[0m\n\u001b[1;32m----> 1\u001b[1;33m \u001b[0msum\u001b[0m\u001b[1;33m(\u001b[0m \u001b[1;33m(\u001b[0m\u001b[0mmax\u001b[0m\u001b[1;33m(\u001b[0m \u001b[0mtestList\u001b[0m \u001b[1;33m)\u001b[0m \u001b[1;33m)\u001b[0m \u001b[1;33m-\u001b[0m \u001b[1;33m(\u001b[0m\u001b[0mmin\u001b[0m \u001b[1;33m(\u001b[0m \u001b[0mtestList\u001b[0m \u001b[1;33m)\u001b[0m \u001b[1;33m)\u001b[0m \u001b[1;33m)\u001b[0m\u001b[1;33m\u001b[0m\u001b[1;33m\u001b[0m\u001b[0m\n\u001b[0m",
      "\u001b[1;31mTypeError\u001b[0m: 'int' object is not iterable"
     ]
    }
   ],
   "source": [
    "sum( (max( testList ) ) - (min ( testList ) ) )"
   ]
  },
  {
   "cell_type": "code",
   "execution_count": null,
   "id": "75c445cc-76a3-48bc-9f13-26959c3c6bfc",
   "metadata": {},
   "outputs": [],
   "source": [
    "#교수님 코드\n",
    "testList = [120,150,300,500,1000,100,2000]\n",
    "[120,150,300,500,1000,100,2000] \n",
    "값에서 최소 최대 값을 뺀 평균을\n",
    "average 이름의 변수에 담으세요"
   ]
  },
  {
   "cell_type": "code",
   "execution_count": 189,
   "id": "b54ae0d8-7c4e-4d62-a494-d1d5322c948e",
   "metadata": {},
   "outputs": [],
   "source": [
    "minValue = min(testList)\n",
    "\n",
    "print(minValue)\n",
    "\n",
    "testList.remove(minValue)\n",
    "\n",
    "maxValue = max(testList)\n",
    "\n",
    "print(maxValue)\n",
    "\n",
    "testlist.remove(maxValue)\n",
    "\n",
    "average = sum( testList )/ len( testList )\n",
    "\n",
    "print(average)"
   ]
  },
  {
   "cell_type": "markdown",
   "id": "5569ad50-584b-4d7f-ba8e-72714e7c46f1",
   "metadata": {},
   "source": [
    "\"최소값: {} 최대값: {}\".format(minValue, maxValue)"
   ]
  },
  {
   "cell_type": "markdown",
   "id": "bc5c67de-b1a8-41e6-988c-b88a2bf4712d",
   "metadata": {},
   "source": [
    "print(\"최소값 : {}, minValue)"
   ]
  }
 ],
 "metadata": {
  "kernelspec": {
   "display_name": "Python 3 (ipykernel)",
   "language": "python",
   "name": "python3"
  },
  "language_info": {
   "codemirror_mode": {
    "name": "ipython",
    "version": 3
   },
   "file_extension": ".py",
   "mimetype": "text/x-python",
   "name": "python",
   "nbconvert_exporter": "python",
   "pygments_lexer": "ipython3",
   "version": "3.9.13"
  }
 },
 "nbformat": 4,
 "nbformat_minor": 5
}
