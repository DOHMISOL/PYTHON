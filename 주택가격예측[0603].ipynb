{
 "cells": [
  {
   "cell_type": "markdown",
   "id": "70a46072-fad3-4858-986c-6e43735074a5",
   "metadata": {
    "tags": []
   },
   "source": [
    "### 라이브러리 선언 및 데이터 불러오기"
   ]
  },
  {
   "cell_type": "code",
   "execution_count": 1,
   "id": "2fcdd21b-c097-429a-9c31-0c9969016892",
   "metadata": {},
   "outputs": [],
   "source": [
    "# 데이터 처리 라이브러리\n",
    "import pandas as pd\n",
    "import numpy as np\n",
    "\n",
    "# 머신러닝 라이브러리\n",
    "from sklearn import tree\n",
    "import matplotlib.pyplot as plt \n",
    "import seaborn as sns \n",
    "%matplotlib inline\n",
    "\n",
    "#머신러닝 모델 예측 및 검증 라이브러리\n",
    "from sklearn import tree\n",
    "from sklearn.tree import plot_tree\n",
    "import matplotlib.pyplot as plt\n",
    "\n",
    "#머신러닝 저장 \n",
    "import pickle"
   ]
  },
  {
   "cell_type": "code",
   "execution_count": 2,
   "id": "f69b8f7b-d3bb-4637-bd49-05b20c535bdd",
   "metadata": {
    "tags": []
   },
   "outputs": [],
   "source": [
    "featuresData = pd.read_csv(\"../dataset/Real estate.csv\")"
   ]
  },
  {
   "cell_type": "code",
   "execution_count": 3,
   "id": "6d63aea0-c1ac-40da-bc59-f41cd838dd78",
   "metadata": {},
   "outputs": [
    {
     "data": {
      "text/html": [
       "<div>\n",
       "<style scoped>\n",
       "    .dataframe tbody tr th:only-of-type {\n",
       "        vertical-align: middle;\n",
       "    }\n",
       "\n",
       "    .dataframe tbody tr th {\n",
       "        vertical-align: top;\n",
       "    }\n",
       "\n",
       "    .dataframe thead th {\n",
       "        text-align: right;\n",
       "    }\n",
       "</style>\n",
       "<table border=\"1\" class=\"dataframe\">\n",
       "  <thead>\n",
       "    <tr style=\"text-align: right;\">\n",
       "      <th></th>\n",
       "      <th>No</th>\n",
       "      <th>X1 transaction date</th>\n",
       "      <th>X2 house age</th>\n",
       "      <th>X3 distance to the nearest MRT station</th>\n",
       "      <th>X4 number of convenience stores</th>\n",
       "      <th>X5 latitude</th>\n",
       "      <th>X6 longitude</th>\n",
       "      <th>Y house price of unit area</th>\n",
       "    </tr>\n",
       "  </thead>\n",
       "  <tbody>\n",
       "    <tr>\n",
       "      <th>0</th>\n",
       "      <td>1</td>\n",
       "      <td>2012.917</td>\n",
       "      <td>32.0</td>\n",
       "      <td>84.87882</td>\n",
       "      <td>10</td>\n",
       "      <td>24.98298</td>\n",
       "      <td>121.54024</td>\n",
       "      <td>37.9</td>\n",
       "    </tr>\n",
       "    <tr>\n",
       "      <th>1</th>\n",
       "      <td>2</td>\n",
       "      <td>2012.917</td>\n",
       "      <td>19.5</td>\n",
       "      <td>306.59470</td>\n",
       "      <td>9</td>\n",
       "      <td>24.98034</td>\n",
       "      <td>121.53951</td>\n",
       "      <td>42.2</td>\n",
       "    </tr>\n",
       "    <tr>\n",
       "      <th>2</th>\n",
       "      <td>3</td>\n",
       "      <td>2013.583</td>\n",
       "      <td>13.3</td>\n",
       "      <td>561.98450</td>\n",
       "      <td>5</td>\n",
       "      <td>24.98746</td>\n",
       "      <td>121.54391</td>\n",
       "      <td>47.3</td>\n",
       "    </tr>\n",
       "    <tr>\n",
       "      <th>3</th>\n",
       "      <td>4</td>\n",
       "      <td>2013.500</td>\n",
       "      <td>13.3</td>\n",
       "      <td>561.98450</td>\n",
       "      <td>5</td>\n",
       "      <td>24.98746</td>\n",
       "      <td>121.54391</td>\n",
       "      <td>54.8</td>\n",
       "    </tr>\n",
       "    <tr>\n",
       "      <th>4</th>\n",
       "      <td>5</td>\n",
       "      <td>2012.833</td>\n",
       "      <td>5.0</td>\n",
       "      <td>390.56840</td>\n",
       "      <td>5</td>\n",
       "      <td>24.97937</td>\n",
       "      <td>121.54245</td>\n",
       "      <td>43.1</td>\n",
       "    </tr>\n",
       "    <tr>\n",
       "      <th>...</th>\n",
       "      <td>...</td>\n",
       "      <td>...</td>\n",
       "      <td>...</td>\n",
       "      <td>...</td>\n",
       "      <td>...</td>\n",
       "      <td>...</td>\n",
       "      <td>...</td>\n",
       "      <td>...</td>\n",
       "    </tr>\n",
       "    <tr>\n",
       "      <th>409</th>\n",
       "      <td>410</td>\n",
       "      <td>2013.000</td>\n",
       "      <td>13.7</td>\n",
       "      <td>4082.01500</td>\n",
       "      <td>0</td>\n",
       "      <td>24.94155</td>\n",
       "      <td>121.50381</td>\n",
       "      <td>15.4</td>\n",
       "    </tr>\n",
       "    <tr>\n",
       "      <th>410</th>\n",
       "      <td>411</td>\n",
       "      <td>2012.667</td>\n",
       "      <td>5.6</td>\n",
       "      <td>90.45606</td>\n",
       "      <td>9</td>\n",
       "      <td>24.97433</td>\n",
       "      <td>121.54310</td>\n",
       "      <td>50.0</td>\n",
       "    </tr>\n",
       "    <tr>\n",
       "      <th>411</th>\n",
       "      <td>412</td>\n",
       "      <td>2013.250</td>\n",
       "      <td>18.8</td>\n",
       "      <td>390.96960</td>\n",
       "      <td>7</td>\n",
       "      <td>24.97923</td>\n",
       "      <td>121.53986</td>\n",
       "      <td>40.6</td>\n",
       "    </tr>\n",
       "    <tr>\n",
       "      <th>412</th>\n",
       "      <td>413</td>\n",
       "      <td>2013.000</td>\n",
       "      <td>8.1</td>\n",
       "      <td>104.81010</td>\n",
       "      <td>5</td>\n",
       "      <td>24.96674</td>\n",
       "      <td>121.54067</td>\n",
       "      <td>52.5</td>\n",
       "    </tr>\n",
       "    <tr>\n",
       "      <th>413</th>\n",
       "      <td>414</td>\n",
       "      <td>2013.500</td>\n",
       "      <td>6.5</td>\n",
       "      <td>90.45606</td>\n",
       "      <td>9</td>\n",
       "      <td>24.97433</td>\n",
       "      <td>121.54310</td>\n",
       "      <td>63.9</td>\n",
       "    </tr>\n",
       "  </tbody>\n",
       "</table>\n",
       "<p>414 rows × 8 columns</p>\n",
       "</div>"
      ],
      "text/plain": [
       "      No  X1 transaction date  X2 house age  \\\n",
       "0      1             2012.917          32.0   \n",
       "1      2             2012.917          19.5   \n",
       "2      3             2013.583          13.3   \n",
       "3      4             2013.500          13.3   \n",
       "4      5             2012.833           5.0   \n",
       "..   ...                  ...           ...   \n",
       "409  410             2013.000          13.7   \n",
       "410  411             2012.667           5.6   \n",
       "411  412             2013.250          18.8   \n",
       "412  413             2013.000           8.1   \n",
       "413  414             2013.500           6.5   \n",
       "\n",
       "     X3 distance to the nearest MRT station  X4 number of convenience stores  \\\n",
       "0                                  84.87882                               10   \n",
       "1                                 306.59470                                9   \n",
       "2                                 561.98450                                5   \n",
       "3                                 561.98450                                5   \n",
       "4                                 390.56840                                5   \n",
       "..                                      ...                              ...   \n",
       "409                              4082.01500                                0   \n",
       "410                                90.45606                                9   \n",
       "411                               390.96960                                7   \n",
       "412                               104.81010                                5   \n",
       "413                                90.45606                                9   \n",
       "\n",
       "     X5 latitude  X6 longitude  Y house price of unit area  \n",
       "0       24.98298     121.54024                        37.9  \n",
       "1       24.98034     121.53951                        42.2  \n",
       "2       24.98746     121.54391                        47.3  \n",
       "3       24.98746     121.54391                        54.8  \n",
       "4       24.97937     121.54245                        43.1  \n",
       "..           ...           ...                         ...  \n",
       "409     24.94155     121.50381                        15.4  \n",
       "410     24.97433     121.54310                        50.0  \n",
       "411     24.97923     121.53986                        40.6  \n",
       "412     24.96674     121.54067                        52.5  \n",
       "413     24.97433     121.54310                        63.9  \n",
       "\n",
       "[414 rows x 8 columns]"
      ]
     },
     "execution_count": 3,
     "metadata": {},
     "output_type": "execute_result"
    }
   ],
   "source": [
    "featuresData"
   ]
  },
  {
   "cell_type": "markdown",
   "id": "19cfbbc4-ee97-4b84-9690-7245e1805248",
   "metadata": {},
   "source": [
    "### 1. 데이터 탐색(EDA)"
   ]
  },
  {
   "cell_type": "code",
   "execution_count": 4,
   "id": "e73518b6-a36a-4f27-8768-27c731f8621f",
   "metadata": {},
   "outputs": [
    {
     "name": "stdout",
     "output_type": "stream",
     "text": [
      "<class 'pandas.core.frame.DataFrame'>\n",
      "RangeIndex: 414 entries, 0 to 413\n",
      "Data columns (total 8 columns):\n",
      " #   Column                                  Non-Null Count  Dtype  \n",
      "---  ------                                  --------------  -----  \n",
      " 0   No                                      414 non-null    int64  \n",
      " 1   X1 transaction date                     414 non-null    float64\n",
      " 2   X2 house age                            414 non-null    float64\n",
      " 3   X3 distance to the nearest MRT station  414 non-null    float64\n",
      " 4   X4 number of convenience stores         414 non-null    int64  \n",
      " 5   X5 latitude                             414 non-null    float64\n",
      " 6   X6 longitude                            414 non-null    float64\n",
      " 7   Y house price of unit area              414 non-null    float64\n",
      "dtypes: float64(6), int64(2)\n",
      "memory usage: 26.0 KB\n"
     ]
    }
   ],
   "source": [
    "featuresData.info()"
   ]
  },
  {
   "cell_type": "markdown",
   "id": "e2503aa9-5f1b-4547-9aa8-80c7fc9e80d8",
   "metadata": {},
   "source": [
    "### 2. 데이터 전처리"
   ]
  },
  {
   "cell_type": "code",
   "execution_count": 5,
   "id": "1fdbbf0f-eeef-4d1a-9b61-1ebf3c426867",
   "metadata": {
    "tags": []
   },
   "outputs": [
    {
     "data": {
      "text/plain": [
       "No                                          int64\n",
       "X1 transaction date                       float64\n",
       "X2 house age                              float64\n",
       "X3 distance to the nearest MRT station    float64\n",
       "X4 number of convenience stores             int64\n",
       "X5 latitude                               float64\n",
       "X6 longitude                              float64\n",
       "Y house price of unit area                float64\n",
       "dtype: object"
      ]
     },
     "execution_count": 5,
     "metadata": {},
     "output_type": "execute_result"
    }
   ],
   "source": [
    "featuresData.dtypes"
   ]
  },
  {
   "cell_type": "code",
   "execution_count": 6,
   "id": "ad1d6cfb-af23-4440-b203-8a37d3e6097f",
   "metadata": {
    "tags": []
   },
   "outputs": [
    {
     "data": {
      "text/plain": [
       "No                                        0\n",
       "X1 transaction date                       0\n",
       "X2 house age                              0\n",
       "X3 distance to the nearest MRT station    0\n",
       "X4 number of convenience stores           0\n",
       "X5 latitude                               0\n",
       "X6 longitude                              0\n",
       "Y house price of unit area                0\n",
       "dtype: int64"
      ]
     },
     "execution_count": 6,
     "metadata": {},
     "output_type": "execute_result"
    }
   ],
   "source": [
    "featuresData.isnull().sum()"
   ]
  },
  {
   "cell_type": "code",
   "execution_count": 7,
   "id": "956629e3-69c6-4f9d-bd43-79e84f4348b6",
   "metadata": {},
   "outputs": [],
   "source": [
    "#순서열 삭제"
   ]
  },
  {
   "cell_type": "code",
   "execution_count": 8,
   "id": "c7cb6554-f26b-4d88-940c-2e631fe0765d",
   "metadata": {
    "tags": []
   },
   "outputs": [],
   "source": [
    "featuresData.drop(['No'], axis=1, inplace=True)"
   ]
  },
  {
   "cell_type": "code",
   "execution_count": 9,
   "id": "90bf5d7a-9d8a-416a-beb9-96afae7041f7",
   "metadata": {
    "tags": []
   },
   "outputs": [
    {
     "data": {
      "text/html": [
       "<div>\n",
       "<style scoped>\n",
       "    .dataframe tbody tr th:only-of-type {\n",
       "        vertical-align: middle;\n",
       "    }\n",
       "\n",
       "    .dataframe tbody tr th {\n",
       "        vertical-align: top;\n",
       "    }\n",
       "\n",
       "    .dataframe thead th {\n",
       "        text-align: right;\n",
       "    }\n",
       "</style>\n",
       "<table border=\"1\" class=\"dataframe\">\n",
       "  <thead>\n",
       "    <tr style=\"text-align: right;\">\n",
       "      <th></th>\n",
       "      <th>X1 transaction date</th>\n",
       "      <th>X2 house age</th>\n",
       "      <th>X3 distance to the nearest MRT station</th>\n",
       "      <th>X4 number of convenience stores</th>\n",
       "      <th>X5 latitude</th>\n",
       "      <th>X6 longitude</th>\n",
       "      <th>Y house price of unit area</th>\n",
       "    </tr>\n",
       "  </thead>\n",
       "  <tbody>\n",
       "    <tr>\n",
       "      <th>0</th>\n",
       "      <td>2012.917</td>\n",
       "      <td>32.0</td>\n",
       "      <td>84.87882</td>\n",
       "      <td>10</td>\n",
       "      <td>24.98298</td>\n",
       "      <td>121.54024</td>\n",
       "      <td>37.9</td>\n",
       "    </tr>\n",
       "    <tr>\n",
       "      <th>1</th>\n",
       "      <td>2012.917</td>\n",
       "      <td>19.5</td>\n",
       "      <td>306.59470</td>\n",
       "      <td>9</td>\n",
       "      <td>24.98034</td>\n",
       "      <td>121.53951</td>\n",
       "      <td>42.2</td>\n",
       "    </tr>\n",
       "    <tr>\n",
       "      <th>2</th>\n",
       "      <td>2013.583</td>\n",
       "      <td>13.3</td>\n",
       "      <td>561.98450</td>\n",
       "      <td>5</td>\n",
       "      <td>24.98746</td>\n",
       "      <td>121.54391</td>\n",
       "      <td>47.3</td>\n",
       "    </tr>\n",
       "    <tr>\n",
       "      <th>3</th>\n",
       "      <td>2013.500</td>\n",
       "      <td>13.3</td>\n",
       "      <td>561.98450</td>\n",
       "      <td>5</td>\n",
       "      <td>24.98746</td>\n",
       "      <td>121.54391</td>\n",
       "      <td>54.8</td>\n",
       "    </tr>\n",
       "    <tr>\n",
       "      <th>4</th>\n",
       "      <td>2012.833</td>\n",
       "      <td>5.0</td>\n",
       "      <td>390.56840</td>\n",
       "      <td>5</td>\n",
       "      <td>24.97937</td>\n",
       "      <td>121.54245</td>\n",
       "      <td>43.1</td>\n",
       "    </tr>\n",
       "    <tr>\n",
       "      <th>...</th>\n",
       "      <td>...</td>\n",
       "      <td>...</td>\n",
       "      <td>...</td>\n",
       "      <td>...</td>\n",
       "      <td>...</td>\n",
       "      <td>...</td>\n",
       "      <td>...</td>\n",
       "    </tr>\n",
       "    <tr>\n",
       "      <th>409</th>\n",
       "      <td>2013.000</td>\n",
       "      <td>13.7</td>\n",
       "      <td>4082.01500</td>\n",
       "      <td>0</td>\n",
       "      <td>24.94155</td>\n",
       "      <td>121.50381</td>\n",
       "      <td>15.4</td>\n",
       "    </tr>\n",
       "    <tr>\n",
       "      <th>410</th>\n",
       "      <td>2012.667</td>\n",
       "      <td>5.6</td>\n",
       "      <td>90.45606</td>\n",
       "      <td>9</td>\n",
       "      <td>24.97433</td>\n",
       "      <td>121.54310</td>\n",
       "      <td>50.0</td>\n",
       "    </tr>\n",
       "    <tr>\n",
       "      <th>411</th>\n",
       "      <td>2013.250</td>\n",
       "      <td>18.8</td>\n",
       "      <td>390.96960</td>\n",
       "      <td>7</td>\n",
       "      <td>24.97923</td>\n",
       "      <td>121.53986</td>\n",
       "      <td>40.6</td>\n",
       "    </tr>\n",
       "    <tr>\n",
       "      <th>412</th>\n",
       "      <td>2013.000</td>\n",
       "      <td>8.1</td>\n",
       "      <td>104.81010</td>\n",
       "      <td>5</td>\n",
       "      <td>24.96674</td>\n",
       "      <td>121.54067</td>\n",
       "      <td>52.5</td>\n",
       "    </tr>\n",
       "    <tr>\n",
       "      <th>413</th>\n",
       "      <td>2013.500</td>\n",
       "      <td>6.5</td>\n",
       "      <td>90.45606</td>\n",
       "      <td>9</td>\n",
       "      <td>24.97433</td>\n",
       "      <td>121.54310</td>\n",
       "      <td>63.9</td>\n",
       "    </tr>\n",
       "  </tbody>\n",
       "</table>\n",
       "<p>414 rows × 7 columns</p>\n",
       "</div>"
      ],
      "text/plain": [
       "     X1 transaction date  X2 house age  \\\n",
       "0               2012.917          32.0   \n",
       "1               2012.917          19.5   \n",
       "2               2013.583          13.3   \n",
       "3               2013.500          13.3   \n",
       "4               2012.833           5.0   \n",
       "..                   ...           ...   \n",
       "409             2013.000          13.7   \n",
       "410             2012.667           5.6   \n",
       "411             2013.250          18.8   \n",
       "412             2013.000           8.1   \n",
       "413             2013.500           6.5   \n",
       "\n",
       "     X3 distance to the nearest MRT station  X4 number of convenience stores  \\\n",
       "0                                  84.87882                               10   \n",
       "1                                 306.59470                                9   \n",
       "2                                 561.98450                                5   \n",
       "3                                 561.98450                                5   \n",
       "4                                 390.56840                                5   \n",
       "..                                      ...                              ...   \n",
       "409                              4082.01500                                0   \n",
       "410                                90.45606                                9   \n",
       "411                               390.96960                                7   \n",
       "412                               104.81010                                5   \n",
       "413                                90.45606                                9   \n",
       "\n",
       "     X5 latitude  X6 longitude  Y house price of unit area  \n",
       "0       24.98298     121.54024                        37.9  \n",
       "1       24.98034     121.53951                        42.2  \n",
       "2       24.98746     121.54391                        47.3  \n",
       "3       24.98746     121.54391                        54.8  \n",
       "4       24.97937     121.54245                        43.1  \n",
       "..           ...           ...                         ...  \n",
       "409     24.94155     121.50381                        15.4  \n",
       "410     24.97433     121.54310                        50.0  \n",
       "411     24.97923     121.53986                        40.6  \n",
       "412     24.96674     121.54067                        52.5  \n",
       "413     24.97433     121.54310                        63.9  \n",
       "\n",
       "[414 rows x 7 columns]"
      ]
     },
     "execution_count": 9,
     "metadata": {},
     "output_type": "execute_result"
    }
   ],
   "source": [
    "featuresData"
   ]
  },
  {
   "cell_type": "code",
   "execution_count": 10,
   "id": "2e331a67-4757-4f39-ae65-2d5e38e7479e",
   "metadata": {},
   "outputs": [],
   "source": [
    "#컬럼명 변경"
   ]
  },
  {
   "cell_type": "code",
   "execution_count": 11,
   "id": "6224c167-a04e-42d9-ba92-e8a45b55bbf2",
   "metadata": {},
   "outputs": [],
   "source": [
    "featuresData.columns = [\"transactionDate\", 'houseAge','distanceToTheNearestMRTStation', 'numberOfConvenienceStores', 'latitude','longitude','housePriceOfUnitArea']"
   ]
  },
  {
   "cell_type": "code",
   "execution_count": 12,
   "id": "819523e8-bb75-40d1-a264-f55507250fc1",
   "metadata": {},
   "outputs": [
    {
     "data": {
      "text/html": [
       "<div>\n",
       "<style scoped>\n",
       "    .dataframe tbody tr th:only-of-type {\n",
       "        vertical-align: middle;\n",
       "    }\n",
       "\n",
       "    .dataframe tbody tr th {\n",
       "        vertical-align: top;\n",
       "    }\n",
       "\n",
       "    .dataframe thead th {\n",
       "        text-align: right;\n",
       "    }\n",
       "</style>\n",
       "<table border=\"1\" class=\"dataframe\">\n",
       "  <thead>\n",
       "    <tr style=\"text-align: right;\">\n",
       "      <th></th>\n",
       "      <th>transactionDate</th>\n",
       "      <th>houseAge</th>\n",
       "      <th>distanceToTheNearestMRTStation</th>\n",
       "      <th>numberOfConvenienceStores</th>\n",
       "      <th>latitude</th>\n",
       "      <th>longitude</th>\n",
       "      <th>housePriceOfUnitArea</th>\n",
       "    </tr>\n",
       "  </thead>\n",
       "  <tbody>\n",
       "    <tr>\n",
       "      <th>0</th>\n",
       "      <td>2012.917</td>\n",
       "      <td>32.0</td>\n",
       "      <td>84.87882</td>\n",
       "      <td>10</td>\n",
       "      <td>24.98298</td>\n",
       "      <td>121.54024</td>\n",
       "      <td>37.9</td>\n",
       "    </tr>\n",
       "    <tr>\n",
       "      <th>1</th>\n",
       "      <td>2012.917</td>\n",
       "      <td>19.5</td>\n",
       "      <td>306.59470</td>\n",
       "      <td>9</td>\n",
       "      <td>24.98034</td>\n",
       "      <td>121.53951</td>\n",
       "      <td>42.2</td>\n",
       "    </tr>\n",
       "    <tr>\n",
       "      <th>2</th>\n",
       "      <td>2013.583</td>\n",
       "      <td>13.3</td>\n",
       "      <td>561.98450</td>\n",
       "      <td>5</td>\n",
       "      <td>24.98746</td>\n",
       "      <td>121.54391</td>\n",
       "      <td>47.3</td>\n",
       "    </tr>\n",
       "    <tr>\n",
       "      <th>3</th>\n",
       "      <td>2013.500</td>\n",
       "      <td>13.3</td>\n",
       "      <td>561.98450</td>\n",
       "      <td>5</td>\n",
       "      <td>24.98746</td>\n",
       "      <td>121.54391</td>\n",
       "      <td>54.8</td>\n",
       "    </tr>\n",
       "    <tr>\n",
       "      <th>4</th>\n",
       "      <td>2012.833</td>\n",
       "      <td>5.0</td>\n",
       "      <td>390.56840</td>\n",
       "      <td>5</td>\n",
       "      <td>24.97937</td>\n",
       "      <td>121.54245</td>\n",
       "      <td>43.1</td>\n",
       "    </tr>\n",
       "    <tr>\n",
       "      <th>...</th>\n",
       "      <td>...</td>\n",
       "      <td>...</td>\n",
       "      <td>...</td>\n",
       "      <td>...</td>\n",
       "      <td>...</td>\n",
       "      <td>...</td>\n",
       "      <td>...</td>\n",
       "    </tr>\n",
       "    <tr>\n",
       "      <th>409</th>\n",
       "      <td>2013.000</td>\n",
       "      <td>13.7</td>\n",
       "      <td>4082.01500</td>\n",
       "      <td>0</td>\n",
       "      <td>24.94155</td>\n",
       "      <td>121.50381</td>\n",
       "      <td>15.4</td>\n",
       "    </tr>\n",
       "    <tr>\n",
       "      <th>410</th>\n",
       "      <td>2012.667</td>\n",
       "      <td>5.6</td>\n",
       "      <td>90.45606</td>\n",
       "      <td>9</td>\n",
       "      <td>24.97433</td>\n",
       "      <td>121.54310</td>\n",
       "      <td>50.0</td>\n",
       "    </tr>\n",
       "    <tr>\n",
       "      <th>411</th>\n",
       "      <td>2013.250</td>\n",
       "      <td>18.8</td>\n",
       "      <td>390.96960</td>\n",
       "      <td>7</td>\n",
       "      <td>24.97923</td>\n",
       "      <td>121.53986</td>\n",
       "      <td>40.6</td>\n",
       "    </tr>\n",
       "    <tr>\n",
       "      <th>412</th>\n",
       "      <td>2013.000</td>\n",
       "      <td>8.1</td>\n",
       "      <td>104.81010</td>\n",
       "      <td>5</td>\n",
       "      <td>24.96674</td>\n",
       "      <td>121.54067</td>\n",
       "      <td>52.5</td>\n",
       "    </tr>\n",
       "    <tr>\n",
       "      <th>413</th>\n",
       "      <td>2013.500</td>\n",
       "      <td>6.5</td>\n",
       "      <td>90.45606</td>\n",
       "      <td>9</td>\n",
       "      <td>24.97433</td>\n",
       "      <td>121.54310</td>\n",
       "      <td>63.9</td>\n",
       "    </tr>\n",
       "  </tbody>\n",
       "</table>\n",
       "<p>414 rows × 7 columns</p>\n",
       "</div>"
      ],
      "text/plain": [
       "     transactionDate  houseAge  distanceToTheNearestMRTStation  \\\n",
       "0           2012.917      32.0                        84.87882   \n",
       "1           2012.917      19.5                       306.59470   \n",
       "2           2013.583      13.3                       561.98450   \n",
       "3           2013.500      13.3                       561.98450   \n",
       "4           2012.833       5.0                       390.56840   \n",
       "..               ...       ...                             ...   \n",
       "409         2013.000      13.7                      4082.01500   \n",
       "410         2012.667       5.6                        90.45606   \n",
       "411         2013.250      18.8                       390.96960   \n",
       "412         2013.000       8.1                       104.81010   \n",
       "413         2013.500       6.5                        90.45606   \n",
       "\n",
       "     numberOfConvenienceStores  latitude  longitude  housePriceOfUnitArea  \n",
       "0                           10  24.98298  121.54024                  37.9  \n",
       "1                            9  24.98034  121.53951                  42.2  \n",
       "2                            5  24.98746  121.54391                  47.3  \n",
       "3                            5  24.98746  121.54391                  54.8  \n",
       "4                            5  24.97937  121.54245                  43.1  \n",
       "..                         ...       ...        ...                   ...  \n",
       "409                          0  24.94155  121.50381                  15.4  \n",
       "410                          9  24.97433  121.54310                  50.0  \n",
       "411                          7  24.97923  121.53986                  40.6  \n",
       "412                          5  24.96674  121.54067                  52.5  \n",
       "413                          9  24.97433  121.54310                  63.9  \n",
       "\n",
       "[414 rows x 7 columns]"
      ]
     },
     "execution_count": 12,
     "metadata": {},
     "output_type": "execute_result"
    }
   ],
   "source": [
    "featuresData"
   ]
  },
  {
   "cell_type": "code",
   "execution_count": 13,
   "id": "48354c3e-d927-49e6-b40c-b2ac13d78a23",
   "metadata": {},
   "outputs": [],
   "source": [
    "#날짜 연도만 추출"
   ]
  },
  {
   "cell_type": "code",
   "execution_count": 14,
   "id": "17413975-9d4d-4ff8-9b76-54b21b61810b",
   "metadata": {
    "tags": []
   },
   "outputs": [],
   "source": [
    "featuresData[\"transactionDate\"] = featuresData[\"transactionDate\"].astype(int)"
   ]
  },
  {
   "cell_type": "code",
   "execution_count": 15,
   "id": "0cf5737e-6f2d-4573-94fe-420a752d1f1e",
   "metadata": {},
   "outputs": [
    {
     "data": {
      "text/html": [
       "<div>\n",
       "<style scoped>\n",
       "    .dataframe tbody tr th:only-of-type {\n",
       "        vertical-align: middle;\n",
       "    }\n",
       "\n",
       "    .dataframe tbody tr th {\n",
       "        vertical-align: top;\n",
       "    }\n",
       "\n",
       "    .dataframe thead th {\n",
       "        text-align: right;\n",
       "    }\n",
       "</style>\n",
       "<table border=\"1\" class=\"dataframe\">\n",
       "  <thead>\n",
       "    <tr style=\"text-align: right;\">\n",
       "      <th></th>\n",
       "      <th>transactionDate</th>\n",
       "      <th>houseAge</th>\n",
       "      <th>distanceToTheNearestMRTStation</th>\n",
       "      <th>numberOfConvenienceStores</th>\n",
       "      <th>latitude</th>\n",
       "      <th>longitude</th>\n",
       "      <th>housePriceOfUnitArea</th>\n",
       "    </tr>\n",
       "  </thead>\n",
       "  <tbody>\n",
       "    <tr>\n",
       "      <th>0</th>\n",
       "      <td>2012</td>\n",
       "      <td>32.0</td>\n",
       "      <td>84.87882</td>\n",
       "      <td>10</td>\n",
       "      <td>24.98298</td>\n",
       "      <td>121.54024</td>\n",
       "      <td>37.9</td>\n",
       "    </tr>\n",
       "    <tr>\n",
       "      <th>1</th>\n",
       "      <td>2012</td>\n",
       "      <td>19.5</td>\n",
       "      <td>306.59470</td>\n",
       "      <td>9</td>\n",
       "      <td>24.98034</td>\n",
       "      <td>121.53951</td>\n",
       "      <td>42.2</td>\n",
       "    </tr>\n",
       "    <tr>\n",
       "      <th>2</th>\n",
       "      <td>2013</td>\n",
       "      <td>13.3</td>\n",
       "      <td>561.98450</td>\n",
       "      <td>5</td>\n",
       "      <td>24.98746</td>\n",
       "      <td>121.54391</td>\n",
       "      <td>47.3</td>\n",
       "    </tr>\n",
       "    <tr>\n",
       "      <th>3</th>\n",
       "      <td>2013</td>\n",
       "      <td>13.3</td>\n",
       "      <td>561.98450</td>\n",
       "      <td>5</td>\n",
       "      <td>24.98746</td>\n",
       "      <td>121.54391</td>\n",
       "      <td>54.8</td>\n",
       "    </tr>\n",
       "    <tr>\n",
       "      <th>4</th>\n",
       "      <td>2012</td>\n",
       "      <td>5.0</td>\n",
       "      <td>390.56840</td>\n",
       "      <td>5</td>\n",
       "      <td>24.97937</td>\n",
       "      <td>121.54245</td>\n",
       "      <td>43.1</td>\n",
       "    </tr>\n",
       "    <tr>\n",
       "      <th>...</th>\n",
       "      <td>...</td>\n",
       "      <td>...</td>\n",
       "      <td>...</td>\n",
       "      <td>...</td>\n",
       "      <td>...</td>\n",
       "      <td>...</td>\n",
       "      <td>...</td>\n",
       "    </tr>\n",
       "    <tr>\n",
       "      <th>409</th>\n",
       "      <td>2013</td>\n",
       "      <td>13.7</td>\n",
       "      <td>4082.01500</td>\n",
       "      <td>0</td>\n",
       "      <td>24.94155</td>\n",
       "      <td>121.50381</td>\n",
       "      <td>15.4</td>\n",
       "    </tr>\n",
       "    <tr>\n",
       "      <th>410</th>\n",
       "      <td>2012</td>\n",
       "      <td>5.6</td>\n",
       "      <td>90.45606</td>\n",
       "      <td>9</td>\n",
       "      <td>24.97433</td>\n",
       "      <td>121.54310</td>\n",
       "      <td>50.0</td>\n",
       "    </tr>\n",
       "    <tr>\n",
       "      <th>411</th>\n",
       "      <td>2013</td>\n",
       "      <td>18.8</td>\n",
       "      <td>390.96960</td>\n",
       "      <td>7</td>\n",
       "      <td>24.97923</td>\n",
       "      <td>121.53986</td>\n",
       "      <td>40.6</td>\n",
       "    </tr>\n",
       "    <tr>\n",
       "      <th>412</th>\n",
       "      <td>2013</td>\n",
       "      <td>8.1</td>\n",
       "      <td>104.81010</td>\n",
       "      <td>5</td>\n",
       "      <td>24.96674</td>\n",
       "      <td>121.54067</td>\n",
       "      <td>52.5</td>\n",
       "    </tr>\n",
       "    <tr>\n",
       "      <th>413</th>\n",
       "      <td>2013</td>\n",
       "      <td>6.5</td>\n",
       "      <td>90.45606</td>\n",
       "      <td>9</td>\n",
       "      <td>24.97433</td>\n",
       "      <td>121.54310</td>\n",
       "      <td>63.9</td>\n",
       "    </tr>\n",
       "  </tbody>\n",
       "</table>\n",
       "<p>414 rows × 7 columns</p>\n",
       "</div>"
      ],
      "text/plain": [
       "     transactionDate  houseAge  distanceToTheNearestMRTStation  \\\n",
       "0               2012      32.0                        84.87882   \n",
       "1               2012      19.5                       306.59470   \n",
       "2               2013      13.3                       561.98450   \n",
       "3               2013      13.3                       561.98450   \n",
       "4               2012       5.0                       390.56840   \n",
       "..               ...       ...                             ...   \n",
       "409             2013      13.7                      4082.01500   \n",
       "410             2012       5.6                        90.45606   \n",
       "411             2013      18.8                       390.96960   \n",
       "412             2013       8.1                       104.81010   \n",
       "413             2013       6.5                        90.45606   \n",
       "\n",
       "     numberOfConvenienceStores  latitude  longitude  housePriceOfUnitArea  \n",
       "0                           10  24.98298  121.54024                  37.9  \n",
       "1                            9  24.98034  121.53951                  42.2  \n",
       "2                            5  24.98746  121.54391                  47.3  \n",
       "3                            5  24.98746  121.54391                  54.8  \n",
       "4                            5  24.97937  121.54245                  43.1  \n",
       "..                         ...       ...        ...                   ...  \n",
       "409                          0  24.94155  121.50381                  15.4  \n",
       "410                          9  24.97433  121.54310                  50.0  \n",
       "411                          7  24.97923  121.53986                  40.6  \n",
       "412                          5  24.96674  121.54067                  52.5  \n",
       "413                          9  24.97433  121.54310                  63.9  \n",
       "\n",
       "[414 rows x 7 columns]"
      ]
     },
     "execution_count": 15,
     "metadata": {},
     "output_type": "execute_result"
    }
   ],
   "source": [
    "featuresData"
   ]
  },
  {
   "cell_type": "markdown",
   "id": "93a164d0-5265-48a9-bc2d-878bae63eb58",
   "metadata": {},
   "source": [
    "### 3. 특성선정/데이터 분리"
   ]
  },
  {
   "cell_type": "code",
   "execution_count": 16,
   "id": "bb33e204-8113-4479-9137-a3065c62e1e9",
   "metadata": {},
   "outputs": [],
   "source": [
    "# 지표 상관관계 확인"
   ]
  },
  {
   "cell_type": "code",
   "execution_count": 17,
   "id": "a0d0c108-b533-4a45-b6b4-199c50b36d10",
   "metadata": {
    "tags": []
   },
   "outputs": [
    {
     "data": {
      "text/html": [
       "<div>\n",
       "<style scoped>\n",
       "    .dataframe tbody tr th:only-of-type {\n",
       "        vertical-align: middle;\n",
       "    }\n",
       "\n",
       "    .dataframe tbody tr th {\n",
       "        vertical-align: top;\n",
       "    }\n",
       "\n",
       "    .dataframe thead th {\n",
       "        text-align: right;\n",
       "    }\n",
       "</style>\n",
       "<table border=\"1\" class=\"dataframe\">\n",
       "  <thead>\n",
       "    <tr style=\"text-align: right;\">\n",
       "      <th></th>\n",
       "      <th>transactionDate</th>\n",
       "      <th>houseAge</th>\n",
       "      <th>distanceToTheNearestMRTStation</th>\n",
       "      <th>numberOfConvenienceStores</th>\n",
       "      <th>latitude</th>\n",
       "      <th>longitude</th>\n",
       "      <th>housePriceOfUnitArea</th>\n",
       "    </tr>\n",
       "  </thead>\n",
       "  <tbody>\n",
       "    <tr>\n",
       "      <th>transactionDate</th>\n",
       "      <td>1.000000</td>\n",
       "      <td>0.049171</td>\n",
       "      <td>0.016519</td>\n",
       "      <td>-0.005586</td>\n",
       "      <td>0.008118</td>\n",
       "      <td>0.013177</td>\n",
       "      <td>0.081545</td>\n",
       "    </tr>\n",
       "    <tr>\n",
       "      <th>houseAge</th>\n",
       "      <td>0.049171</td>\n",
       "      <td>1.000000</td>\n",
       "      <td>0.025622</td>\n",
       "      <td>0.049593</td>\n",
       "      <td>0.054420</td>\n",
       "      <td>-0.048520</td>\n",
       "      <td>-0.210567</td>\n",
       "    </tr>\n",
       "    <tr>\n",
       "      <th>distanceToTheNearestMRTStation</th>\n",
       "      <td>0.016519</td>\n",
       "      <td>0.025622</td>\n",
       "      <td>1.000000</td>\n",
       "      <td>-0.602519</td>\n",
       "      <td>-0.591067</td>\n",
       "      <td>-0.806317</td>\n",
       "      <td>-0.673613</td>\n",
       "    </tr>\n",
       "    <tr>\n",
       "      <th>numberOfConvenienceStores</th>\n",
       "      <td>-0.005586</td>\n",
       "      <td>0.049593</td>\n",
       "      <td>-0.602519</td>\n",
       "      <td>1.000000</td>\n",
       "      <td>0.444143</td>\n",
       "      <td>0.449099</td>\n",
       "      <td>0.571005</td>\n",
       "    </tr>\n",
       "    <tr>\n",
       "      <th>latitude</th>\n",
       "      <td>0.008118</td>\n",
       "      <td>0.054420</td>\n",
       "      <td>-0.591067</td>\n",
       "      <td>0.444143</td>\n",
       "      <td>1.000000</td>\n",
       "      <td>0.412924</td>\n",
       "      <td>0.546307</td>\n",
       "    </tr>\n",
       "    <tr>\n",
       "      <th>longitude</th>\n",
       "      <td>0.013177</td>\n",
       "      <td>-0.048520</td>\n",
       "      <td>-0.806317</td>\n",
       "      <td>0.449099</td>\n",
       "      <td>0.412924</td>\n",
       "      <td>1.000000</td>\n",
       "      <td>0.523287</td>\n",
       "    </tr>\n",
       "    <tr>\n",
       "      <th>housePriceOfUnitArea</th>\n",
       "      <td>0.081545</td>\n",
       "      <td>-0.210567</td>\n",
       "      <td>-0.673613</td>\n",
       "      <td>0.571005</td>\n",
       "      <td>0.546307</td>\n",
       "      <td>0.523287</td>\n",
       "      <td>1.000000</td>\n",
       "    </tr>\n",
       "  </tbody>\n",
       "</table>\n",
       "</div>"
      ],
      "text/plain": [
       "                                transactionDate  houseAge  \\\n",
       "transactionDate                        1.000000  0.049171   \n",
       "houseAge                               0.049171  1.000000   \n",
       "distanceToTheNearestMRTStation         0.016519  0.025622   \n",
       "numberOfConvenienceStores             -0.005586  0.049593   \n",
       "latitude                               0.008118  0.054420   \n",
       "longitude                              0.013177 -0.048520   \n",
       "housePriceOfUnitArea                   0.081545 -0.210567   \n",
       "\n",
       "                                distanceToTheNearestMRTStation  \\\n",
       "transactionDate                                       0.016519   \n",
       "houseAge                                              0.025622   \n",
       "distanceToTheNearestMRTStation                        1.000000   \n",
       "numberOfConvenienceStores                            -0.602519   \n",
       "latitude                                             -0.591067   \n",
       "longitude                                            -0.806317   \n",
       "housePriceOfUnitArea                                 -0.673613   \n",
       "\n",
       "                                numberOfConvenienceStores  latitude  \\\n",
       "transactionDate                                 -0.005586  0.008118   \n",
       "houseAge                                         0.049593  0.054420   \n",
       "distanceToTheNearestMRTStation                  -0.602519 -0.591067   \n",
       "numberOfConvenienceStores                        1.000000  0.444143   \n",
       "latitude                                         0.444143  1.000000   \n",
       "longitude                                        0.449099  0.412924   \n",
       "housePriceOfUnitArea                             0.571005  0.546307   \n",
       "\n",
       "                                longitude  housePriceOfUnitArea  \n",
       "transactionDate                  0.013177              0.081545  \n",
       "houseAge                        -0.048520             -0.210567  \n",
       "distanceToTheNearestMRTStation  -0.806317             -0.673613  \n",
       "numberOfConvenienceStores        0.449099              0.571005  \n",
       "latitude                         0.412924              0.546307  \n",
       "longitude                        1.000000              0.523287  \n",
       "housePriceOfUnitArea             0.523287              1.000000  "
      ]
     },
     "execution_count": 17,
     "metadata": {},
     "output_type": "execute_result"
    }
   ],
   "source": [
    "corrDf = featuresData.corr()\n",
    "corrDf"
   ]
  },
  {
   "cell_type": "code",
   "execution_count": 18,
   "id": "eb9926be-1346-4994-8d9a-81b077644724",
   "metadata": {},
   "outputs": [
    {
     "data": {
      "text/plain": [
       "<AxesSubplot:>"
      ]
     },
     "execution_count": 18,
     "metadata": {},
     "output_type": "execute_result"
    },
    {
     "data": {
      "image/png": "[encoded data removed]",
      "text/plain": [
       "<Figure size 432x288 with 2 Axes>"
      ]
     },
     "metadata": {
      "needs_background": "light"
     },
     "output_type": "display_data"
    }
   ],
   "source": [
    "sns.heatmap(corrDf, annot = True )"
   ]
  },
  {
   "cell_type": "code",
   "execution_count": 19,
   "id": "6f7f3aeb-411a-4eef-9832-c2fea0d91328",
   "metadata": {},
   "outputs": [],
   "source": [
    "#feature&label"
   ]
  },
  {
   "cell_type": "code",
   "execution_count": 20,
   "id": "2b248a2f-e428-4627-b8c5-cc1012911b60",
   "metadata": {},
   "outputs": [],
   "source": [
    "stdCorr = 0.5"
   ]
  },
  {
   "cell_type": "code",
   "execution_count": 21,
   "id": "44c2c417-1e70-4232-bf44-002f56e09d63",
   "metadata": {},
   "outputs": [],
   "source": [
    "features = list( corrDf.loc[ (abs(corrDf.housePriceOfUnitArea) >= stdCorr) &\n",
    "           (corrDf.housePriceOfUnitArea != 1)].index)"
   ]
  },
  {
   "cell_type": "code",
   "execution_count": 22,
   "id": "80adf798-9dec-45a6-b926-90879e6a67c4",
   "metadata": {},
   "outputs": [
    {
     "data": {
      "text/plain": [
       "['distanceToTheNearestMRTStation',\n",
       " 'numberOfConvenienceStores',\n",
       " 'latitude',\n",
       " 'longitude']"
      ]
     },
     "execution_count": 22,
     "metadata": {},
     "output_type": "execute_result"
    }
   ],
   "source": [
    "features"
   ]
  },
  {
   "cell_type": "code",
   "execution_count": 23,
   "id": "d30edb55-2285-422d-973a-11b67980886e",
   "metadata": {},
   "outputs": [],
   "source": [
    "label = [\"housePriceOfUnitArea\"]"
   ]
  },
  {
   "cell_type": "code",
   "execution_count": 24,
   "id": "318f6f94-fdb8-4f9b-ac87-3feb58575852",
   "metadata": {},
   "outputs": [],
   "source": [
    "# 데이터분리(시간순)"
   ]
  },
  {
   "cell_type": "code",
   "execution_count": 25,
   "id": "15b10966-1441-44f6-ac2d-dd3ac01c05c3",
   "metadata": {
    "tags": []
   },
   "outputs": [
    {
     "data": {
      "text/plain": [
       "(414, 7)"
      ]
     },
     "execution_count": 25,
     "metadata": {},
     "output_type": "execute_result"
    }
   ],
   "source": [
    "featuresData.shape"
   ]
  },
  {
   "cell_type": "code",
   "execution_count": 26,
   "id": "78358dc2-f1ee-4727-8f58-231ceeefc3ee",
   "metadata": {},
   "outputs": [],
   "source": [
    "sortKey = [\"transactionDate\"]"
   ]
  },
  {
   "cell_type": "code",
   "execution_count": 27,
   "id": "0e55d26c-8b78-43d5-a2d0-2cc272a45a4f",
   "metadata": {
    "tags": []
   },
   "outputs": [
    {
     "data": {
      "text/plain": [
       "0    2012\n",
       "2    2013\n",
       "Name: transactionDate, dtype: int32"
      ]
     },
     "execution_count": 27,
     "metadata": {},
     "output_type": "execute_result"
    }
   ],
   "source": [
    "featuresData.transactionDate.drop_duplicates()"
   ]
  },
  {
   "cell_type": "code",
   "execution_count": 28,
   "id": "c409bfc7-fec6-4477-9f03-6e693c890d0f",
   "metadata": {
    "tags": []
   },
   "outputs": [
    {
     "data": {
      "text/html": [
       "<div>\n",
       "<style scoped>\n",
       "    .dataframe tbody tr th:only-of-type {\n",
       "        vertical-align: middle;\n",
       "    }\n",
       "\n",
       "    .dataframe tbody tr th {\n",
       "        vertical-align: top;\n",
       "    }\n",
       "\n",
       "    .dataframe thead th {\n",
       "        text-align: right;\n",
       "    }\n",
       "</style>\n",
       "<table border=\"1\" class=\"dataframe\">\n",
       "  <thead>\n",
       "    <tr style=\"text-align: right;\">\n",
       "      <th></th>\n",
       "      <th>transactionDate</th>\n",
       "      <th>houseAge</th>\n",
       "      <th>distanceToTheNearestMRTStation</th>\n",
       "      <th>numberOfConvenienceStores</th>\n",
       "      <th>latitude</th>\n",
       "      <th>longitude</th>\n",
       "      <th>housePriceOfUnitArea</th>\n",
       "    </tr>\n",
       "  </thead>\n",
       "  <tbody>\n",
       "    <tr>\n",
       "      <th>0</th>\n",
       "      <td>2012</td>\n",
       "      <td>32.0</td>\n",
       "      <td>84.87882</td>\n",
       "      <td>10</td>\n",
       "      <td>24.98298</td>\n",
       "      <td>121.54024</td>\n",
       "      <td>37.9</td>\n",
       "    </tr>\n",
       "    <tr>\n",
       "      <th>1</th>\n",
       "      <td>2012</td>\n",
       "      <td>8.0</td>\n",
       "      <td>104.81010</td>\n",
       "      <td>5</td>\n",
       "      <td>24.96674</td>\n",
       "      <td>121.54067</td>\n",
       "      <td>51.8</td>\n",
       "    </tr>\n",
       "    <tr>\n",
       "      <th>2</th>\n",
       "      <td>2012</td>\n",
       "      <td>7.8</td>\n",
       "      <td>104.81010</td>\n",
       "      <td>5</td>\n",
       "      <td>24.96674</td>\n",
       "      <td>121.54067</td>\n",
       "      <td>47.0</td>\n",
       "    </tr>\n",
       "    <tr>\n",
       "      <th>3</th>\n",
       "      <td>2012</td>\n",
       "      <td>4.6</td>\n",
       "      <td>259.66070</td>\n",
       "      <td>6</td>\n",
       "      <td>24.97585</td>\n",
       "      <td>121.54516</td>\n",
       "      <td>53.7</td>\n",
       "    </tr>\n",
       "    <tr>\n",
       "      <th>4</th>\n",
       "      <td>2012</td>\n",
       "      <td>0.0</td>\n",
       "      <td>185.42960</td>\n",
       "      <td>0</td>\n",
       "      <td>24.97110</td>\n",
       "      <td>121.53170</td>\n",
       "      <td>37.9</td>\n",
       "    </tr>\n",
       "    <tr>\n",
       "      <th>...</th>\n",
       "      <td>...</td>\n",
       "      <td>...</td>\n",
       "      <td>...</td>\n",
       "      <td>...</td>\n",
       "      <td>...</td>\n",
       "      <td>...</td>\n",
       "      <td>...</td>\n",
       "    </tr>\n",
       "    <tr>\n",
       "      <th>409</th>\n",
       "      <td>2013</td>\n",
       "      <td>19.2</td>\n",
       "      <td>616.40040</td>\n",
       "      <td>3</td>\n",
       "      <td>24.97723</td>\n",
       "      <td>121.53767</td>\n",
       "      <td>39.6</td>\n",
       "    </tr>\n",
       "    <tr>\n",
       "      <th>410</th>\n",
       "      <td>2013</td>\n",
       "      <td>11.6</td>\n",
       "      <td>390.56840</td>\n",
       "      <td>5</td>\n",
       "      <td>24.97937</td>\n",
       "      <td>121.54245</td>\n",
       "      <td>39.4</td>\n",
       "    </tr>\n",
       "    <tr>\n",
       "      <th>411</th>\n",
       "      <td>2013</td>\n",
       "      <td>16.1</td>\n",
       "      <td>815.93140</td>\n",
       "      <td>4</td>\n",
       "      <td>24.97886</td>\n",
       "      <td>121.53464</td>\n",
       "      <td>35.6</td>\n",
       "    </tr>\n",
       "    <tr>\n",
       "      <th>412</th>\n",
       "      <td>2013</td>\n",
       "      <td>24.0</td>\n",
       "      <td>4527.68700</td>\n",
       "      <td>0</td>\n",
       "      <td>24.94741</td>\n",
       "      <td>121.49628</td>\n",
       "      <td>14.4</td>\n",
       "    </tr>\n",
       "    <tr>\n",
       "      <th>413</th>\n",
       "      <td>2013</td>\n",
       "      <td>6.5</td>\n",
       "      <td>90.45606</td>\n",
       "      <td>9</td>\n",
       "      <td>24.97433</td>\n",
       "      <td>121.54310</td>\n",
       "      <td>63.9</td>\n",
       "    </tr>\n",
       "  </tbody>\n",
       "</table>\n",
       "<p>414 rows × 7 columns</p>\n",
       "</div>"
      ],
      "text/plain": [
       "     transactionDate  houseAge  distanceToTheNearestMRTStation  \\\n",
       "0               2012      32.0                        84.87882   \n",
       "1               2012       8.0                       104.81010   \n",
       "2               2012       7.8                       104.81010   \n",
       "3               2012       4.6                       259.66070   \n",
       "4               2012       0.0                       185.42960   \n",
       "..               ...       ...                             ...   \n",
       "409             2013      19.2                       616.40040   \n",
       "410             2013      11.6                       390.56840   \n",
       "411             2013      16.1                       815.93140   \n",
       "412             2013      24.0                      4527.68700   \n",
       "413             2013       6.5                        90.45606   \n",
       "\n",
       "     numberOfConvenienceStores  latitude  longitude  housePriceOfUnitArea  \n",
       "0                           10  24.98298  121.54024                  37.9  \n",
       "1                            5  24.96674  121.54067                  51.8  \n",
       "2                            5  24.96674  121.54067                  47.0  \n",
       "3                            6  24.97585  121.54516                  53.7  \n",
       "4                            0  24.97110  121.53170                  37.9  \n",
       "..                         ...       ...        ...                   ...  \n",
       "409                          3  24.97723  121.53767                  39.6  \n",
       "410                          5  24.97937  121.54245                  39.4  \n",
       "411                          4  24.97886  121.53464                  35.6  \n",
       "412                          0  24.94741  121.49628                  14.4  \n",
       "413                          9  24.97433  121.54310                  63.9  \n",
       "\n",
       "[414 rows x 7 columns]"
      ]
     },
     "execution_count": 28,
     "metadata": {},
     "output_type": "execute_result"
    }
   ],
   "source": [
    "sortedData = featuresData.sort_values(by = [\"transactionDate\"], ascending = True).reset_index(drop=True)\n",
    "sortedData"
   ]
  },
  {
   "cell_type": "code",
   "execution_count": 29,
   "id": "b2a81baa-e60b-4774-bb6b-c7064bdc4428",
   "metadata": {},
   "outputs": [],
   "source": [
    "stdYear = 2012"
   ]
  },
  {
   "cell_type": "code",
   "execution_count": 30,
   "id": "70b56063-ff60-4bee-a531-cfd7c5edd1f8",
   "metadata": {
    "tags": []
   },
   "outputs": [
    {
     "data": {
      "text/plain": [
       "transactionDate                   126\n",
       "houseAge                          126\n",
       "distanceToTheNearestMRTStation    126\n",
       "numberOfConvenienceStores         126\n",
       "latitude                          126\n",
       "longitude                         126\n",
       "housePriceOfUnitArea              126\n",
       "dtype: int64"
      ]
     },
     "execution_count": 30,
     "metadata": {},
     "output_type": "execute_result"
    }
   ],
   "source": [
    "sortedData.loc[sortedData.transactionDate == stdYear ].count()"
   ]
  },
  {
   "cell_type": "code",
   "execution_count": 31,
   "id": "fa1b29f8-ff7d-4413-8dc4-bb500defc8a5",
   "metadata": {},
   "outputs": [],
   "source": [
    "# 전체데이터 7:3 분리"
   ]
  },
  {
   "cell_type": "code",
   "execution_count": 32,
   "id": "4572e8ca-f324-40a9-bebc-35c5b76f8643",
   "metadata": {},
   "outputs": [
    {
     "data": {
      "text/plain": [
       "289"
      ]
     },
     "execution_count": 32,
     "metadata": {},
     "output_type": "execute_result"
    }
   ],
   "source": [
    "stdRatio = 0.7\n",
    "stdIndex = int(featuresData.shape[0] * stdRatio) #열 인덱스[1], 열 인덱스[0]\n",
    "stdIndex"
   ]
  },
  {
   "cell_type": "code",
   "execution_count": 33,
   "id": "1abeeda3-8578-4856-bd57-9b64c2cfc9ee",
   "metadata": {
    "tags": []
   },
   "outputs": [],
   "source": [
    "trainingDataFeatures = featuresData.loc[0:stdIndex, features] #문제지\n",
    "trainingDataLabel = featuresData.loc[0:stdIndex, label] #정답\n",
    "testDataFeatures = featuresData.loc[stdIndex+1 :, features] #문제지\n",
    "testDataLabel = featuresData.loc[stdIndex+1 :, label] #정답"
   ]
  },
  {
   "cell_type": "code",
   "execution_count": 34,
   "id": "d62adcb0-023e-4960-8e27-449f8fea0b49",
   "metadata": {},
   "outputs": [
    {
     "name": "stdout",
     "output_type": "stream",
     "text": [
      "(290, 4)\n",
      "(290, 1)\n",
      "(124, 4)\n",
      "(124, 1)\n"
     ]
    }
   ],
   "source": [
    "print ( trainingDataFeatures.shape )\n",
    "print ( trainingDataLabel.shape )\n",
    "print ( testDataFeatures.shape )\n",
    "print ( testDataLabel.shape )"
   ]
  },
  {
   "cell_type": "code",
   "execution_count": 35,
   "id": "b20753ca-81d2-43ad-b829-747504add923",
   "metadata": {},
   "outputs": [],
   "source": [
    "# 7:3분리 -> 연도별 분리"
   ]
  },
  {
   "cell_type": "code",
   "execution_count": 36,
   "id": "739b504e-aedb-41c5-8cf9-7106405e6ac9",
   "metadata": {
    "tags": []
   },
   "outputs": [],
   "source": [
    "trainingDataFeatures = featuresData.loc[featuresData.transactionDate > stdYear, features]\n",
    "trainingDataLabel = featuresData.loc[featuresData.transactionDate > stdYear, label]\n",
    "testDataFeatures = featuresData.loc[featuresData.transactionDate == stdYear, features]\n",
    "testDataLabel = featuresData.loc[featuresData.transactionDate == stdYear, label]"
   ]
  },
  {
   "cell_type": "code",
   "execution_count": 37,
   "id": "4613d900-cac0-48d8-becc-11de04ec37db",
   "metadata": {},
   "outputs": [
    {
     "name": "stdout",
     "output_type": "stream",
     "text": [
      "(288, 4)\n",
      "(288, 1)\n",
      "(126, 4)\n",
      "(126, 1)\n"
     ]
    }
   ],
   "source": [
    "print ( trainingDataFeatures.shape )\n",
    "print ( trainingDataLabel.shape )\n",
    "print ( testDataFeatures.shape )\n",
    "print ( testDataLabel.shape )"
   ]
  },
  {
   "cell_type": "markdown",
   "id": "8d3727cf-1ca3-43ff-9dec-15b65aeec50e",
   "metadata": {},
   "source": [
    "### 4. 모델 적용"
   ]
  },
  {
   "cell_type": "code",
   "execution_count": 38,
   "id": "fe0dbdcf-1efe-496b-976c-52dc352330d7",
   "metadata": {},
   "outputs": [],
   "source": [
    "# 모델 선언"
   ]
  },
  {
   "cell_type": "code",
   "execution_count": 39,
   "id": "6274b468-2984-430d-8b73-1496bb671a81",
   "metadata": {},
   "outputs": [],
   "source": [
    "dtModel = tree.DecisionTreeRegressor(random_state=8)"
   ]
  },
  {
   "cell_type": "code",
   "execution_count": 40,
   "id": "14693917-6904-4ae2-9d15-28537274e1ce",
   "metadata": {},
   "outputs": [],
   "source": [
    "# 모델 적용"
   ]
  },
  {
   "cell_type": "code",
   "execution_count": 41,
   "id": "bd13a13c-bce4-4437-94da-5651bbd3048b",
   "metadata": {},
   "outputs": [
    {
     "data": {
      "text/plain": [
       "DecisionTreeRegressor(random_state=8)"
      ]
     },
     "execution_count": 41,
     "metadata": {},
     "output_type": "execute_result"
    }
   ],
   "source": [
    "dtModel.fit(X=trainingDataFeatures,\n",
    "            y=trainingDataLabel)"
   ]
  },
  {
   "cell_type": "code",
   "execution_count": 42,
   "id": "3135b383-d40a-4d3c-b44e-71ea2a149c7a",
   "metadata": {},
   "outputs": [
    {
     "data": {
      "text/plain": [
       "<Figure size 108x5.76 with 0 Axes>"
      ]
     },
     "execution_count": 42,
     "metadata": {},
     "output_type": "execute_result"
    },
    {
     "data": {
      "text/plain": [
       "<Figure size 108x5.76 with 0 Axes>"
      ]
     },
     "metadata": {},
     "output_type": "display_data"
    }
   ],
   "source": [
    "dpi = 100\n",
    "width_inches = 150 / dpi\n",
    "height_inches = 8 / dpi\n",
    "\n",
    "plt.figure(figsize=(width_inches, height_inches))"
   ]
  },
  {
   "cell_type": "code",
   "execution_count": 43,
   "id": "fe8ef9d1-008e-4734-9ba7-406786fb031f",
   "metadata": {
    "tags": []
   },
   "outputs": [
    {
     "data": {
      "text/plain": [
       "[Text(192.76632449127908, 211.04470588235293, 'X[0] <= 810.311\\nmse = 196.072\\nsamples = 288\\nvalue = 38.713'),\n",
       " Text(97.23940770348838, 198.25411764705882, 'X[0] <= 330.03\\nmse = 129.019\\nsamples = 183\\nvalue = 46.033'),\n",
       " Text(52.13677325581396, 185.4635294117647, 'X[3] <= 121.544\\nmse = 153.139\\nsamples = 80\\nvalue = 51.73'),\n",
       " Text(32.03633720930233, 172.6729411764706, 'X[1] <= 7.5\\nmse = 147.268\\nsamples = 73\\nvalue = 50.671'),\n",
       " Text(9.570348837209304, 159.88235294117646, 'X[2] <= 24.956\\nmse = 149.39\\nsamples = 51\\nvalue = 48.282'),\n",
       " Text(7.840116279069768, 147.09176470588235, 'mse = 0.0\\nsamples = 1\\nvalue = 26.9'),\n",
       " Text(11.300581395348837, 147.09176470588235, 'X[3] <= 121.53\\nmse = 143.051\\nsamples = 50\\nvalue = 48.71'),\n",
       " Text(3.46046511627907, 134.30117647058825, 'X[0] <= 170.055\\nmse = 82.629\\nsamples = 3\\nvalue = 37.533'),\n",
       " Text(1.730232558139535, 121.51058823529411, 'mse = 0.0\\nsamples = 1\\nvalue = 50.2'),\n",
       " Text(5.190697674418605, 121.51058823529411, 'X[2] <= 24.974\\nmse = 3.61\\nsamples = 2\\nvalue = 31.2'),\n",
       " Text(3.46046511627907, 108.72, 'mse = 0.0\\nsamples = 1\\nvalue = 29.3'),\n",
       " Text(6.92093023255814, 108.72, 'mse = -0.0\\nsamples = 1\\nvalue = 33.1'),\n",
       " Text(19.140697674418607, 134.30117647058825, 'X[3] <= 121.531\\nmse = 138.425\\nsamples = 47\\nvalue = 49.423'),\n",
       " Text(17.41046511627907, 121.51058823529411, 'mse = 0.0\\nsamples = 1\\nvalue = 117.5'),\n",
       " Text(20.87093023255814, 121.51058823529411, 'X[0] <= 137.963\\nmse = 38.496\\nsamples = 46\\nvalue = 47.943'),\n",
       " Text(10.38139534883721, 108.72, 'X[3] <= 121.541\\nmse = 46.884\\nsamples = 8\\nvalue = 53.088'),\n",
       " Text(6.92093023255814, 95.92941176470588, 'X[0] <= 90.733\\nmse = 0.49\\nsamples = 2\\nvalue = 61.4'),\n",
       " Text(5.190697674418605, 83.13882352941175, 'mse = 0.0\\nsamples = 1\\nvalue = 62.1'),\n",
       " Text(8.651162790697676, 83.13882352941175, 'mse = -0.0\\nsamples = 1\\nvalue = 60.7'),\n",
       " Text(13.84186046511628, 95.92941176470588, 'X[0] <= 81.2\\nmse = 31.638\\nsamples = 6\\nvalue = 50.317'),\n",
       " Text(12.111627906976745, 83.13882352941175, 'mse = 0.0\\nsamples = 1\\nvalue = 42.7'),\n",
       " Text(15.572093023255816, 83.13882352941175, 'mse = 24.042\\nsamples = 5\\nvalue = 51.84'),\n",
       " Text(31.360465116279073, 108.72, 'X[0] <= 288.464\\nmse = 29.986\\nsamples = 38\\nvalue = 46.861'),\n",
       " Text(20.76279069767442, 95.92941176470588, 'X[2] <= 24.961\\nmse = 24.779\\nsamples = 22\\nvalue = 44.455'),\n",
       " Text(19.032558139534885, 83.13882352941175, 'mse = 0.0\\nsamples = 1\\nvalue = 33.6'),\n",
       " Text(22.493023255813956, 83.13882352941175, 'X[2] <= 24.966\\nmse = 20.081\\nsamples = 21\\nvalue = 44.971'),\n",
       " Text(20.76279069767442, 70.34823529411764, 'mse = 9.17\\nsamples = 5\\nvalue = 49.56'),\n",
       " Text(24.22325581395349, 70.34823529411764, 'X[2] <= 24.967\\nmse = 14.855\\nsamples = 16\\nvalue = 43.538'),\n",
       " Text(16.004651162790697, 57.557647058823534, 'X[2] <= 24.966\\nmse = 6.862\\nsamples = 6\\nvalue = 41.05'),\n",
       " Text(14.274418604651164, 44.767058823529396, 'mse = 0.0\\nsamples = 1\\nvalue = 45.4'),\n",
       " Text(17.734883720930235, 44.767058823529396, 'X[2] <= 24.967\\nmse = 3.694\\nsamples = 5\\nvalue = 40.18'),\n",
       " Text(16.004651162790697, 31.976470588235287, 'X[2] <= 24.966\\nmse = 1.255\\nsamples = 4\\nvalue = 41.0'),\n",
       " Text(14.274418604651164, 19.185882352941178, 'mse = 0.09\\nsamples = 2\\nvalue = 41.7'),\n",
       " Text(17.734883720930235, 19.185882352941178, 'mse = 1.44\\nsamples = 2\\nvalue = 40.3'),\n",
       " Text(19.46511627906977, 31.976470588235287, 'mse = -0.0\\nsamples = 1\\nvalue = 36.9'),\n",
       " Text(32.441860465116285, 57.557647058823534, 'X[2] <= 24.976\\nmse = 13.71\\nsamples = 10\\nvalue = 45.03'),\n",
       " Text(26.38604651162791, 44.767058823529396, 'X[1] <= 0.5\\nmse = 10.255\\nsamples = 6\\nvalue = 46.783'),\n",
       " Text(22.92558139534884, 31.976470588235287, 'X[0] <= 228.16\\nmse = 1.69\\nsamples = 2\\nvalue = 44.2'),\n",
       " Text(21.195348837209306, 19.185882352941178, 'mse = 0.0\\nsamples = 1\\nvalue = 45.5'),\n",
       " Text(24.655813953488373, 19.185882352941178, 'mse = -0.0\\nsamples = 1\\nvalue = 42.9'),\n",
       " Text(29.846511627906978, 31.976470588235287, 'X[2] <= 24.967\\nmse = 9.532\\nsamples = 4\\nvalue = 48.075'),\n",
       " Text(28.116279069767444, 19.185882352941178, 'mse = 0.0\\nsamples = 1\\nvalue = 48.5'),\n",
       " Text(31.576744186046515, 19.185882352941178, 'X[0] <= 212.475\\nmse = 12.629\\nsamples = 3\\nvalue = 47.933'),\n",
       " Text(29.846511627906978, 6.39529411764704, 'mse = 0.0\\nsamples = 1\\nvalue = 48.1'),\n",
       " Text(33.30697674418605, 6.39529411764704, 'mse = 18.922\\nsamples = 2\\nvalue = 47.85'),\n",
       " Text(38.49767441860465, 44.767058823529396, 'X[0] <= 252.218\\nmse = 7.365\\nsamples = 4\\nvalue = 42.4'),\n",
       " Text(36.76744186046512, 31.976470588235287, 'X[0] <= 196.876\\nmse = 1.602\\nsamples = 3\\nvalue = 40.967'),\n",
       " Text(35.037209302325586, 19.185882352941178, 'mse = 0.0\\nsamples = 1\\nvalue = 39.4'),\n",
       " Text(38.49767441860465, 19.185882352941178, 'X[1] <= 6.5\\nmse = 0.562\\nsamples = 2\\nvalue = 41.75'),\n",
       " Text(36.76744186046512, 6.39529411764704, 'mse = 0.0\\nsamples = 1\\nvalue = 42.5'),\n",
       " Text(40.22790697674419, 6.39529411764704, 'mse = 0.0\\nsamples = 1\\nvalue = 41.0'),\n",
       " Text(40.22790697674419, 31.976470588235287, 'mse = 0.0\\nsamples = 1\\nvalue = 46.7'),\n",
       " Text(41.95813953488373, 95.92941176470588, 'X[1] <= 5.5\\nmse = 18.242\\nsamples = 16\\nvalue = 50.169'),\n",
       " Text(35.90232558139535, 83.13882352941175, 'X[3] <= 121.542\\nmse = 21.777\\nsamples = 12\\nvalue = 50.75'),\n",
       " Text(34.17209302325582, 70.34823529411764, 'mse = 0.0\\nsamples = 1\\nvalue = 51.7'),\n",
       " Text(37.632558139534886, 70.34823529411764, 'X[3] <= 121.544\\nmse = 23.668\\nsamples = 11\\nvalue = 50.664'),\n",
       " Text(35.90232558139535, 57.557647058823534, 'mse = 26.027\\nsamples = 10\\nvalue = 50.69'),\n",
       " Text(39.36279069767442, 57.557647058823534, 'mse = 0.0\\nsamples = 1\\nvalue = 50.4'),\n",
       " Text(48.013953488372096, 83.13882352941175, 'X[2] <= 24.978\\nmse = 3.582\\nsamples = 4\\nvalue = 48.425'),\n",
       " Text(44.55348837209303, 70.34823529411764, 'X[2] <= 24.972\\nmse = 0.49\\nsamples = 2\\nvalue = 46.7'),\n",
       " Text(42.823255813953494, 57.557647058823534, 'mse = 0.0\\nsamples = 1\\nvalue = 47.4'),\n",
       " Text(46.28372093023256, 57.557647058823534, 'mse = 0.0\\nsamples = 1\\nvalue = 46.0'),\n",
       " Text(51.47441860465117, 70.34823529411764, 'X[3] <= 121.543\\nmse = 0.722\\nsamples = 2\\nvalue = 50.15'),\n",
       " Text(49.74418604651163, 57.557647058823534, 'mse = 0.0\\nsamples = 1\\nvalue = 51.0'),\n",
       " Text(53.204651162790704, 57.557647058823534, 'mse = 0.0\\nsamples = 1\\nvalue = 49.3'),\n",
       " Text(54.502325581395354, 159.88235294117646, 'X[2] <= 24.975\\nmse = 98.451\\nsamples = 22\\nvalue = 56.209'),\n",
       " Text(43.68837209302326, 147.09176470588235, 'X[0] <= 299.867\\nmse = 46.877\\nsamples = 12\\nvalue = 61.067'),\n",
       " Text(41.95813953488373, 134.30117647058825, 'X[3] <= 121.541\\nmse = 22.702\\nsamples = 11\\nvalue = 59.527'),\n",
       " Text(38.49767441860465, 121.51058823529411, 'X[2] <= 24.964\\nmse = 18.49\\nsamples = 2\\nvalue = 52.5'),\n",
       " Text(36.76744186046512, 108.72, 'mse = 0.0\\nsamples = 1\\nvalue = 56.8'),\n",
       " Text(40.22790697674419, 108.72, 'mse = -0.0\\nsamples = 1\\nvalue = 48.2'),\n",
       " Text(45.418604651162795, 121.51058823529411, 'X[0] <= 106.409\\nmse = 10.225\\nsamples = 9\\nvalue = 61.089'),\n",
       " Text(43.68837209302326, 108.72, 'mse = 4.616\\nsamples = 7\\nvalue = 59.829'),\n",
       " Text(47.14883720930233, 108.72, 'X[3] <= 121.542\\nmse = 4.84\\nsamples = 2\\nvalue = 65.5'),\n",
       " Text(45.418604651162795, 95.92941176470588, 'mse = 0.0\\nsamples = 1\\nvalue = 63.3'),\n",
       " Text(48.87906976744186, 95.92941176470588, 'mse = 0.0\\nsamples = 1\\nvalue = 67.7'),\n",
       " Text(45.418604651162795, 134.30117647058825, 'mse = 0.0\\nsamples = 1\\nvalue = 78.0'),\n",
       " Text(65.31627906976745, 147.09176470588235, 'X[0] <= 183.793\\nmse = 98.046\\nsamples = 10\\nvalue = 50.38'),\n",
       " Text(59.26046511627907, 134.30117647058825, 'X[3] <= 121.542\\nmse = 4.078\\nsamples = 6\\nvalue = 45.717'),\n",
       " Text(55.800000000000004, 121.51058823529411, 'X[3] <= 121.541\\nmse = 0.515\\nsamples = 4\\nvalue = 47.0'),\n",
       " Text(54.06976744186047, 108.72, 'X[1] <= 9.5\\nmse = 0.242\\nsamples = 3\\nvalue = 46.667'),\n",
       " Text(52.33953488372094, 95.92941176470588, 'mse = 0.0\\nsamples = 1\\nvalue = 47.3'),\n",
       " Text(55.800000000000004, 95.92941176470588, 'X[2] <= 24.982\\nmse = 0.062\\nsamples = 2\\nvalue = 46.35'),\n",
       " Text(54.06976744186047, 83.13882352941175, 'mse = 0.0\\nsamples = 1\\nvalue = 46.1'),\n",
       " Text(57.53023255813954, 83.13882352941175, 'mse = 0.0\\nsamples = 1\\nvalue = 46.6'),\n",
       " Text(57.53023255813954, 108.72, 'mse = 0.0\\nsamples = 1\\nvalue = 48.0'),\n",
       " Text(62.720930232558146, 121.51058823529411, 'X[1] <= 8.5\\nmse = 1.322\\nsamples = 2\\nvalue = 43.15'),\n",
       " Text(60.99069767441861, 108.72, 'mse = 0.0\\nsamples = 1\\nvalue = 44.3'),\n",
       " Text(64.45116279069768, 108.72, 'mse = 0.0\\nsamples = 1\\nvalue = 42.0'),\n",
       " Text(71.37209302325581, 134.30117647058825, 'X[1] <= 8.5\\nmse = 157.447\\nsamples = 4\\nvalue = 57.375'),\n",
       " Text(69.64186046511628, 121.51058823529411, 'X[2] <= 24.984\\nmse = 15.327\\nsamples = 3\\nvalue = 50.4'),\n",
       " Text(67.91162790697675, 108.72, 'X[0] <= 196.844\\nmse = 0.302\\nsamples = 2\\nvalue = 47.65'),\n",
       " Text(66.18139534883721, 95.92941176470588, 'mse = 0.0\\nsamples = 1\\nvalue = 47.1'),\n",
       " Text(69.64186046511628, 95.92941176470588, 'mse = -0.0\\nsamples = 1\\nvalue = 48.2'),\n",
       " Text(71.37209302325581, 108.72, 'mse = -0.0\\nsamples = 1\\nvalue = 55.9'),\n",
       " Text(73.10232558139535, 121.51058823529411, 'mse = -0.0\\nsamples = 1\\nvalue = 78.3'),\n",
       " Text(72.23720930232558, 172.6729411764706, 'X[1] <= 6.5\\nmse = 80.771\\nsamples = 7\\nvalue = 62.771'),\n",
       " Text(70.50697674418605, 159.88235294117646, 'X[0] <= 276.329\\nmse = 16.758\\nsamples = 5\\nvalue = 67.98'),\n",
       " Text(68.77674418604651, 147.09176470588235, 'mse = 0.0\\nsamples = 1\\nvalue = 63.2'),\n",
       " Text(72.23720930232558, 147.09176470588235, 'mse = 13.807\\nsamples = 4\\nvalue = 69.175'),\n",
       " Text(73.96744186046513, 159.88235294117646, 'mse = 3.423\\nsamples = 2\\nvalue = 49.75'),\n",
       " Text(142.34204215116281, 185.4635294117647, 'X[2] <= 24.974\\nmse = 65.494\\nsamples = 103\\nvalue = 41.608'),\n",
       " Text(104.79396802325583, 172.6729411764706, 'X[2] <= 24.962\\nmse = 39.078\\nsamples = 51\\nvalue = 38.367'),\n",
       " Text(83.48372093023256, 159.88235294117646, 'X[2] <= 24.96\\nmse = 120.478\\nsamples = 7\\nvalue = 30.986'),\n",
       " Text(81.75348837209303, 147.09176470588235, 'X[0] <= 385.923\\nmse = 34.218\\nsamples = 6\\nvalue = 34.883'),\n",
       " Text(78.29302325581396, 134.30117647058825, 'X[2] <= 24.956\\nmse = 0.562\\nsamples = 2\\nvalue = 41.65'),\n",
       " Text(76.56279069767443, 121.51058823529411, 'mse = 0.0\\nsamples = 1\\nvalue = 40.9'),\n",
       " Text(80.0232558139535, 121.51058823529411, 'mse = -0.0\\nsamples = 1\\nvalue = 42.4'),\n",
       " Text(85.2139534883721, 134.30117647058825, 'X[2] <= 24.955\\nmse = 16.705\\nsamples = 4\\nvalue = 31.5'),\n",
       " Text(83.48372093023256, 121.51058823529411, 'mse = 0.496\\nsamples = 3\\nvalue = 33.833'),\n",
       " Text(86.94418604651163, 121.51058823529411, 'mse = 0.0\\nsamples = 1\\nvalue = 24.5'),\n",
       " Text(85.2139534883721, 147.09176470588235, 'mse = 0.0\\nsamples = 1\\nvalue = 7.6'),\n",
       " Text(126.10421511627908, 159.88235294117646, 'X[2] <= 24.974\\nmse = 16.082\\nsamples = 44\\nvalue = 39.541'),\n",
       " Text(115.95261627906977, 147.09176470588235, 'X[2] <= 24.974\\nmse = 14.393\\nsamples = 41\\nvalue = 39.922'),\n",
       " Text(100.84011627906978, 134.30117647058825, 'X[0] <= 422.462\\nmse = 13.42\\nsamples = 37\\nvalue = 39.459'),\n",
       " Text(90.4046511627907, 121.51058823529411, 'X[3] <= 121.544\\nmse = 9.841\\nsamples = 12\\nvalue = 41.358'),\n",
       " Text(83.05116279069767, 108.72, 'X[2] <= 24.972\\nmse = 3.84\\nsamples = 8\\nvalue = 39.662'),\n",
       " Text(76.9953488372093, 95.92941176470588, 'X[3] <= 121.542\\nmse = 2.687\\nsamples = 4\\nvalue = 38.125'),\n",
       " Text(73.53488372093024, 83.13882352941175, 'X[3] <= 121.54\\nmse = 0.023\\nsamples = 2\\nvalue = 36.65'),\n",
       " Text(71.8046511627907, 70.34823529411764, 'mse = 0.0\\nsamples = 1\\nvalue = 36.8'),\n",
       " Text(75.26511627906977, 70.34823529411764, 'mse = 0.0\\nsamples = 1\\nvalue = 36.5'),\n",
       " Text(80.45581395348837, 83.13882352941175, 'X[3] <= 121.543\\nmse = 1.0\\nsamples = 2\\nvalue = 39.6'),\n",
       " Text(78.72558139534884, 70.34823529411764, 'mse = 0.0\\nsamples = 1\\nvalue = 40.6'),\n",
       " Text(82.18604651162791, 70.34823529411764, 'mse = 0.0\\nsamples = 1\\nvalue = 38.6'),\n",
       " Text(89.10697674418606, 95.92941176470588, 'X[1] <= 7.5\\nmse = 0.265\\nsamples = 4\\nvalue = 41.2'),\n",
       " Text(87.37674418604652, 83.13882352941175, 'X[2] <= 24.973\\nmse = 0.136\\nsamples = 3\\nvalue = 40.967'),\n",
       " Text(85.64651162790699, 70.34823529411764, 'mse = 0.0\\nsamples = 1\\nvalue = 40.5'),\n",
       " Text(89.10697674418606, 70.34823529411764, 'X[0] <= 399.615\\nmse = 0.04\\nsamples = 2\\nvalue = 41.2'),\n",
       " Text(87.37674418604652, 57.557647058823534, 'mse = 0.0\\nsamples = 1\\nvalue = 41.0'),\n",
       " Text(90.83720930232559, 57.557647058823534, 'mse = -0.0\\nsamples = 1\\nvalue = 41.4'),\n",
       " Text(90.83720930232559, 83.13882352941175, 'mse = -0.0\\nsamples = 1\\nvalue = 41.9'),\n",
       " Text(97.75813953488372, 108.72, 'X[0] <= 383.497\\nmse = 4.587\\nsamples = 4\\nvalue = 44.75'),\n",
       " Text(96.02790697674419, 95.92941176470588, 'X[3] <= 121.544\\nmse = 1.129\\nsamples = 3\\nvalue = 43.633'),\n",
       " Text(94.29767441860466, 83.13882352941175, 'mse = 0.0\\nsamples = 1\\nvalue = 44.9'),\n",
       " Text(97.75813953488372, 83.13882352941175, 'X[0] <= 375.708\\nmse = 0.49\\nsamples = 2\\nvalue = 43.0'),\n",
       " Text(96.02790697674419, 70.34823529411764, 'mse = 0.0\\nsamples = 1\\nvalue = 42.3'),\n",
       " Text(99.48837209302326, 70.34823529411764, 'mse = 0.0\\nsamples = 1\\nvalue = 43.7'),\n",
       " Text(99.48837209302326, 95.92941176470588, 'mse = 0.0\\nsamples = 1\\nvalue = 48.1'),\n",
       " Text(111.27558139534885, 121.51058823529411, 'X[0] <= 457.802\\nmse = 12.576\\nsamples = 25\\nvalue = 38.548'),\n",
       " Text(104.67906976744187, 108.72, 'X[0] <= 445.676\\nmse = 11.56\\nsamples = 2\\nvalue = 35.0'),\n",
       " Text(102.94883720930234, 95.92941176470588, 'mse = 0.0\\nsamples = 1\\nvalue = 38.4'),\n",
       " Text(106.40930232558141, 95.92941176470588, 'mse = -0.0\\nsamples = 1\\nvalue = 31.6'),\n",
       " Text(117.87209302325583, 108.72, 'X[1] <= 3.5\\nmse = 11.475\\nsamples = 23\\nvalue = 38.857'),\n",
       " Text(109.86976744186047, 95.92941176470588, 'X[3] <= 121.536\\nmse = 2.765\\nsamples = 6\\nvalue = 37.017'),\n",
       " Text(106.40930232558141, 83.13882352941175, 'X[2] <= 24.972\\nmse = 1.822\\nsamples = 2\\nvalue = 38.35'),\n",
       " Text(104.67906976744187, 70.34823529411764, 'mse = 0.0\\nsamples = 1\\nvalue = 39.7'),\n",
       " Text(108.13953488372094, 70.34823529411764, 'mse = 0.0\\nsamples = 1\\nvalue = 37.0'),\n",
       " Text(113.33023255813954, 83.13882352941175, 'X[3] <= 121.537\\nmse = 1.902\\nsamples = 4\\nvalue = 36.35'),\n",
       " Text(111.60000000000001, 70.34823529411764, 'mse = 0.0\\nsamples = 1\\nvalue = 34.1'),\n",
       " Text(115.06046511627908, 70.34823529411764, 'X[1] <= 2.5\\nmse = 0.287\\nsamples = 3\\nvalue = 37.1'),\n",
       " Text(113.33023255813954, 57.557647058823534, 'mse = 0.16\\nsamples = 2\\nvalue = 37.4'),\n",
       " Text(116.79069767441861, 57.557647058823534, 'mse = 0.0\\nsamples = 1\\nvalue = 36.5'),\n",
       " Text(125.87441860465117, 95.92941176470588, 'X[2] <= 24.964\\nmse = 12.932\\nsamples = 17\\nvalue = 39.506'),\n",
       " Text(120.25116279069769, 83.13882352941175, 'X[3] <= 121.54\\nmse = 1.823\\nsamples = 2\\nvalue = 36.05'),\n",
       " Text(118.52093023255814, 70.34823529411764, 'mse = 0.0\\nsamples = 1\\nvalue = 34.7'),\n",
       " Text(121.98139534883722, 70.34823529411764, 'mse = 0.0\\nsamples = 1\\nvalue = 37.4'),\n",
       " Text(131.49767441860467, 83.13882352941175, 'X[3] <= 121.545\\nmse = 12.609\\nsamples = 15\\nvalue = 39.967'),\n",
       " Text(125.44186046511629, 70.34823529411764, 'X[1] <= 4.5\\nmse = 20.338\\nsamples = 8\\nvalue = 40.65'),\n",
       " Text(123.71162790697676, 57.557647058823534, 'mse = 0.0\\nsamples = 1\\nvalue = 38.8'),\n",
       " Text(127.17209302325583, 57.557647058823534, 'X[1] <= 7.0\\nmse = 22.684\\nsamples = 7\\nvalue = 40.914'),\n",
       " Text(125.44186046511629, 44.767058823529396, 'mse = 26.236\\nsamples = 6\\nvalue = 40.733'),\n",
       " Text(128.90232558139536, 44.767058823529396, 'mse = 0.0\\nsamples = 1\\nvalue = 42.0'),\n",
       " Text(137.55348837209303, 70.34823529411764, 'X[3] <= 121.547\\nmse = 2.633\\nsamples = 7\\nvalue = 39.186'),\n",
       " Text(134.09302325581396, 57.557647058823534, 'X[2] <= 24.97\\nmse = 1.35\\nsamples = 5\\nvalue = 38.38'),\n",
       " Text(132.36279069767443, 44.767058823529396, 'mse = 0.0\\nsamples = 1\\nvalue = 40.6'),\n",
       " Text(135.8232558139535, 44.767058823529396, 'X[3] <= 121.546\\nmse = 0.147\\nsamples = 4\\nvalue = 37.825'),\n",
       " Text(134.09302325581396, 31.976470588235287, 'mse = 0.01\\nsamples = 2\\nvalue = 38.2'),\n",
       " Text(137.55348837209303, 31.976470588235287, 'X[0] <= 614.247\\nmse = 0.003\\nsamples = 2\\nvalue = 37.45'),\n",
       " Text(135.8232558139535, 19.185882352941178, 'mse = 0.0\\nsamples = 1\\nvalue = 37.4'),\n",
       " Text(139.28372093023256, 19.185882352941178, 'mse = -0.0\\nsamples = 1\\nvalue = 37.5'),\n",
       " Text(141.0139534883721, 57.557647058823534, 'X[2] <= 24.972\\nmse = 0.16\\nsamples = 2\\nvalue = 41.2'),\n",
       " Text(139.28372093023256, 44.767058823529396, 'mse = 0.0\\nsamples = 1\\nvalue = 41.6'),\n",
       " Text(142.74418604651163, 44.767058823529396, 'mse = -0.0\\nsamples = 1\\nvalue = 40.8'),\n",
       " Text(131.06511627906977, 134.30117647058825, 'X[3] <= 121.538\\nmse = 3.12\\nsamples = 4\\nvalue = 44.2'),\n",
       " Text(129.33488372093024, 121.51058823529411, 'mse = 0.0\\nsamples = 1\\nvalue = 47.0'),\n",
       " Text(132.7953488372093, 121.51058823529411, 'X[0] <= 525.173\\nmse = 0.676\\nsamples = 3\\nvalue = 43.267'),\n",
       " Text(131.06511627906977, 108.72, 'X[0] <= 421.317\\nmse = 0.16\\nsamples = 2\\nvalue = 43.8'),\n",
       " Text(129.33488372093024, 95.92941176470588, 'mse = 0.0\\nsamples = 1\\nvalue = 43.4'),\n",
       " Text(132.7953488372093, 95.92941176470588, 'mse = 0.0\\nsamples = 1\\nvalue = 44.2'),\n",
       " Text(134.52558139534884, 108.72, 'mse = 0.0\\nsamples = 1\\nvalue = 42.2'),\n",
       " Text(136.25581395348837, 147.09176470588235, 'X[2] <= 24.974\\nmse = 10.056\\nsamples = 3\\nvalue = 34.333'),\n",
       " Text(134.52558139534884, 134.30117647058825, 'mse = 0.0\\nsamples = 1\\nvalue = 30.0'),\n",
       " Text(137.9860465116279, 134.30117647058825, 'mse = 1.0\\nsamples = 2\\nvalue = 36.5'),\n",
       " Text(179.8901162790698, 172.6729411764706, 'X[0] <= 781.014\\nmse = 70.994\\nsamples = 52\\nvalue = 44.787'),\n",
       " Text(178.15988372093025, 159.88235294117646, 'X[3] <= 121.542\\nmse = 65.827\\nsamples = 51\\nvalue = 44.431'),\n",
       " Text(165.56162790697675, 147.09176470588235, 'X[2] <= 24.981\\nmse = 53.192\\nsamples = 30\\nvalue = 42.297'),\n",
       " Text(154.63953488372096, 134.30117647058825, 'X[2] <= 24.976\\nmse = 41.338\\nsamples = 25\\nvalue = 40.724'),\n",
       " Text(141.87906976744188, 121.51058823529411, 'X[2] <= 24.975\\nmse = 73.907\\nsamples = 7\\nvalue = 45.914'),\n",
       " Text(138.4186046511628, 108.72, 'X[0] <= 554.598\\nmse = 18.482\\nsamples = 3\\nvalue = 40.233'),\n",
       " Text(136.68837209302328, 95.92941176470588, 'X[2] <= 24.975\\nmse = 0.423\\nsamples = 2\\nvalue = 43.25'),\n",
       " Text(134.95813953488374, 83.13882352941175, 'mse = 0.0\\nsamples = 1\\nvalue = 42.6'),\n",
       " Text(138.4186046511628, 83.13882352941175, 'mse = 0.0\\nsamples = 1\\nvalue = 43.9'),\n",
       " Text(140.14883720930234, 95.92941176470588, 'mse = 0.0\\nsamples = 1\\nvalue = 34.2'),\n",
       " Text(145.33953488372094, 108.72, 'X[3] <= 121.534\\nmse = 73.117\\nsamples = 4\\nvalue = 50.175'),\n",
       " Text(143.6093023255814, 95.92941176470588, 'mse = 0.0\\nsamples = 1\\nvalue = 43.1'),\n",
       " Text(147.06976744186048, 95.92941176470588, 'X[0] <= 679.516\\nmse = 75.242\\nsamples = 3\\nvalue = 52.533'),\n",
       " Text(145.33953488372094, 83.13882352941175, 'mse = 107.122\\nsamples = 2\\nvalue = 51.15'),\n",
       " Text(148.8, 83.13882352941175, 'mse = 0.0\\nsamples = 1\\nvalue = 55.3'),\n",
       " Text(167.4, 121.51058823529411, 'X[2] <= 24.98\\nmse = 14.122\\nsamples = 18\\nvalue = 38.706'),\n",
       " Text(161.77674418604653, 108.72, 'X[0] <= 615.27\\nmse = 8.279\\nsamples = 14\\nvalue = 37.464'),\n",
       " Text(155.72093023255815, 95.92941176470588, 'X[3] <= 121.54\\nmse = 6.794\\nsamples = 7\\nvalue = 36.0'),\n",
       " Text(152.26046511627908, 83.13882352941175, 'X[0] <= 378.956\\nmse = 2.602\\nsamples = 5\\nvalue = 34.66'),\n",
       " Text(150.53023255813955, 70.34823529411764, 'mse = 0.0\\nsamples = 1\\nvalue = 32.4'),\n",
       " Text(153.9906976744186, 70.34823529411764, 'X[3] <= 121.537\\nmse = 1.657\\nsamples = 4\\nvalue = 35.225'),\n",
       " Text(152.26046511627908, 57.557647058823534, 'mse = 0.0\\nsamples = 1\\nvalue = 33.1'),\n",
       " Text(155.72093023255815, 57.557647058823534, 'X[2] <= 24.978\\nmse = 0.202\\nsamples = 3\\nvalue = 35.933'),\n",
       " Text(153.9906976744186, 44.767058823529396, 'mse = 0.0\\nsamples = 1\\nvalue = 36.3'),\n",
       " Text(157.45116279069768, 44.767058823529396, 'X[0] <= 454.012\\nmse = 0.203\\nsamples = 2\\nvalue = 35.75'),\n",
       " Text(155.72093023255815, 31.976470588235287, 'mse = 0.0\\nsamples = 1\\nvalue = 35.3'),\n",
       " Text(159.1813953488372, 31.976470588235287, 'mse = -0.0\\nsamples = 1\\nvalue = 36.2'),\n",
       " Text(159.1813953488372, 83.13882352941175, 'X[0] <= 363.248\\nmse = 1.563\\nsamples = 2\\nvalue = 39.35'),\n",
       " Text(157.45116279069768, 70.34823529411764, 'mse = 0.0\\nsamples = 1\\nvalue = 38.1'),\n",
       " Text(160.91162790697675, 70.34823529411764, 'mse = 0.0\\nsamples = 1\\nvalue = 40.6'),\n",
       " Text(167.8325581395349, 95.92941176470588, 'X[1] <= 5.5\\nmse = 5.476\\nsamples = 7\\nvalue = 38.929'),\n",
       " Text(166.10232558139535, 83.13882352941175, 'X[2] <= 24.977\\nmse = 4.179\\nsamples = 6\\nvalue = 38.367'),\n",
       " Text(164.37209302325581, 70.34823529411764, 'X[2] <= 24.977\\nmse = 1.61\\nsamples = 5\\nvalue = 39.12'),\n",
       " Text(162.64186046511628, 57.557647058823534, 'X[1] <= 1.0\\nmse = 0.436\\nsamples = 3\\nvalue = 39.733'),\n",
       " Text(160.91162790697675, 44.767058823529396, 'mse = 0.64\\nsamples = 2\\nvalue = 39.8'),\n",
       " Text(164.37209302325581, 44.767058823529396, 'mse = -0.0\\nsamples = 1\\nvalue = 39.6'),\n",
       " Text(166.10232558139535, 57.557647058823534, 'mse = 1.96\\nsamples = 2\\nvalue = 38.2'),\n",
       " Text(167.8325581395349, 70.34823529411764, 'mse = 0.0\\nsamples = 1\\nvalue = 34.6'),\n",
       " Text(169.56279069767444, 83.13882352941175, 'mse = -0.0\\nsamples = 1\\nvalue = 42.3'),\n",
       " Text(173.0232558139535, 108.72, 'X[3] <= 121.537\\nmse = 10.302\\nsamples = 4\\nvalue = 43.05'),\n",
       " Text(171.29302325581398, 95.92941176470588, 'mse = 0.0\\nsamples = 1\\nvalue = 37.5'),\n",
       " Text(174.75348837209305, 95.92941176470588, 'X[3] <= 121.538\\nmse = 0.047\\nsamples = 3\\nvalue = 44.9'),\n",
       " Text(173.0232558139535, 83.13882352941175, 'mse = 0.0\\nsamples = 1\\nvalue = 45.2'),\n",
       " Text(176.48372093023258, 83.13882352941175, 'mse = 0.003\\nsamples = 2\\nvalue = 44.75'),\n",
       " Text(176.48372093023258, 134.30117647058825, 'X[0] <= 376.698\\nmse = 38.266\\nsamples = 5\\nvalue = 50.16'),\n",
       " Text(174.75348837209305, 121.51058823529411, 'mse = 0.0\\nsamples = 1\\nvalue = 61.9'),\n",
       " Text(178.2139534883721, 121.51058823529411, 'X[2] <= 24.982\\nmse = 4.762\\nsamples = 4\\nvalue = 47.225'),\n",
       " Text(176.48372093023258, 108.72, 'mse = 0.0\\nsamples = 1\\nvalue = 48.5'),\n",
       " Text(179.94418604651165, 108.72, 'X[1] <= 9.0\\nmse = 5.627\\nsamples = 3\\nvalue = 46.8'),\n",
       " Text(178.2139534883721, 95.92941176470588, 'mse = 0.0\\nsamples = 1\\nvalue = 46.6'),\n",
       " Text(181.67441860465118, 95.92941176470588, 'mse = 8.41\\nsamples = 2\\nvalue = 46.9'),\n",
       " Text(190.75813953488372, 147.09176470588235, 'X[0] <= 387.215\\nmse = 68.066\\nsamples = 21\\nvalue = 47.481'),\n",
       " Text(189.0279069767442, 134.30117647058825, 'mse = 5.616\\nsamples = 3\\nvalue = 58.167'),\n",
       " Text(192.48837209302326, 134.30117647058825, 'X[0] <= 418.213\\nmse = 56.272\\nsamples = 18\\nvalue = 45.7'),\n",
       " Text(185.13488372093025, 121.51058823529411, 'X[0] <= 396.225\\nmse = 51.136\\nsamples = 6\\nvalue = 41.467'),\n",
       " Text(183.4046511627907, 108.72, 'mse = 31.775\\nsamples = 4\\nvalue = 45.3'),\n",
       " Text(186.86511627906978, 108.72, 'X[2] <= 24.983\\nmse = 1.69\\nsamples = 2\\nvalue = 33.8'),\n",
       " Text(185.13488372093025, 95.92941176470588, 'mse = 0.0\\nsamples = 1\\nvalue = 32.5'),\n",
       " Text(188.59534883720931, 95.92941176470588, 'mse = 0.0\\nsamples = 1\\nvalue = 35.1'),\n",
       " Text(199.8418604651163, 121.51058823529411, 'X[0] <= 643.557\\nmse = 45.4\\nsamples = 12\\nvalue = 47.817'),\n",
       " Text(195.51627906976745, 108.72, 'X[0] <= 492.36\\nmse = 25.636\\nsamples = 9\\nvalue = 50.456'),\n",
       " Text(192.05581395348838, 95.92941176470588, 'X[3] <= 121.546\\nmse = 15.21\\nsamples = 2\\nvalue = 53.2'),\n",
       " Text(190.32558139534885, 83.13882352941175, 'mse = 0.0\\nsamples = 1\\nvalue = 49.3'),\n",
       " Text(193.78604651162792, 83.13882352941175, 'mse = -0.0\\nsamples = 1\\nvalue = 57.1'),\n",
       " Text(198.97674418604652, 95.92941176470588, 'X[0] <= 570.596\\nmse = 25.848\\nsamples = 7\\nvalue = 49.671'),\n",
       " Text(197.24651162790698, 83.13882352941175, 'X[0] <= 547.73\\nmse = 30.022\\nsamples = 6\\nvalue = 49.533'),\n",
       " Text(195.51627906976745, 70.34823529411764, 'mse = 44.696\\nsamples = 3\\nvalue = 49.733'),\n",
       " Text(198.97674418604652, 70.34823529411764, 'mse = 15.269\\nsamples = 3\\nvalue = 49.333'),\n",
       " Text(200.70697674418605, 83.13882352941175, 'mse = 0.0\\nsamples = 1\\nvalue = 50.5'),\n",
       " Text(204.16744186046515, 108.72, 'X[0] <= 722.911\\nmse = 21.127\\nsamples = 3\\nvalue = 39.9'),\n",
       " Text(202.43720930232558, 95.92941176470588, 'mse = 0.0\\nsamples = 1\\nvalue = 36.6'),\n",
       " Text(205.89767441860468, 95.92941176470588, 'X[1] <= 2.5\\nmse = 23.523\\nsamples = 2\\nvalue = 41.55'),\n",
       " Text(204.16744186046515, 83.13882352941175, 'mse = 0.0\\nsamples = 1\\nvalue = 46.4'),\n",
       " Text(207.6279069767442, 83.13882352941175, 'mse = 0.0\\nsamples = 1\\nvalue = 36.7'),\n",
       " Text(181.62034883720932, 159.88235294117646, 'mse = 0.0\\nsamples = 1\\nvalue = 62.9'),\n",
       " Text(288.2932412790698, 198.25411764705882, 'X[2] <= 24.977\\nmse = 56.819\\nsamples = 105\\nvalue = 25.956'),\n",
       " Text(257.79113372093025, 185.4635294117647, 'X[0] <= 4007.266\\nmse = 34.107\\nsamples = 88\\nvalue = 23.905'),\n",
       " Text(217.98226744186047, 172.6729411764706, 'X[2] <= 24.933\\nmse = 21.005\\nsamples = 66\\nvalue = 26.161'),\n",
       " Text(203.30232558139537, 159.88235294117646, 'X[0] <= 3655.077\\nmse = 62.41\\nsamples = 2\\nvalue = 37.2'),\n",
       " Text(201.57209302325583, 147.09176470588235, 'mse = 0.0\\nsamples = 1\\nvalue = 29.3'),\n",
       " Text(205.0325581395349, 147.09176470588235, 'mse = -0.0\\nsamples = 1\\nvalue = 45.1'),\n",
       " Text(232.6622093023256, 159.88235294117646, 'X[2] <= 24.95\\nmse = 15.784\\nsamples = 64\\nvalue = 25.816'),\n",
       " Text(208.49302325581397, 147.09176470588235, 'X[2] <= 24.948\\nmse = 28.119\\nsamples = 6\\nvalue = 20.633'),\n",
       " Text(205.0325581395349, 134.30117647058825, 'X[3] <= 121.507\\nmse = 4.0\\nsamples = 2\\nvalue = 27.3'),\n",
       " Text(203.30232558139537, 121.51058823529411, 'mse = 0.0\\nsamples = 1\\nvalue = 25.3'),\n",
       " Text(206.76279069767443, 121.51058823529411, 'mse = -0.0\\nsamples = 1\\nvalue = 29.3'),\n",
       " Text(211.95348837209303, 134.30117647058825, 'X[2] <= 24.949\\nmse = 6.845\\nsamples = 4\\nvalue = 17.3'),\n",
       " Text(210.2232558139535, 121.51058823529411, 'X[3] <= 121.53\\nmse = 0.127\\nsamples = 3\\nvalue = 18.8'),\n",
       " Text(208.49302325581397, 108.72, 'mse = 0.16\\nsamples = 2\\nvalue = 18.7'),\n",
       " Text(211.95348837209303, 108.72, 'mse = 0.0\\nsamples = 1\\nvalue = 19.0'),\n",
       " Text(213.68372093023257, 121.51058823529411, 'mse = 0.0\\nsamples = 1\\nvalue = 12.8'),\n",
       " Text(256.83139534883725, 147.09176470588235, 'X[3] <= 121.549\\nmse = 11.442\\nsamples = 58\\nvalue = 26.352'),\n",
       " Text(239.42093023255816, 134.30117647058825, 'X[3] <= 121.516\\nmse = 11.024\\nsamples = 46\\nvalue = 26.939'),\n",
       " Text(223.20000000000002, 121.51058823529411, 'X[3] <= 121.514\\nmse = 12.843\\nsamples = 24\\nvalue = 26.063'),\n",
       " Text(215.4139534883721, 108.72, 'X[0] <= 2161.203\\nmse = 9.699\\nsamples = 13\\nvalue = 28.208'),\n",
       " Text(213.68372093023257, 95.92941176470588, 'mse = 10.003\\nsamples = 6\\nvalue = 29.85'),\n",
       " Text(217.14418604651163, 95.92941176470588, 'X[2] <= 24.963\\nmse = 5.146\\nsamples = 7\\nvalue = 26.8'),\n",
       " Text(213.68372093023257, 83.13882352941175, 'X[2] <= 24.961\\nmse = 7.563\\nsamples = 2\\nvalue = 24.55'),\n",
       " Text(211.95348837209303, 70.34823529411764, 'mse = 0.0\\nsamples = 1\\nvalue = 27.3'),\n",
       " Text(215.4139534883721, 70.34823529411764, 'mse = 0.0\\nsamples = 1\\nvalue = 21.8'),\n",
       " Text(220.6046511627907, 83.13882352941175, 'X[3] <= 121.512\\nmse = 1.344\\nsamples = 5\\nvalue = 27.7'),\n",
       " Text(218.87441860465117, 70.34823529411764, 'mse = 0.0\\nsamples = 1\\nvalue = 29.3'),\n",
       " Text(222.33488372093026, 70.34823529411764, 'X[3] <= 121.512\\nmse = 0.88\\nsamples = 4\\nvalue = 27.3'),\n",
       " Text(220.6046511627907, 57.557647058823534, 'mse = 1.0\\nsamples = 2\\nvalue = 26.7'),\n",
       " Text(224.0651162790698, 57.557647058823534, 'X[3] <= 121.512\\nmse = 0.04\\nsamples = 2\\nvalue = 27.9'),\n",
       " Text(222.33488372093026, 44.767058823529396, 'mse = 0.0\\nsamples = 1\\nvalue = 28.1'),\n",
       " Text(225.79534883720933, 44.767058823529396, 'mse = 0.0\\nsamples = 1\\nvalue = 27.7'),\n",
       " Text(230.98604651162793, 108.72, 'X[0] <= 1671.504\\nmse = 4.693\\nsamples = 11\\nvalue = 23.527'),\n",
       " Text(229.2558139534884, 95.92941176470588, 'mse = 12.96\\nsamples = 2\\nvalue = 25.3'),\n",
       " Text(232.71627906976747, 95.92941176470588, 'X[0] <= 2102.991\\nmse = 2.002\\nsamples = 9\\nvalue = 23.133'),\n",
       " Text(227.52558139534887, 83.13882352941175, 'X[1] <= 2.5\\nmse = 1.114\\nsamples = 5\\nvalue = 22.22'),\n",
       " Text(225.79534883720933, 70.34823529411764, 'mse = 0.0\\nsamples = 1\\nvalue = 21.3'),\n",
       " Text(229.2558139534884, 70.34823529411764, 'X[0] <= 1942.804\\nmse = 1.128\\nsamples = 4\\nvalue = 22.45'),\n",
       " Text(227.52558139534887, 57.557647058823534, 'mse = 1.316\\nsamples = 3\\nvalue = 22.233'),\n",
       " Text(230.98604651162793, 57.557647058823534, 'mse = 0.0\\nsamples = 1\\nvalue = 23.1'),\n",
       " Text(237.90697674418607, 83.13882352941175, 'X[2] <= 24.96\\nmse = 0.767\\nsamples = 4\\nvalue = 24.275'),\n",
       " Text(236.17674418604653, 70.34823529411764, 'X[3] <= 121.514\\nmse = 0.242\\nsamples = 3\\nvalue = 23.833'),\n",
       " Text(234.446511627907, 57.557647058823534, 'mse = 0.36\\nsamples = 2\\nvalue = 23.8'),\n",
       " Text(237.90697674418607, 57.557647058823534, 'mse = -0.0\\nsamples = 1\\nvalue = 23.9'),\n",
       " Text(239.6372093023256, 70.34823529411764, 'mse = -0.0\\nsamples = 1\\nvalue = 25.6'),\n",
       " Text(255.6418604651163, 121.51058823529411, 'X[3] <= 121.517\\nmse = 7.286\\nsamples = 22\\nvalue = 27.895'),\n",
       " Text(250.0186046511628, 108.72, 'X[0] <= 1714.912\\nmse = 6.312\\nsamples = 8\\nvalue = 29.363'),\n",
       " Text(248.28837209302327, 95.92941176470588, 'X[0] <= 1604.903\\nmse = 0.696\\nsamples = 6\\nvalue = 30.233'),\n",
       " Text(244.8279069767442, 83.13882352941175, 'X[3] <= 121.517\\nmse = 0.047\\nsamples = 3\\nvalue = 30.8'),\n",
       " Text(243.09767441860467, 70.34823529411764, 'mse = 0.0\\nsamples = 1\\nvalue = 31.1'),\n",
       " Text(246.55813953488374, 70.34823529411764, 'X[0] <= 1534.41\\nmse = 0.003\\nsamples = 2\\nvalue = 30.65'),\n",
       " Text(244.8279069767442, 57.557647058823534, 'mse = 0.0\\nsamples = 1\\nvalue = 30.7'),\n",
       " Text(248.28837209302327, 57.557647058823534, 'mse = 0.0\\nsamples = 1\\nvalue = 30.6'),\n",
       " Text(251.74883720930234, 83.13882352941175, 'X[3] <= 121.517\\nmse = 0.702\\nsamples = 3\\nvalue = 29.667'),\n",
       " Text(250.0186046511628, 70.34823529411764, 'mse = 0.0\\nsamples = 1\\nvalue = 29.4'),\n",
       " Text(253.47906976744187, 70.34823529411764, 'mse = 1.0\\nsamples = 2\\nvalue = 29.8'),\n",
       " Text(251.74883720930234, 95.92941176470588, 'mse = 14.062\\nsamples = 2\\nvalue = 26.75'),\n",
       " Text(261.2651162790698, 108.72, 'X[3] <= 121.517\\nmse = 5.91\\nsamples = 14\\nvalue = 27.057'),\n",
       " Text(256.93953488372097, 95.92941176470588, 'X[1] <= 2.5\\nmse = 7.84\\nsamples = 2\\nvalue = 24.2'),\n",
       " Text(255.2093023255814, 83.13882352941175, 'mse = 0.0\\nsamples = 1\\nvalue = 27.0'),\n",
       " Text(258.6697674418605, 83.13882352941175, 'mse = 0.0\\nsamples = 1\\nvalue = 21.4'),\n",
       " Text(265.5906976744186, 95.92941176470588, 'X[0] <= 1387.488\\nmse = 4.001\\nsamples = 12\\nvalue = 27.533'),\n",
       " Text(262.13023255813954, 83.13882352941175, 'X[3] <= 121.548\\nmse = 5.01\\nsamples = 9\\nvalue = 27.811'),\n",
       " Text(260.40000000000003, 70.34823529411764, 'mse = 8.816\\nsamples = 3\\nvalue = 27.167'),\n",
       " Text(263.8604651162791, 70.34823529411764, 'mse = 2.796\\nsamples = 6\\nvalue = 28.133'),\n",
       " Text(269.0511627906977, 83.13882352941175, 'X[1] <= 2.0\\nmse = 0.047\\nsamples = 3\\nvalue = 26.7'),\n",
       " Text(267.32093023255817, 70.34823529411764, 'mse = 0.003\\nsamples = 2\\nvalue = 26.55'),\n",
       " Text(270.78139534883724, 70.34823529411764, 'mse = 0.0\\nsamples = 1\\nvalue = 27.0'),\n",
       " Text(274.2418604651163, 134.30117647058825, 'X[2] <= 24.953\\nmse = 6.655\\nsamples = 12\\nvalue = 24.1'),\n",
       " Text(272.51162790697674, 121.51058823529411, 'mse = 0.0\\nsamples = 1\\nvalue = 31.3'),\n",
       " Text(275.9720930232558, 121.51058823529411, 'X[0] <= 1002.495\\nmse = 2.119\\nsamples = 11\\nvalue = 23.445'),\n",
       " Text(274.2418604651163, 108.72, 'mse = 0.01\\nsamples = 2\\nvalue = 25.4'),\n",
       " Text(277.70232558139537, 108.72, 'X[2] <= 24.954\\nmse = 1.55\\nsamples = 9\\nvalue = 23.011'),\n",
       " Text(275.9720930232558, 95.92941176470588, 'mse = 0.0\\nsamples = 1\\nvalue = 24.7'),\n",
       " Text(279.43255813953493, 95.92941176470588, 'X[2] <= 24.955\\nmse = 1.342\\nsamples = 8\\nvalue = 22.8'),\n",
       " Text(275.9720930232558, 83.13882352941175, 'X[1] <= 0.5\\nmse = 0.422\\nsamples = 2\\nvalue = 21.35'),\n",
       " Text(274.2418604651163, 70.34823529411764, 'mse = 0.0\\nsamples = 1\\nvalue = 22.0'),\n",
       " Text(277.70232558139537, 70.34823529411764, 'mse = -0.0\\nsamples = 1\\nvalue = 20.7'),\n",
       " Text(282.893023255814, 83.13882352941175, 'X[2] <= 24.963\\nmse = 0.715\\nsamples = 6\\nvalue = 23.283'),\n",
       " Text(281.16279069767444, 70.34823529411764, 'X[3] <= 121.55\\nmse = 0.626\\nsamples = 5\\nvalue = 23.48'),\n",
       " Text(279.43255813953493, 57.557647058823534, 'mse = 0.0\\nsamples = 1\\nvalue = 23.1'),\n",
       " Text(282.893023255814, 57.557647058823534, 'X[0] <= 1560.308\\nmse = 0.737\\nsamples = 4\\nvalue = 23.575'),\n",
       " Text(281.16279069767444, 44.767058823529396, 'mse = 0.0\\nsamples = 1\\nvalue = 23.8'),\n",
       " Text(284.6232558139535, 44.767058823529396, 'mse = 0.96\\nsamples = 3\\nvalue = 23.5'),\n",
       " Text(284.6232558139535, 70.34823529411764, 'mse = -0.0\\nsamples = 1\\nvalue = 22.3'),\n",
       " Text(297.6, 172.6729411764706, 'X[0] <= 5954.161\\nmse = 12.335\\nsamples = 22\\nvalue = 17.136'),\n",
       " Text(291.54418604651164, 159.88235294117646, 'X[2] <= 24.948\\nmse = 10.293\\nsamples = 20\\nvalue = 17.68'),\n",
       " Text(284.6232558139535, 147.09176470588235, 'X[0] <= 4074.301\\nmse = 6.489\\nsamples = 14\\nvalue = 16.6'),\n",
       " Text(282.893023255814, 134.30117647058825, 'mse = 1.336\\nsamples = 3\\nvalue = 19.067'),\n",
       " Text(286.35348837209307, 134.30117647058825, 'X[2] <= 24.944\\nmse = 5.782\\nsamples = 11\\nvalue = 15.927'),\n",
       " Text(282.893023255814, 121.51058823529411, 'X[2] <= 24.94\\nmse = 5.895\\nsamples = 9\\nvalue = 16.378'),\n",
       " Text(281.16279069767444, 108.72, 'mse = 9.61\\nsamples = 2\\nvalue = 16.1'),\n",
       " Text(284.6232558139535, 108.72, 'mse = 4.805\\nsamples = 7\\nvalue = 16.457'),\n",
       " Text(289.81395348837214, 121.51058823529411, 'X[2] <= 24.947\\nmse = 0.25\\nsamples = 2\\nvalue = 13.9'),\n",
       " Text(288.0837209302326, 108.72, 'mse = 0.0\\nsamples = 1\\nvalue = 13.4'),\n",
       " Text(291.54418604651164, 108.72, 'mse = 0.0\\nsamples = 1\\nvalue = 14.4'),\n",
       " Text(298.4651162790698, 147.09176470588235, 'X[0] <= 4515.024\\nmse = 10.097\\nsamples = 6\\nvalue = 20.2'),\n",
       " Text(295.0046511627907, 134.30117647058825, 'X[2] <= 24.952\\nmse = 1.103\\nsamples = 2\\nvalue = 23.65'),\n",
       " Text(293.2744186046512, 121.51058823529411, 'mse = 0.0\\nsamples = 1\\nvalue = 22.6'),\n",
       " Text(296.73488372093027, 121.51058823529411, 'mse = 0.0\\nsamples = 1\\nvalue = 24.7'),\n",
       " Text(301.92558139534884, 134.30117647058825, 'X[0] <= 5015.864\\nmse = 5.667\\nsamples = 4\\nvalue = 18.475'),\n",
       " Text(300.19534883720934, 121.51058823529411, 'mse = 10.562\\nsamples = 2\\nvalue = 18.85'),\n",
       " Text(303.6558139534884, 121.51058823529411, 'mse = 0.49\\nsamples = 2\\nvalue = 18.1'),\n",
       " Text(303.6558139534884, 159.88235294117646, 'X[0] <= 6442.152\\nmse = 0.25\\nsamples = 2\\nvalue = 11.7'),\n",
       " Text(301.92558139534884, 147.09176470588235, 'mse = 0.0\\nsamples = 1\\nvalue = 12.2'),\n",
       " Text(305.3860465116279, 147.09176470588235, 'mse = 0.0\\nsamples = 1\\nvalue = 11.2'),\n",
       " Text(318.7953488372093, 185.4635294117647, 'X[1] <= 1.0\\nmse = 39.808\\nsamples = 17\\nvalue = 36.576'),\n",
       " Text(312.30697674418604, 172.6729411764706, 'X[2] <= 25.008\\nmse = 33.622\\nsamples = 7\\nvalue = 40.371'),\n",
       " Text(310.57674418604654, 159.88235294117646, 'X[2] <= 25.0\\nmse = 6.002\\nsamples = 6\\nvalue = 42.55'),\n",
       " Text(308.846511627907, 147.09176470588235, 'X[2] <= 24.982\\nmse = 3.266\\nsamples = 5\\nvalue = 41.74'),\n",
       " Text(307.1162790697675, 134.30117647058825, 'mse = 0.0\\nsamples = 1\\nvalue = 43.5'),\n",
       " Text(310.57674418604654, 134.30117647058825, 'X[0] <= 2243.593\\nmse = 3.115\\nsamples = 4\\nvalue = 41.3'),\n",
       " Text(308.846511627907, 121.51058823529411, 'mse = 4.149\\nsamples = 3\\nvalue = 41.333'),\n",
       " Text(312.30697674418604, 121.51058823529411, 'mse = 0.0\\nsamples = 1\\nvalue = 41.2'),\n",
       " Text(312.30697674418604, 147.09176470588235, 'mse = 0.0\\nsamples = 1\\nvalue = 46.6'),\n",
       " Text(314.0372093023256, 159.88235294117646, 'mse = 0.0\\nsamples = 1\\nvalue = 27.3'),\n",
       " Text(325.28372093023256, 172.6729411764706, 'X[0] <= 1460.625\\nmse = 27.0\\nsamples = 10\\nvalue = 33.92'),\n",
       " Text(319.22790697674424, 159.88235294117646, 'X[3] <= 121.534\\nmse = 7.614\\nsamples = 7\\nvalue = 36.757'),\n",
       " Text(317.4976744186047, 147.09176470588235, 'mse = 1.102\\nsamples = 2\\nvalue = 33.25'),\n",
       " Text(320.95813953488374, 147.09176470588235, 'X[3] <= 121.534\\nmse = 3.33\\nsamples = 5\\nvalue = 38.16'),\n",
       " Text(317.4976744186047, 134.30117647058825, 'X[0] <= 966.075\\nmse = 0.86\\nsamples = 3\\nvalue = 39.5'),\n",
       " Text(315.76744186046517, 121.51058823529411, 'mse = 0.0\\nsamples = 1\\nvalue = 38.2'),\n",
       " Text(319.22790697674424, 121.51058823529411, 'mse = 0.023\\nsamples = 2\\nvalue = 40.15'),\n",
       " Text(324.4186046511628, 134.30117647058825, 'X[3] <= 121.535\\nmse = 0.303\\nsamples = 2\\nvalue = 36.15'),\n",
       " Text(322.6883720930233, 121.51058823529411, 'mse = 0.0\\nsamples = 1\\nvalue = 36.7'),\n",
       " Text(326.14883720930237, 121.51058823529411, 'mse = -0.0\\nsamples = 1\\nvalue = 35.6'),\n",
       " Text(331.33953488372094, 159.88235294117646, 'X[0] <= 1892.168\\nmse = 9.627\\nsamples = 3\\nvalue = 27.3'),\n",
       " Text(329.60930232558144, 147.09176470588235, 'X[3] <= 121.52\\nmse = 3.61\\nsamples = 2\\nvalue = 29.2'),\n",
       " Text(327.8790697674419, 134.30117647058825, 'mse = 0.0\\nsamples = 1\\nvalue = 27.3'),\n",
       " Text(331.33953488372094, 134.30117647058825, 'mse = -0.0\\nsamples = 1\\nvalue = 31.1'),\n",
       " Text(333.0697674418605, 147.09176470588235, 'mse = 0.0\\nsamples = 1\\nvalue = 23.5')]"
      ]
     },
     "execution_count": 43,
     "metadata": {},
     "output_type": "execute_result"
    },
    {
     "data": {
      "image/png": "[encoded data removed]",
      "text/plain": [
       "<Figure size 432x288 with 1 Axes>"
      ]
     },
     "metadata": {
      "needs_background": "light"
     },
     "output_type": "display_data"
    }
   ],
   "source": [
    "plot_tree(dtModel)"
   ]
  },
  {
   "cell_type": "markdown",
   "id": "bd2c9484-a8bc-44d6-a85e-a861299f72ce",
   "metadata": {},
   "source": [
    "### 5. 예측/검증"
   ]
  },
  {
   "cell_type": "code",
   "execution_count": 65,
   "id": "76ac34c3-7156-46e3-bef2-cebf5cfe4de3",
   "metadata": {},
   "outputs": [
    {
     "data": {
      "text/plain": [
       "(126, 4)"
      ]
     },
     "execution_count": 65,
     "metadata": {},
     "output_type": "execute_result"
    }
   ],
   "source": [
    "testDataFeatures.shape"
   ]
  },
  {
   "cell_type": "code",
   "execution_count": 68,
   "id": "ea4e61b2-195c-40b5-a4c3-e991137ce96c",
   "metadata": {},
   "outputs": [],
   "source": [
    "# 테스트데이터라벨 예측값"
   ]
  },
  {
   "cell_type": "code",
   "execution_count": 66,
   "id": "52933fad-6182-490d-a31d-8a1aa3081dac",
   "metadata": {
    "tags": []
   },
   "outputs": [
    {
     "data": {
      "text/plain": [
       "126"
      ]
     },
     "execution_count": 66,
     "metadata": {},
     "output_type": "execute_result"
    }
   ],
   "source": [
    "predictValueDt = dtModel.predict( X = testDataFeatures )\n",
    "len(predictValueDt)"
   ]
  },
  {
   "cell_type": "code",
   "execution_count": 69,
   "id": "ada2cd18-b54d-4a1a-89f4-98dc3329d415",
   "metadata": {},
   "outputs": [],
   "source": [
    "# 테스트데이터라벨 예측값과 테스트데이터라벨 값 "
   ]
  },
  {
   "cell_type": "code",
   "execution_count": 70,
   "id": "6b41f8c2-2611-4f3a-b6ac-b841b8bab36d",
   "metadata": {},
   "outputs": [],
   "source": [
    "testDataLabel[\"DT_PREDICT\"] = predictValueDt"
   ]
  },
  {
   "cell_type": "code",
   "execution_count": 71,
   "id": "8addf136-c5a5-4e7f-af4b-c0a752e2b93f",
   "metadata": {},
   "outputs": [],
   "source": [
    "finalValue = testDataLabel"
   ]
  },
  {
   "cell_type": "code",
   "execution_count": 72,
   "id": "a57bdcc4-1654-4f48-a03e-7956df5a1239",
   "metadata": {},
   "outputs": [
    {
     "data": {
      "text/html": [
       "<div>\n",
       "<style scoped>\n",
       "    .dataframe tbody tr th:only-of-type {\n",
       "        vertical-align: middle;\n",
       "    }\n",
       "\n",
       "    .dataframe tbody tr th {\n",
       "        vertical-align: top;\n",
       "    }\n",
       "\n",
       "    .dataframe thead th {\n",
       "        text-align: right;\n",
       "    }\n",
       "</style>\n",
       "<table border=\"1\" class=\"dataframe\">\n",
       "  <thead>\n",
       "    <tr style=\"text-align: right;\">\n",
       "      <th></th>\n",
       "      <th>housePriceOfUnitArea</th>\n",
       "      <th>DT_PREDICT</th>\n",
       "    </tr>\n",
       "  </thead>\n",
       "  <tbody>\n",
       "    <tr>\n",
       "      <th>0</th>\n",
       "      <td>37.9</td>\n",
       "      <td>46.600000</td>\n",
       "    </tr>\n",
       "    <tr>\n",
       "      <th>1</th>\n",
       "      <td>42.2</td>\n",
       "      <td>78.300000</td>\n",
       "    </tr>\n",
       "    <tr>\n",
       "      <th>4</th>\n",
       "      <td>43.1</td>\n",
       "      <td>45.300000</td>\n",
       "    </tr>\n",
       "    <tr>\n",
       "      <th>5</th>\n",
       "      <td>32.1</td>\n",
       "      <td>27.700000</td>\n",
       "    </tr>\n",
       "    <tr>\n",
       "      <th>6</th>\n",
       "      <td>40.3</td>\n",
       "      <td>42.300000</td>\n",
       "    </tr>\n",
       "    <tr>\n",
       "      <th>...</th>\n",
       "      <td>...</td>\n",
       "      <td>...</td>\n",
       "    </tr>\n",
       "    <tr>\n",
       "      <th>399</th>\n",
       "      <td>37.3</td>\n",
       "      <td>29.300000</td>\n",
       "    </tr>\n",
       "    <tr>\n",
       "      <th>402</th>\n",
       "      <td>28.5</td>\n",
       "      <td>33.100000</td>\n",
       "    </tr>\n",
       "    <tr>\n",
       "      <th>403</th>\n",
       "      <td>39.7</td>\n",
       "      <td>47.300000</td>\n",
       "    </tr>\n",
       "    <tr>\n",
       "      <th>405</th>\n",
       "      <td>37.2</td>\n",
       "      <td>60.700000</td>\n",
       "    </tr>\n",
       "    <tr>\n",
       "      <th>410</th>\n",
       "      <td>50.0</td>\n",
       "      <td>59.828571</td>\n",
       "    </tr>\n",
       "  </tbody>\n",
       "</table>\n",
       "<p>126 rows × 2 columns</p>\n",
       "</div>"
      ],
      "text/plain": [
       "     housePriceOfUnitArea  DT_PREDICT\n",
       "0                    37.9   46.600000\n",
       "1                    42.2   78.300000\n",
       "4                    43.1   45.300000\n",
       "5                    32.1   27.700000\n",
       "6                    40.3   42.300000\n",
       "..                    ...         ...\n",
       "399                  37.3   29.300000\n",
       "402                  28.5   33.100000\n",
       "403                  39.7   47.300000\n",
       "405                  37.2   60.700000\n",
       "410                  50.0   59.828571\n",
       "\n",
       "[126 rows x 2 columns]"
      ]
     },
     "execution_count": 72,
     "metadata": {},
     "output_type": "execute_result"
    }
   ],
   "source": [
    "finalValue"
   ]
  },
  {
   "cell_type": "code",
   "execution_count": null,
   "id": "93ba070c-b501-4e0e-96ac-15a1cd13b60e",
   "metadata": {},
   "outputs": [],
   "source": [
    "#정확도 산출"
   ]
  },
  {
   "cell_type": "code",
   "execution_count": null,
   "id": "1e6e9795-f231-490d-900b-ec7a0909919d",
   "metadata": {},
   "outputs": [],
   "source": []
  },
  {
   "cell_type": "markdown",
   "id": "855d0192-5273-45e9-ad1e-1d85537551f0",
   "metadata": {},
   "source": [
    "### 6. 미래예측"
   ]
  },
  {
   "cell_type": "code",
   "execution_count": 47,
   "id": "ddbdc0d0-d6fe-4e09-9474-a86069c9f7f0",
   "metadata": {},
   "outputs": [
    {
     "data": {
      "text/plain": [
       "['distanceToTheNearestMRTStation',\n",
       " 'numberOfConvenienceStores',\n",
       " 'latitude',\n",
       " 'longitude']"
      ]
     },
     "execution_count": 47,
     "metadata": {},
     "output_type": "execute_result"
    }
   ],
   "source": [
    "features"
   ]
  },
  {
   "cell_type": "code",
   "execution_count": 48,
   "id": "8ffa1c70-f499-4aa4-b348-361e2c081955",
   "metadata": {},
   "outputs": [],
   "source": [
    "distanceToTheNearestMRTStation = 600\n",
    "numberOfConvenienceStores = 3\n",
    "latitude = 56\n",
    "longitude = 23"
   ]
  },
  {
   "cell_type": "code",
   "execution_count": 49,
   "id": "a74f0dc1-8c12-4e6e-8a6b-6defb3d010d4",
   "metadata": {},
   "outputs": [],
   "source": [
    "testData = pd.DataFrame( [ [distanceToTheNearestMRTStation, numberOfConvenienceStores, latitude, longitude] ] )"
   ]
  },
  {
   "cell_type": "code",
   "execution_count": 50,
   "id": "4aa77801-ee77-40dd-8ef1-6452fab3c0be",
   "metadata": {},
   "outputs": [
    {
     "data": {
      "text/plain": [
       "array([46.6])"
      ]
     },
     "execution_count": 50,
     "metadata": {},
     "output_type": "execute_result"
    }
   ],
   "source": [
    "dtModel.predict(testData)"
   ]
  },
  {
   "cell_type": "code",
   "execution_count": 57,
   "id": "16daf18d-c109-4dd8-b7a3-8e597f67473b",
   "metadata": {},
   "outputs": [],
   "source": [
    "# 파일로 저장\n",
    "with open('dtModel.pkl', 'wb') as f:\n",
    "    pickle.dump(dtModel, f)\n",
    "    "
   ]
  },
  {
   "cell_type": "code",
   "execution_count": 58,
   "id": "52f8bb07-3e46-46e4-9f34-74755df54df5",
   "metadata": {},
   "outputs": [],
   "source": [
    "# 파일 불러오기\n",
    "with open('dtModel.pkl', 'rb') as f:\n",
    "    loaded_dict = pickle.load(f)"
   ]
  },
  {
   "cell_type": "code",
   "execution_count": 59,
   "id": "f6bb6821-1ce7-4ec1-bcd1-b17c51b9cd0a",
   "metadata": {},
   "outputs": [
    {
     "name": "stdout",
     "output_type": "stream",
     "text": [
      "DecisionTreeRegressor(random_state=8)\n"
     ]
    }
   ],
   "source": [
    "print(loaded_dict)"
   ]
  }
 ],
 "metadata": {
  "kernelspec": {
   "display_name": "Python 3 (ipykernel)",
   "language": "python",
   "name": "python3"
  },
  "language_info": {
   "codemirror_mode": {
    "name": "ipython",
    "version": 3
   },
   "file_extension": ".py",
   "mimetype": "text/x-python",
   "name": "python",
   "nbconvert_exporter": "python",
   "pygments_lexer": "ipython3",
   "version": "3.9.7"
  }
 },
 "nbformat": 4,
 "nbformat_minor": 5
}
