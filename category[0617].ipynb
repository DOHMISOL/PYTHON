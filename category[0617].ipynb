{
 "cells": [
  {
   "cell_type": "code",
   "execution_count": 25,
   "id": "9515363a-fb78-4411-a4cb-bfa16022820b",
   "metadata": {},
   "outputs": [],
   "source": [
    "### 필요 라이브러리 ###\n",
    "import pandas as pd\n",
    "import matplotlib.pyplot as plt\n",
    "%matplotlib inline\n",
    "import numpy as np\n",
    "from PIL import Image\n",
    "import os\n",
    "import cv2\n",
    "import pickle\n",
    "import mnist #이미지불러오기 가능\n",
    "from tensorflow import keras\n",
    "from tensorflow.keras.layers import Dense, Conv2D, MaxPooling2D, Dropout,Flatten\n",
    "from tensorflow.keras.models import Sequential # 순차적으로 쌓겠다\n",
    "from tensorflow.keras.utils import to_categorical\n",
    "import json\n",
    "from tensorflow.keras.models import model_from_json"
   ]
  },
  {
   "cell_type": "code",
   "execution_count": 2,
   "id": "8b094046-bc5a-4303-aa0a-2282592ad9bd",
   "metadata": {},
   "outputs": [],
   "source": [
    "### 실제이미지를 for문으로 특정폴더 이미지를 list에다가 하나씩 저장한다."
   ]
  },
  {
   "cell_type": "markdown",
   "id": "beb91fdc-dc5c-4364-bed1-330d32c27c8e",
   "metadata": {},
   "source": [
    "### 데이터 불러오기"
   ]
  },
  {
   "cell_type": "code",
   "execution_count": 3,
   "id": "67a965ed-6fe8-4dc9-ae66-c03e6bcd2353",
   "metadata": {
    "tags": []
   },
   "outputs": [],
   "source": [
    "TRAIN_DIR = 'Car_Brand_Logos/Train'\n",
    "TEST_DIR = 'Car_Brand_Logos/Test'\n",
    "\n",
    "train_folder_list = os.listdir(TRAIN_DIR)\n",
    "test_folder_list = os.listdir(TEST_DIR)"
   ]
  },
  {
   "cell_type": "code",
   "execution_count": 4,
   "id": "d7876db7-afbb-4cc7-8366-3b4034c5bca3",
   "metadata": {},
   "outputs": [
    {
     "data": {
      "text/plain": [
       "['hyundai',\n",
       " 'lexus',\n",
       " 'mazda',\n",
       " 'mercedes',\n",
       " 'opel',\n",
       " 'skoda',\n",
       " 'toyota',\n",
       " 'volkswagen']"
      ]
     },
     "execution_count": 4,
     "metadata": {},
     "output_type": "execute_result"
    }
   ],
   "source": [
    "train_folder_list"
   ]
  },
  {
   "cell_type": "code",
   "execution_count": 5,
   "id": "d7e0a0b3-5662-4bad-bbfa-a6e31ef3d474",
   "metadata": {},
   "outputs": [],
   "source": [
    "IMG_SIZE = 48\n",
    "train_images=[]\n",
    "train_labels=[]\n",
    "\n",
    "for index in range(0,len(train_folder_list)):\n",
    "    path = os.path.join(TRAIN_DIR,train_folder_list[index])\n",
    "    path = path + '/'\n",
    "    img_list = os.listdir(path)\n",
    "    for img in img_list:\n",
    "        img_path = os.path.join(path,img)\n",
    "        try:\n",
    "            img = cv2.imread(img_path, cv2.IMREAD_GRAYSCALE)\n",
    "            new_img = cv2.resize(img, (IMG_SIZE,IMG_SIZE))\n",
    "            train_images.append(new_img)\n",
    "            train_labels.append(index)\n",
    "        except:\n",
    "            pass"
   ]
  },
  {
   "cell_type": "code",
   "execution_count": 6,
   "id": "58c57a3d-0c03-429a-b7cb-79a263658569",
   "metadata": {},
   "outputs": [],
   "source": [
    "IMG_SIZE = 48\n",
    "test_images=[]\n",
    "test_labels=[]\n",
    "\n",
    "for index in range(0,len(test_folder_list)):\n",
    "    path = os.path.join(TEST_DIR,test_folder_list[index])\n",
    "    path = path + '/'\n",
    "    img_list = os.listdir(path)\n",
    "    for img in img_list:\n",
    "        img_path = os.path.join(path,img)\n",
    "        try:\n",
    "            img = cv2.imread(img_path, cv2.IMREAD_GRAYSCALE)\n",
    "            new_img = cv2.resize(img, (IMG_SIZE,IMG_SIZE))\n",
    "            test_images.append(new_img)\n",
    "            test_labels.append(index)\n",
    "        except:\n",
    "            pass"
   ]
  },
  {
   "cell_type": "code",
   "execution_count": 7,
   "id": "7432fda5-df67-4da5-ac4a-96eacdb092ef",
   "metadata": {
    "tags": []
   },
   "outputs": [],
   "source": [
    "train_images = np.array(train_images)\n",
    "train_labels = np.array(train_labels)\n",
    "test_images = np.array(test_images)\n",
    "test_labels = np.array(test_labels)"
   ]
  },
  {
   "cell_type": "code",
   "execution_count": 8,
   "id": "42af0a0e-1942-4983-8cd2-c5402026dfd1",
   "metadata": {},
   "outputs": [
    {
     "name": "stdout",
     "output_type": "stream",
     "text": [
      "(2513, 48, 48)\n",
      "(2513,)\n",
      "(400, 48, 48)\n",
      "(400,)\n"
     ]
    }
   ],
   "source": [
    "print(train_images.shape)  #48, 48 픽셀(해상도)\n",
    "print(train_labels.shape)\n",
    "print(test_images.shape)\n",
    "print(test_labels.shape)"
   ]
  },
  {
   "cell_type": "code",
   "execution_count": 9,
   "id": "8b8ce9ac-969d-4b8d-9ba0-fcad8c5151f3",
   "metadata": {},
   "outputs": [],
   "source": [
    "eachImg = pd.DataFrame( train_images[89] )"
   ]
  },
  {
   "cell_type": "code",
   "execution_count": 10,
   "id": "c5eb8a0f-eaa9-429a-968c-b4b579604e91",
   "metadata": {},
   "outputs": [],
   "source": [
    "eachImg.to_csv(\"F:/eachImg.csv\") # 해당 csv파일에서 특징들을 추출"
   ]
  },
  {
   "cell_type": "code",
   "execution_count": 11,
   "id": "cf6d37c5-93c0-4a17-8d37-8c6e4573a668",
   "metadata": {},
   "outputs": [
    {
     "data": {
      "text/plain": [
       "<matplotlib.image.AxesImage at 0x1f61757db50>"
      ]
     },
     "execution_count": 11,
     "metadata": {},
     "output_type": "execute_result"
    },
    {
     "data": {
      "image/png": "[encoded data removed]",
      "text/plain": [
       "<Figure size 432x288 with 1 Axes>"
      ]
     },
     "metadata": {
      "needs_background": "light"
     },
     "output_type": "display_data"
    }
   ],
   "source": [
    "plt.imshow(eachImg,cmap=\"gray\")"
   ]
  },
  {
   "cell_type": "code",
   "execution_count": 12,
   "id": "b921cc4e-8c8d-43cf-919d-2e78b461f022",
   "metadata": {},
   "outputs": [],
   "source": [
    "# 이미지 정규화(255로 나눠주면 0~1사이의 값으로 나눈다)"
   ]
  },
  {
   "cell_type": "code",
   "execution_count": 13,
   "id": "d5a90ceb-017b-4c34-b3cf-30aa45fea803",
   "metadata": {},
   "outputs": [],
   "source": [
    "train_images = (train_images/255)\n",
    "test_images = (test_images/255)"
   ]
  },
  {
   "cell_type": "code",
   "execution_count": 14,
   "id": "b6eb6c25-ef60-4da8-a7d6-3acc3a276782",
   "metadata": {},
   "outputs": [],
   "source": [
    "#train_images = train_images.reshape((len(train_images),48,48))"
   ]
  },
  {
   "cell_type": "code",
   "execution_count": 15,
   "id": "35b3c145-02ea-4bf9-9758-0945ab4d9944",
   "metadata": {},
   "outputs": [
    {
     "name": "stdout",
     "output_type": "stream",
     "text": [
      "(2513, 48, 48)\n"
     ]
    }
   ],
   "source": [
    "print(train_images.shape)"
   ]
  },
  {
   "cell_type": "code",
   "execution_count": 16,
   "id": "c6aa40ac-6b77-4f60-af8c-aaa911f6107c",
   "metadata": {},
   "outputs": [],
   "source": [
    "## 각각의 값을 하나의 숫자로 나누고 싶을때는 array로 형변환해서 나눠준다(np.array)"
   ]
  },
  {
   "cell_type": "code",
   "execution_count": 17,
   "id": "d4fd4c30-ca27-4fea-8903-a126809b9ba8",
   "metadata": {},
   "outputs": [],
   "source": [
    "# np.array([1,2,3,4]) / 2\n",
    "# 답: array([0.5, 1. , 1.5, 2. ])\n",
    "# [1,2,3,4])/2 답 = 오류"
   ]
  },
  {
   "cell_type": "code",
   "execution_count": 18,
   "id": "2ea01148-5f86-4f00-8428-88987d6860e0",
   "metadata": {},
   "outputs": [],
   "source": [
    "# onehot형식으로 변환을 해서 softmax 함수에 맵핑하려함(softmax는 주어진 카테고리의 확률이 1이되도록 %로 나오됌)"
   ]
  },
  {
   "cell_type": "code",
   "execution_count": 19,
   "id": "cfc1ad17-124f-4542-95a5-c12ece92ca47",
   "metadata": {},
   "outputs": [],
   "source": [
    "train_labels_one_hot = to_categorical( train_labels ) \n",
    "test_labels_one_hot = to_categorical( test_labels ) "
   ]
  },
  {
   "cell_type": "code",
   "execution_count": 20,
   "id": "13756e65-4bc9-4b64-98f1-668344455bad",
   "metadata": {},
   "outputs": [],
   "source": [
    "# 원상태로 복귀"
   ]
  },
  {
   "cell_type": "code",
   "execution_count": 21,
   "id": "a5722b8c-d2cb-4e30-992e-d2ff68033f0e",
   "metadata": {},
   "outputs": [
    {
     "data": {
      "text/plain": [
       "0"
      ]
     },
     "execution_count": 21,
     "metadata": {},
     "output_type": "execute_result"
    }
   ],
   "source": [
    "np.argmax( train_labels[4] )"
   ]
  },
  {
   "cell_type": "markdown",
   "id": "7810547b-9bea-421b-a4f4-e53e68bfea20",
   "metadata": {
    "tags": []
   },
   "source": [
    "### B-1. 모델 생성"
   ]
  },
  {
   "cell_type": "code",
   "execution_count": 4,
   "id": "52ef631a-2e99-462e-9922-e59757152aa7",
   "metadata": {},
   "outputs": [
    {
     "ename": "NameError",
     "evalue": "name 'train_images' is not defined",
     "output_type": "error",
     "traceback": [
      "\u001b[1;31m---------------------------------------------------------------------------\u001b[0m",
      "\u001b[1;31mNameError\u001b[0m                                 Traceback (most recent call last)",
      "\u001b[1;32m~\\AppData\\Local\\Temp/ipykernel_12968/582382740.py\u001b[0m in \u001b[0;36m<module>\u001b[1;34m\u001b[0m\n\u001b[0;32m      1\u001b[0m \u001b[1;31m# input layer를 위한 설정\u001b[0m\u001b[1;33m\u001b[0m\u001b[1;33m\u001b[0m\u001b[0m\n\u001b[1;32m----> 2\u001b[1;33m \u001b[0minput_shape\u001b[0m \u001b[1;33m=\u001b[0m \u001b[0mtrain_images\u001b[0m\u001b[1;33m[\u001b[0m\u001b[1;36m0\u001b[0m\u001b[1;33m]\u001b[0m\u001b[1;33m.\u001b[0m\u001b[0mshape\u001b[0m\u001b[1;33m\u001b[0m\u001b[1;33m\u001b[0m\u001b[0m\n\u001b[0m",
      "\u001b[1;31mNameError\u001b[0m: name 'train_images' is not defined"
     ]
    }
   ],
   "source": [
    "# input layer를 위한 설정\n",
    "input_shape = train_images[0].shape"
   ]
  },
  {
   "cell_type": "code",
   "execution_count": 5,
   "id": "4e38b68d-3f2f-4f1e-82a7-89c55b0d4b86",
   "metadata": {},
   "outputs": [
    {
     "ename": "NameError",
     "evalue": "name 'np' is not defined",
     "output_type": "error",
     "traceback": [
      "\u001b[1;31m---------------------------------------------------------------------------\u001b[0m",
      "\u001b[1;31mNameError\u001b[0m                                 Traceback (most recent call last)",
      "\u001b[1;32m~\\AppData\\Local\\Temp/ipykernel_12968/1228993764.py\u001b[0m in \u001b[0;36m<module>\u001b[1;34m\u001b[0m\n\u001b[0;32m      1\u001b[0m \u001b[1;31m# output layer를 위한 설정(유니크한 값만 가져와줘 => 카테고리의 값 및 개수)\u001b[0m\u001b[1;33m\u001b[0m\u001b[1;33m\u001b[0m\u001b[0m\n\u001b[1;32m----> 2\u001b[1;33m \u001b[0mnClasses\u001b[0m \u001b[1;33m=\u001b[0m \u001b[0mlen\u001b[0m\u001b[1;33m(\u001b[0m \u001b[0mnp\u001b[0m\u001b[1;33m.\u001b[0m\u001b[0munique\u001b[0m\u001b[1;33m(\u001b[0m\u001b[0mtrain_labels\u001b[0m\u001b[1;33m)\u001b[0m \u001b[1;33m)\u001b[0m\u001b[1;33m\u001b[0m\u001b[1;33m\u001b[0m\u001b[0m\n\u001b[0m\u001b[0;32m      3\u001b[0m \u001b[0mmodel\u001b[0m \u001b[1;33m=\u001b[0m \u001b[0mSequential\u001b[0m\u001b[1;33m(\u001b[0m\u001b[1;33m)\u001b[0m\u001b[1;33m\u001b[0m\u001b[1;33m\u001b[0m\u001b[0m\n",
      "\u001b[1;31mNameError\u001b[0m: name 'np' is not defined"
     ]
    }
   ],
   "source": [
    "# output layer를 위한 설정(유니크한 값만 가져와줘 => 카테고리의 값 및 개수)\n",
    "nClasses = len( np.unique(train_labels) )\n",
    "model = Sequential()\n"
   ]
  },
  {
   "cell_type": "code",
   "execution_count": 6,
   "id": "9f209309-afcf-414b-9ed6-fdc702ab7655",
   "metadata": {
    "tags": []
   },
   "outputs": [
    {
     "ename": "NameError",
     "evalue": "name 'Sequential' is not defined",
     "output_type": "error",
     "traceback": [
      "\u001b[1;31m---------------------------------------------------------------------------\u001b[0m",
      "\u001b[1;31mNameError\u001b[0m                                 Traceback (most recent call last)",
      "\u001b[1;32m~\\AppData\\Local\\Temp/ipykernel_12968/952202041.py\u001b[0m in \u001b[0;36m<module>\u001b[1;34m\u001b[0m\n\u001b[1;32m----> 1\u001b[1;33m \u001b[0mmodel\u001b[0m \u001b[1;33m=\u001b[0m \u001b[0mSequential\u001b[0m\u001b[1;33m(\u001b[0m\u001b[1;33m)\u001b[0m\u001b[1;33m\u001b[0m\u001b[1;33m\u001b[0m\u001b[0m\n\u001b[0m\u001b[0;32m      2\u001b[0m \u001b[1;31m# input layer\u001b[0m\u001b[1;33m\u001b[0m\u001b[1;33m\u001b[0m\u001b[0m\n\u001b[0;32m      3\u001b[0m \u001b[0mmodel\u001b[0m\u001b[1;33m.\u001b[0m\u001b[0madd\u001b[0m\u001b[1;33m(\u001b[0m\u001b[0mFlatten\u001b[0m\u001b[1;33m(\u001b[0m\u001b[0minput_shape\u001b[0m\u001b[1;33m=\u001b[0m \u001b[0minput_shape\u001b[0m\u001b[1;33m)\u001b[0m\u001b[1;33m)\u001b[0m\u001b[1;33m\u001b[0m\u001b[1;33m\u001b[0m\u001b[0m\n\u001b[0;32m      4\u001b[0m \u001b[1;31m# hidden layer\u001b[0m\u001b[1;33m\u001b[0m\u001b[1;33m\u001b[0m\u001b[0m\n\u001b[0;32m      5\u001b[0m \u001b[0mmodel\u001b[0m\u001b[1;33m.\u001b[0m\u001b[0madd\u001b[0m\u001b[1;33m(\u001b[0m\u001b[0mDense\u001b[0m\u001b[1;33m(\u001b[0m\u001b[0munits\u001b[0m\u001b[1;33m=\u001b[0m\u001b[1;36m16\u001b[0m\u001b[1;33m,\u001b[0m \u001b[0mactivation\u001b[0m\u001b[1;33m=\u001b[0m\u001b[1;34m\"relu\"\u001b[0m\u001b[1;33m)\u001b[0m\u001b[1;33m)\u001b[0m\u001b[1;33m\u001b[0m\u001b[1;33m\u001b[0m\u001b[0m\n",
      "\u001b[1;31mNameError\u001b[0m: name 'Sequential' is not defined"
     ]
    }
   ],
   "source": [
    "model = Sequential()\n",
    "# input layer\n",
    "model.add(Flatten(input_shape= input_shape))\n",
    "# hidden layer\n",
    "model.add(Dense(units=16, activation=\"relu\"))\n",
    "model.add(Dense(units=16, activation=\"relu\"))\n",
    "# output layer\n",
    "model.add(Dense(units=nClasses, activation=\"softmax\"))"
   ]
  },
  {
   "cell_type": "code",
   "execution_count": 7,
   "id": "d49c8350-75d1-4211-8504-08f2f0a98530",
   "metadata": {},
   "outputs": [
    {
     "ename": "NameError",
     "evalue": "name 'model' is not defined",
     "output_type": "error",
     "traceback": [
      "\u001b[1;31m---------------------------------------------------------------------------\u001b[0m",
      "\u001b[1;31mNameError\u001b[0m                                 Traceback (most recent call last)",
      "\u001b[1;32m~\\AppData\\Local\\Temp/ipykernel_12968/3470139634.py\u001b[0m in \u001b[0;36m<module>\u001b[1;34m\u001b[0m\n\u001b[1;32m----> 1\u001b[1;33m \u001b[0mmodel\u001b[0m\u001b[1;33m.\u001b[0m\u001b[0msummary\u001b[0m\u001b[1;33m(\u001b[0m\u001b[1;33m)\u001b[0m\u001b[1;33m\u001b[0m\u001b[1;33m\u001b[0m\u001b[0m\n\u001b[0m",
      "\u001b[1;31mNameError\u001b[0m: name 'model' is not defined"
     ]
    }
   ],
   "source": [
    "model.summary()"
   ]
  },
  {
   "cell_type": "code",
   "execution_count": 116,
   "id": "84e2bd6b-0eee-461e-ab37-2391bdb2ebd9",
   "metadata": {
    "tags": []
   },
   "outputs": [
    {
     "data": {
      "image/png": "[encoded data removed]",
      "text/plain": [
       "<IPython.core.display.Image object>"
      ]
     },
     "execution_count": 116,
     "metadata": {},
     "output_type": "execute_result"
    }
   ],
   "source": [
    "# 모델 시각화\n",
    "from tensorflow.keras.utils import plot_model\n",
    "plot_model(model, to_file='model_plot.png', \n",
    "           show_shapes=True, \n",
    "           show_layer_names=True)"
   ]
  },
  {
   "cell_type": "markdown",
   "id": "dd675e75-2a05-4b95-879b-e19798e18dfe",
   "metadata": {
    "tags": []
   },
   "source": [
    "### B-2. 모델 컴파일"
   ]
  },
  {
   "cell_type": "code",
   "execution_count": 117,
   "id": "1e08ffda-1c74-4103-9eaa-0e0991002b8d",
   "metadata": {},
   "outputs": [],
   "source": [
    "model.compile(loss='categorical_crossentropy',\n",
    "              optimizer='adam',\n",
    "              metrics=['accuracy'])"
   ]
  },
  {
   "cell_type": "markdown",
   "id": "4d80520e-bb4c-402a-b2ad-30a3da4eb93a",
   "metadata": {},
   "source": [
    "### B-3. 모델 훈련"
   ]
  },
  {
   "cell_type": "code",
   "execution_count": 118,
   "id": "433d6e8c-64f5-454b-bfc0-99e3dabf1294",
   "metadata": {},
   "outputs": [],
   "source": [
    "# int(2513*0.8)/32 = 62.81개 훈련하고 업뎃하고 62.81개 훈련하고 업뎃하고 이걸 32번 반복한다.\n",
    "# 32개씩 데이터(전체-검증데이터)를 10번 반복하여 학습함."
   ]
  },
  {
   "cell_type": "code",
   "execution_count": 122,
   "id": "b621079f-cf70-4ee8-80a1-42daa6719f9b",
   "metadata": {},
   "outputs": [
    {
     "name": "stdout",
     "output_type": "stream",
     "text": [
      "Epoch 1/10\n",
      "63/63 [==============================] - 0s 3ms/step - loss: 1.8670 - accuracy: 0.2114 - val_loss: 5.1780 - val_accuracy: 0.0000e+00\n",
      "Epoch 2/10\n",
      "63/63 [==============================] - 0s 2ms/step - loss: 1.8413 - accuracy: 0.2219 - val_loss: 5.2034 - val_accuracy: 0.0000e+00\n",
      "Epoch 3/10\n",
      "63/63 [==============================] - 0s 3ms/step - loss: 1.8142 - accuracy: 0.2403 - val_loss: 5.9936 - val_accuracy: 0.0000e+00\n",
      "Epoch 4/10\n",
      "63/63 [==============================] - 0s 2ms/step - loss: 1.7910 - accuracy: 0.2423 - val_loss: 7.2467 - val_accuracy: 0.0000e+00\n",
      "Epoch 5/10\n",
      "63/63 [==============================] - 0s 2ms/step - loss: 1.7714 - accuracy: 0.2498 - val_loss: 6.2480 - val_accuracy: 0.0000e+00\n",
      "Epoch 6/10\n",
      "63/63 [==============================] - 0s 2ms/step - loss: 1.7585 - accuracy: 0.2617 - val_loss: 5.0803 - val_accuracy: 0.0000e+00\n",
      "Epoch 7/10\n",
      "63/63 [==============================] - 0s 2ms/step - loss: 1.7430 - accuracy: 0.2746 - val_loss: 7.4994 - val_accuracy: 0.0000e+00\n",
      "Epoch 8/10\n",
      "63/63 [==============================] - 0s 2ms/step - loss: 1.7461 - accuracy: 0.2761 - val_loss: 7.3236 - val_accuracy: 0.0000e+00\n",
      "Epoch 9/10\n",
      "63/63 [==============================] - 0s 2ms/step - loss: 1.7161 - accuracy: 0.2801 - val_loss: 7.1199 - val_accuracy: 0.0000e+00\n",
      "Epoch 10/10\n",
      "63/63 [==============================] - 0s 2ms/step - loss: 1.6919 - accuracy: 0.2841 - val_loss: 4.7252 - val_accuracy: 0.0000e+00\n"
     ]
    }
   ],
   "source": [
    "history = model.fit(x=train_images,\n",
    "                    y=train_labels_one_hot,\n",
    "                    epochs=10,\n",
    "                    batch_size=32,\n",
    "                    validation_split=0.2)"
   ]
  },
  {
   "cell_type": "markdown",
   "id": "3a18b35a-e4a0-4053-8426-950421d9cc30",
   "metadata": {},
   "source": [
    "### C-1. 모델 추론"
   ]
  },
  {
   "cell_type": "code",
   "execution_count": 120,
   "id": "c71c8e64-bd6f-4bbd-a944-47b526be48d0",
   "metadata": {},
   "outputs": [],
   "source": [
    "# testdata 모든건에 대해서 예측을 해보고 옆에 정확도를 써준다"
   ]
  },
  {
   "cell_type": "code",
   "execution_count": 121,
   "id": "d79fe5d1-8f9c-4adb-9142-c62c7e44d701",
   "metadata": {},
   "outputs": [
    {
     "name": "stdout",
     "output_type": "stream",
     "text": [
      "13/13 [==============================] - 0s 2ms/step - loss: 2.8341 - accuracy: 0.2050\n"
     ]
    },
    {
     "data": {
      "text/plain": [
       "[2.8340773582458496, 0.20499999821186066]"
      ]
     },
     "execution_count": 121,
     "metadata": {},
     "output_type": "execute_result"
    }
   ],
   "source": [
    "model.evaluate(test_images, test_labels_one_hot)"
   ]
  },
  {
   "cell_type": "code",
   "execution_count": 81,
   "id": "a8054f0e-3cef-4295-abf2-d9c52e687538",
   "metadata": {},
   "outputs": [],
   "source": [
    "# 피클에 저장"
   ]
  },
  {
   "cell_type": "code",
   "execution_count": 82,
   "id": "3cc8e42f-0723-442f-8924-f90d4d1dd197",
   "metadata": {},
   "outputs": [],
   "source": [
    "with open('carBrand.pkl', 'wb') as f:\n",
    "    pickle.dump(model, f)"
   ]
  },
  {
   "cell_type": "code",
   "execution_count": 83,
   "id": "677b5879-3202-4d7c-9515-6dbef93a86ec",
   "metadata": {},
   "outputs": [],
   "source": [
    "with open('carBrand.pkl', 'rb') as f:\n",
    "    loaded_dict = pickle.load(f)"
   ]
  },
  {
   "cell_type": "code",
   "execution_count": 84,
   "id": "991149ca-2df1-450d-9913-dd38fb80e5f4",
   "metadata": {},
   "outputs": [
    {
     "name": "stdout",
     "output_type": "stream",
     "text": [
      "<keras.engine.sequential.Sequential object at 0x00000143D6898B20>\n"
     ]
    }
   ],
   "source": [
    "print(loaded_dict)"
   ]
  },
  {
   "cell_type": "markdown",
   "id": "a44ed23d-173f-4690-8ad6-d96ee94afa53",
   "metadata": {},
   "source": [
    "### C-2. 모델 예측"
   ]
  },
  {
   "cell_type": "code",
   "execution_count": 85,
   "id": "4c310878-6864-49a6-aac5-3e1433d2d1a9",
   "metadata": {},
   "outputs": [
    {
     "data": {
      "text/plain": [
       "'C:\\\\Users\\\\SMART27\\\\stdcode6\\\\Session_All_practice'"
      ]
     },
     "execution_count": 85,
     "metadata": {},
     "output_type": "execute_result"
    }
   ],
   "source": [
    "pwd"
   ]
  },
  {
   "cell_type": "code",
   "execution_count": 86,
   "id": "0d62eda4-4c80-4ec1-9353-d820e252922c",
   "metadata": {
    "tags": []
   },
   "outputs": [
    {
     "data": {
      "text/plain": [
       "<matplotlib.image.AxesImage at 0x143cd9d9ca0>"
      ]
     },
     "execution_count": 86,
     "metadata": {},
     "output_type": "execute_result"
    },
    {
     "data": {
      "image/png": "[encoded data removed]",
      "text/plain": [
       "<Figure size 432x288 with 1 Axes>"
      ]
     },
     "metadata": {
      "needs_background": "light"
     },
     "output_type": "display_data"
    }
   ],
   "source": [
    "# 이미지 불러오기/저장\n",
    "IMG_SIZE = 48\n",
    "sample_images=[]\n",
    "img_path = \"./volks2.png\"\n",
    "\n",
    "img = cv2.imread(img_path, cv2.IMREAD_GRAYSCALE)\n",
    "plt.imshow(img,cmap=\"gray\")"
   ]
  },
  {
   "cell_type": "code",
   "execution_count": 87,
   "id": "fe8eb568-34cd-43d4-86e6-07beb9244144",
   "metadata": {},
   "outputs": [],
   "source": [
    "refinedImg = cv2.resize(img, (IMG_SIZE,IMG_SIZE))"
   ]
  },
  {
   "cell_type": "code",
   "execution_count": 88,
   "id": "9b62a167-5f75-4060-aa09-b5369e305193",
   "metadata": {
    "tags": []
   },
   "outputs": [
    {
     "data": {
      "text/plain": [
       "[array([[203, 211, 219, ..., 226, 225, 224],\n",
       "        [204, 212, 218, ..., 225, 225, 225],\n",
       "        [204, 213, 219, ..., 226, 225, 225],\n",
       "        ...,\n",
       "        [204, 212, 219, ..., 226, 225, 225],\n",
       "        [204, 211, 218, ..., 225, 225, 225],\n",
       "        [203, 211, 217, ..., 225, 226, 225]], dtype=uint8)]"
      ]
     },
     "execution_count": 88,
     "metadata": {},
     "output_type": "execute_result"
    }
   ],
   "source": [
    "sample_images.append(new_img)\n",
    "sample_images"
   ]
  },
  {
   "cell_type": "code",
   "execution_count": 89,
   "id": "71391a94-b879-4b51-ad51-eeb9ef64a65c",
   "metadata": {
    "tags": []
   },
   "outputs": [
    {
     "data": {
      "text/plain": [
       "array([[[0.79607843, 0.82745098, 0.85882353, ..., 0.88627451,\n",
       "         0.88235294, 0.87843137],\n",
       "        [0.8       , 0.83137255, 0.85490196, ..., 0.88235294,\n",
       "         0.88235294, 0.88235294],\n",
       "        [0.8       , 0.83529412, 0.85882353, ..., 0.88627451,\n",
       "         0.88235294, 0.88235294],\n",
       "        ...,\n",
       "        [0.8       , 0.83137255, 0.85882353, ..., 0.88627451,\n",
       "         0.88235294, 0.88235294],\n",
       "        [0.8       , 0.82745098, 0.85490196, ..., 0.88235294,\n",
       "         0.88235294, 0.88235294],\n",
       "        [0.79607843, 0.82745098, 0.85098039, ..., 0.88235294,\n",
       "         0.88627451, 0.88235294]]])"
      ]
     },
     "execution_count": 89,
     "metadata": {},
     "output_type": "execute_result"
    }
   ],
   "source": [
    "sample_images = np.array(sample_images)\n",
    "sample_images = (sample_images/255)\n",
    "sample_images"
   ]
  },
  {
   "cell_type": "code",
   "execution_count": 90,
   "id": "ec062448-b5b2-40a6-8e00-0ef7a2104022",
   "metadata": {},
   "outputs": [
    {
     "name": "stdout",
     "output_type": "stream",
     "text": [
      "1/1 [==============================] - 0s 55ms/step\n"
     ]
    },
    {
     "data": {
      "text/plain": [
       "5"
      ]
     },
     "execution_count": 90,
     "metadata": {},
     "output_type": "execute_result"
    }
   ],
   "source": [
    "predictValue = np.argmax(model.predict(sample_images))\n",
    "predictValue"
   ]
  },
  {
   "cell_type": "code",
   "execution_count": null,
   "id": "8d92b75d-1484-4f57-9e4f-6f75b6ad9de3",
   "metadata": {},
   "outputs": [],
   "source": []
  }
 ],
 "metadata": {
  "kernelspec": {
   "display_name": "Python 3 (ipykernel)",
   "language": "python",
   "name": "python3"
  },
  "language_info": {
   "codemirror_mode": {
    "name": "ipython",
    "version": 3
   },
   "file_extension": ".py",
   "mimetype": "text/x-python",
   "name": "python",
   "nbconvert_exporter": "python",
   "pygments_lexer": "ipython3",
   "version": "3.9.7"
  }
 },
 "nbformat": 4,
 "nbformat_minor": 5
}
