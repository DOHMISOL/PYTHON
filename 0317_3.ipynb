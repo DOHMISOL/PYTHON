{
 "cells": [
  {
   "cell_type": "code",
   "execution_count": null,
   "id": "cb338622-e10e-4bf2-a9f2-6c8bd1bfbdab",
   "metadata": {},
   "outputs": [],
   "source": [
    "from CommonFunction import csFunc as cf\n",
    "testList1 = [1,2334432,5]"
   ]
  },
  {
   "cell_type": "raw",
   "id": "bf42262a-e98b-4398-acfb-b1bcec0f3165",
   "metadata": {},
   "source": [
    "#함수를 만든다.(최소/최대값 빼는거)"
   ]
  },
  {
   "cell_type": "code",
   "execution_count": 43,
   "id": "c4a3fa79-5e9e-4354-bc2b-2b5784e92b1b",
   "metadata": {},
   "outputs": [],
   "source": [
    "def minMaxAvg(testList):\n",
    "    \"\"\"\n",
    "    최소최대값을 뺀 평균\n",
    "    parameter : testList = 리스트\n",
    "    return : 리스트에서 값에서 최소 최대값을 뺀 평균을 반환한다.\n",
    "    \"\"\"\n",
    "    #testList = [1,5,7,2,6,8,2,5,11]\n",
    "\n",
    "    minValue = min(testList)\n",
    "    maxValue = max(testList)\n",
    "    print(\"최대값{} 최소값{}\".format(minValue, maxValue))\n",
    "\n",
    "    testList.remove(minValue)\n",
    "    testList.remove(maxValue)\n",
    "\n",
    "    average = 0\n",
    "\n",
    "    if len(testList) !=0 :\n",
    "        average = sum(testList)/len(testList)\n",
    "    else:\n",
    "        pass\n",
    "\n",
    "    return average"
   ]
  },
  {
   "cell_type": "code",
   "execution_count": 48,
   "id": "09be9cd9-12b9-405e-93e5-ca83de5390ba",
   "metadata": {},
   "outputs": [],
   "source": [
    "# 함수를 소수점 몇째짜리 내림하는 함수를 만든다."
   ]
  },
  {
   "cell_type": "code",
   "execution_count": null,
   "id": "4d84be64-c3e9-47c4-801f-4c9cf776b99f",
   "metadata": {},
   "outputs": [],
   "source": [
    "#둘째 자리에서 내림하는 함수"
   ]
  },
  {
   "cell_type": "code",
   "execution_count": 63,
   "id": "e0d9d4b3-a594-485c-873a-80265836aef6",
   "metadata": {},
   "outputs": [],
   "source": [
    "inValue = 10.37829891290\n",
    "\n",
    "roundPoint = 10**3\n",
    "\n",
    "step1 = inValue *1000\n",
    "\n",
    "step2 = int(step1)\n",
    "\n",
    "step3 = step2 / 1000\n",
    "\n",
    "step3"
   ]
  },
  {
   "cell_type": "code",
   "execution_count": 44,
   "id": "9795abbc-1d91-4a69-802f-4956880f747b",
   "metadata": {},
   "outputs": [],
   "source": [
    "list1 = [1,2,3,4,5]\n",
    "list2 = [7,8,9,10,11,12]\n",
    "list3 = [11,12,13,14,15,16]"
   ]
  },
  {
   "cell_type": "code",
   "execution_count": 46,
   "id": "5a01e5d1-a5ec-44d4-ba3a-a2996b740f87",
   "metadata": {},
   "outputs": [
    {
     "name": "stdout",
     "output_type": "stream",
     "text": [
      "최대값2 최소값4\n",
      "최대값8 최소값11\n",
      "최대값12 최소값15\n"
     ]
    }
   ],
   "source": [
    "list1Avg = minMaxAvg(list1)\n",
    "list2Avg = minMaxAvg(list2)\n",
    "list3Avg = minMaxAvg(list3)"
   ]
  },
  {
   "cell_type": "code",
   "execution_count": 47,
   "id": "e58796ec-4058-4cce-b488-c742a62013b4",
   "metadata": {},
   "outputs": [
    {
     "name": "stdout",
     "output_type": "stream",
     "text": [
      "최대값13 최소값14\n"
     ]
    }
   ],
   "source": [
    "listAvg = minMaxAvg(list3)"
   ]
  },
  {
   "cell_type": "code",
   "execution_count": 89,
   "id": "634a20ae-7b48-4f83-95c1-677854067456",
   "metadata": {},
   "outputs": [],
   "source": [
    "def csFuntion(inValue, inPoint):\n",
    "    #inValue = 10.37829891290\n",
    "    #inpoint = 4\n",
    "    roundPoint = 10**inPoint\n",
    "    step1 = inValue * roundPoint\n",
    "    \n",
    "    step2 = int( step1 )\n",
    "    \n",
    "    step3 = step2 / roundPoint\n",
    "    \n",
    "    return step3"
   ]
  },
  {
   "cell_type": "code",
   "execution_count": 93,
   "id": "ba08d267-c3b2-43dc-b14f-e9c2e6be44db",
   "metadata": {},
   "outputs": [
    {
     "data": {
      "text/plain": [
       "1323.345"
      ]
     },
     "execution_count": 93,
     "metadata": {},
     "output_type": "execute_result"
    }
   ],
   "source": [
    "csFuntion(1323.34567890, 3)"
   ]
  },
  {
   "cell_type": "code",
   "execution_count": 91,
   "id": "27fb4c77-0d1c-48c9-861a-f6652373aadd",
   "metadata": {},
   "outputs": [],
   "source": [
    "def csFuntion(inValue, inPoint=3):\n",
    "    #inValue = 10.37829891290\n",
    "    #inpoint = 4\n",
    "    roundPoint = 10**inPoint\n",
    "    step1 = inValue * roundPoint\n",
    "    \n",
    "    step2 = int( step1 )\n",
    "    \n",
    "    step3 = step2 / roundPoint\n",
    "    \n",
    "    return step3"
   ]
  },
  {
   "cell_type": "code",
   "execution_count": 92,
   "id": "2e751862-ca3b-4657-ad12-0fa217a2f179",
   "metadata": {},
   "outputs": [
    {
     "data": {
      "text/plain": [
       "1323.345"
      ]
     },
     "execution_count": 92,
     "metadata": {},
     "output_type": "execute_result"
    }
   ],
   "source": [
    "csFuntion(1323.34567890)"
   ]
  }
 ],
 "metadata": {
  "kernelspec": {
   "display_name": "Python 3 (ipykernel)",
   "language": "python",
   "name": "python3"
  },
  "language_info": {
   "codemirror_mode": {
    "name": "ipython",
    "version": 3
   },
   "file_extension": ".py",
   "mimetype": "text/x-python",
   "name": "python",
   "nbconvert_exporter": "python",
   "pygments_lexer": "ipython3",
   "version": "3.9.13"
  }
 },
 "nbformat": 4,
 "nbformat_minor": 5
}
