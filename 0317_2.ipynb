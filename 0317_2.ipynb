{
 "cells": [
  {
   "cell_type": "code",
   "execution_count": 5,
   "id": "8aced626-7219-4e96-8f3d-0629af172f4c",
   "metadata": {},
   "outputs": [],
   "source": [
    "import pandas as pd"
   ]
  },
  {
   "cell_type": "code",
   "execution_count": 6,
   "id": "72513784-7e07-4bef-a225-684c3ff6d7b9",
   "metadata": {},
   "outputs": [],
   "source": [
    "row3List = [\"장준하\",\"1234\",\"haiteam\"]\n",
    "row4List = [\"김어진\",\"2345\",\"eojin\"]"
   ]
  },
  {
   "cell_type": "code",
   "execution_count": 7,
   "id": "d1a7d676-3e22-4672-8a79-999485c65206",
   "metadata": {},
   "outputs": [
    {
     "data": {
      "text/html": [
       "<div>\n",
       "<style scoped>\n",
       "    .dataframe tbody tr th:only-of-type {\n",
       "        vertical-align: middle;\n",
       "    }\n",
       "\n",
       "    .dataframe tbody tr th {\n",
       "        vertical-align: top;\n",
       "    }\n",
       "\n",
       "    .dataframe thead th {\n",
       "        text-align: right;\n",
       "    }\n",
       "</style>\n",
       "<table border=\"1\" class=\"dataframe\">\n",
       "  <thead>\n",
       "    <tr style=\"text-align: right;\">\n",
       "      <th></th>\n",
       "      <th>이%%름</th>\n",
       "      <th>학번$$</th>\n",
       "      <th>이메일##@</th>\n",
       "    </tr>\n",
       "  </thead>\n",
       "  <tbody>\n",
       "    <tr>\n",
       "      <th>0</th>\n",
       "      <td>장준하</td>\n",
       "      <td>1234</td>\n",
       "      <td>haiteam</td>\n",
       "    </tr>\n",
       "    <tr>\n",
       "      <th>1</th>\n",
       "      <td>김어진</td>\n",
       "      <td>2345</td>\n",
       "      <td>eojin</td>\n",
       "    </tr>\n",
       "  </tbody>\n",
       "</table>\n",
       "</div>"
      ],
      "text/plain": [
       "  이%%름  학번$$   이메일##@\n",
       "0  장준하  1234  haiteam\n",
       "1  김어진  2345    eojin"
      ]
     },
     "execution_count": 7,
     "metadata": {},
     "output_type": "execute_result"
    }
   ],
   "source": [
    "testDF = pd.DataFrame([row3List, row4List])\n",
    "testDF.columns = [\"이%%름\",\"학번$$\",\"이메일##@\"]\n",
    "testDF"
   ]
  },
  {
   "cell_type": "code",
   "execution_count": 17,
   "id": "7670c6a7-8385-4014-b18c-a41acd569493",
   "metadata": {},
   "outputs": [
    {
     "data": {
      "text/plain": [
       "['이%%름', '학번$$', '이메일##@']"
      ]
     },
     "execution_count": 17,
     "metadata": {},
     "output_type": "execute_result"
    }
   ],
   "source": [
    "columnList = list(testDF.columns)\n",
    "columnList"
   ]
  },
  {
   "cell_type": "code",
   "execution_count": 23,
   "id": "0247979c-1f61-4ec2-a116-f0c71d982fe1",
   "metadata": {},
   "outputs": [
    {
     "data": {
      "text/plain": [
       "list"
      ]
     },
     "execution_count": 23,
     "metadata": {},
     "output_type": "execute_result"
    }
   ],
   "source": [
    "type(columnList)"
   ]
  },
  {
   "cell_type": "code",
   "execution_count": 28,
   "id": "2cf5093d-0649-4598-9e66-b07f443e1e3c",
   "metadata": {},
   "outputs": [
    {
     "data": {
      "text/plain": [
       "list"
      ]
     },
     "execution_count": 28,
     "metadata": {},
     "output_type": "execute_result"
    }
   ],
   "source": [
    "type(columnList)"
   ]
  },
  {
   "cell_type": "code",
   "execution_count": 30,
   "id": "21e89e2a-d16b-4218-934d-520e2b28cc6f",
   "metadata": {},
   "outputs": [
    {
     "data": {
      "text/plain": [
       "str"
      ]
     },
     "execution_count": 30,
     "metadata": {},
     "output_type": "execute_result"
    }
   ],
   "source": [
    "type(columnList[0])\n",
    "\n",
    "#re.sub(\"\",\"대체할문자\",\"대체하고 싶은 문자열\")"
   ]
  },
  {
   "cell_type": "code",
   "execution_count": 31,
   "id": "b91ed2b8-ce58-4ed8-80f0-22f2d1b0bf5f",
   "metadata": {},
   "outputs": [
    {
     "data": {
      "text/plain": [
       "'이름'"
      ]
     },
     "execution_count": 31,
     "metadata": {},
     "output_type": "execute_result"
    }
   ],
   "source": [
    "import re\n",
    "#re.sub(\"\",\"\",str)\n",
    "newcolumnList = re.sub(\"[%$#@]\",\"\",columnList[0])\n",
    "newcolumnList"
   ]
  },
  {
   "cell_type": "code",
   "execution_count": 33,
   "id": "d11db7e4-1497-450c-9751-d4fd9831994b",
   "metadata": {},
   "outputs": [
    {
     "data": {
      "text/plain": [
       "['이름', '학번', '이메일']"
      ]
     },
     "execution_count": 33,
     "metadata": {},
     "output_type": "execute_result"
    }
   ],
   "source": [
    "for i in range(len(columnList)):         #columnList개수만큼 for 문을 돌린다 i의 인데스는 0부터   columnList개수-1          \n",
    "    columnList[i] = re.sub(\"[%$#@]\",\"\",columnList[i])\n",
    "columnList"
   ]
  }
 ],
 "metadata": {
  "kernelspec": {
   "display_name": "Python 3 (ipykernel)",
   "language": "python",
   "name": "python3"
  },
  "language_info": {
   "codemirror_mode": {
    "name": "ipython",
    "version": 3
   },
   "file_extension": ".py",
   "mimetype": "text/x-python",
   "name": "python",
   "nbconvert_exporter": "python",
   "pygments_lexer": "ipython3",
   "version": "3.9.13"
  }
 },
 "nbformat": 4,
 "nbformat_minor": 5
}
