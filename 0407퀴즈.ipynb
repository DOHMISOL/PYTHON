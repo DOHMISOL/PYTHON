{
 "cells": [
  {
   "cell_type": "code",
   "execution_count": 26,
   "id": "9c41cba5-799d-4f7b-bdcd-67695907c16c",
   "metadata": {},
   "outputs": [
    {
     "ename": "ModuleNotFoundError",
     "evalue": "No module named 'pymysql'",
     "output_type": "error",
     "traceback": [
      "\u001b[1;31m---------------------------------------------------------------------------\u001b[0m",
      "\u001b[1;31mModuleNotFoundError\u001b[0m                       Traceback (most recent call last)",
      "\u001b[1;32m~\\AppData\\Local\\Temp\\ipykernel_7792\\2736459652.py\u001b[0m in \u001b[0;36m<module>\u001b[1;34m\u001b[0m\n\u001b[0;32m      2\u001b[0m \u001b[0mindata\u001b[0m \u001b[1;33m=\u001b[0m \u001b[0mpd\u001b[0m\u001b[1;33m.\u001b[0m\u001b[0mread_csv\u001b[0m\u001b[1;33m(\u001b[0m\u001b[1;34m\"../dataset/customerdata.csv\"\u001b[0m\u001b[1;33m)\u001b[0m\u001b[1;33m\u001b[0m\u001b[1;33m\u001b[0m\u001b[0m\n\u001b[0;32m      3\u001b[0m \u001b[1;32mimport\u001b[0m \u001b[0mpandas\u001b[0m \u001b[1;32mas\u001b[0m \u001b[0mpd\u001b[0m\u001b[1;33m\u001b[0m\u001b[1;33m\u001b[0m\u001b[0m\n\u001b[1;32m----> 4\u001b[1;33m \u001b[1;32mimport\u001b[0m \u001b[0mpymysql\u001b[0m\u001b[1;33m\u001b[0m\u001b[1;33m\u001b[0m\u001b[0m\n\u001b[0m\u001b[0;32m      5\u001b[0m \u001b[1;32mfrom\u001b[0m \u001b[0msqlalchemy\u001b[0m \u001b[1;32mimport\u001b[0m \u001b[0mcreate_engine\u001b[0m\u001b[1;33m\u001b[0m\u001b[1;33m\u001b[0m\u001b[0m\n\u001b[0;32m      6\u001b[0m \u001b[1;33m\u001b[0m\u001b[0m\n",
      "\u001b[1;31mModuleNotFoundError\u001b[0m: No module named 'pymysql'"
     ]
    }
   ],
   "source": [
    "import pandas as pd\n",
    "indata = pd.read_csv(\"../dataset/customerdata.csv\")\n",
    "import pandas as pd \n",
    "import pymysql \n",
    "from sqlalchemy import create_engine \n",
    "\n",
    "#이것만 customer_자기이름\n",
    "resultname = \"\"\n",
    "\n",
    "# DB 커넥션 열기\n",
    "inId = \"kopo\"\n",
    "inPw = \"kopo\"\n",
    "inIp = \"192.168.110.111\"\n",
    "inPort =\"3306\"\n",
    "inDbName = \"kopo\"\n",
    "engine_mariadb = create_engine('mysql+pymysql://{}:{}@{}:{}/{}'.format(inId,inPw,inIp,inPort,inDbName))\n",
    "indata.to_sql(name=resultname, con = engine_mariadb , if_exists = \"replace\" , index = False)"
   ]
  },
  {
   "cell_type": "code",
   "execution_count": null,
   "id": "4d5cca49-e323-4286-b6ca-f563b1be218d",
   "metadata": {
    "tags": []
   },
   "outputs": [
    {
     "ename": "ModuleNotFoundError",
     "evalue": "No module named 'pymysql'",
     "output_type": "error",
     "traceback": [
      "\u001b[1;31m---------------------------------------------------------------------------\u001b[0m",
      "\u001b[1;31mModuleNotFoundError\u001b[0m                       Traceback (most recent call last)",
      "\u001b[1;32m~\\AppData\\Local\\Temp\\ipykernel_7792\\996650954.py\u001b[0m in \u001b[0;36m<module>\u001b[1;34m\u001b[0m\n\u001b[0;32m      1\u001b[0m \u001b[1;31m#라이브러리선언 mysql할때 필요한것들\u001b[0m\u001b[1;33m\u001b[0m\u001b[1;33m\u001b[0m\u001b[0m\n\u001b[0;32m      2\u001b[0m \u001b[1;32mimport\u001b[0m \u001b[0mpandas\u001b[0m \u001b[1;32mas\u001b[0m \u001b[0mpd\u001b[0m\u001b[1;33m\u001b[0m\u001b[1;33m\u001b[0m\u001b[0m\n\u001b[1;32m----> 3\u001b[1;33m \u001b[1;32mimport\u001b[0m \u001b[0mpymysql\u001b[0m\u001b[1;33m\u001b[0m\u001b[1;33m\u001b[0m\u001b[0m\n\u001b[0m\u001b[0;32m      4\u001b[0m \u001b[1;32mfrom\u001b[0m \u001b[0msqlalchemy\u001b[0m \u001b[1;32mimport\u001b[0m \u001b[0mcreate_engine\u001b[0m\u001b[1;33m\u001b[0m\u001b[1;33m\u001b[0m\u001b[0m\n\u001b[0;32m      5\u001b[0m \u001b[1;33m\u001b[0m\u001b[0m\n",
      "\u001b[1;31mModuleNotFoundError\u001b[0m: No module named 'pymysql'"
     ]
    }
   ],
   "source": [
    "#라이브러리선언 mysql할때 필요한것들\n",
    "import pandas as pd\n",
    "import pymysql \n",
    "from sqlalchemy import create_engine \n",
    "\n",
    "#경로설정하여 파일을 불러온다\n",
    "indata = pd.read_csv(\"../dataset/customerdata.csv\")\n",
    "\n",
    "#이것만 customer_자기이름  customer_김한수 이런식으로\n",
    "resultname = \"\"\n",
    "\n",
    "# DB 커넥션 열기 DB아이디,비밀번호,서버,포트,DB이름\n",
    "inId = \"kopo\"\n",
    "inPw = \"kopo\"\n",
    "inIp = \"192.168.110.111\"\n",
    "inPort =\"3306\"\n",
    "inDbName = \"kopo\"\n",
    "\n",
    "#여기 포맷은 그대로쓰세요 바뀌는게 없음\n",
    "engine_mariadb = create_engine('mysql+pymysql://{}:{}@{}:{}/{}'.format(inId,inPw,inIp,inPort,inDbName))\n",
    "\n",
    "#내가읽어왔던 파일을 넣는부분\n",
    "indata.to_sql(name=resultname, con = engine_mariadb , if_exists = \"replace\" , index = False)"
   ]
  },
  {
   "cell_type": "code",
   "execution_count": 6,
   "id": "2ebd44bb-45cb-41a2-97ac-7fd7d8a85eb9",
   "metadata": {},
   "outputs": [
    {
     "ename": "ModuleNotFoundError",
     "evalue": "No module named 'pymysql'",
     "output_type": "error",
     "traceback": [
      "\u001b[1;31m---------------------------------------------------------------------------\u001b[0m",
      "\u001b[1;31mModuleNotFoundError\u001b[0m                       Traceback (most recent call last)",
      "\u001b[1;32m~\\AppData\\Local\\Temp\\ipykernel_14436\\2182502447.py\u001b[0m in \u001b[0;36m<module>\u001b[1;34m\u001b[0m\n\u001b[0;32m      5\u001b[0m \u001b[1;31m#pandas 패키지 불러오기\u001b[0m\u001b[1;33m\u001b[0m\u001b[1;33m\u001b[0m\u001b[0m\n\u001b[0;32m      6\u001b[0m \u001b[1;32mimport\u001b[0m \u001b[0mpandas\u001b[0m \u001b[1;32mas\u001b[0m \u001b[0mpd\u001b[0m\u001b[1;33m\u001b[0m\u001b[1;33m\u001b[0m\u001b[0m\n\u001b[1;32m----> 7\u001b[1;33m \u001b[1;32mimport\u001b[0m \u001b[0mpymysql\u001b[0m\u001b[1;33m\u001b[0m\u001b[1;33m\u001b[0m\u001b[0m\n\u001b[0m\u001b[0;32m      8\u001b[0m \u001b[1;32mfrom\u001b[0m \u001b[0msqlalchemy\u001b[0m \u001b[1;32mimport\u001b[0m \u001b[0mcreate_engine\u001b[0m\u001b[1;33m\u001b[0m\u001b[1;33m\u001b[0m\u001b[0m\n\u001b[0;32m      9\u001b[0m \u001b[1;33m\u001b[0m\u001b[0m\n",
      "\u001b[1;31mModuleNotFoundError\u001b[0m: No module named 'pymysql'"
     ]
    }
   ],
   "source": [
    "import pandas as pd\n",
    "selloutData = pd.read_csv(\"../dataset/customer.csv\")\n",
    "selloutData\n",
    "\n",
    "#pandas 패키지 불러오기\n",
    "import pandas as pd \n",
    "import pymysql \n",
    "from sqlalchemy import create_engine \n",
    "\n",
    "inId = \"kopo\"\n",
    "inPw = \"kopo\"\n",
    "inIp = \"192.168.110.111\"\n",
    "inPort =\"3306\"\n",
    "inDbName = \"kopo\"\n",
    "\n",
    "engine_mariadb = create_engine('mysql+pymysql://{}:{}@{}:{}/{}'.format(inId,inPw,inIp,inPort,inDbName))\n",
    "selloutData.to_sql(name=\"customer_도미솔\", con= engine_mariadb, if_exists=\"replace\", index = False)"
   ]
  },
  {
   "cell_type": "code",
   "execution_count": null,
   "id": "7a3896f4-99d0-4c03-8b24-af5f4f60f748",
   "metadata": {},
   "outputs": [],
   "source": []
  }
 ],
 "metadata": {
  "kernelspec": {
   "display_name": "Python 3 (ipykernel)",
   "language": "python",
   "name": "python3"
  },
  "language_info": {
   "codemirror_mode": {
    "name": "ipython",
    "version": 3
   },
   "file_extension": ".py",
   "mimetype": "text/x-python",
   "name": "python",
   "nbconvert_exporter": "python",
   "pygments_lexer": "ipython3",
   "version": "3.9.13"
  }
 },
 "nbformat": 4,
 "nbformat_minor": 5
}
