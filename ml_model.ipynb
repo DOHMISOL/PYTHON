{
 "cells": [
  {
   "cell_type": "code",
   "execution_count": 83,
   "id": "cfe9019c-93a4-4dc7-8e29-2e7013071bfa",
   "metadata": {},
   "outputs": [],
   "source": [
    "### 라이브러리 선언\n",
    "\n",
    "#데이터 처리 라이브러리\n",
    "import pandas as pd\n",
    "#숫자 계산 라이브러리\n",
    "import numpy as np"
   ]
  },
  {
   "cell_type": "code",
   "execution_count": 84,
   "id": "dfd58ad7-f96d-46d6-bad8-1cf6a1a73ebc",
   "metadata": {
    "tags": []
   },
   "outputs": [],
   "source": [
    "# 머신러닝 라이브러리 tree(decision tree, ensemble randomforest...10개)\n",
    "from sklearn import tree,ensemble"
   ]
  },
  {
   "cell_type": "code",
   "execution_count": 85,
   "id": "9a4df0fb-a03e-4704-878f-713d2b47b674",
   "metadata": {
    "tags": []
   },
   "outputs": [],
   "source": [
    "# 머신러닝 라이브러리 svm(support vector machine, neighbors :knn)\n",
    "from sklearn import svm, neighbors"
   ]
  },
  {
   "cell_type": "code",
   "execution_count": 86,
   "id": "c270cc13-b75b-4755-9194-8f1a904552dd",
   "metadata": {
    "tags": []
   },
   "outputs": [],
   "source": [
    "# 머신러닝 시각화\n",
    "import seaborn as sns"
   ]
  },
  {
   "cell_type": "code",
   "execution_count": 87,
   "id": "0239ffc7-67d3-43ab-aec0-65917192664b",
   "metadata": {},
   "outputs": [],
   "source": [
    "# 데이터를 탐색하다 EDA Explore Data Analysis"
   ]
  },
  {
   "cell_type": "code",
   "execution_count": 88,
   "id": "e3b3d48a-c405-4a9f-a1f5-68212a06f1bf",
   "metadata": {},
   "outputs": [],
   "source": [
    "csData = pd.read_csv(\"../dataset/customer.csv\")"
   ]
  },
  {
   "cell_type": "code",
   "execution_count": 89,
   "id": "47e9ba42-1275-4de1-b4b7-ec884d2c45cf",
   "metadata": {},
   "outputs": [
    {
     "name": "stdout",
     "output_type": "stream",
     "text": [
      "<class 'pandas.core.frame.DataFrame'>\n",
      "RangeIndex: 20000 entries, 0 to 19999\n",
      "Data columns (total 3 columns):\n",
      " #   Column   Non-Null Count  Dtype \n",
      "---  ------   --------------  ----- \n",
      " 0   balance  20000 non-null  int64 \n",
      " 1   stock    20000 non-null  int64 \n",
      " 2   label    20000 non-null  object\n",
      "dtypes: int64(2), object(1)\n",
      "memory usage: 468.9+ KB\n"
     ]
    }
   ],
   "source": [
    "csData.info()"
   ]
  },
  {
   "cell_type": "code",
   "execution_count": 90,
   "id": "5b09e815-fc7f-4870-b943-7fc90f985b45",
   "metadata": {
    "tags": []
   },
   "outputs": [
    {
     "data": {
      "text/plain": [
       "0     normal\n",
       "1    diamond\n",
       "4        vip\n",
       "Name: label, dtype: object"
      ]
     },
     "execution_count": 90,
     "metadata": {},
     "output_type": "execute_result"
    }
   ],
   "source": [
    "csData.label.drop_duplicates()"
   ]
  },
  {
   "cell_type": "markdown",
   "id": "ee41ea6b-06f8-4b6d-84ad-00e566e6cfed",
   "metadata": {},
   "source": [
    "정답지별로 데이터가 50건 이상인지 확인!"
   ]
  },
  {
   "cell_type": "code",
   "execution_count": 91,
   "id": "8e1a01a2-0ec2-47a7-bfb6-5e7b5354cb71",
   "metadata": {
    "tags": []
   },
   "outputs": [
    {
     "data": {
      "text/plain": [
       "<AxesSubplot:xlabel='label', ylabel='count'>"
      ]
     },
     "execution_count": 91,
     "metadata": {},
     "output_type": "execute_result"
    },
    {
     "data": {
      "image/png": "[encoded data removed]",
      "text/plain": [
       "<Figure size 432x288 with 1 Axes>"
      ]
     },
     "metadata": {
      "needs_background": "light"
     },
     "output_type": "display_data"
    }
   ],
   "source": [
    "sns.countplot(data=csData, x=\"label\")"
   ]
  },
  {
   "cell_type": "markdown",
   "id": "c6ab6b26-7920-4abc-ac08-04be6e308850",
   "metadata": {},
   "source": [
    "### 1. 타입통합/숫자형 컬럼 변경"
   ]
  },
  {
   "cell_type": "code",
   "execution_count": 92,
   "id": "ebf00ec7-cdb0-4200-9dcb-bbde4484e05d",
   "metadata": {},
   "outputs": [],
   "source": [
    "### 1. 타입통합 스킵!"
   ]
  },
  {
   "cell_type": "code",
   "execution_count": 93,
   "id": "4db6811a-faf6-4272-a69a-4cc10a6d2899",
   "metadata": {},
   "outputs": [],
   "source": [
    "### 숫자형 컬럼 변경 스킵!"
   ]
  },
  {
   "cell_type": "code",
   "execution_count": 94,
   "id": "044e64dc-d274-4295-9e09-7bd548c7b08e",
   "metadata": {},
   "outputs": [],
   "source": [
    "# scaling  데이터의 높이를 동일하게 맞추자 "
   ]
  },
  {
   "cell_type": "code",
   "execution_count": 95,
   "id": "243cd85a-575d-4b53-a348-6ce28e6e81c6",
   "metadata": {
    "tags": []
   },
   "outputs": [
    {
     "ename": "NameError",
     "evalue": "name 'inData' is not defined",
     "output_type": "error",
     "traceback": [
      "\u001b[1;31m---------------------------------------------------------------------------\u001b[0m",
      "\u001b[1;31mNameError\u001b[0m                                 Traceback (most recent call last)",
      "\u001b[1;32m~\\AppData\\Local\\Temp/ipykernel_10028/1801507235.py\u001b[0m in \u001b[0;36m<module>\u001b[1;34m\u001b[0m\n\u001b[1;32m----> 1\u001b[1;33m \u001b[0minData\u001b[0m\u001b[1;33m\u001b[0m\u001b[1;33m\u001b[0m\u001b[0m\n\u001b[0m",
      "\u001b[1;31mNameError\u001b[0m: name 'inData' is not defined"
     ]
    }
   ],
   "source": [
    "inData"
   ]
  },
  {
   "cell_type": "code",
   "execution_count": 122,
   "id": "c2db888d-ddc7-42ce-9432-1b8606eaae1b",
   "metadata": {},
   "outputs": [
    {
     "data": {
      "text/plain": [
       "80000000"
      ]
     },
     "execution_count": 122,
     "metadata": {},
     "output_type": "execute_result"
    }
   ],
   "source": [
    "maxStockValue = csData.stock.max()\n",
    "maxStockValue"
   ]
  },
  {
   "cell_type": "code",
   "execution_count": 124,
   "id": "301289e0-9c9e-4466-8559-261f96470dc0",
   "metadata": {},
   "outputs": [],
   "source": [
    "csData[\"STOCK_SCALE\"] = csData.stock / maxStockValue"
   ]
  },
  {
   "cell_type": "code",
   "execution_count": 125,
   "id": "c5145f82-d518-4473-a9a1-42540767d4ac",
   "metadata": {},
   "outputs": [
    {
     "data": {
      "text/html": [
       "<div>\n",
       "<style scoped>\n",
       "    .dataframe tbody tr th:only-of-type {\n",
       "        vertical-align: middle;\n",
       "    }\n",
       "\n",
       "    .dataframe tbody tr th {\n",
       "        vertical-align: top;\n",
       "    }\n",
       "\n",
       "    .dataframe thead th {\n",
       "        text-align: right;\n",
       "    }\n",
       "</style>\n",
       "<table border=\"1\" class=\"dataframe\">\n",
       "  <thead>\n",
       "    <tr style=\"text-align: right;\">\n",
       "      <th></th>\n",
       "      <th>balance</th>\n",
       "      <th>stock</th>\n",
       "      <th>label</th>\n",
       "      <th>Label_MAP</th>\n",
       "      <th>STOCK_SCALE</th>\n",
       "    </tr>\n",
       "  </thead>\n",
       "  <tbody>\n",
       "    <tr>\n",
       "      <th>0</th>\n",
       "      <td>30000000</td>\n",
       "      <td>22500000</td>\n",
       "      <td>normal</td>\n",
       "      <td>1</td>\n",
       "      <td>0.281250</td>\n",
       "    </tr>\n",
       "    <tr>\n",
       "      <th>1</th>\n",
       "      <td>280000000</td>\n",
       "      <td>48000000</td>\n",
       "      <td>diamond</td>\n",
       "      <td>2</td>\n",
       "      <td>0.600000</td>\n",
       "    </tr>\n",
       "    <tr>\n",
       "      <th>2</th>\n",
       "      <td>300000000</td>\n",
       "      <td>40666666</td>\n",
       "      <td>diamond</td>\n",
       "      <td>2</td>\n",
       "      <td>0.508333</td>\n",
       "    </tr>\n",
       "    <tr>\n",
       "      <th>3</th>\n",
       "      <td>54000000</td>\n",
       "      <td>28000000</td>\n",
       "      <td>normal</td>\n",
       "      <td>1</td>\n",
       "      <td>0.350000</td>\n",
       "    </tr>\n",
       "    <tr>\n",
       "      <th>4</th>\n",
       "      <td>768000000</td>\n",
       "      <td>32000000</td>\n",
       "      <td>vip</td>\n",
       "      <td>3</td>\n",
       "      <td>0.400000</td>\n",
       "    </tr>\n",
       "    <tr>\n",
       "      <th>...</th>\n",
       "      <td>...</td>\n",
       "      <td>...</td>\n",
       "      <td>...</td>\n",
       "      <td>...</td>\n",
       "      <td>...</td>\n",
       "    </tr>\n",
       "    <tr>\n",
       "      <th>19995</th>\n",
       "      <td>628000000</td>\n",
       "      <td>44666666</td>\n",
       "      <td>diamond</td>\n",
       "      <td>2</td>\n",
       "      <td>0.558333</td>\n",
       "    </tr>\n",
       "    <tr>\n",
       "      <th>19996</th>\n",
       "      <td>276000000</td>\n",
       "      <td>20000000</td>\n",
       "      <td>normal</td>\n",
       "      <td>1</td>\n",
       "      <td>0.250000</td>\n",
       "    </tr>\n",
       "    <tr>\n",
       "      <th>19997</th>\n",
       "      <td>652000000</td>\n",
       "      <td>41333333</td>\n",
       "      <td>diamond</td>\n",
       "      <td>2</td>\n",
       "      <td>0.516667</td>\n",
       "    </tr>\n",
       "    <tr>\n",
       "      <th>19998</th>\n",
       "      <td>676000000</td>\n",
       "      <td>45333333</td>\n",
       "      <td>diamond</td>\n",
       "      <td>2</td>\n",
       "      <td>0.566667</td>\n",
       "    </tr>\n",
       "    <tr>\n",
       "      <th>19999</th>\n",
       "      <td>732000000</td>\n",
       "      <td>26000000</td>\n",
       "      <td>diamond</td>\n",
       "      <td>2</td>\n",
       "      <td>0.325000</td>\n",
       "    </tr>\n",
       "  </tbody>\n",
       "</table>\n",
       "<p>20000 rows × 5 columns</p>\n",
       "</div>"
      ],
      "text/plain": [
       "         balance     stock    label  Label_MAP  STOCK_SCALE\n",
       "0       30000000  22500000   normal          1     0.281250\n",
       "1      280000000  48000000  diamond          2     0.600000\n",
       "2      300000000  40666666  diamond          2     0.508333\n",
       "3       54000000  28000000   normal          1     0.350000\n",
       "4      768000000  32000000      vip          3     0.400000\n",
       "...          ...       ...      ...        ...          ...\n",
       "19995  628000000  44666666  diamond          2     0.558333\n",
       "19996  276000000  20000000   normal          1     0.250000\n",
       "19997  652000000  41333333  diamond          2     0.516667\n",
       "19998  676000000  45333333  diamond          2     0.566667\n",
       "19999  732000000  26000000  diamond          2     0.325000\n",
       "\n",
       "[20000 rows x 5 columns]"
      ]
     },
     "execution_count": 125,
     "metadata": {},
     "output_type": "execute_result"
    }
   ],
   "source": [
    "csData"
   ]
  },
  {
   "cell_type": "markdown",
   "id": "ab4bcd82-5b88-46fc-a403-329cd2cf5d2b",
   "metadata": {},
   "source": [
    "### 2. 특성 선정/ 데이터 불러오기"
   ]
  },
  {
   "cell_type": "code",
   "execution_count": 126,
   "id": "f1918d99-dfa6-4dc9-ada1-232eeb3d5246",
   "metadata": {},
   "outputs": [],
   "source": [
    "###특성선정"
   ]
  },
  {
   "cell_type": "code",
   "execution_count": 127,
   "id": "9130b10f-58ba-4a87-a466-f11605fde6bf",
   "metadata": {},
   "outputs": [],
   "source": [
    "csTypeMap = {\"normal\":1,\"diamond\":2,\"vip\":3}"
   ]
  },
  {
   "cell_type": "code",
   "execution_count": 128,
   "id": "19bcf248-04c4-4475-966b-803ae38e78e8",
   "metadata": {
    "tags": []
   },
   "outputs": [],
   "source": [
    "csData[\"Label_MAP\"] = csData.label.map(csTypeMap)"
   ]
  },
  {
   "cell_type": "code",
   "execution_count": 129,
   "id": "20873893-35cf-4b37-9aa6-e3077e9b7e75",
   "metadata": {
    "tags": []
   },
   "outputs": [],
   "source": [
    "corrDf = csData.corr()"
   ]
  },
  {
   "cell_type": "code",
   "execution_count": 130,
   "id": "2485d6cd-7ce8-42e3-8959-3f19b5ba43a3",
   "metadata": {},
   "outputs": [],
   "source": [
    "STDCORR = 0.5"
   ]
  },
  {
   "cell_type": "code",
   "execution_count": 131,
   "id": "bfdc838d-85b8-41d4-9ba4-2c35b2572aa6",
   "metadata": {
    "tags": []
   },
   "outputs": [],
   "source": [
    "features = list(corrDf.loc[(abs(corrDf[\"Label_MAP\"]) > STDCORR) & (abs(corrDf[\"Label_MAP\"]) != 1)].index)"
   ]
  },
  {
   "cell_type": "code",
   "execution_count": 132,
   "id": "5fe2dc42-686e-4290-a781-c5eec67e9036",
   "metadata": {},
   "outputs": [
    {
     "data": {
      "text/plain": [
       "['balance', 'stock', 'STOCK_SCALE']"
      ]
     },
     "execution_count": 132,
     "metadata": {},
     "output_type": "execute_result"
    }
   ],
   "source": [
    "features"
   ]
  },
  {
   "cell_type": "code",
   "execution_count": 133,
   "id": "f19b5a8a-52aa-4a28-9618-c27c3d4b9e89",
   "metadata": {
    "tags": []
   },
   "outputs": [],
   "source": [
    "label = [\"label\"]"
   ]
  },
  {
   "cell_type": "code",
   "execution_count": 134,
   "id": "cd61c58d-210e-4f8c-9813-fa85fbf017bc",
   "metadata": {},
   "outputs": [],
   "source": [
    "### 데이터 분리"
   ]
  },
  {
   "cell_type": "code",
   "execution_count": 135,
   "id": "26ddeec6-ce39-43f0-b65f-26cd2a3eef78",
   "metadata": {
    "tags": []
   },
   "outputs": [],
   "source": [
    "from sklearn.model_selection import train_test_split"
   ]
  },
  {
   "cell_type": "code",
   "execution_count": 136,
   "id": "0d2befcd-2fc5-458b-8de5-931043c4a755",
   "metadata": {
    "tags": []
   },
   "outputs": [],
   "source": [
    "trainingDataFeatures,\\\n",
    "testDataFeatures,\\\n",
    "trainingDataLabel,\\\n",
    "testDataLabel = train_test_split( csData.loc[:,features],\n",
    "                 csData.loc[:,label], \n",
    "                 test_size=0.3, random_state=5)"
   ]
  },
  {
   "cell_type": "code",
   "execution_count": 137,
   "id": "3e1ee846-a0b5-4b99-a461-7c36d03d4005",
   "metadata": {},
   "outputs": [
    {
     "name": "stdout",
     "output_type": "stream",
     "text": [
      "(14000, 3)\n",
      "(6000, 3)\n",
      "(14000, 1)\n",
      "(6000, 1)\n"
     ]
    }
   ],
   "source": [
    "print( trainingDataFeatures.shape )\n",
    "print( testDataFeatures.shape )\n",
    "print( trainingDataLabel.shape )\n",
    "print( testDataLabel.shape )"
   ]
  },
  {
   "cell_type": "markdown",
   "id": "1ec6a550-c9d2-4a63-b374-c5c46bc8ebbc",
   "metadata": {},
   "source": [
    "### 3. 모델 선언/학습"
   ]
  },
  {
   "cell_type": "code",
   "execution_count": 138,
   "id": "14e5851a-982d-4add-928d-ab9d293096bd",
   "metadata": {},
   "outputs": [],
   "source": [
    "svmModel = svm.SVR( C=1 )\n",
    "treeModel = tree.DecisionTreeClassifier( random_state=10 )\n",
    "rfModel = ensemble.RandomForestClassifier( random_state=5 )\n",
    "knnModel = neighbors.KNeighborsClassifier(n_neighbors=3)"
   ]
  },
  {
   "cell_type": "code",
   "execution_count": 139,
   "id": "922ebd34-1697-4114-8b29-dbe4db157856",
   "metadata": {},
   "outputs": [
    {
     "name": "stderr",
     "output_type": "stream",
     "text": [
      "C:\\Users\\SMART27\\Anaconda3\\lib\\site-packages\\sklearn\\utils\\validation.py:63: DataConversionWarning: A column-vector y was passed when a 1d array was expected. Please change the shape of y to (n_samples, ), for example using ravel().\n",
      "  return f(*args, **kwargs)\n"
     ]
    },
    {
     "ename": "ValueError",
     "evalue": "could not convert string to float: 'vip'",
     "output_type": "error",
     "traceback": [
      "\u001b[1;31m---------------------------------------------------------------------------\u001b[0m",
      "\u001b[1;31mValueError\u001b[0m                                Traceback (most recent call last)",
      "\u001b[1;32m~\\AppData\\Local\\Temp/ipykernel_10028/845696428.py\u001b[0m in \u001b[0;36m<module>\u001b[1;34m\u001b[0m\n\u001b[0;32m      1\u001b[0m \u001b[1;31m# x= 훈련 y=정답\u001b[0m\u001b[1;33m\u001b[0m\u001b[1;33m\u001b[0m\u001b[0m\n\u001b[1;32m----> 2\u001b[1;33m \u001b[0msvmModelFit\u001b[0m \u001b[1;33m=\u001b[0m \u001b[0msvmModel\u001b[0m\u001b[1;33m.\u001b[0m\u001b[0mfit\u001b[0m\u001b[1;33m(\u001b[0m\u001b[0mX\u001b[0m\u001b[1;33m=\u001b[0m\u001b[0mtrainingDataFeatures\u001b[0m\u001b[1;33m,\u001b[0m \u001b[0my\u001b[0m\u001b[1;33m=\u001b[0m\u001b[0mtrainingDataLabel\u001b[0m\u001b[1;33m)\u001b[0m\u001b[1;33m\u001b[0m\u001b[1;33m\u001b[0m\u001b[0m\n\u001b[0m\u001b[0;32m      3\u001b[0m \u001b[0mtreeModelFit\u001b[0m \u001b[1;33m=\u001b[0m \u001b[0mtreeModel\u001b[0m\u001b[1;33m.\u001b[0m\u001b[0mfit\u001b[0m\u001b[1;33m(\u001b[0m\u001b[0mX\u001b[0m\u001b[1;33m=\u001b[0m\u001b[0mtrainingDataFeatures\u001b[0m\u001b[1;33m,\u001b[0m \u001b[0my\u001b[0m\u001b[1;33m=\u001b[0m\u001b[0mtrainingDataLabel\u001b[0m\u001b[1;33m)\u001b[0m\u001b[1;33m\u001b[0m\u001b[1;33m\u001b[0m\u001b[0m\n\u001b[0;32m      4\u001b[0m \u001b[0mrfModelFit\u001b[0m \u001b[1;33m=\u001b[0m \u001b[0mrfModel\u001b[0m\u001b[1;33m.\u001b[0m\u001b[0mfit\u001b[0m\u001b[1;33m(\u001b[0m\u001b[0mX\u001b[0m\u001b[1;33m=\u001b[0m\u001b[0mtrainingDataFeatures\u001b[0m\u001b[1;33m,\u001b[0m \u001b[0my\u001b[0m\u001b[1;33m=\u001b[0m\u001b[0mtrainingDataLabel\u001b[0m\u001b[1;33m)\u001b[0m\u001b[1;33m\u001b[0m\u001b[1;33m\u001b[0m\u001b[0m\n\u001b[0;32m      5\u001b[0m \u001b[0mknnModelFit\u001b[0m  \u001b[1;33m=\u001b[0m \u001b[0mknnModel\u001b[0m\u001b[1;33m.\u001b[0m\u001b[0mfit\u001b[0m\u001b[1;33m(\u001b[0m\u001b[0mX\u001b[0m\u001b[1;33m=\u001b[0m\u001b[0mtrainingDataFeatures\u001b[0m\u001b[1;33m,\u001b[0m \u001b[0my\u001b[0m\u001b[1;33m=\u001b[0m\u001b[0mtrainingDataLabel\u001b[0m\u001b[1;33m)\u001b[0m\u001b[1;33m\u001b[0m\u001b[1;33m\u001b[0m\u001b[0m\n",
      "\u001b[1;32m~\\Anaconda3\\lib\\site-packages\\sklearn\\svm\\_base.py\u001b[0m in \u001b[0;36mfit\u001b[1;34m(self, X, y, sample_weight)\u001b[0m\n\u001b[0;32m    171\u001b[0m                                        accept_large_sparse=False)\n\u001b[0;32m    172\u001b[0m \u001b[1;33m\u001b[0m\u001b[0m\n\u001b[1;32m--> 173\u001b[1;33m         \u001b[0my\u001b[0m \u001b[1;33m=\u001b[0m \u001b[0mself\u001b[0m\u001b[1;33m.\u001b[0m\u001b[0m_validate_targets\u001b[0m\u001b[1;33m(\u001b[0m\u001b[0my\u001b[0m\u001b[1;33m)\u001b[0m\u001b[1;33m\u001b[0m\u001b[1;33m\u001b[0m\u001b[0m\n\u001b[0m\u001b[0;32m    174\u001b[0m \u001b[1;33m\u001b[0m\u001b[0m\n\u001b[0;32m    175\u001b[0m         sample_weight = np.asarray([]\n",
      "\u001b[1;32m~\\Anaconda3\\lib\\site-packages\\sklearn\\svm\\_base.py\u001b[0m in \u001b[0;36m_validate_targets\u001b[1;34m(self, y)\u001b[0m\n\u001b[0;32m    248\u001b[0m         \u001b[1;31m# Regression models should not have a class_weight_ attribute.\u001b[0m\u001b[1;33m\u001b[0m\u001b[1;33m\u001b[0m\u001b[0m\n\u001b[0;32m    249\u001b[0m         \u001b[0mself\u001b[0m\u001b[1;33m.\u001b[0m\u001b[0mclass_weight_\u001b[0m \u001b[1;33m=\u001b[0m \u001b[0mnp\u001b[0m\u001b[1;33m.\u001b[0m\u001b[0mempty\u001b[0m\u001b[1;33m(\u001b[0m\u001b[1;36m0\u001b[0m\u001b[1;33m)\u001b[0m\u001b[1;33m\u001b[0m\u001b[1;33m\u001b[0m\u001b[0m\n\u001b[1;32m--> 250\u001b[1;33m         \u001b[1;32mreturn\u001b[0m \u001b[0mcolumn_or_1d\u001b[0m\u001b[1;33m(\u001b[0m\u001b[0my\u001b[0m\u001b[1;33m,\u001b[0m \u001b[0mwarn\u001b[0m\u001b[1;33m=\u001b[0m\u001b[1;32mTrue\u001b[0m\u001b[1;33m)\u001b[0m\u001b[1;33m.\u001b[0m\u001b[0mastype\u001b[0m\u001b[1;33m(\u001b[0m\u001b[0mnp\u001b[0m\u001b[1;33m.\u001b[0m\u001b[0mfloat64\u001b[0m\u001b[1;33m,\u001b[0m \u001b[0mcopy\u001b[0m\u001b[1;33m=\u001b[0m\u001b[1;32mFalse\u001b[0m\u001b[1;33m)\u001b[0m\u001b[1;33m\u001b[0m\u001b[1;33m\u001b[0m\u001b[0m\n\u001b[0m\u001b[0;32m    251\u001b[0m \u001b[1;33m\u001b[0m\u001b[0m\n\u001b[0;32m    252\u001b[0m     \u001b[1;32mdef\u001b[0m \u001b[0m_warn_from_fit_status\u001b[0m\u001b[1;33m(\u001b[0m\u001b[0mself\u001b[0m\u001b[1;33m)\u001b[0m\u001b[1;33m:\u001b[0m\u001b[1;33m\u001b[0m\u001b[1;33m\u001b[0m\u001b[0m\n",
      "\u001b[1;31mValueError\u001b[0m: could not convert string to float: 'vip'"
     ]
    }
   ],
   "source": [
    "# x= 훈련 y=정답\n",
    "svmModelFit = svmModel.fit(X=trainingDataFeatures, y=trainingDataLabel)\n",
    "treeModelFit = treeModel.fit(X=trainingDataFeatures, y=trainingDataLabel)\n",
    "rfModelFit = rfModel.fit(X=trainingDataFeatures, y=trainingDataLabel)\n",
    "knnModelFit  = knnModel.fit(X=trainingDataFeatures, y=trainingDataLabel)"
   ]
  },
  {
   "cell_type": "markdown",
   "id": "a2d52d50-7623-481e-b555-8eab4e0ec7f6",
   "metadata": {},
   "source": [
    "### 4. 예측 "
   ]
  },
  {
   "cell_type": "code",
   "execution_count": 140,
   "id": "a4c4a7e9-fba5-4f85-9bfd-f310abfe08f6",
   "metadata": {},
   "outputs": [
    {
     "ename": "NameError",
     "evalue": "name 'svmModelFit' is not defined",
     "output_type": "error",
     "traceback": [
      "\u001b[1;31m---------------------------------------------------------------------------\u001b[0m",
      "\u001b[1;31mNameError\u001b[0m                                 Traceback (most recent call last)",
      "\u001b[1;32m~\\AppData\\Local\\Temp/ipykernel_10028/3227689863.py\u001b[0m in \u001b[0;36m<module>\u001b[1;34m\u001b[0m\n\u001b[1;32m----> 1\u001b[1;33m \u001b[0msvmPredict\u001b[0m \u001b[1;33m=\u001b[0m \u001b[0msvmModelFit\u001b[0m\u001b[1;33m.\u001b[0m\u001b[0mpredict\u001b[0m\u001b[1;33m(\u001b[0m\u001b[0mtrainingDataFeatures\u001b[0m\u001b[1;33m)\u001b[0m\u001b[1;33m\u001b[0m\u001b[1;33m\u001b[0m\u001b[0m\n\u001b[0m\u001b[0;32m      2\u001b[0m \u001b[0mdtPredict\u001b[0m \u001b[1;33m=\u001b[0m \u001b[0mtreeModelFit\u001b[0m\u001b[1;33m.\u001b[0m\u001b[0mpredict\u001b[0m\u001b[1;33m(\u001b[0m\u001b[0mtrainingDataFeatures\u001b[0m\u001b[1;33m)\u001b[0m\u001b[1;33m\u001b[0m\u001b[1;33m\u001b[0m\u001b[0m\n\u001b[0;32m      3\u001b[0m \u001b[0mrfPredict\u001b[0m \u001b[1;33m=\u001b[0m \u001b[0mrfModelFit\u001b[0m\u001b[1;33m.\u001b[0m\u001b[0mpredict\u001b[0m\u001b[1;33m(\u001b[0m\u001b[0mtrainingDataFeatures\u001b[0m\u001b[1;33m)\u001b[0m\u001b[1;33m\u001b[0m\u001b[1;33m\u001b[0m\u001b[0m\n\u001b[0;32m      4\u001b[0m \u001b[0mknnPredict\u001b[0m \u001b[1;33m=\u001b[0m \u001b[0mknnModelFit\u001b[0m\u001b[1;33m.\u001b[0m\u001b[0mpredict\u001b[0m\u001b[1;33m(\u001b[0m\u001b[0mtrainingDataFeatures\u001b[0m\u001b[1;33m)\u001b[0m\u001b[1;33m\u001b[0m\u001b[1;33m\u001b[0m\u001b[0m\n",
      "\u001b[1;31mNameError\u001b[0m: name 'svmModelFit' is not defined"
     ]
    }
   ],
   "source": [
    "svmPredict = svmModelFit.predict(trainingDataFeatures)\n",
    "dtPredict = treeModelFit.predict(trainingDataFeatures)\n",
    "rfPredict = rfModelFit.predict(trainingDataFeatures)\n",
    "knnPredict = knnModelFit.predict(trainingDataFeatures)"
   ]
  },
  {
   "cell_type": "markdown",
   "id": "2d36baaf-abc3-45ff-80a5-1f54493b7398",
   "metadata": {},
   "source": [
    "### 5. 데이터정리"
   ]
  },
  {
   "cell_type": "code",
   "execution_count": 141,
   "id": "c108f5ab-75b1-48b4-a71e-82d7b6867584",
   "metadata": {
    "tags": []
   },
   "outputs": [
    {
     "ename": "NameError",
     "evalue": "name 'svmPredict' is not defined",
     "output_type": "error",
     "traceback": [
      "\u001b[1;31m---------------------------------------------------------------------------\u001b[0m",
      "\u001b[1;31mNameError\u001b[0m                                 Traceback (most recent call last)",
      "\u001b[1;32m~\\AppData\\Local\\Temp/ipykernel_10028/3149527836.py\u001b[0m in \u001b[0;36m<module>\u001b[1;34m\u001b[0m\n\u001b[1;32m----> 1\u001b[1;33m \u001b[0mtestDataLabel\u001b[0m\u001b[1;33m[\u001b[0m\u001b[1;34m\"SVM_PREDICT\"\u001b[0m\u001b[1;33m]\u001b[0m \u001b[1;33m=\u001b[0m \u001b[0msvmPredict\u001b[0m\u001b[1;33m\u001b[0m\u001b[1;33m\u001b[0m\u001b[0m\n\u001b[0m\u001b[0;32m      2\u001b[0m \u001b[0mtestDataLabel\u001b[0m\u001b[1;33m[\u001b[0m\u001b[1;34m\"DT_PREDICT\"\u001b[0m\u001b[1;33m]\u001b[0m \u001b[1;33m=\u001b[0m \u001b[0mdtPredict\u001b[0m\u001b[1;33m\u001b[0m\u001b[1;33m\u001b[0m\u001b[0m\n\u001b[0;32m      3\u001b[0m \u001b[0mtestDataLabel\u001b[0m\u001b[1;33m[\u001b[0m\u001b[1;34m\"RF_PREDICT\"\u001b[0m\u001b[1;33m]\u001b[0m \u001b[1;33m=\u001b[0m \u001b[0mrfPredict\u001b[0m\u001b[1;33m\u001b[0m\u001b[1;33m\u001b[0m\u001b[0m\n\u001b[0;32m      4\u001b[0m \u001b[0mtestDataLabel\u001b[0m\u001b[1;33m[\u001b[0m\u001b[1;34m\"KNN_PREDICT\"\u001b[0m\u001b[1;33m]\u001b[0m \u001b[1;33m=\u001b[0m \u001b[0mknnPredict\u001b[0m\u001b[1;33m\u001b[0m\u001b[1;33m\u001b[0m\u001b[0m\n",
      "\u001b[1;31mNameError\u001b[0m: name 'svmPredict' is not defined"
     ]
    }
   ],
   "source": [
    "testDataLabel[\"SVM_PREDICT\"] = svmPredict\n",
    "testDataLabel[\"DT_PREDICT\"] = dtPredict\n",
    "testDataLabel[\"RF_PREDICT\"] = rfPredict\n",
    "testDataLabel[\"KNN_PREDICT\"] = knnPredict"
   ]
  },
  {
   "cell_type": "code",
   "execution_count": 142,
   "id": "ac092e8d-3d86-4083-b503-c03237469454",
   "metadata": {},
   "outputs": [
    {
     "ename": "NameError",
     "evalue": "name 'testData' is not defined",
     "output_type": "error",
     "traceback": [
      "\u001b[1;31m---------------------------------------------------------------------------\u001b[0m",
      "\u001b[1;31mNameError\u001b[0m                                 Traceback (most recent call last)",
      "\u001b[1;32m~\\AppData\\Local\\Temp/ipykernel_10028/2613437205.py\u001b[0m in \u001b[0;36m<module>\u001b[1;34m\u001b[0m\n\u001b[1;32m----> 1\u001b[1;33m \u001b[0mtestData\u001b[0m\u001b[1;33m.\u001b[0m\u001b[0mto_csv\u001b[0m\u001b[1;33m(\u001b[0m\u001b[1;34m\"../categoryresult.csv\"\u001b[0m\u001b[1;33m)\u001b[0m\u001b[1;33m\u001b[0m\u001b[1;33m\u001b[0m\u001b[0m\n\u001b[0m",
      "\u001b[1;31mNameError\u001b[0m: name 'testData' is not defined"
     ]
    }
   ],
   "source": [
    "testData.to_csv(\"../categoryresult.csv\")"
   ]
  },
  {
   "cell_type": "code",
   "execution_count": 115,
   "id": "d8957eb5-1257-41fc-af04-54eca3c5cd98",
   "metadata": {
    "tags": []
   },
   "outputs": [],
   "source": [
    "from sklearn.metrics import classification_report"
   ]
  },
  {
   "cell_type": "code",
   "execution_count": 116,
   "id": "b8dd7318-52c6-4969-9748-431c0b49fc49",
   "metadata": {
    "tags": []
   },
   "outputs": [],
   "source": [
    "from sklearn.metrics import accuracy_score"
   ]
  },
  {
   "cell_type": "code",
   "execution_count": 117,
   "id": "6f753111-d250-4d61-bc4b-247fd2f23f35",
   "metadata": {
    "tags": []
   },
   "outputs": [
    {
     "ename": "AttributeError",
     "evalue": "'DataFrame' object has no attribute 'SVM_PREDICT'",
     "output_type": "error",
     "traceback": [
      "\u001b[1;31m---------------------------------------------------------------------------\u001b[0m",
      "\u001b[1;31mAttributeError\u001b[0m                            Traceback (most recent call last)",
      "\u001b[1;32m~\\AppData\\Local\\Temp/ipykernel_10028/2084799134.py\u001b[0m in \u001b[0;36m<module>\u001b[1;34m\u001b[0m\n\u001b[0;32m      1\u001b[0m svmAccuracy = accuracy_score(y_true = testDataLabel.label,\n\u001b[1;32m----> 2\u001b[1;33m                      y_pred = testDataLabel.SVM_PREDICT)\n\u001b[0m\u001b[0;32m      3\u001b[0m dtAccuracy = accuracy_score(y_true = testDataLabel.label,\n\u001b[0;32m      4\u001b[0m                      y_pred = testDataLabel.SVM_PREDICT)\n\u001b[0;32m      5\u001b[0m rfAccuracy = accuracy_score(y_true = testDataLabel.label,\n",
      "\u001b[1;32m~\\Anaconda3\\lib\\site-packages\\pandas\\core\\generic.py\u001b[0m in \u001b[0;36m__getattr__\u001b[1;34m(self, name)\u001b[0m\n\u001b[0;32m   5485\u001b[0m         ):\n\u001b[0;32m   5486\u001b[0m             \u001b[1;32mreturn\u001b[0m \u001b[0mself\u001b[0m\u001b[1;33m[\u001b[0m\u001b[0mname\u001b[0m\u001b[1;33m]\u001b[0m\u001b[1;33m\u001b[0m\u001b[1;33m\u001b[0m\u001b[0m\n\u001b[1;32m-> 5487\u001b[1;33m         \u001b[1;32mreturn\u001b[0m \u001b[0mobject\u001b[0m\u001b[1;33m.\u001b[0m\u001b[0m__getattribute__\u001b[0m\u001b[1;33m(\u001b[0m\u001b[0mself\u001b[0m\u001b[1;33m,\u001b[0m \u001b[0mname\u001b[0m\u001b[1;33m)\u001b[0m\u001b[1;33m\u001b[0m\u001b[1;33m\u001b[0m\u001b[0m\n\u001b[0m\u001b[0;32m   5488\u001b[0m \u001b[1;33m\u001b[0m\u001b[0m\n\u001b[0;32m   5489\u001b[0m     \u001b[1;32mdef\u001b[0m \u001b[0m__setattr__\u001b[0m\u001b[1;33m(\u001b[0m\u001b[0mself\u001b[0m\u001b[1;33m,\u001b[0m \u001b[0mname\u001b[0m\u001b[1;33m:\u001b[0m \u001b[0mstr\u001b[0m\u001b[1;33m,\u001b[0m \u001b[0mvalue\u001b[0m\u001b[1;33m)\u001b[0m \u001b[1;33m->\u001b[0m \u001b[1;32mNone\u001b[0m\u001b[1;33m:\u001b[0m\u001b[1;33m\u001b[0m\u001b[1;33m\u001b[0m\u001b[0m\n",
      "\u001b[1;31mAttributeError\u001b[0m: 'DataFrame' object has no attribute 'SVM_PREDICT'"
     ]
    }
   ],
   "source": [
    "svmAccuracy = accuracy_score(y_true = testDataLabel.label,\n",
    "                     y_pred = testDataLabel.SVM_PREDICT)\n",
    "dtAccuracy = accuracy_score(y_true = testDataLabel.label,\n",
    "                     y_pred = testDataLabel.SVM_PREDICT)\n",
    "rfAccuracy = accuracy_score(y_true = testDataLabel.label,\n",
    "                     y_pred = testDataLabel.SVM_PREDICT)\n",
    "knnAccuracy = accuracy_score(y_true = testDataLabel.label,\n",
    "                     y_pred = testDataLabel.SVM_PREDICT)"
   ]
  },
  {
   "cell_type": "code",
   "execution_count": 118,
   "id": "bae9b148-19c6-4603-8702-577149eeb767",
   "metadata": {},
   "outputs": [
    {
     "ename": "NameError",
     "evalue": "name 'svmAccuracy' is not defined",
     "output_type": "error",
     "traceback": [
      "\u001b[1;31m---------------------------------------------------------------------------\u001b[0m",
      "\u001b[1;31mNameError\u001b[0m                                 Traceback (most recent call last)",
      "\u001b[1;32m~\\AppData\\Local\\Temp/ipykernel_10028/4234647873.py\u001b[0m in \u001b[0;36m<module>\u001b[1;34m\u001b[0m\n\u001b[1;32m----> 1\u001b[1;33m \u001b[0mpd\u001b[0m\u001b[1;33m.\u001b[0m\u001b[0mDataFrame\u001b[0m\u001b[1;33m(\u001b[0m \u001b[1;33m[\u001b[0m\u001b[1;33m[\u001b[0m\u001b[0msvmAccuracy\u001b[0m\u001b[1;33m,\u001b[0m \u001b[0mdtAccuracy\u001b[0m\u001b[1;33m,\u001b[0m \u001b[0mrfAccuracy\u001b[0m\u001b[1;33m,\u001b[0m \u001b[0mknnAccuracy\u001b[0m\u001b[1;33m]\u001b[0m\u001b[1;33m]\u001b[0m\u001b[1;33m,\u001b[0m \u001b[0mcolumns\u001b[0m \u001b[1;33m=\u001b[0m \u001b[1;33m[\u001b[0m\u001b[1;34m\"SVM\"\u001b[0m\u001b[1;33m,\u001b[0m \u001b[1;34m\"DT\"\u001b[0m\u001b[1;33m,\u001b[0m \u001b[1;34m\"RF\"\u001b[0m\u001b[1;33m,\u001b[0m \u001b[1;34m\"KNN\"\u001b[0m\u001b[1;33m]\u001b[0m \u001b[1;33m)\u001b[0m\u001b[1;33m\u001b[0m\u001b[1;33m\u001b[0m\u001b[0m\n\u001b[0m",
      "\u001b[1;31mNameError\u001b[0m: name 'svmAccuracy' is not defined"
     ]
    }
   ],
   "source": [
    "pd.DataFrame( [[svmAccuracy, dtAccuracy, rfAccuracy, knnAccuracy]], columns = [\"SVM\", \"DT\", \"RF\", \"KNN\"] )"
   ]
  },
  {
   "cell_type": "code",
   "execution_count": 119,
   "id": "314f37a3-2b20-4b09-a184-5ff5932bef12",
   "metadata": {},
   "outputs": [
    {
     "ename": "NameError",
     "evalue": "name 'classfication_report' is not defined",
     "output_type": "error",
     "traceback": [
      "\u001b[1;31m---------------------------------------------------------------------------\u001b[0m",
      "\u001b[1;31mNameError\u001b[0m                                 Traceback (most recent call last)",
      "\u001b[1;32m~\\AppData\\Local\\Temp/ipykernel_10028/1721138030.py\u001b[0m in \u001b[0;36m<module>\u001b[1;34m\u001b[0m\n\u001b[1;32m----> 1\u001b[1;33m print( classfication_report(y_true = testDataLabel.label,\n\u001b[0m\u001b[0;32m      2\u001b[0m                      y_pred = testDataLabel.SVM_PREDICT) )\n",
      "\u001b[1;31mNameError\u001b[0m: name 'classfication_report' is not defined"
     ]
    }
   ],
   "source": [
    "print( classfication_report(y_true = testDataLabel.label,\n",
    "                     y_pred = testDataLabel.SVM_PREDICT) )"
   ]
  },
  {
   "cell_type": "code",
   "execution_count": 120,
   "id": "268f2821-0d06-4229-989e-649877c8f2c9",
   "metadata": {},
   "outputs": [],
   "source": [
    "###테스트해보기"
   ]
  },
  {
   "cell_type": "code",
   "execution_count": 121,
   "id": "657d77b4-48dd-473a-a6f2-4b665d25554a",
   "metadata": {},
   "outputs": [
    {
     "data": {
      "text/plain": [
       "['balance', 'stock']"
      ]
     },
     "execution_count": 121,
     "metadata": {},
     "output_type": "execute_result"
    }
   ],
   "source": [
    "features"
   ]
  },
  {
   "cell_type": "code",
   "execution_count": null,
   "id": "f77eceec-bc7f-4168-9903-b6bfd5678a21",
   "metadata": {},
   "outputs": [],
   "source": [
    "inBalance = 3000000\n",
    "inStock = 30000000\n",
    "testData = pd.DataFrame( [[inBalance, inBalance]] )"
   ]
  },
  {
   "cell_type": "code",
   "execution_count": null,
   "id": "9b699b5e-4c2d-486a-b0ad-18792bf9de07",
   "metadata": {},
   "outputs": [],
   "source": [
    "dtModelFit.predict(testData)"
   ]
  },
  {
   "cell_type": "code",
   "execution_count": null,
   "id": "77133840-e175-4575-a824-2d7e2491290e",
   "metadata": {},
   "outputs": [],
   "source": []
  },
  {
   "cell_type": "code",
   "execution_count": 1,
   "id": "e8f1d26a-e404-4d07-a30f-37e4af8544ce",
   "metadata": {},
   "outputs": [],
   "source": [
    "import pandas as pd"
   ]
  },
  {
   "cell_type": "markdown",
   "id": "0a518aeb-56aa-4622-b1fa-60da776bc015",
   "metadata": {},
   "source": [
    "### 1.타입통합 및 숫자형컬럼 추가"
   ]
  },
  {
   "cell_type": "code",
   "execution_count": 22,
   "id": "b82e6993-77b6-423a-a5ee-e4804bd8030b",
   "metadata": {},
   "outputs": [],
   "source": [
    "### 스킵"
   ]
  },
  {
   "cell_type": "markdown",
   "id": "99ae6462-4801-461c-a439-06868c7ce979",
   "metadata": {},
   "source": [
    "### 2. 모델"
   ]
  },
  {
   "cell_type": "code",
   "execution_count": 68,
   "id": "b3d04d29-210c-4232-8e75-730113b2a733",
   "metadata": {},
   "outputs": [],
   "source": [
    "from sklearn.cluster import KMeans"
   ]
  },
  {
   "cell_type": "code",
   "execution_count": 69,
   "id": "2f0accc9-86d6-41b3-817f-f68ac9018900",
   "metadata": {
    "tags": []
   },
   "outputs": [],
   "source": [
    "stData = pd.read_csv(\"../dataset/student_middle.csv\")"
   ]
  },
  {
   "cell_type": "code",
   "execution_count": 70,
   "id": "63775a6a-f861-465e-970a-90eb141b37c6",
   "metadata": {},
   "outputs": [],
   "source": [
    "kmeanModel = KMeans(random_state=11, n_clusters=2)"
   ]
  },
  {
   "cell_type": "code",
   "execution_count": 71,
   "id": "10f552ac-a60c-45c9-92bb-4fc6e11011ad",
   "metadata": {},
   "outputs": [],
   "source": [
    "features=[\"SW\",\"DB\",\"AND\"]"
   ]
  },
  {
   "cell_type": "code",
   "execution_count": 72,
   "id": "29e4e308-fc83-4a1c-998a-a11b5895b081",
   "metadata": {},
   "outputs": [],
   "source": [
    "stDataTarget = stData.loc[:,features]"
   ]
  },
  {
   "cell_type": "markdown",
   "id": "80aed91a-a28f-465b-ad9d-773e379c2f67",
   "metadata": {},
   "source": [
    "### 자율학습 예측"
   ]
  },
  {
   "cell_type": "code",
   "execution_count": 73,
   "id": "3b07d45c-01f8-43ff-87f1-55701d940a53",
   "metadata": {},
   "outputs": [],
   "source": [
    "kmeanModelFit = kmeanModel.fit(stDataTarget)"
   ]
  },
  {
   "cell_type": "code",
   "execution_count": 74,
   "id": "ca258b6a-19ea-44f1-94a7-d8d67ed60c68",
   "metadata": {},
   "outputs": [
    {
     "data": {
      "text/plain": [
       "KMeans(n_clusters=2, random_state=11)"
      ]
     },
     "execution_count": 74,
     "metadata": {},
     "output_type": "execute_result"
    }
   ],
   "source": [
    "kmeanModelFit"
   ]
  },
  {
   "cell_type": "code",
   "execution_count": 75,
   "id": "e58ea683-98e1-4610-acdc-7947c637a6f3",
   "metadata": {},
   "outputs": [
    {
     "data": {
      "text/plain": [
       "array([1, 1, 1, 1, 1, 0, 1, 0, 1, 1, 0, 1, 1, 0, 0, 0, 1, 0, 0, 0, 0, 0,\n",
       "       0, 0, 0, 0])"
      ]
     },
     "execution_count": 75,
     "metadata": {},
     "output_type": "execute_result"
    }
   ],
   "source": [
    "kmeanModelFit.predict(stDataTarget)"
   ]
  },
  {
   "cell_type": "code",
   "execution_count": 76,
   "id": "9e886b91-76b7-4103-be5c-7209da9d5cd3",
   "metadata": {},
   "outputs": [],
   "source": [
    "predictCluster = kmeanModel.fit_predict(stDataTarget)"
   ]
  },
  {
   "cell_type": "code",
   "execution_count": 77,
   "id": "539a5c4a-5c36-4a2e-92e6-059de342022e",
   "metadata": {},
   "outputs": [],
   "source": [
    "stData[\"CLUSTER\"] = predictCluster"
   ]
  },
  {
   "cell_type": "code",
   "execution_count": 78,
   "id": "94502e5e-f3e9-422f-bc40-f6a00ebd4b47",
   "metadata": {},
   "outputs": [],
   "source": [
    "import seaborn as sns"
   ]
  },
  {
   "cell_type": "code",
   "execution_count": 79,
   "id": "b73df357-affe-4063-b80d-eb185b83e151",
   "metadata": {},
   "outputs": [
    {
     "data": {
      "text/plain": [
       "<seaborn.axisgrid.FacetGrid at 0x25fb7a757c0>"
      ]
     },
     "execution_count": 79,
     "metadata": {},
     "output_type": "execute_result"
    },
    {
     "data": {
      "image/png": "[encoded data removed]",
      "text/plain": [
       "<Figure size 412.625x360 with 1 Axes>"
      ]
     },
     "metadata": {
      "needs_background": "light"
     },
     "output_type": "display_data"
    }
   ],
   "source": [
    "sns.lmplot(data=stData, x=\"SW\", y=\"AND\", hue=\"CLUSTER\",fit_reg=False)"
   ]
  },
  {
   "cell_type": "code",
   "execution_count": 37,
   "id": "ed12a7a9-ab0b-483c-bc8f-f1e081debcaf",
   "metadata": {
    "tags": []
   },
   "outputs": [
    {
     "data": {
      "text/html": [
       "<div>\n",
       "<style scoped>\n",
       "    .dataframe tbody tr th:only-of-type {\n",
       "        vertical-align: middle;\n",
       "    }\n",
       "\n",
       "    .dataframe tbody tr th {\n",
       "        vertical-align: top;\n",
       "    }\n",
       "\n",
       "    .dataframe thead th {\n",
       "        text-align: right;\n",
       "    }\n",
       "</style>\n",
       "<table border=\"1\" class=\"dataframe\">\n",
       "  <thead>\n",
       "    <tr style=\"text-align: right;\">\n",
       "      <th></th>\n",
       "      <th>NAME</th>\n",
       "      <th>SW</th>\n",
       "      <th>DB</th>\n",
       "      <th>AND</th>\n",
       "      <th>CLUSTER</th>\n",
       "    </tr>\n",
       "  </thead>\n",
       "  <tbody>\n",
       "    <tr>\n",
       "      <th>0</th>\n",
       "      <td>ST0001</td>\n",
       "      <td>95</td>\n",
       "      <td>30</td>\n",
       "      <td>0</td>\n",
       "      <td>1</td>\n",
       "    </tr>\n",
       "    <tr>\n",
       "      <th>1</th>\n",
       "      <td>ST0002</td>\n",
       "      <td>50</td>\n",
       "      <td>50</td>\n",
       "      <td>0</td>\n",
       "      <td>1</td>\n",
       "    </tr>\n",
       "    <tr>\n",
       "      <th>2</th>\n",
       "      <td>ST0003</td>\n",
       "      <td>15</td>\n",
       "      <td>30</td>\n",
       "      <td>15</td>\n",
       "      <td>1</td>\n",
       "    </tr>\n",
       "    <tr>\n",
       "      <th>3</th>\n",
       "      <td>ST0004</td>\n",
       "      <td>90</td>\n",
       "      <td>50</td>\n",
       "      <td>20</td>\n",
       "      <td>1</td>\n",
       "    </tr>\n",
       "    <tr>\n",
       "      <th>4</th>\n",
       "      <td>ST0005</td>\n",
       "      <td>75</td>\n",
       "      <td>20</td>\n",
       "      <td>20</td>\n",
       "      <td>1</td>\n",
       "    </tr>\n",
       "    <tr>\n",
       "      <th>5</th>\n",
       "      <td>ST0006</td>\n",
       "      <td>100</td>\n",
       "      <td>80</td>\n",
       "      <td>30</td>\n",
       "      <td>0</td>\n",
       "    </tr>\n",
       "    <tr>\n",
       "      <th>6</th>\n",
       "      <td>ST0007</td>\n",
       "      <td>15</td>\n",
       "      <td>10</td>\n",
       "      <td>30</td>\n",
       "      <td>1</td>\n",
       "    </tr>\n",
       "    <tr>\n",
       "      <th>7</th>\n",
       "      <td>ST0008</td>\n",
       "      <td>100</td>\n",
       "      <td>100</td>\n",
       "      <td>33</td>\n",
       "      <td>0</td>\n",
       "    </tr>\n",
       "    <tr>\n",
       "      <th>8</th>\n",
       "      <td>ST0009</td>\n",
       "      <td>65</td>\n",
       "      <td>60</td>\n",
       "      <td>35</td>\n",
       "      <td>1</td>\n",
       "    </tr>\n",
       "    <tr>\n",
       "      <th>9</th>\n",
       "      <td>ST0010</td>\n",
       "      <td>90</td>\n",
       "      <td>20</td>\n",
       "      <td>38</td>\n",
       "      <td>1</td>\n",
       "    </tr>\n",
       "    <tr>\n",
       "      <th>10</th>\n",
       "      <td>ST0011</td>\n",
       "      <td>100</td>\n",
       "      <td>70</td>\n",
       "      <td>43</td>\n",
       "      <td>0</td>\n",
       "    </tr>\n",
       "    <tr>\n",
       "      <th>11</th>\n",
       "      <td>ST0012</td>\n",
       "      <td>90</td>\n",
       "      <td>45</td>\n",
       "      <td>45</td>\n",
       "      <td>1</td>\n",
       "    </tr>\n",
       "    <tr>\n",
       "      <th>12</th>\n",
       "      <td>ST0013</td>\n",
       "      <td>90</td>\n",
       "      <td>60</td>\n",
       "      <td>47</td>\n",
       "      <td>1</td>\n",
       "    </tr>\n",
       "    <tr>\n",
       "      <th>13</th>\n",
       "      <td>ST0014</td>\n",
       "      <td>100</td>\n",
       "      <td>100</td>\n",
       "      <td>48</td>\n",
       "      <td>0</td>\n",
       "    </tr>\n",
       "    <tr>\n",
       "      <th>14</th>\n",
       "      <td>ST0015</td>\n",
       "      <td>75</td>\n",
       "      <td>80</td>\n",
       "      <td>49</td>\n",
       "      <td>0</td>\n",
       "    </tr>\n",
       "    <tr>\n",
       "      <th>15</th>\n",
       "      <td>ST0016</td>\n",
       "      <td>90</td>\n",
       "      <td>100</td>\n",
       "      <td>50</td>\n",
       "      <td>0</td>\n",
       "    </tr>\n",
       "    <tr>\n",
       "      <th>16</th>\n",
       "      <td>ST0017</td>\n",
       "      <td>100</td>\n",
       "      <td>30</td>\n",
       "      <td>50</td>\n",
       "      <td>1</td>\n",
       "    </tr>\n",
       "    <tr>\n",
       "      <th>17</th>\n",
       "      <td>ST0018</td>\n",
       "      <td>100</td>\n",
       "      <td>100</td>\n",
       "      <td>58</td>\n",
       "      <td>0</td>\n",
       "    </tr>\n",
       "    <tr>\n",
       "      <th>18</th>\n",
       "      <td>ST0019</td>\n",
       "      <td>100</td>\n",
       "      <td>100</td>\n",
       "      <td>60</td>\n",
       "      <td>0</td>\n",
       "    </tr>\n",
       "    <tr>\n",
       "      <th>19</th>\n",
       "      <td>ST0020</td>\n",
       "      <td>90</td>\n",
       "      <td>80</td>\n",
       "      <td>69</td>\n",
       "      <td>0</td>\n",
       "    </tr>\n",
       "    <tr>\n",
       "      <th>20</th>\n",
       "      <td>ST0021</td>\n",
       "      <td>100</td>\n",
       "      <td>100</td>\n",
       "      <td>75</td>\n",
       "      <td>0</td>\n",
       "    </tr>\n",
       "    <tr>\n",
       "      <th>21</th>\n",
       "      <td>ST0022</td>\n",
       "      <td>100</td>\n",
       "      <td>100</td>\n",
       "      <td>95</td>\n",
       "      <td>0</td>\n",
       "    </tr>\n",
       "    <tr>\n",
       "      <th>22</th>\n",
       "      <td>ST0023</td>\n",
       "      <td>100</td>\n",
       "      <td>100</td>\n",
       "      <td>96</td>\n",
       "      <td>0</td>\n",
       "    </tr>\n",
       "    <tr>\n",
       "      <th>23</th>\n",
       "      <td>ST0024</td>\n",
       "      <td>100</td>\n",
       "      <td>100</td>\n",
       "      <td>100</td>\n",
       "      <td>0</td>\n",
       "    </tr>\n",
       "    <tr>\n",
       "      <th>24</th>\n",
       "      <td>ST0025</td>\n",
       "      <td>90</td>\n",
       "      <td>100</td>\n",
       "      <td>100</td>\n",
       "      <td>0</td>\n",
       "    </tr>\n",
       "    <tr>\n",
       "      <th>25</th>\n",
       "      <td>ST0026</td>\n",
       "      <td>100</td>\n",
       "      <td>100</td>\n",
       "      <td>100</td>\n",
       "      <td>0</td>\n",
       "    </tr>\n",
       "  </tbody>\n",
       "</table>\n",
       "</div>"
      ],
      "text/plain": [
       "      NAME   SW   DB  AND  CLUSTER\n",
       "0   ST0001   95   30    0        1\n",
       "1   ST0002   50   50    0        1\n",
       "2   ST0003   15   30   15        1\n",
       "3   ST0004   90   50   20        1\n",
       "4   ST0005   75   20   20        1\n",
       "5   ST0006  100   80   30        0\n",
       "6   ST0007   15   10   30        1\n",
       "7   ST0008  100  100   33        0\n",
       "8   ST0009   65   60   35        1\n",
       "9   ST0010   90   20   38        1\n",
       "10  ST0011  100   70   43        0\n",
       "11  ST0012   90   45   45        1\n",
       "12  ST0013   90   60   47        1\n",
       "13  ST0014  100  100   48        0\n",
       "14  ST0015   75   80   49        0\n",
       "15  ST0016   90  100   50        0\n",
       "16  ST0017  100   30   50        1\n",
       "17  ST0018  100  100   58        0\n",
       "18  ST0019  100  100   60        0\n",
       "19  ST0020   90   80   69        0\n",
       "20  ST0021  100  100   75        0\n",
       "21  ST0022  100  100   95        0\n",
       "22  ST0023  100  100   96        0\n",
       "23  ST0024  100  100  100        0\n",
       "24  ST0025   90  100  100        0\n",
       "25  ST0026  100  100  100        0"
      ]
     },
     "execution_count": 37,
     "metadata": {},
     "output_type": "execute_result"
    }
   ],
   "source": [
    "stData"
   ]
  },
  {
   "cell_type": "code",
   "execution_count": 36,
   "id": "31c7f9ca-49f5-4eb9-a922-ddb83fff0281",
   "metadata": {},
   "outputs": [
    {
     "data": {
      "text/plain": [
       "array([1, 1, 1, 1, 1, 0, 1, 0, 1, 1, 0, 1, 1, 0, 0, 0, 1, 0, 0, 0, 0, 0,\n",
       "       0, 0, 0, 0])"
      ]
     },
     "execution_count": 36,
     "metadata": {},
     "output_type": "execute_result"
    }
   ],
   "source": [
    "predictCluster"
   ]
  },
  {
   "cell_type": "code",
   "execution_count": null,
   "id": "8df86f7d-deb3-41b4-8e36-193bd94319ad",
   "metadata": {},
   "outputs": [],
   "source": []
  }
 ],
 "metadata": {
  "kernelspec": {
   "display_name": "Python 3 (ipykernel)",
   "language": "python",
   "name": "python3"
  },
  "language_info": {
   "codemirror_mode": {
    "name": "ipython",
    "version": 3
   },
   "file_extension": ".py",
   "mimetype": "text/x-python",
   "name": "python",
   "nbconvert_exporter": "python",
   "pygments_lexer": "ipython3",
   "version": "3.9.7"
  }
 },
 "nbformat": 4,
 "nbformat_minor": 5
}
