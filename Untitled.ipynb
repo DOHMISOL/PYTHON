{
 "cells": [
  {
   "cell_type": "code",
   "execution_count": 2,
   "id": "09b63c02-297c-414c-9ba0-43fe286774f1",
   "metadata": {},
   "outputs": [],
   "source": [
    "import pandas as pd"
   ]
  },
  {
   "cell_type": "code",
   "execution_count": 3,
   "id": "44609a38-be04-4787-848f-0b95c1eadd80",
   "metadata": {},
   "outputs": [],
   "source": [
    "colList1 = [\"김효관\", \"김어진\", \"안민정\"]\n",
    "colList2 = [40, 10, 39]"
   ]
  },
  {
   "cell_type": "code",
   "execution_count": 5,
   "id": "325846f5-6c32-49a0-a534-3196f3060ebb",
   "metadata": {},
   "outputs": [
    {
     "data": {
      "text/html": [
       "<div>\n",
       "<style scoped>\n",
       "    .dataframe tbody tr th:only-of-type {\n",
       "        vertical-align: middle;\n",
       "    }\n",
       "\n",
       "    .dataframe tbody tr th {\n",
       "        vertical-align: top;\n",
       "    }\n",
       "\n",
       "    .dataframe thead th {\n",
       "        text-align: right;\n",
       "    }\n",
       "</style>\n",
       "<table border=\"1\" class=\"dataframe\">\n",
       "  <thead>\n",
       "    <tr style=\"text-align: right;\">\n",
       "      <th></th>\n",
       "      <th>0</th>\n",
       "      <th>1</th>\n",
       "    </tr>\n",
       "  </thead>\n",
       "  <tbody>\n",
       "    <tr>\n",
       "      <th>0</th>\n",
       "      <td>김효관</td>\n",
       "      <td>40</td>\n",
       "    </tr>\n",
       "    <tr>\n",
       "      <th>1</th>\n",
       "      <td>김어진</td>\n",
       "      <td>10</td>\n",
       "    </tr>\n",
       "    <tr>\n",
       "      <th>2</th>\n",
       "      <td>안민정</td>\n",
       "      <td>39</td>\n",
       "    </tr>\n",
       "  </tbody>\n",
       "</table>\n",
       "</div>"
      ],
      "text/plain": [
       "     0   1\n",
       "0  김효관  40\n",
       "1  김어진  10\n",
       "2  안민정  39"
      ]
     },
     "execution_count": 5,
     "metadata": {},
     "output_type": "execute_result"
    }
   ],
   "source": [
    "pd.DataFrame(zip (colList1,colList2))"
   ]
  },
  {
   "cell_type": "code",
   "execution_count": 6,
   "id": "90542c9f-7be7-4427-8e27-863384438452",
   "metadata": {},
   "outputs": [],
   "source": [
    "rowList1 = [\"김효관\",40]\n",
    "rowList2 = [\"김어진\",10]\n",
    "rowList3 = [\"안민정\",39]"
   ]
  },
  {
   "cell_type": "code",
   "execution_count": 15,
   "id": "b5cc5513-f90b-4860-842b-2d44ea8b7f83",
   "metadata": {},
   "outputs": [
    {
     "ename": "TypeError",
     "evalue": "'type' object is not subscriptable",
     "output_type": "error",
     "traceback": [
      "\u001b[1;31m---------------------------------------------------------------------------\u001b[0m",
      "\u001b[1;31mTypeError\u001b[0m                                 Traceback (most recent call last)",
      "\u001b[1;32m~\\AppData\\Local\\Temp\\ipykernel_8544\\473058311.py\u001b[0m in \u001b[0;36m<module>\u001b[1;34m\u001b[0m\n\u001b[1;32m----> 1\u001b[1;33m \u001b[0mdf1\u001b[0m \u001b[1;33m=\u001b[0m \u001b[0mpd\u001b[0m\u001b[1;33m.\u001b[0m\u001b[0mDataFrame\u001b[0m \u001b[1;33m[\u001b[0m \u001b[0mrowList1\u001b[0m\u001b[1;33m,\u001b[0m \u001b[0mrowList2\u001b[0m\u001b[1;33m,\u001b[0m \u001b[0mrowList3\u001b[0m \u001b[1;33m]\u001b[0m\u001b[1;33m\u001b[0m\u001b[1;33m\u001b[0m\u001b[0m\n\u001b[0m",
      "\u001b[1;31mTypeError\u001b[0m: 'type' object is not subscriptable"
     ]
    }
   ],
   "source": [
    "df1 = pd.DataFrame [ rowList1, rowList2, rowList3 ]\n",
    "df1.columns ="
   ]
  },
  {
   "cell_type": "code",
   "execution_count": null,
   "id": "d60edd23-0c3e-4c4d-9498-22e423b04849",
   "metadata": {},
   "outputs": [],
   "source": []
  }
 ],
 "metadata": {
  "kernelspec": {
   "display_name": "Python 3 (ipykernel)",
   "language": "python",
   "name": "python3"
  },
  "language_info": {
   "codemirror_mode": {
    "name": "ipython",
    "version": 3
   },
   "file_extension": ".py",
   "mimetype": "text/x-python",
   "name": "python",
   "nbconvert_exporter": "python",
   "pygments_lexer": "ipython3",
   "version": "3.9.13"
  }
 },
 "nbformat": 4,
 "nbformat_minor": 5
}
