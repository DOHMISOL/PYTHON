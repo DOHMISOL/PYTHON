{
 "cells": [
  {
   "cell_type": "markdown",
   "id": "97be5ca3-52f0-49b1-bd5f-f0c68bf13d18",
   "metadata": {},
   "source": [
    "## 라이브러리 선언 및 데이터 불러오기"
   ]
  },
  {
   "cell_type": "code",
   "execution_count": 1,
   "id": "aabee2d6-2ce9-44b6-864b-c59248d5fa2f",
   "metadata": {},
   "outputs": [],
   "source": [
    "# 데이터 처리 라이브러리\n",
    "import pandas as pd\n",
    "import numpy as np\n",
    "\n",
    "# 머신러닝 라이브러리\n",
    "from sklearn import tree\n",
    "from sklearn import ensemble"
   ]
  },
  {
   "cell_type": "code",
   "execution_count": 2,
   "id": "12065242-8db4-4f47-bcf2-88239c21b6db",
   "metadata": {},
   "outputs": [],
   "source": [
    "featuresData = pd.read_csv(\"../dataset/feature_regression_example.csv\")"
   ]
  },
  {
   "cell_type": "markdown",
   "id": "cc70c4e5-aed2-4747-8a18-55e0240ad7ff",
   "metadata": {},
   "source": [
    "# A. 데이터 전처리"
   ]
  },
  {
   "cell_type": "markdown",
   "id": "dceafcc4-c980-4c50-a2af-d6959db36c5a",
   "metadata": {},
   "source": [
    "### A-1. 타입통합 / 특성 숫자컬럼 추가"
   ]
  },
  {
   "cell_type": "code",
   "execution_count": 3,
   "id": "c4664051-20ba-42ba-8cc8-997f41f71581",
   "metadata": {},
   "outputs": [
    {
     "data": {
      "text/html": [
       "<div>\n",
       "<style scoped>\n",
       "    .dataframe tbody tr th:only-of-type {\n",
       "        vertical-align: middle;\n",
       "    }\n",
       "\n",
       "    .dataframe tbody tr th {\n",
       "        vertical-align: top;\n",
       "    }\n",
       "\n",
       "    .dataframe thead th {\n",
       "        text-align: right;\n",
       "    }\n",
       "</style>\n",
       "<table border=\"1\" class=\"dataframe\">\n",
       "  <thead>\n",
       "    <tr style=\"text-align: right;\">\n",
       "      <th></th>\n",
       "      <th>REGIONID</th>\n",
       "      <th>PRODUCTGROUP</th>\n",
       "      <th>PRODUCT</th>\n",
       "      <th>ITEM</th>\n",
       "      <th>YEARWEEK</th>\n",
       "      <th>YEAR</th>\n",
       "      <th>WEEK</th>\n",
       "      <th>QTY</th>\n",
       "      <th>HOLIDAY</th>\n",
       "      <th>HCLUS</th>\n",
       "      <th>PROMOTION</th>\n",
       "      <th>PRO_PERCENT</th>\n",
       "    </tr>\n",
       "  </thead>\n",
       "  <tbody>\n",
       "    <tr>\n",
       "      <th>0</th>\n",
       "      <td>SEOUL_BANK_001</td>\n",
       "      <td>PG02</td>\n",
       "      <td>PRODUCT0010</td>\n",
       "      <td>ITEM0115</td>\n",
       "      <td>201501</td>\n",
       "      <td>2015</td>\n",
       "      <td>1</td>\n",
       "      <td>1225</td>\n",
       "      <td>Y</td>\n",
       "      <td>1</td>\n",
       "      <td>Y</td>\n",
       "      <td>0.209442</td>\n",
       "    </tr>\n",
       "    <tr>\n",
       "      <th>1</th>\n",
       "      <td>SEOUL_BANK_001</td>\n",
       "      <td>PG02</td>\n",
       "      <td>PRODUCT0010</td>\n",
       "      <td>ITEM0115</td>\n",
       "      <td>201502</td>\n",
       "      <td>2015</td>\n",
       "      <td>2</td>\n",
       "      <td>968</td>\n",
       "      <td>N</td>\n",
       "      <td>4</td>\n",
       "      <td>Y</td>\n",
       "      <td>0.209442</td>\n",
       "    </tr>\n",
       "    <tr>\n",
       "      <th>2</th>\n",
       "      <td>SEOUL_BANK_001</td>\n",
       "      <td>PG02</td>\n",
       "      <td>PRODUCT0010</td>\n",
       "      <td>ITEM0115</td>\n",
       "      <td>201503</td>\n",
       "      <td>2015</td>\n",
       "      <td>3</td>\n",
       "      <td>1209</td>\n",
       "      <td>N</td>\n",
       "      <td>4</td>\n",
       "      <td>Y</td>\n",
       "      <td>0.208155</td>\n",
       "    </tr>\n",
       "    <tr>\n",
       "      <th>3</th>\n",
       "      <td>SEOUL_BANK_001</td>\n",
       "      <td>PG02</td>\n",
       "      <td>PRODUCT0010</td>\n",
       "      <td>ITEM0115</td>\n",
       "      <td>201504</td>\n",
       "      <td>2015</td>\n",
       "      <td>4</td>\n",
       "      <td>1810</td>\n",
       "      <td>Y</td>\n",
       "      <td>2</td>\n",
       "      <td>Y</td>\n",
       "      <td>0.208155</td>\n",
       "    </tr>\n",
       "    <tr>\n",
       "      <th>4</th>\n",
       "      <td>SEOUL_BANK_001</td>\n",
       "      <td>PG02</td>\n",
       "      <td>PRODUCT0010</td>\n",
       "      <td>ITEM0115</td>\n",
       "      <td>201505</td>\n",
       "      <td>2015</td>\n",
       "      <td>5</td>\n",
       "      <td>1773</td>\n",
       "      <td>N</td>\n",
       "      <td>4</td>\n",
       "      <td>Y</td>\n",
       "      <td>0.208155</td>\n",
       "    </tr>\n",
       "    <tr>\n",
       "      <th>...</th>\n",
       "      <td>...</td>\n",
       "      <td>...</td>\n",
       "      <td>...</td>\n",
       "      <td>...</td>\n",
       "      <td>...</td>\n",
       "      <td>...</td>\n",
       "      <td>...</td>\n",
       "      <td>...</td>\n",
       "      <td>...</td>\n",
       "      <td>...</td>\n",
       "      <td>...</td>\n",
       "      <td>...</td>\n",
       "    </tr>\n",
       "    <tr>\n",
       "      <th>100</th>\n",
       "      <td>SEOUL_BANK_001</td>\n",
       "      <td>PG02</td>\n",
       "      <td>PRODUCT0010</td>\n",
       "      <td>ITEM0115</td>\n",
       "      <td>201648</td>\n",
       "      <td>2016</td>\n",
       "      <td>48</td>\n",
       "      <td>2412</td>\n",
       "      <td>Y</td>\n",
       "      <td>0</td>\n",
       "      <td>Y</td>\n",
       "      <td>0.421888</td>\n",
       "    </tr>\n",
       "    <tr>\n",
       "      <th>101</th>\n",
       "      <td>SEOUL_BANK_001</td>\n",
       "      <td>PG02</td>\n",
       "      <td>PRODUCT0010</td>\n",
       "      <td>ITEM0115</td>\n",
       "      <td>201649</td>\n",
       "      <td>2016</td>\n",
       "      <td>49</td>\n",
       "      <td>1955</td>\n",
       "      <td>N</td>\n",
       "      <td>4</td>\n",
       "      <td>Y</td>\n",
       "      <td>0.421888</td>\n",
       "    </tr>\n",
       "    <tr>\n",
       "      <th>102</th>\n",
       "      <td>SEOUL_BANK_001</td>\n",
       "      <td>PG02</td>\n",
       "      <td>PRODUCT0010</td>\n",
       "      <td>ITEM0115</td>\n",
       "      <td>201650</td>\n",
       "      <td>2016</td>\n",
       "      <td>50</td>\n",
       "      <td>1800</td>\n",
       "      <td>N</td>\n",
       "      <td>4</td>\n",
       "      <td>Y</td>\n",
       "      <td>0.352361</td>\n",
       "    </tr>\n",
       "    <tr>\n",
       "      <th>103</th>\n",
       "      <td>SEOUL_BANK_001</td>\n",
       "      <td>PG02</td>\n",
       "      <td>PRODUCT0010</td>\n",
       "      <td>ITEM0115</td>\n",
       "      <td>201651</td>\n",
       "      <td>2016</td>\n",
       "      <td>51</td>\n",
       "      <td>1173</td>\n",
       "      <td>N</td>\n",
       "      <td>4</td>\n",
       "      <td>Y</td>\n",
       "      <td>0.352361</td>\n",
       "    </tr>\n",
       "    <tr>\n",
       "      <th>104</th>\n",
       "      <td>SEOUL_BANK_001</td>\n",
       "      <td>PG02</td>\n",
       "      <td>PRODUCT0010</td>\n",
       "      <td>ITEM0115</td>\n",
       "      <td>201652</td>\n",
       "      <td>2016</td>\n",
       "      <td>52</td>\n",
       "      <td>332</td>\n",
       "      <td>Y</td>\n",
       "      <td>1</td>\n",
       "      <td>Y</td>\n",
       "      <td>0.352361</td>\n",
       "    </tr>\n",
       "  </tbody>\n",
       "</table>\n",
       "<p>105 rows × 12 columns</p>\n",
       "</div>"
      ],
      "text/plain": [
       "           REGIONID PRODUCTGROUP      PRODUCT      ITEM  YEARWEEK  YEAR  WEEK  \\\n",
       "0    SEOUL_BANK_001         PG02  PRODUCT0010  ITEM0115    201501  2015     1   \n",
       "1    SEOUL_BANK_001         PG02  PRODUCT0010  ITEM0115    201502  2015     2   \n",
       "2    SEOUL_BANK_001         PG02  PRODUCT0010  ITEM0115    201503  2015     3   \n",
       "3    SEOUL_BANK_001         PG02  PRODUCT0010  ITEM0115    201504  2015     4   \n",
       "4    SEOUL_BANK_001         PG02  PRODUCT0010  ITEM0115    201505  2015     5   \n",
       "..              ...          ...          ...       ...       ...   ...   ...   \n",
       "100  SEOUL_BANK_001         PG02  PRODUCT0010  ITEM0115    201648  2016    48   \n",
       "101  SEOUL_BANK_001         PG02  PRODUCT0010  ITEM0115    201649  2016    49   \n",
       "102  SEOUL_BANK_001         PG02  PRODUCT0010  ITEM0115    201650  2016    50   \n",
       "103  SEOUL_BANK_001         PG02  PRODUCT0010  ITEM0115    201651  2016    51   \n",
       "104  SEOUL_BANK_001         PG02  PRODUCT0010  ITEM0115    201652  2016    52   \n",
       "\n",
       "      QTY HOLIDAY  HCLUS PROMOTION  PRO_PERCENT  \n",
       "0    1225       Y      1         Y     0.209442  \n",
       "1     968       N      4         Y     0.209442  \n",
       "2    1209       N      4         Y     0.208155  \n",
       "3    1810       Y      2         Y     0.208155  \n",
       "4    1773       N      4         Y     0.208155  \n",
       "..    ...     ...    ...       ...          ...  \n",
       "100  2412       Y      0         Y     0.421888  \n",
       "101  1955       N      4         Y     0.421888  \n",
       "102  1800       N      4         Y     0.352361  \n",
       "103  1173       N      4         Y     0.352361  \n",
       "104   332       Y      1         Y     0.352361  \n",
       "\n",
       "[105 rows x 12 columns]"
      ]
     },
     "execution_count": 3,
     "metadata": {},
     "output_type": "execute_result"
    }
   ],
   "source": [
    "featuresData"
   ]
  },
  {
   "cell_type": "code",
   "execution_count": 4,
   "id": "d8bc62b4-a79a-43e7-9f1a-d0f6b94e2c01",
   "metadata": {},
   "outputs": [
    {
     "data": {
      "text/plain": [
       "REGIONID         object\n",
       "PRODUCTGROUP     object\n",
       "PRODUCT          object\n",
       "ITEM             object\n",
       "YEARWEEK          int64\n",
       "YEAR              int64\n",
       "WEEK              int64\n",
       "QTY               int64\n",
       "HOLIDAY          object\n",
       "HCLUS             int64\n",
       "PROMOTION        object\n",
       "PRO_PERCENT     float64\n",
       "dtype: object"
      ]
     },
     "execution_count": 4,
     "metadata": {},
     "output_type": "execute_result"
    }
   ],
   "source": [
    "featuresData.dtypes"
   ]
  },
  {
   "cell_type": "code",
   "execution_count": 5,
   "id": "830608b0-4fa2-4c80-bc21-4ca7369ec2b1",
   "metadata": {},
   "outputs": [],
   "source": [
    "#데이터 타입 통합\n",
    "featuresData[\"REGIONID\"] = featuresData[\"REGIONID\"].astype(str)\n",
    "featuresData[\"PRODUCTGROUP\"] = featuresData[\"PRODUCTGROUP\"].astype(str)"
   ]
  },
  {
   "cell_type": "code",
   "execution_count": 6,
   "id": "4f94d41e-51a8-41ee-b7d3-a2efe80f7127",
   "metadata": {},
   "outputs": [],
   "source": [
    "# 특성값 숫자컬럼 변경"
   ]
  },
  {
   "cell_type": "code",
   "execution_count": 7,
   "id": "26fd6478-69ad-4b01-86bd-f977030ba557",
   "metadata": {
    "tags": []
   },
   "outputs": [
    {
     "data": {
      "text/html": [
       "<div>\n",
       "<style scoped>\n",
       "    .dataframe tbody tr th:only-of-type {\n",
       "        vertical-align: middle;\n",
       "    }\n",
       "\n",
       "    .dataframe tbody tr th {\n",
       "        vertical-align: top;\n",
       "    }\n",
       "\n",
       "    .dataframe thead th {\n",
       "        text-align: right;\n",
       "    }\n",
       "</style>\n",
       "<table border=\"1\" class=\"dataframe\">\n",
       "  <thead>\n",
       "    <tr style=\"text-align: right;\">\n",
       "      <th></th>\n",
       "      <th>REGIONID</th>\n",
       "      <th>PRODUCTGROUP</th>\n",
       "      <th>PRODUCT</th>\n",
       "      <th>ITEM</th>\n",
       "      <th>YEARWEEK</th>\n",
       "      <th>YEAR</th>\n",
       "      <th>WEEK</th>\n",
       "      <th>QTY</th>\n",
       "      <th>HOLIDAY</th>\n",
       "      <th>HCLUS</th>\n",
       "      <th>PROMOTION</th>\n",
       "      <th>PRO_PERCENT</th>\n",
       "    </tr>\n",
       "  </thead>\n",
       "  <tbody>\n",
       "    <tr>\n",
       "      <th>0</th>\n",
       "      <td>SEOUL_BANK_001</td>\n",
       "      <td>PG02</td>\n",
       "      <td>PRODUCT0010</td>\n",
       "      <td>ITEM0115</td>\n",
       "      <td>201501</td>\n",
       "      <td>2015</td>\n",
       "      <td>1</td>\n",
       "      <td>1225</td>\n",
       "      <td>Y</td>\n",
       "      <td>1</td>\n",
       "      <td>Y</td>\n",
       "      <td>0.209442</td>\n",
       "    </tr>\n",
       "  </tbody>\n",
       "</table>\n",
       "</div>"
      ],
      "text/plain": [
       "         REGIONID PRODUCTGROUP      PRODUCT      ITEM  YEARWEEK  YEAR  WEEK  \\\n",
       "0  SEOUL_BANK_001         PG02  PRODUCT0010  ITEM0115    201501  2015     1   \n",
       "\n",
       "    QTY HOLIDAY  HCLUS PROMOTION  PRO_PERCENT  \n",
       "0  1225       Y      1         Y     0.209442  "
      ]
     },
     "execution_count": 7,
     "metadata": {},
     "output_type": "execute_result"
    }
   ],
   "source": [
    "featuresData.head(1)"
   ]
  },
  {
   "cell_type": "code",
   "execution_count": 8,
   "id": "4763cca1-6ae5-4730-b611-9d0a2d9d36af",
   "metadata": {},
   "outputs": [
    {
     "data": {
      "text/plain": [
       "0    Y\n",
       "9    N\n",
       "Name: PROMOTION, dtype: object"
      ]
     },
     "execution_count": 8,
     "metadata": {},
     "output_type": "execute_result"
    }
   ],
   "source": [
    "featuresData.PROMOTION.drop_duplicates()"
   ]
  },
  {
   "cell_type": "code",
   "execution_count": 9,
   "id": "0373562e-4d65-43cc-8f71-f330569a163c",
   "metadata": {},
   "outputs": [],
   "source": [
    "# 숫자가 아니라 문자를 머신러닝에 던지면 에러가 발생함.(변경 Y=1 , N=0)\n",
    "featuresData[\"PROMOTION_LB\"] = np.where(featuresData.PROMOTION ==\"Y\",1,0)\n",
    "featuresData[\"HOLIDAY_LB\"] = np.where(featuresData.HOLIDAY ==\"Y\",1,0)"
   ]
  },
  {
   "cell_type": "code",
   "execution_count": 10,
   "id": "b7982d82-5717-432b-8931-945f5786773d",
   "metadata": {
    "tags": []
   },
   "outputs": [
    {
     "data": {
      "text/html": [
       "<div>\n",
       "<style scoped>\n",
       "    .dataframe tbody tr th:only-of-type {\n",
       "        vertical-align: middle;\n",
       "    }\n",
       "\n",
       "    .dataframe tbody tr th {\n",
       "        vertical-align: top;\n",
       "    }\n",
       "\n",
       "    .dataframe thead th {\n",
       "        text-align: right;\n",
       "    }\n",
       "</style>\n",
       "<table border=\"1\" class=\"dataframe\">\n",
       "  <thead>\n",
       "    <tr style=\"text-align: right;\">\n",
       "      <th></th>\n",
       "      <th>REGIONID</th>\n",
       "      <th>PRODUCTGROUP</th>\n",
       "      <th>PRODUCT</th>\n",
       "      <th>ITEM</th>\n",
       "      <th>YEARWEEK</th>\n",
       "      <th>YEAR</th>\n",
       "      <th>WEEK</th>\n",
       "      <th>QTY</th>\n",
       "      <th>HOLIDAY</th>\n",
       "      <th>HCLUS</th>\n",
       "      <th>PROMOTION</th>\n",
       "      <th>PRO_PERCENT</th>\n",
       "      <th>PROMOTION_LB</th>\n",
       "      <th>HOLIDAY_LB</th>\n",
       "    </tr>\n",
       "  </thead>\n",
       "  <tbody>\n",
       "    <tr>\n",
       "      <th>0</th>\n",
       "      <td>SEOUL_BANK_001</td>\n",
       "      <td>PG02</td>\n",
       "      <td>PRODUCT0010</td>\n",
       "      <td>ITEM0115</td>\n",
       "      <td>201501</td>\n",
       "      <td>2015</td>\n",
       "      <td>1</td>\n",
       "      <td>1225</td>\n",
       "      <td>Y</td>\n",
       "      <td>1</td>\n",
       "      <td>Y</td>\n",
       "      <td>0.209442</td>\n",
       "      <td>1</td>\n",
       "      <td>1</td>\n",
       "    </tr>\n",
       "    <tr>\n",
       "      <th>1</th>\n",
       "      <td>SEOUL_BANK_001</td>\n",
       "      <td>PG02</td>\n",
       "      <td>PRODUCT0010</td>\n",
       "      <td>ITEM0115</td>\n",
       "      <td>201502</td>\n",
       "      <td>2015</td>\n",
       "      <td>2</td>\n",
       "      <td>968</td>\n",
       "      <td>N</td>\n",
       "      <td>4</td>\n",
       "      <td>Y</td>\n",
       "      <td>0.209442</td>\n",
       "      <td>1</td>\n",
       "      <td>0</td>\n",
       "    </tr>\n",
       "    <tr>\n",
       "      <th>2</th>\n",
       "      <td>SEOUL_BANK_001</td>\n",
       "      <td>PG02</td>\n",
       "      <td>PRODUCT0010</td>\n",
       "      <td>ITEM0115</td>\n",
       "      <td>201503</td>\n",
       "      <td>2015</td>\n",
       "      <td>3</td>\n",
       "      <td>1209</td>\n",
       "      <td>N</td>\n",
       "      <td>4</td>\n",
       "      <td>Y</td>\n",
       "      <td>0.208155</td>\n",
       "      <td>1</td>\n",
       "      <td>0</td>\n",
       "    </tr>\n",
       "    <tr>\n",
       "      <th>3</th>\n",
       "      <td>SEOUL_BANK_001</td>\n",
       "      <td>PG02</td>\n",
       "      <td>PRODUCT0010</td>\n",
       "      <td>ITEM0115</td>\n",
       "      <td>201504</td>\n",
       "      <td>2015</td>\n",
       "      <td>4</td>\n",
       "      <td>1810</td>\n",
       "      <td>Y</td>\n",
       "      <td>2</td>\n",
       "      <td>Y</td>\n",
       "      <td>0.208155</td>\n",
       "      <td>1</td>\n",
       "      <td>1</td>\n",
       "    </tr>\n",
       "    <tr>\n",
       "      <th>4</th>\n",
       "      <td>SEOUL_BANK_001</td>\n",
       "      <td>PG02</td>\n",
       "      <td>PRODUCT0010</td>\n",
       "      <td>ITEM0115</td>\n",
       "      <td>201505</td>\n",
       "      <td>2015</td>\n",
       "      <td>5</td>\n",
       "      <td>1773</td>\n",
       "      <td>N</td>\n",
       "      <td>4</td>\n",
       "      <td>Y</td>\n",
       "      <td>0.208155</td>\n",
       "      <td>1</td>\n",
       "      <td>0</td>\n",
       "    </tr>\n",
       "    <tr>\n",
       "      <th>...</th>\n",
       "      <td>...</td>\n",
       "      <td>...</td>\n",
       "      <td>...</td>\n",
       "      <td>...</td>\n",
       "      <td>...</td>\n",
       "      <td>...</td>\n",
       "      <td>...</td>\n",
       "      <td>...</td>\n",
       "      <td>...</td>\n",
       "      <td>...</td>\n",
       "      <td>...</td>\n",
       "      <td>...</td>\n",
       "      <td>...</td>\n",
       "      <td>...</td>\n",
       "    </tr>\n",
       "    <tr>\n",
       "      <th>100</th>\n",
       "      <td>SEOUL_BANK_001</td>\n",
       "      <td>PG02</td>\n",
       "      <td>PRODUCT0010</td>\n",
       "      <td>ITEM0115</td>\n",
       "      <td>201648</td>\n",
       "      <td>2016</td>\n",
       "      <td>48</td>\n",
       "      <td>2412</td>\n",
       "      <td>Y</td>\n",
       "      <td>0</td>\n",
       "      <td>Y</td>\n",
       "      <td>0.421888</td>\n",
       "      <td>1</td>\n",
       "      <td>1</td>\n",
       "    </tr>\n",
       "    <tr>\n",
       "      <th>101</th>\n",
       "      <td>SEOUL_BANK_001</td>\n",
       "      <td>PG02</td>\n",
       "      <td>PRODUCT0010</td>\n",
       "      <td>ITEM0115</td>\n",
       "      <td>201649</td>\n",
       "      <td>2016</td>\n",
       "      <td>49</td>\n",
       "      <td>1955</td>\n",
       "      <td>N</td>\n",
       "      <td>4</td>\n",
       "      <td>Y</td>\n",
       "      <td>0.421888</td>\n",
       "      <td>1</td>\n",
       "      <td>0</td>\n",
       "    </tr>\n",
       "    <tr>\n",
       "      <th>102</th>\n",
       "      <td>SEOUL_BANK_001</td>\n",
       "      <td>PG02</td>\n",
       "      <td>PRODUCT0010</td>\n",
       "      <td>ITEM0115</td>\n",
       "      <td>201650</td>\n",
       "      <td>2016</td>\n",
       "      <td>50</td>\n",
       "      <td>1800</td>\n",
       "      <td>N</td>\n",
       "      <td>4</td>\n",
       "      <td>Y</td>\n",
       "      <td>0.352361</td>\n",
       "      <td>1</td>\n",
       "      <td>0</td>\n",
       "    </tr>\n",
       "    <tr>\n",
       "      <th>103</th>\n",
       "      <td>SEOUL_BANK_001</td>\n",
       "      <td>PG02</td>\n",
       "      <td>PRODUCT0010</td>\n",
       "      <td>ITEM0115</td>\n",
       "      <td>201651</td>\n",
       "      <td>2016</td>\n",
       "      <td>51</td>\n",
       "      <td>1173</td>\n",
       "      <td>N</td>\n",
       "      <td>4</td>\n",
       "      <td>Y</td>\n",
       "      <td>0.352361</td>\n",
       "      <td>1</td>\n",
       "      <td>0</td>\n",
       "    </tr>\n",
       "    <tr>\n",
       "      <th>104</th>\n",
       "      <td>SEOUL_BANK_001</td>\n",
       "      <td>PG02</td>\n",
       "      <td>PRODUCT0010</td>\n",
       "      <td>ITEM0115</td>\n",
       "      <td>201652</td>\n",
       "      <td>2016</td>\n",
       "      <td>52</td>\n",
       "      <td>332</td>\n",
       "      <td>Y</td>\n",
       "      <td>1</td>\n",
       "      <td>Y</td>\n",
       "      <td>0.352361</td>\n",
       "      <td>1</td>\n",
       "      <td>1</td>\n",
       "    </tr>\n",
       "  </tbody>\n",
       "</table>\n",
       "<p>80 rows × 14 columns</p>\n",
       "</div>"
      ],
      "text/plain": [
       "           REGIONID PRODUCTGROUP      PRODUCT      ITEM  YEARWEEK  YEAR  WEEK  \\\n",
       "0    SEOUL_BANK_001         PG02  PRODUCT0010  ITEM0115    201501  2015     1   \n",
       "1    SEOUL_BANK_001         PG02  PRODUCT0010  ITEM0115    201502  2015     2   \n",
       "2    SEOUL_BANK_001         PG02  PRODUCT0010  ITEM0115    201503  2015     3   \n",
       "3    SEOUL_BANK_001         PG02  PRODUCT0010  ITEM0115    201504  2015     4   \n",
       "4    SEOUL_BANK_001         PG02  PRODUCT0010  ITEM0115    201505  2015     5   \n",
       "..              ...          ...          ...       ...       ...   ...   ...   \n",
       "100  SEOUL_BANK_001         PG02  PRODUCT0010  ITEM0115    201648  2016    48   \n",
       "101  SEOUL_BANK_001         PG02  PRODUCT0010  ITEM0115    201649  2016    49   \n",
       "102  SEOUL_BANK_001         PG02  PRODUCT0010  ITEM0115    201650  2016    50   \n",
       "103  SEOUL_BANK_001         PG02  PRODUCT0010  ITEM0115    201651  2016    51   \n",
       "104  SEOUL_BANK_001         PG02  PRODUCT0010  ITEM0115    201652  2016    52   \n",
       "\n",
       "      QTY HOLIDAY  HCLUS PROMOTION  PRO_PERCENT  PROMOTION_LB  HOLIDAY_LB  \n",
       "0    1225       Y      1         Y     0.209442             1           1  \n",
       "1     968       N      4         Y     0.209442             1           0  \n",
       "2    1209       N      4         Y     0.208155             1           0  \n",
       "3    1810       Y      2         Y     0.208155             1           1  \n",
       "4    1773       N      4         Y     0.208155             1           0  \n",
       "..    ...     ...    ...       ...          ...           ...         ...  \n",
       "100  2412       Y      0         Y     0.421888             1           1  \n",
       "101  1955       N      4         Y     0.421888             1           0  \n",
       "102  1800       N      4         Y     0.352361             1           0  \n",
       "103  1173       N      4         Y     0.352361             1           0  \n",
       "104   332       Y      1         Y     0.352361             1           1  \n",
       "\n",
       "[80 rows x 14 columns]"
      ]
     },
     "execution_count": 10,
     "metadata": {},
     "output_type": "execute_result"
    }
   ],
   "source": [
    "# 검증\n",
    "featuresData.loc[(featuresData.PROMOTION_LB == 1) &\n",
    "                 (featuresData.PROMOTION == \"Y\") ] "
   ]
  },
  {
   "cell_type": "markdown",
   "id": "82e12f9f-22c5-42ba-a25f-7ecd836f2140",
   "metadata": {},
   "source": [
    "## A-2 특성 선정 / 데이터 분리"
   ]
  },
  {
   "cell_type": "code",
   "execution_count": 11,
   "id": "0cdea3e0-69ab-49e5-98cf-159e9d6c0614",
   "metadata": {},
   "outputs": [],
   "source": [
    "# 특성 선정\n",
    "corrDf = featuresData.corr() #판매량에 영향을 주는 요소들이 어떤거인지 알 수 있음.\n",
    "stdCorr = 0.5"
   ]
  },
  {
   "cell_type": "code",
   "execution_count": 12,
   "id": "936378b8-ee58-4114-903b-f6eb5a4b9378",
   "metadata": {},
   "outputs": [],
   "source": [
    "features = list( corrDf.loc[ (abs(corrDf.QTY) >= stdCorr) & (corrDf.QTY != 1) ].index ) ##나자신인 qty는 답안지 이기 때문에 제외시켜줘야한다."
   ]
  },
  {
   "cell_type": "code",
   "execution_count": 13,
   "id": "09189423-7af1-4eba-a744-cec7d9936456",
   "metadata": {},
   "outputs": [
    {
     "data": {
      "text/plain": [
       "['HCLUS', 'PRO_PERCENT', 'PROMOTION_LB', 'HOLIDAY_LB']"
      ]
     },
     "execution_count": 13,
     "metadata": {},
     "output_type": "execute_result"
    }
   ],
   "source": [
    "features"
   ]
  },
  {
   "cell_type": "code",
   "execution_count": 14,
   "id": "aa74daf3-3063-44cb-a8dd-68897ef91daa",
   "metadata": {},
   "outputs": [],
   "source": [
    "label = [\"QTY\"]"
   ]
  },
  {
   "cell_type": "code",
   "execution_count": 15,
   "id": "c89df6ef-a560-47ac-aba3-65c20965af40",
   "metadata": {},
   "outputs": [],
   "source": [
    "# 데이터 분리(7:3)"
   ]
  },
  {
   "cell_type": "code",
   "execution_count": 16,
   "id": "800b5694-c5e4-4c33-a3aa-07d7f06a04d6",
   "metadata": {},
   "outputs": [],
   "source": [
    "stdRatio = 0.7"
   ]
  },
  {
   "cell_type": "code",
   "execution_count": 17,
   "id": "254c3a5a-bd34-4f4a-9896-fe5dcf40f439",
   "metadata": {
    "tags": []
   },
   "outputs": [
    {
     "data": {
      "text/plain": [
       "73"
      ]
     },
     "execution_count": 17,
     "metadata": {},
     "output_type": "execute_result"
    }
   ],
   "source": [
    "stdIndex = int(featuresData.shape[0] * stdRatio)\n",
    "stdIndex"
   ]
  },
  {
   "cell_type": "code",
   "execution_count": 18,
   "id": "1ed6150a-7eff-44d0-bb82-7ce7602f984a",
   "metadata": {},
   "outputs": [],
   "source": [
    "trainingDataFeatures = featuresData.loc[0:stdIndex, features] #문제지\n",
    "trainingDataLabel = featuresData.loc[0:stdIndex, label] #정답\n",
    "testDataFeatures = featuresData.loc[stdIndex+1 :, features] #문제지\n",
    "testDataLabel = featuresData.loc[stdIndex+1 :, label] #정답"
   ]
  },
  {
   "cell_type": "code",
   "execution_count": 19,
   "id": "484af865-f9e2-414f-8f5c-88fa4e0f4053",
   "metadata": {},
   "outputs": [
    {
     "name": "stdout",
     "output_type": "stream",
     "text": [
      "(74, 4)\n",
      "(74, 1)\n",
      "(31, 4)\n",
      "(31, 1)\n"
     ]
    }
   ],
   "source": [
    "print ( trainingDataFeatures.shape )\n",
    "print ( trainingDataLabel.shape )\n",
    "print ( testDataFeatures.shape )\n",
    "print ( testDataLabel.shape )"
   ]
  },
  {
   "cell_type": "markdown",
   "id": "4fb0256f-2cf5-40ec-bc73-60445c1f169a",
   "metadata": {},
   "source": [
    "## B 모델적용"
   ]
  },
  {
   "cell_type": "markdown",
   "id": "b0f1f58d-1191-446a-ae2a-ffcdd38b930e",
   "metadata": {},
   "source": [
    "### B-3. 모델적용"
   ]
  },
  {
   "cell_type": "code",
   "execution_count": 39,
   "id": "01c5213e-c2cc-49d8-89b5-a69278248b4a",
   "metadata": {},
   "outputs": [],
   "source": [
    "from sklearn import tree"
   ]
  },
  {
   "cell_type": "code",
   "execution_count": 40,
   "id": "157d8998-8760-4224-be43-2f6e65e45e51",
   "metadata": {},
   "outputs": [],
   "source": [
    "# 알고리즘을 고정시킴으로써 예측값을 재현 가능하게 해줌(random_state=10)\n",
    "dtModel = tree.DecisionTreeRegressor(random_state=10)"
   ]
  },
  {
   "cell_type": "code",
   "execution_count": 41,
   "id": "98844ccf-4459-4ac7-afa7-5383b8fc6e73",
   "metadata": {},
   "outputs": [
    {
     "data": {
      "text/plain": [
       "DecisionTreeRegressor(random_state=10)"
      ]
     },
     "execution_count": 41,
     "metadata": {},
     "output_type": "execute_result"
    }
   ],
   "source": [
    "dtModel.fit(X=trainingDataFeatures,\n",
    "            y=trainingDataLabel) ## 대문자 X는 문제지, 소문자 y는 정답지)"
   ]
  },
  {
   "cell_type": "markdown",
   "id": "001a37f7-9411-497c-b230-f92488445a56",
   "metadata": {},
   "source": [
    "## C. 예측/검증"
   ]
  },
  {
   "cell_type": "markdown",
   "id": "b9b7bfb6-dacb-4a25-a24e-19af7c8ab4d2",
   "metadata": {},
   "source": [
    "### c-1. 예측"
   ]
  },
  {
   "cell_type": "code",
   "execution_count": 42,
   "id": "5f988d2f-9562-48e1-9285-5c59f122bca4",
   "metadata": {},
   "outputs": [
    {
     "data": {
      "text/plain": [
       "DecisionTreeRegressor(random_state=10)"
      ]
     },
     "execution_count": 42,
     "metadata": {},
     "output_type": "execute_result"
    }
   ],
   "source": [
    "dtModel"
   ]
  },
  {
   "cell_type": "code",
   "execution_count": 43,
   "id": "595a255f-b6c0-439b-9b29-574ef3684599",
   "metadata": {},
   "outputs": [],
   "source": [
    "predictValue = dtModel.predict( X = testDataFeatures )"
   ]
  },
  {
   "cell_type": "code",
   "execution_count": 44,
   "id": "bae904ea-56fc-41bc-b4d7-a9ddbe8d4523",
   "metadata": {},
   "outputs": [
    {
     "data": {
      "text/plain": [
       "31"
      ]
     },
     "execution_count": 44,
     "metadata": {},
     "output_type": "execute_result"
    }
   ],
   "source": [
    "len(predictValue)"
   ]
  },
  {
   "cell_type": "markdown",
   "id": "6a61c29b-728e-4d34-936e-f4e3aa2a5cc2",
   "metadata": {},
   "source": [
    "# 미래는 어떻게 예측할 것이냐?"
   ]
  },
  {
   "cell_type": "code",
   "execution_count": 45,
   "id": "cd17b7c0-8dcd-431e-b52d-ddf33f0f85a7",
   "metadata": {},
   "outputs": [
    {
     "data": {
      "text/plain": [
       "['HCLUS', 'PRO_PERCENT', 'PROMOTION_LB', 'HOLIDAY_LB']"
      ]
     },
     "execution_count": 45,
     "metadata": {},
     "output_type": "execute_result"
    }
   ],
   "source": [
    "features"
   ]
  },
  {
   "cell_type": "code",
   "execution_count": 46,
   "id": "a815f63d-e04a-4f73-84ce-b44c01e932dc",
   "metadata": {},
   "outputs": [],
   "source": [
    "inputHclus = 1 # 대휴일1 소휴일 :4\n",
    "inputProPercent = 0.5 # 프로모션 비율\n",
    "inputPromotionLb = 1 # 프로모션 적용 \n",
    "inputHlb = 1 # 홀리데이 적용 Y"
   ]
  },
  {
   "cell_type": "code",
   "execution_count": 47,
   "id": "15e6fae9-1e6d-4c5a-a12e-4482554aaa3e",
   "metadata": {},
   "outputs": [],
   "source": [
    "testData = pd.DataFrame( [ [inputHclus, inputProPercent, inputPromotionLb, inputHlb] ] )"
   ]
  },
  {
   "cell_type": "code",
   "execution_count": 48,
   "id": "fd38d784-7d74-466c-bf1c-b5ded1db1075",
   "metadata": {
    "tags": []
   },
   "outputs": [
    {
     "name": "stderr",
     "output_type": "stream",
     "text": [
      "C:\\Users\\SMART27\\anaconda3\\lib\\site-packages\\sklearn\\base.py:450: UserWarning: X does not have valid feature names, but DecisionTreeRegressor was fitted with feature names\n",
      "  warnings.warn(\n"
     ]
    },
    {
     "data": {
      "text/plain": [
       "array([2193.8])"
      ]
     },
     "execution_count": 48,
     "metadata": {},
     "output_type": "execute_result"
    }
   ],
   "source": [
    "dtModel.predict(testData)"
   ]
  },
  {
   "cell_type": "code",
   "execution_count": null,
   "id": "ddc91948-0f24-4789-ae94-7a647c5df23f",
   "metadata": {},
   "outputs": [],
   "source": []
  }
 ],
 "metadata": {
  "kernelspec": {
   "display_name": "Python 3 (ipykernel)",
   "language": "python",
   "name": "python3"
  },
  "language_info": {
   "codemirror_mode": {
    "name": "ipython",
    "version": 3
   },
   "file_extension": ".py",
   "mimetype": "text/x-python",
   "name": "python",
   "nbconvert_exporter": "python",
   "pygments_lexer": "ipython3",
   "version": "3.9.13"
  }
 },
 "nbformat": 4,
 "nbformat_minor": 5
}
