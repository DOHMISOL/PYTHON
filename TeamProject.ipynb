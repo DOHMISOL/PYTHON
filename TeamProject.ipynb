{
 "cells": [
  {
   "cell_type": "code",
   "execution_count": 1,
   "id": "73097151-a492-4efc-9d78-88a41d2a0216",
   "metadata": {},
   "outputs": [],
   "source": [
    "from isoweek import Week"
   ]
  },
  {
   "cell_type": "code",
   "execution_count": 11,
   "id": "9a4d4508-f768-4ff6-b5e2-f3f7c5734cd3",
   "metadata": {},
   "outputs": [],
   "source": [
    "currYear = 2015"
   ]
  },
  {
   "cell_type": "code",
   "execution_count": 14,
   "id": "e0b0c4f2-cc83-4362-a3a4-c1ec8958fdf1",
   "metadata": {
    "tags": []
   },
   "outputs": [
    {
     "data": {
      "text/plain": [
       "53"
      ]
     },
     "execution_count": 14,
     "metadata": {},
     "output_type": "execute_result"
    }
   ],
   "source": [
    "weekCount = Week.last_week_of_year(currYear).week\n",
    "weekCount"
   ]
  },
  {
   "cell_type": "code",
   "execution_count": null,
   "id": "9e2a3992-0d3e-4efd-af4f-0adce0e24e77",
   "metadata": {},
   "outputs": [],
   "source": [
    "preWeek"
   ]
  },
  {
   "cell_type": "code",
   "execution_count": null,
   "id": "9d6a5a01-c437-4278-89e0-5e144c093a93",
   "metadata": {},
   "outputs": [],
   "source": []
  },
  {
   "cell_type": "code",
   "execution_count": null,
   "id": "7234fe9b-e0b2-4a2b-8968-a5b112002e24",
   "metadata": {},
   "outputs": [],
   "source": []
  },
  {
   "cell_type": "code",
   "execution_count": 4,
   "id": "f8a41576-a3e3-4aa6-8ef7-e80167154f14",
   "metadata": {},
   "outputs": [],
   "source": [
    "from isoweek import Week"
   ]
  },
  {
   "cell_type": "code",
   "execution_count": 6,
   "id": "987fefd3-ad0e-41b1-bc1d-71dac15233fa",
   "metadata": {
    "tags": []
   },
   "outputs": [
    {
     "data": {
      "text/plain": [
       "isoweek.Week(2023, 14)"
      ]
     },
     "execution_count": 6,
     "metadata": {},
     "output_type": "execute_result"
    }
   ],
   "source": [
    "current_week = Week.thisweek()\n",
    "current_week"
   ]
  },
  {
   "cell_type": "code",
   "execution_count": 7,
   "id": "31bc950a-ae67-41cb-8cce-4f3391b12f26",
   "metadata": {},
   "outputs": [],
   "source": [
    "week_range = current_week.days()"
   ]
  },
  {
   "cell_type": "code",
   "execution_count": 8,
   "id": "88e2aae8-95e1-425d-9c76-977498a963db",
   "metadata": {},
   "outputs": [
    {
     "name": "stdout",
     "output_type": "stream",
     "text": [
      "2023-04-07 18:09:12.658855\n"
     ]
    }
   ],
   "source": [
    "from datetime import datetime\n",
    "now = datetime.now()\n",
    "print(now)"
   ]
  },
  {
   "cell_type": "code",
   "execution_count": null,
   "id": "a072f2bf-61f2-496d-80d0-3b5a2230cf3f",
   "metadata": {},
   "outputs": [],
   "source": []
  }
 ],
 "metadata": {
  "kernelspec": {
   "display_name": "Python 3 (ipykernel)",
   "language": "python",
   "name": "python3"
  },
  "language_info": {
   "codemirror_mode": {
    "name": "ipython",
    "version": 3
   },
   "file_extension": ".py",
   "mimetype": "text/x-python",
   "name": "python",
   "nbconvert_exporter": "python",
   "pygments_lexer": "ipython3",
   "version": "3.9.13"
  }
 },
 "nbformat": 4,
 "nbformat_minor": 5
}
