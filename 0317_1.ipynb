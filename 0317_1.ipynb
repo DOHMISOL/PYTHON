{
 "cells": [
  {
   "cell_type": "code",
   "execution_count": 3,
   "id": "a9feb1db-ca11-46fc-9c69-af798155db95",
   "metadata": {},
   "outputs": [],
   "source": [
    "import pandas as pd"
   ]
  },
  {
   "cell_type": "code",
   "execution_count": 4,
   "id": "249d79fb-d69b-45cb-b806-5b8123d2941f",
   "metadata": {},
   "outputs": [],
   "source": [
    "row1List = [\"장준하\",\"1234\",\"haiteam\"]\n",
    "row2List = [\"김어진\",\"2345\",\"eojin\"]"
   ]
  },
  {
   "cell_type": "code",
   "execution_count": 5,
   "id": "704dcac9-e4a0-44e3-90f1-d2fe9c5a98b0",
   "metadata": {},
   "outputs": [
    {
     "data": {
      "text/html": [
       "<div>\n",
       "<style scoped>\n",
       "    .dataframe tbody tr th:only-of-type {\n",
       "        vertical-align: middle;\n",
       "    }\n",
       "\n",
       "    .dataframe tbody tr th {\n",
       "        vertical-align: top;\n",
       "    }\n",
       "\n",
       "    .dataframe thead th {\n",
       "        text-align: right;\n",
       "    }\n",
       "</style>\n",
       "<table border=\"1\" class=\"dataframe\">\n",
       "  <thead>\n",
       "    <tr style=\"text-align: right;\">\n",
       "      <th></th>\n",
       "      <th>이%%름</th>\n",
       "      <th>학번$$</th>\n",
       "      <th>이메일##@</th>\n",
       "    </tr>\n",
       "  </thead>\n",
       "  <tbody>\n",
       "    <tr>\n",
       "      <th>0</th>\n",
       "      <td>장준하</td>\n",
       "      <td>1234</td>\n",
       "      <td>haiteam</td>\n",
       "    </tr>\n",
       "    <tr>\n",
       "      <th>1</th>\n",
       "      <td>김어진</td>\n",
       "      <td>2345</td>\n",
       "      <td>eojin</td>\n",
       "    </tr>\n",
       "  </tbody>\n",
       "</table>\n",
       "</div>"
      ],
      "text/plain": [
       "  이%%름  학번$$   이메일##@\n",
       "0  장준하  1234  haiteam\n",
       "1  김어진  2345    eojin"
      ]
     },
     "execution_count": 5,
     "metadata": {},
     "output_type": "execute_result"
    }
   ],
   "source": [
    "testDF = pd.DataFrame([row1List, row2List])\n",
    "testDF.columns = [\"이%%름\",\"학번$$\",\"이메일##@\"]\n",
    "testDF"
   ]
  },
  {
   "cell_type": "code",
   "execution_count": 6,
   "id": "5d81ebed-b4f6-4c4e-8005-de50e117a4d8",
   "metadata": {},
   "outputs": [
    {
     "data": {
      "text/plain": [
       "['이%%름', '학번$$', '이메일##@']"
      ]
     },
     "execution_count": 6,
     "metadata": {},
     "output_type": "execute_result"
    }
   ],
   "source": [
    "columnList = list(testDF.columns)\n",
    "columnList"
   ]
  },
  {
   "cell_type": "code",
   "execution_count": 7,
   "id": "b2888a14-b7e9-44b2-a582-1f9be0062660",
   "metadata": {},
   "outputs": [
    {
     "name": "stdout",
     "output_type": "stream",
     "text": [
      "이름\n",
      "학번$$\n",
      "이메일##@\n"
     ]
    }
   ],
   "source": [
    "for i in range(0,len(columnList)):\n",
    "    columnList[i] = columnList[i].replace(\"%\",\"\")\n",
    "    print( columnList[i])"
   ]
  },
  {
   "cell_type": "code",
   "execution_count": 8,
   "id": "f4eff010-3e72-4b9b-8cab-9f0b3c73872f",
   "metadata": {},
   "outputs": [
    {
     "name": "stdout",
     "output_type": "stream",
     "text": [
      "이름\n",
      "학번\n",
      "이메일##@\n"
     ]
    }
   ],
   "source": [
    "for i in range(0,len(columnList)):      #이%%름.replaced(\"%\",\"\") -> # 이름\n",
    "    columnList[i] = columnList[i].replace(\"$\",\"\")\n",
    "    print( columnList[i] )"
   ]
  },
  {
   "cell_type": "code",
   "execution_count": 9,
   "id": "e1428719-8d13-48a4-abab-8b7b20141bab",
   "metadata": {},
   "outputs": [
    {
     "name": "stdout",
     "output_type": "stream",
     "text": [
      "이름\n",
      "학번\n",
      "이메일@\n"
     ]
    }
   ],
   "source": [
    "for i in range(0,len(columnList)):      \n",
    "    columnList[i] = columnList[i].replace(\"#\",\"\")\n",
    "    print( columnList[i] )"
   ]
  },
  {
   "cell_type": "code",
   "execution_count": null,
   "id": "c973b80b-926b-43dd-aa5d-5231cfb44e5a",
   "metadata": {},
   "outputs": [
    {
     "name": "stdout",
     "output_type": "stream",
     "text": [
      "이름\n",
      "학번\n",
      "이메일\n"
     ]
    }
   ],
   "source": [
    "for i in range(0,len(columnList)):      \n",
    "    columnList[i] = columnList[i].replace(\"@\",\"\")\n",
    "    print( columnList[i] )"
   ]
  },
  {
   "cell_type": "code",
   "execution_count": null,
   "id": "b36510ec-1504-4f73-8173-2029d98e017d",
   "metadata": {},
   "outputs": [
    {
     "data": {
      "text/plain": [
       "['이름', '학번', '이메일']"
      ]
     },
     "execution_count": 10,
     "metadata": {},
     "output_type": "execute_result"
    }
   ],
   "source": [
    "columnList"
   ]
  },
  {
   "cell_type": "code",
   "execution_count": null,
   "id": "b9e1862b-b954-45ef-ab85-81fc4c14959c",
   "metadata": {},
   "outputs": [
    {
     "data": {
      "text/html": [
       "<div>\n",
       "<style scoped>\n",
       "    .dataframe tbody tr th:only-of-type {\n",
       "        vertical-align: middle;\n",
       "    }\n",
       "\n",
       "    .dataframe tbody tr th {\n",
       "        vertical-align: top;\n",
       "    }\n",
       "\n",
       "    .dataframe thead th {\n",
       "        text-align: right;\n",
       "    }\n",
       "</style>\n",
       "<table border=\"1\" class=\"dataframe\">\n",
       "  <thead>\n",
       "    <tr style=\"text-align: right;\">\n",
       "      <th></th>\n",
       "      <th>이름</th>\n",
       "      <th>학번</th>\n",
       "      <th>이메일</th>\n",
       "    </tr>\n",
       "  </thead>\n",
       "  <tbody>\n",
       "    <tr>\n",
       "      <th>0</th>\n",
       "      <td>장준하</td>\n",
       "      <td>1234</td>\n",
       "      <td>haiteam</td>\n",
       "    </tr>\n",
       "    <tr>\n",
       "      <th>1</th>\n",
       "      <td>김어진</td>\n",
       "      <td>2345</td>\n",
       "      <td>eojin</td>\n",
       "    </tr>\n",
       "  </tbody>\n",
       "</table>\n",
       "</div>"
      ],
      "text/plain": [
       "    이름    학번      이메일\n",
       "0  장준하  1234  haiteam\n",
       "1  김어진  2345    eojin"
      ]
     },
     "execution_count": 12,
     "metadata": {},
     "output_type": "execute_result"
    }
   ],
   "source": [
    "testDF = pd.DataFrame([row1List, row2List])\n",
    "testDF.columns = columnList\n",
    "testDF"
   ]
  }
 ],
 "metadata": {
  "kernelspec": {
   "display_name": "Python 3 (ipykernel)",
   "language": "python",
   "name": "python3"
  },
  "language_info": {
   "codemirror_mode": {
    "name": "ipython",
    "version": 3
   },
   "file_extension": ".py",
   "mimetype": "text/x-python",
   "name": "python",
   "nbconvert_exporter": "python",
   "pygments_lexer": "ipython3",
   "version": "3.9.13"
  }
 },
 "nbformat": 4,
 "nbformat_minor": 5
}
